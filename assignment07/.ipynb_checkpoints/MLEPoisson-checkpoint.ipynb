{
 "cells": [
  {
   "cell_type": "markdown",
   "metadata": {},
   "source": [
    "# MLE for Poisson Distribution"
   ]
  },
  {
   "cell_type": "markdown",
   "metadata": {},
   "source": [
    "In this notebook you will perform [maximum likelihood estimation](https://en.wikipedia.org/wiki/Maximum_likelihood), or MLE, for the parameter $\\lambda$ in the [Poisson](https://en.wikipedia.org/wiki/Poisson_distribution) distribution and bootstrap the results."
   ]
  },
  {
   "cell_type": "markdown",
   "metadata": {},
   "source": [
    "## Problem description"
   ]
  },
  {
   "cell_type": "markdown",
   "metadata": {},
   "source": [
    "Your exercise is to perform the following steps in this notebook:\n",
    "\n",
    "* Find the probability density function, $P(k \\mid \\lambda)$ for a single variate on Wikipedia and typeset it into a markdown cell. In that same markdown cell, compose a few sentences that describes the equation and defines all of its symbols.\n",
    "* Work out the log-likelihood $ln\\mathcal{L}(\\lambda \\mid k)$ and typeset it into another markdown cell. In that same markdown cell, compose a few sentences that describes the equation and defines all of its symbols.\n",
    "* Pick master, known values for the parameters $\\theta=\\lambda$ of the distribution and generate an array of `50` random variates using those parameters.\n",
    "* Make an appropriately labeled Seaborn `countplot` of your dataset.\n",
    "* Write a Python function, `neg_log_llh(theta, data)`, that returns the negative log-likelihood for the full dataset and estimated $\\hat{\\theta}=\\hat{\\lambda}$.\n",
    "* Use `interact` to print the value of the negative log-likelihood with a slider for $\\hat{\\lambda}$. Find the value of $\\hat{\\lambda}$ that minimize the negative log-likelihood by simply moving the slider around. Write some text in a markdown cell that summarizes your findings.\n",
    "* Write a function, `mle(data)`, that uses `scipy.optimize.minimize` to find the estimated parameters $\\hat{\\theta}$ that minimize the negative log-likelihood for the data.\n",
    "* Bootstrap your dataset and compute bootstrapped $\\hat{\\theta}$ distributions and 95% confidence intervals. Plot your $\\hat{\\theta}$ distribution using a Seaborn `distplot`.\n",
    "* Follow [PEP8](https://www.python.org/dev/peps/pep-0008/) and write a properly formatted [docstring](https://github.com/numpy/numpy/blob/master/doc/HOWTO_DOCUMENT.rst.txt) for all of your functions.\n",
    "* Add additional markdown cells that describe your code and results."
   ]
  },
  {
   "cell_type": "markdown",
   "metadata": {},
   "source": [
    "## Your solution"
   ]
  },
  {
   "cell_type": "markdown",
   "metadata": {},
   "source": [
    "## Grading"
   ]
  },
  {
   "cell_type": "markdown",
   "metadata": {
    "deletable": false,
    "nbgrader": {
     "checksum": "56c334d48d7e4f4774d4ec0ae0711346",
     "grade": true,
     "grade_id": "mlepoisson-a",
     "locked": false,
     "points": 10,
     "solution": true
    }
   },
   "source": [
    "YOUR ANSWER HERE"
   ]
  }
 ],
 "metadata": {
  "kernelspec": {
   "display_name": "Python 3",
   "language": "python",
   "name": "python3"
  },
  "language_info": {
   "codemirror_mode": {
    "name": "ipython",
    "version": 3
   },
   "file_extension": ".py",
   "mimetype": "text/x-python",
   "name": "python",
   "nbconvert_exporter": "python",
   "pygments_lexer": "ipython3",
   "version": "3.4.3"
  }
 },
 "nbformat": 4,
 "nbformat_minor": 0
}
