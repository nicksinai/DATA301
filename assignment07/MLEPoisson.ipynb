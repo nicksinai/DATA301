{
 "cells": [
  {
   "cell_type": "markdown",
   "metadata": {},
   "source": [
    "# MLE for Poisson Distribution"
   ]
  },
  {
   "cell_type": "markdown",
   "metadata": {},
   "source": [
    "In this notebook you will perform [maximum likelihood estimation](https://en.wikipedia.org/wiki/Maximum_likelihood), or MLE, for the parameter $\\lambda$ in the [Poisson](https://en.wikipedia.org/wiki/Poisson_distribution) distribution and bootstrap the results."
   ]
  },
  {
   "cell_type": "code",
   "execution_count": 1,
   "metadata": {
    "collapsed": true
   },
   "outputs": [],
   "source": [
    "import numpy as np\n",
    "%matplotlib inline\n",
    "from matplotlib import pyplot as plt\n",
    "import seaborn as sns\n",
    "from ipywidgets import interact\n",
    "from scipy import optimize"
   ]
  },
  {
   "cell_type": "markdown",
   "metadata": {},
   "source": [
    "## Problem description"
   ]
  },
  {
   "cell_type": "markdown",
   "metadata": {},
   "source": [
    "Your exercise is to perform the following steps in this notebook:\n",
    "\n",
    "* Find the probability density function, $P(k \\mid \\lambda)$ for a single variate on Wikipedia and typeset it into a markdown cell. In that same markdown cell, compose a few sentences that describes the equation and defines all of its symbols.\n",
    "* Work out the log-likelihood $ln\\mathcal{L}(\\lambda \\mid k)$ and typeset it into another markdown cell. In that same markdown cell, compose a few sentences that describes the equation and defines all of its symbols.\n",
    "* Pick master, known values for the parameters $\\theta=\\lambda$ of the distribution and generate an array of `50` random variates using those parameters.\n",
    "* Make an appropriately labeled Seaborn `countplot` of your dataset.\n",
    "* Write a Python function, `neg_log_llh(theta, data)`, that returns the negative log-likelihood for the full dataset and estimated $\\hat{\\theta}=\\hat{\\lambda}$.\n",
    "* Use `interact` to print the value of the negative log-likelihood with a slider for $\\hat{\\lambda}$. Find the value of $\\hat{\\lambda}$ that minimize the negative log-likelihood by simply moving the slider around. Write some text in a markdown cell that summarizes your findings.\n",
    "* Write a function, `mle(data)`, that uses `scipy.optimize.minimize` to find the estimated parameters $\\hat{\\theta}$ that minimize the negative log-likelihood for the data.\n",
    "* Bootstrap your dataset and compute bootstrapped $\\hat{\\theta}$ distributions and 95% confidence intervals. Plot your $\\hat{\\theta}$ distribution using a Seaborn `distplot`.\n",
    "* Follow [PEP8](https://www.python.org/dev/peps/pep-0008/) and write a properly formatted [docstring](https://github.com/numpy/numpy/blob/master/doc/HOWTO_DOCUMENT.rst.txt) for all of your functions.\n",
    "* Add additional markdown cells that describe your code and results."
   ]
  },
  {
   "cell_type": "markdown",
   "metadata": {},
   "source": [
    "## Your solution"
   ]
  },
  {
   "cell_type": "markdown",
   "metadata": {},
   "source": [
    "## Grading"
   ]
  },
  {
   "cell_type": "markdown",
   "metadata": {
    "deletable": false,
    "nbgrader": {
     "checksum": "56c334d48d7e4f4774d4ec0ae0711346",
     "grade": true,
     "grade_id": "mlepoisson-a",
     "locked": false,
     "points": 10,
     "solution": true
    }
   },
   "source": [
    "PDF \n",
    "Couldn't find PDF\n",
    "\n",
    "Work out the log-likelihood \n",
    "$$ XXX $$"
   ]
  },
  {
   "cell_type": "code",
   "execution_count": 2,
   "metadata": {
    "collapsed": true
   },
   "outputs": [],
   "source": [
    "mylambda = 2"
   ]
  },
  {
   "cell_type": "code",
   "execution_count": 3,
   "metadata": {
    "collapsed": true
   },
   "outputs": [],
   "source": [
    "data = np.random.poisson(mylambda, 50)"
   ]
  },
  {
   "cell_type": "code",
   "execution_count": 4,
   "metadata": {
    "collapsed": false
   },
   "outputs": [
    {
     "data": {
      "image/png": "[encoded data removed]",
      "text/plain": [
       "<matplotlib.figure.Figure at 0x7efcec88ad68>"
      ]
     },
     "metadata": {},
     "output_type": "display_data"
    }
   ],
   "source": [
    "sns.distplot(data)\n",
    "plt.xlabel('x')\n",
    "plt.ylabel('y')\n",
    "plt.title('Generated Sample Distribution for the Poisson Distribution');"
   ]
  },
  {
   "cell_type": "code",
   "execution_count": 5,
   "metadata": {
    "collapsed": false
   },
   "outputs": [
    {
     "ename": "SyntaxError",
     "evalue": "invalid syntax (<ipython-input-5-b2e2957faa73>, line 4)",
     "output_type": "error",
     "traceback": [
      "\u001b[1;36m  File \u001b[1;32m\"<ipython-input-5-b2e2957faa73>\"\u001b[1;36m, line \u001b[1;32m4\u001b[0m\n\u001b[1;33m    result = #?\u001b[0m\n\u001b[1;37m               ^\u001b[0m\n\u001b[1;31mSyntaxError\u001b[0m\u001b[1;31m:\u001b[0m invalid syntax\n"
     ]
    }
   ],
   "source": [
    "def neg_log_llh(theta, data):\n",
    "    mylambda = theta[0]\n",
    "    n = len(data)\n",
    "    result = #?\n",
    "    return result"
   ]
  },
  {
   "cell_type": "code",
   "execution_count": 6,
   "metadata": {
    "collapsed": true
   },
   "outputs": [],
   "source": [
    "def print_neg_log_llh(mylambda):\n",
    "    print(neg_log_llh(mylambda, data))"
   ]
  },
  {
   "cell_type": "code",
   "execution_count": null,
   "metadata": {
    "collapsed": true
   },
   "outputs": [],
   "source": [
    "interact(print_log_llh, mylambda=(-10.0, 10.0, 0.1))"
   ]
  },
  {
   "cell_type": "code",
   "execution_count": null,
   "metadata": {
    "collapsed": true
   },
   "outputs": [],
   "source": [
    "def mle(data):\n",
    "    \"\"\"find the estimated parameters θ̂ that minimize \n",
    "    the negative log-likelihood for the data.\"\"\"\n",
    "    fit = optimize.minimize(lambda theta: neg_log_llh(theta, data), [?])\n",
    "    return fit"
   ]
  },
  {
   "cell_type": "code",
   "execution_count": null,
   "metadata": {
    "collapsed": true
   },
   "outputs": [],
   "source": [
    "def bootstrap_function(data, f):\n",
    "    \"\"\"Compute a function on data bootstrapped n times.\n",
    "    \n",
    "    Parameters\n",
    "    ----------\n",
    "    data: ndarray\n",
    "        The input data to be resampled.\n",
    "    f: function(data)\n",
    "        The function to be applied to the boostrapped data. The function should take a single\n",
    "        argument (the data) and return a float.\n",
    "    n: int\n",
    "        The number of times to resample the data\n",
    "        \n",
    "    Returns\n",
    "    -------\n",
    "    result: ndarray\n",
    "        An n element array of the values of the function applied to the resampled data.\n",
    "    \"\"\"\n",
    "    result = []\n",
    "    for sample in range(len(data)):\n",
    "        resample = bootstrap_data(data)\n",
    "        conf = np.percentile(resample, 2.5), np.percentile(resample, 97.5)\n",
    "        resample_functioned = [f(resample), conf]\n",
    "        result.append(resample_functioned)\n",
    "    return np.array(result)"
   ]
  },
  {
   "cell_type": "code",
   "execution_count": null,
   "metadata": {
    "collapsed": true
   },
   "outputs": [],
   "source": [
    "resamples = bootstrap_function(data,mle)[:,0]\n",
    "sns.distplot(resamples)\n",
    "plt.xlabel('resamples mle')\n",
    "plt.ylabel('count')\n",
    "plt.title('Generated Sample Distribution for the Poisson Distribution');"
   ]
  },
  {
   "cell_type": "code",
   "execution_count": null,
   "metadata": {
    "collapsed": true
   },
   "outputs": [],
   "source": []
  },
  {
   "cell_type": "code",
   "execution_count": null,
   "metadata": {
    "collapsed": true
   },
   "outputs": [],
   "source": []
  }
 ],
 "metadata": {
  "kernelspec": {
   "display_name": "Python 3",
   "language": "python",
   "name": "python3"
  },
  "language_info": {
   "codemirror_mode": {
    "name": "ipython",
    "version": 3
   },
   "file_extension": ".py",
   "mimetype": "text/x-python",
   "name": "python",
   "nbconvert_exporter": "python",
   "pygments_lexer": "ipython3",
   "version": "3.4.3"
  }
 },
 "nbformat": 4,
 "nbformat_minor": 0
}
