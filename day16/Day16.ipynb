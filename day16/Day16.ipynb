{
 "cells": [
  {
   "cell_type": "markdown",
   "metadata": {},
   "source": [
    "# Day 16\n",
    "\n",
    "* Introduction to Data Science (Data 301)\n",
    "* Cal Poly, Winter 2016\n",
    "* Brian E. Granger\n",
    "* Office hours: W+F 3-5pm, **26-110L**"
   ]
  },
  {
   "cell_type": "markdown",
   "metadata": {},
   "source": [
    "## Announcements"
   ]
  },
  {
   "cell_type": "markdown",
   "metadata": {},
   "source": [
    "\n",
    "### Homework solutions\n",
    "\n",
    "https://data301a.calpolydatascience.org/public_html/ellisonbg/\n"
   ]
  },
  {
   "cell_type": "markdown",
   "metadata": {},
   "source": [
    "## In class\n",
    "\n",
    "* Grab the materials for the day:\n",
    "  - `nbgrader fetch --course data301a day16`\n",
    "  - `nbgrader fetch --course data301a project`\n",
    "* Submit your last assignment:\n",
    "  - `nbgrader submit --course data301a assignment10`\n",
    "* Regrading requests\n",
    "  - If you want me to regrade part of your midterm, please submit a written request to my\n",
    "    through email by **today**. Please include a detailed description of which\n",
    "    problem, which part and what you would like me to reconsider.\n",
    "  - Also, please feel free to submit emails with written requests for regrade homework problems.\n",
    "* New Material: sklearn and Machine Learning\n",
    "* Projects!"
   ]
  },
  {
   "cell_type": "markdown",
   "metadata": {},
   "source": [
    "## Out of class\n",
    "\n",
    "* Work on your project.\n",
    "* Read Chapter 6, Machine Learning."
   ]
  }
 ],
 "metadata": {
  "kernelspec": {
   "display_name": "Python 3",
   "language": "python",
   "name": "python3"
  },
  "language_info": {
   "codemirror_mode": {
    "name": "ipython",
    "version": 3
   },
   "file_extension": ".py",
   "mimetype": "text/x-python",
   "name": "python",
   "nbconvert_exporter": "python",
   "pygments_lexer": "ipython3",
   "version": "3.4.3"
  }
 },
 "nbformat": 4,
 "nbformat_minor": 0
}
