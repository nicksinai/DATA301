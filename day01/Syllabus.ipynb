{
 "cells": [
  {
   "cell_type": "markdown",
   "metadata": {},
   "source": [
    "# Introduction to Data Science (Data 301)"
   ]
  },
  {
   "cell_type": "markdown",
   "metadata": {},
   "source": [
    "## My information\n",
    "\n",
    "* Brian E. Granger\n",
    "* ellisonbg on Gmail, Twitter and GitHub\n",
    "* 805-903-2580\n",
    "* Office Hours\n",
    "  - Wednesday 3-5pm\n",
    "  - Friday 3-5pm\n",
    "\n",
    "## Course information\n",
    "\n",
    "* Winter 2016\n",
    "* Tuesday+Thursday\n",
    "  - **Section 01/02:** 8-11am\n",
    "  - **Section 03/04:** 1-4pm\n",
    "* Baker 180-265"
   ]
  },
  {
   "cell_type": "markdown",
   "metadata": {},
   "source": [
    "## Catalog Description\n",
    "\n",
    "> An introduction into the field of Data Science and the workflow of a data scientist. Types of data (tabular, textual, sparse, structured, temporal, geospatial), basic data management and manipulation, simple summaries, and visualization. "
   ]
  },
  {
   "cell_type": "markdown",
   "metadata": {},
   "source": [
    "## Course Objectives\n",
    "\n",
    "From the original course proposal:\n",
    "\n",
    "1. Select and use statistical modeling and data analytical methods and techniques appropriate to the scale of the problem.\n",
    "2. Operate with diverse types of data (for example, weblog, spatio‐temporal, basket, transaction, and master)\n",
    "3. Apply data science methods (acquire, integrate, analyze, visualize) to at least one application domain (e.g., Biology, Business, Science, Geostatistics)\n",
    "4. Use the knowledge of Computer Science to design, build and evaluate software\n",
    "5. Use the knowledge of Statistics to analyze data\n",
    "6. Build, maintain, and query common database structures\n",
    "7. Clearly and effectively communicate analysis findings appropriately using oral, written and visual modes."
   ]
  },
  {
   "cell_type": "markdown",
   "metadata": {},
   "source": [
    "## Resources\n",
    "\n",
    "The following are core, required resources for the course:\n",
    "\n",
    "* **A laptop with wifi:** You are required to bring a laptop with Google Chrome and working wifi to every class meeting.\n",
    "* **Textbook for the course:** *Python Data Science Handbook*, Jake VanderPlas (2015). This book is the official, required tetbook for the course. Please purchase the digital, early-release version from O'Reilly Media [here](http://shop.oreilly.com/product/0636920034919.do).\n",
    "* **Git and GitHub:** (http://github.com) A version control system and public web-based repository for writing code collaboratively. You need to have a GitHub account and username to participate in the course. Usage of Git/GitHub for version control is optional.\n",
    "* **Jupyter:** (http://jupyter.org) An interactive computing environment for Python and other languages. You can sign into the JupyterHub instance for the course at https://data301a.calpolydatascience.org using your GitHub username and password.\n",
    "* **Codecademy:** (http://www.codecademy.com) A free online series of interactive programming courses. You must complete the Python course by the beginning of the 4th day of class.\n",
    "* **Project Euler:** (http://projecteuler.net) A series of challenging mathematical/computer programming problems that will help you practice your new computing skills.\n",
    "* **Gitter:** (http://gitter.com) An online chat system that is integrated with GitHub. We will use Gitter for all course discussions.\n",
    "\n",
    "The following are optional, but highly useful, resources you might find useful:\n",
    "\n",
    "* **ThinkPython:** (http://www.greenteapress.com/thinkpython2/index.html) A free online Python textbook.\n",
    "* **Python Scientific Lecture Notes:** (http://scipy-lectures.github.com/index.html) Useful tutorials on using the Python scientific computing libraries.\n",
    "* **Software Carpentry:** (http://softwarecarpentry.org) Tutorials on scientific computing.\n",
    "* **Python for Data Analysis:** The definitive book on Pandas, by its creator Wes McKinney. A bit out of date, but still very good."
   ]
  },
  {
   "cell_type": "markdown",
   "metadata": {},
   "source": [
    "## Grading\n",
    "\n",
    "Your final grade in the course will be based on the following:\n",
    "\n",
    "<table>\n",
    "<tr>\n",
    "<td><b>Assignments</b></td>\n",
    "<td>60%</td>\n",
    "</tr>\n",
    "<tr>\n",
    "<td><b>Midterm Exam</b></td>\n",
    "<td>20%</td>\n",
    "</tr>\n",
    "<tr>\n",
    "<td><b>Final Project/Presentation</b></td>\n",
    "<td>20%</td>\n",
    "</tr>\n",
    "</table>"
   ]
  },
  {
   "cell_type": "markdown",
   "metadata": {},
   "source": [
    "## Class time and assignments\n",
    "\n",
    "The main work for the course will take place in the context of programming, visualization and writing assignments. Assignments may be assigned as often as every class session, but you may be given more time for longer assignments. Assignments will be due at the beginning of class. The due date for each assignment will be provided in the daily class schedule.\n",
    "\n",
    "---\n",
    "\n",
    "<div class=\"alert bg-danger\">No late assignments will be accepted.</div>\n",
    "\n",
    "---\n",
    "\n",
    "\n",
    "You will work on the assignments both in and out of class, so class attendance is mandatory. You must stay until the end of class unless you get specific, explicit permission to leave early.\n",
    "\n",
    "All assignments will be distributed and turned in using *nbgrader*. Details about *nbgrader* will be provided in class.\n",
    "\n",
    "We will spend most of our class time learning Data Science by doing hands-on programming activities. Sometimes you will work alone. Other times you will participate in pair programming exercises where you are the *driver* and your partner is the *navigator* and vice versa.  Studies show that this is a very effective way to learn programming and Data Science.\n",
    "\n",
    "As with any skill, the only way to become proficient is to practice.  **A LOT.**  Think about your experiences learning a musical instrument or playing a sport.  A little bit of practice every day is crucial.  You will probably be spending **8 to 12 hours per week** *outside of class* writing and debugging code.\n",
    "\n",
    "If you have trouble with the homework, come to my office hours or seek help from your peers in person or on Gitter.  Don't wait until you are in trouble to take action."
   ]
  },
  {
   "cell_type": "markdown",
   "metadata": {},
   "source": [
    "## Midterm exam\n",
    "\n",
    "There will be one midterm exam on **Tuesday, February 2** during the first hour of class.  The exam will cover the material from the first 4 weeks of class."
   ]
  },
  {
   "cell_type": "markdown",
   "metadata": {},
   "source": [
    "## Final Project/Presentation\n",
    "\n",
    "Your last assignment of the quarter will be an open-ended project. You will turn in your project using *nbgrader* by the beginning of the final exam period for your section. During the final exam period you will present a 5-10 minute demonstration of your project and its results to the rest of the class.  The demonstration will be graded by me and your peers using an oral presentation rubric.  These assessments will be part of your grade for the project. We will spend some class time working on the projects but most of the work will be completed outside of class.\n",
    "\n",
    "* **Section 01/02:** Thursday, June 9, 7:10-10:00\n",
    "\n",
    "* **Section 03/04:** Thursday, June 9, 13:10-16:00"
   ]
  },
  {
   "cell_type": "markdown",
   "metadata": {},
   "source": [
    "## Guidelines for Academic Honesty\n",
    "\n",
    "The following guidelines are adapted from the Grand Valley State University and George Washington University computer science departments."
   ]
  },
  {
   "cell_type": "markdown",
   "metadata": {},
   "source": [
    "### You are expected to:\n",
    "\n",
    "* Write your own code.\n",
    "* Understand your solutions.\n",
    "* Acknowledge the help of others in writing.\n",
    "* Explicitly cite the origin of other people's code that you have used with their permission.\n",
    "* Protect yourself from being suspected of misconduct by not allowing others to see your assignment before it is submitted.\n",
    "* Contact your instructor for clarification about assignment requirements."
   ]
  },
  {
   "cell_type": "markdown",
   "metadata": {},
   "source": [
    "### You are encouraged to:\n",
    "\n",
    "* Discuss general approaches to a solution.\n",
    "* Share knowledge with other students about syntax errors, coding tricks, or other language-specific information that makes programming easier.\n",
    "* Provide and receive help with simple execution errors.\n",
    "* Provide and receive help with using the computing environment.\n",
    "* Engage, with other students, in a general discussion of the nature of an assignment, the requirements for an assignment, or general implementation strategies.\n",
    "* Engage, with other students, in discussion of course concepts or programming strategies in preparation for an assignment or examination."
   ]
  },
  {
   "cell_type": "markdown",
   "metadata": {},
   "source": [
    "### You are guilty of academic misconduct if you:\n",
    "\n",
    "* Give your source code to anyone in hardcopy or electronic form.\n",
    "* Post your solutions on a public source code repository (GitHub, etc.) before the corresponding due date.\n",
    "* Receive another student's solution in hardcopy or electronic form.\n",
    "* Submit as your own work the files, solutions, or documents prepared by others.\n",
    "* Use source code from the internet without proper attribution.\n",
    "* Submit assignments as your own without attribution if they were created in collaboration with someone.\n",
    "* Make modifications to someone else's solution in an effort to disguise misconduct.\n",
    "* Use unauthorized materials during an examination, or communicate during an examination in an unauthorized way with another person.\n",
    "* Knowingly permit another person to turn in your work as his or her own work."
   ]
  },
  {
   "cell_type": "markdown",
   "metadata": {},
   "source": [
    "---\n",
    "You will be contacted by me if I suspect academic misconduct.  Appropriate actions might include but are not limited to a failing grade on the assignment, a grade reduction in the course, or a failing grade in the course.  See the Office of Student Rights and Responsibilities website for further information."
   ]
  }
 ],
 "metadata": {
  "kernelspec": {
   "display_name": "Python 3",
   "language": "python",
   "name": "python3"
  },
  "language_info": {
   "codemirror_mode": {
    "name": "ipython",
    "version": 3
   },
   "file_extension": ".py",
   "mimetype": "text/x-python",
   "name": "python",
   "nbconvert_exporter": "python",
   "pygments_lexer": "ipython3",
   "version": "3.4.3"
  }
 },
 "nbformat": 4,
 "nbformat_minor": 0
}
