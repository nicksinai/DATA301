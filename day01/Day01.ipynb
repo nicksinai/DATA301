{
 "cells": [
  {
   "cell_type": "markdown",
   "metadata": {},
   "source": [
    "# Day 1\n",
    "\n",
    "* Introduction to Data Science (Data 301)\n",
    "* Cal Poly, Winter 2016\n",
    "* Brian E. Granger"
   ]
  },
  {
   "cell_type": "markdown",
   "metadata": {},
   "source": [
    "## In class\n",
    "\n",
    "* Syllabus.\n",
    "* Introduction to Jupyter\n",
    "* Introduction to nbgrader\n",
    "* Introduction to Python\n",
    "* Create account on http://codecademy.com and start to work Python course."
   ]
  },
  {
   "cell_type": "markdown",
   "metadata": {},
   "source": [
    "## Out of class\n",
    "\n",
    "* Continue to work Python course on http://codecademy.com, must be done by beginning of 4th day of class."
   ]
  }
 ],
 "metadata": {
  "kernelspec": {
   "display_name": "Python 3",
   "language": "python",
   "name": "python3"
  },
  "language_info": {
   "codemirror_mode": {
    "name": "ipython",
    "version": 3
   },
   "file_extension": ".py",
   "mimetype": "text/x-python",
   "name": "python",
   "nbconvert_exporter": "python",
   "pygments_lexer": "ipython3",
   "version": "3.4.3"
  }
 },
 "nbformat": 4,
 "nbformat_minor": 0
}
