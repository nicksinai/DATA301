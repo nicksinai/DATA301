{
 "cells": [
  {
   "cell_type": "markdown",
   "metadata": {},
   "source": [
    "# Basic Vector Operations"
   ]
  },
  {
   "cell_type": "markdown",
   "metadata": {},
   "source": [
    "In this notebook you will implement a number of basic vector operations using pure Python."
   ]
  },
  {
   "cell_type": "code",
   "execution_count": null,
   "metadata": {
    "collapsed": true
   },
   "outputs": [],
   "source": [
    "import math"
   ]
  },
  {
   "cell_type": "markdown",
   "metadata": {},
   "source": [
    "Implement a function that computes the sum of two input vectors `x` and `y`:\n"
   ]
  },
  {
   "cell_type": "code",
   "execution_count": 6,
   "metadata": {
    "collapsed": true,
    "deletable": false,
    "nbgrader": {
     "checksum": "78d6f3bfe731c96ef1e204831d1476e9",
     "grade": false,
     "grade_id": "basicvectora",
     "locked": false,
     "solution": true
    }
   },
   "outputs": [],
   "source": [
    "def vector_sum(x, y):\n",
    "    \"\"\"Compute the vector sum of x and y as a Python list.\"\"\"\n",
    "    return [xTerm + yTerm for xTerm in x for yTerm in y]"
   ]
  },
  {
   "cell_type": "code",
   "execution_count": 7,
   "metadata": {
    "collapsed": false,
    "deletable": false,
    "nbgrader": {
     "checksum": "d6bcd816cb5a46c7bc064145f84a0add",
     "grade": true,
     "grade_id": "basicvectorb",
     "locked": true,
     "points": 1,
     "solution": false
    }
   },
   "outputs": [
    {
     "ename": "AssertionError",
     "evalue": "",
     "output_type": "error",
     "traceback": [
      "\u001b[1;31m---------------------------------------------------------------------------\u001b[0m",
      "\u001b[1;31mAssertionError\u001b[0m                            Traceback (most recent call last)",
      "\u001b[1;32m<ipython-input-7-8fcd0f9dd7bd>\u001b[0m in \u001b[0;36m<module>\u001b[1;34m()\u001b[0m\n\u001b[1;32m----> 1\u001b[1;33m \u001b[1;32massert\u001b[0m \u001b[0mvector_sum\u001b[0m\u001b[1;33m(\u001b[0m\u001b[1;33m[\u001b[0m\u001b[1;36m0\u001b[0m\u001b[1;33m,\u001b[0m\u001b[1;36m0\u001b[0m\u001b[1;33m,\u001b[0m\u001b[1;36m0\u001b[0m\u001b[1;33m,\u001b[0m\u001b[1;36m0\u001b[0m\u001b[1;33m]\u001b[0m\u001b[1;33m,\u001b[0m \u001b[1;33m[\u001b[0m\u001b[1;36m2\u001b[0m\u001b[1;33m,\u001b[0m\u001b[1;36m2\u001b[0m\u001b[1;33m,\u001b[0m\u001b[1;36m2\u001b[0m\u001b[1;33m,\u001b[0m\u001b[1;36m2\u001b[0m\u001b[1;33m]\u001b[0m\u001b[1;33m)\u001b[0m\u001b[1;33m==\u001b[0m\u001b[1;33m[\u001b[0m\u001b[1;36m2\u001b[0m\u001b[1;33m,\u001b[0m\u001b[1;36m2\u001b[0m\u001b[1;33m,\u001b[0m\u001b[1;36m2\u001b[0m\u001b[1;33m,\u001b[0m\u001b[1;36m2\u001b[0m\u001b[1;33m]\u001b[0m\u001b[1;33m\u001b[0m\u001b[0m\n\u001b[0m\u001b[0;32m      2\u001b[0m \u001b[1;32massert\u001b[0m \u001b[0mvector_sum\u001b[0m\u001b[1;33m(\u001b[0m\u001b[1;33m[\u001b[0m\u001b[1;36m1\u001b[0m\u001b[1;33m,\u001b[0m\u001b[1;36m2\u001b[0m\u001b[1;33m]\u001b[0m\u001b[1;33m,\u001b[0m \u001b[1;33m[\u001b[0m\u001b[1;33m-\u001b[0m\u001b[1;36m1\u001b[0m\u001b[1;33m,\u001b[0m\u001b[1;33m-\u001b[0m\u001b[1;36m2\u001b[0m\u001b[1;33m]\u001b[0m\u001b[1;33m)\u001b[0m\u001b[1;33m==\u001b[0m\u001b[1;33m[\u001b[0m\u001b[1;36m0\u001b[0m\u001b[1;33m,\u001b[0m\u001b[1;36m0\u001b[0m\u001b[1;33m]\u001b[0m\u001b[1;33m\u001b[0m\u001b[0m\n",
      "\u001b[1;31mAssertionError\u001b[0m: "
     ]
    }
   ],
   "source": [
    "assert vector_sum([0,0,0,0], [2,2,2,2])==[2,2,2,2]\n",
    "assert vector_sum([1,2], [-1,-2])==[0,0]"
   ]
  },
  {
   "cell_type": "markdown",
   "metadata": {},
   "source": [
    "Implement a function that computes the difference of two input vectors `x` and `y`:"
   ]
  },
  {
   "cell_type": "code",
   "execution_count": null,
   "metadata": {
    "collapsed": true,
    "deletable": false,
    "nbgrader": {
     "checksum": "8ff05424e159b0f19ed1904098285465",
     "grade": false,
     "grade_id": "basicvectorc",
     "locked": false,
     "solution": true
    }
   },
   "outputs": [],
   "source": [
    "def vector_diff(x, y):\n",
    "    \"\"\"Compute the vector difference of x and y as a Python list.\"\"\"\n",
    "    # YOUR CODE HERE\n",
    "    raise NotImplementedError()"
   ]
  },
  {
   "cell_type": "code",
   "execution_count": null,
   "metadata": {
    "collapsed": false,
    "deletable": false,
    "nbgrader": {
     "checksum": "271613c394f960125f1f5e69514e611c",
     "grade": true,
     "grade_id": "basicvectord",
     "locked": true,
     "points": 1,
     "solution": false
    }
   },
   "outputs": [],
   "source": [
    "assert vector_diff([1,1], [0,0])==[1,1]\n",
    "assert vector_diff([1,2,3,4],[1,2,3,4])==[0,0,0,0]"
   ]
  },
  {
   "cell_type": "markdown",
   "metadata": {},
   "source": [
    "Implement a function that computes the product of a scalar `a` with a vectors `x`:"
   ]
  },
  {
   "cell_type": "code",
   "execution_count": null,
   "metadata": {
    "collapsed": true,
    "deletable": false,
    "nbgrader": {
     "checksum": "b92efb884347f16ef9bf5b6133124508",
     "grade": false,
     "grade_id": "basicvectore",
     "locked": false,
     "solution": true
    }
   },
   "outputs": [],
   "source": [
    "def vector_scalar_mul(a, x):\n",
    "    \"\"\"Compute a*x as a Python list.\"\"\"\n",
    "    # YOUR CODE HERE\n",
    "    raise NotImplementedError()"
   ]
  },
  {
   "cell_type": "code",
   "execution_count": null,
   "metadata": {
    "collapsed": false,
    "deletable": false,
    "nbgrader": {
     "checksum": "f368607db4c0d14d3ae6853a17f8cf72",
     "grade": true,
     "grade_id": "basicvectorf",
     "locked": true,
     "points": 1,
     "solution": false
    }
   },
   "outputs": [],
   "source": [
    "assert vector_scalar_mul(1.0, [1,2,3,4])==[1,2,3,4]\n",
    "assert vector_scalar_mul(2.0, [-1,0,1])==[-2,0,2]"
   ]
  },
  {
   "cell_type": "markdown",
   "metadata": {},
   "source": [
    "Implement a function that computes the dot product between two vectors `x` and `y`:"
   ]
  },
  {
   "cell_type": "code",
   "execution_count": null,
   "metadata": {
    "collapsed": true,
    "deletable": false,
    "nbgrader": {
     "checksum": "90d64d980afbb06177372e7eebfb8468",
     "grade": false,
     "grade_id": "basicvectorg",
     "locked": false,
     "solution": true
    }
   },
   "outputs": [],
   "source": [
    "def vector_dot(x, y):\n",
    "    \"\"\"Compute the dot product of vectors a and b.\"\"\"\n",
    "    # YOUR CODE HERE\n",
    "    raise NotImplementedError()"
   ]
  },
  {
   "cell_type": "code",
   "execution_count": null,
   "metadata": {
    "collapsed": false,
    "deletable": false,
    "nbgrader": {
     "checksum": "d9c966e078c5892cd28e7d9603420aef",
     "grade": true,
     "grade_id": "basicvectorh",
     "locked": true,
     "points": 1,
     "solution": false
    }
   },
   "outputs": [],
   "source": [
    "assert vector_dot([0,1],[1,0])==0.0\n",
    "assert vector_dot([1,0],[1,0])==1.0\n",
    "assert vector_dot([1,1],[-1,1])==0.0"
   ]
  },
  {
   "cell_type": "markdown",
   "metadata": {},
   "source": [
    "Implement a function that computes the $L_1$ norm of a vector `x`:"
   ]
  },
  {
   "cell_type": "code",
   "execution_count": null,
   "metadata": {
    "collapsed": true,
    "deletable": false,
    "nbgrader": {
     "checksum": "ec1635942398b01081dc81d2ae09a231",
     "grade": false,
     "grade_id": "basicvectori",
     "locked": false,
     "solution": true
    }
   },
   "outputs": [],
   "source": [
    "def L1(x):\n",
    "    \"\"\"Compute the L1 norm of x.\"\"\"\n",
    "    # YOUR CODE HERE\n",
    "    raise NotImplementedError()"
   ]
  },
  {
   "cell_type": "code",
   "execution_count": null,
   "metadata": {
    "collapsed": true,
    "deletable": false,
    "nbgrader": {
     "checksum": "eaf824427da994b2b1a2438efd1bbdac",
     "grade": true,
     "grade_id": "basicvectorj",
     "locked": true,
     "points": 1,
     "solution": false
    }
   },
   "outputs": [],
   "source": [
    "assert L1([0,0])==0\n",
    "assert L1([1,1])==2"
   ]
  },
  {
   "cell_type": "markdown",
   "metadata": {},
   "source": [
    "Implement a function that computes the $L_2$ norm of a vector `x`:"
   ]
  },
  {
   "cell_type": "code",
   "execution_count": null,
   "metadata": {
    "collapsed": true,
    "deletable": false,
    "nbgrader": {
     "checksum": "d7f5d545b4de83bcdef962252c375569",
     "grade": false,
     "grade_id": "basicvectork",
     "locked": false,
     "solution": true
    }
   },
   "outputs": [],
   "source": [
    "def L2(x):\n",
    "    \"\"\"Compute the L2 norm of x.\"\"\"\n",
    "    # YOUR CODE HERE\n",
    "    raise NotImplementedError()"
   ]
  },
  {
   "cell_type": "code",
   "execution_count": null,
   "metadata": {
    "collapsed": false,
    "deletable": false,
    "nbgrader": {
     "checksum": "5f9fc64f2f9a4721488b293fe93ac7d0",
     "grade": true,
     "grade_id": "basicvectorl",
     "locked": true,
     "points": 1,
     "solution": false
    }
   },
   "outputs": [],
   "source": [
    "assert L2([0,0])==0\n",
    "assert L2([1,1])==math.sqrt(2)"
   ]
  },
  {
   "cell_type": "markdown",
   "metadata": {},
   "source": [
    "Implement a function that computes the Mean Squared Error (MSE) between two vectors `x` and `y`:"
   ]
  },
  {
   "cell_type": "code",
   "execution_count": null,
   "metadata": {
    "collapsed": true,
    "deletable": false,
    "nbgrader": {
     "checksum": "3c53586e4f4f8190ccc6e46f09a028d5",
     "grade": false,
     "grade_id": "basicvectorm",
     "locked": false,
     "solution": true
    }
   },
   "outputs": [],
   "source": [
    "def mse(x, y):\n",
    "    \"\"\"Compute the mean squared error between x and y.\"\"\"\n",
    "    # YOUR CODE HERE\n",
    "    raise NotImplementedError()"
   ]
  },
  {
   "cell_type": "code",
   "execution_count": null,
   "metadata": {
    "collapsed": false,
    "deletable": false,
    "nbgrader": {
     "checksum": "624173bd4670ffaa7814f0a34cda99c0",
     "grade": true,
     "grade_id": "basicvectorn",
     "locked": true,
     "points": 1,
     "solution": false
    }
   },
   "outputs": [],
   "source": [
    "assert mse([0,0],[1,1])==1.0\n",
    "assert mse([1,2,3,4],[5,6,7,8])==16.0"
   ]
  },
  {
   "cell_type": "markdown",
   "metadata": {},
   "source": [
    "Implement a function that computes the mean of all the elements of a vector `x`:"
   ]
  },
  {
   "cell_type": "code",
   "execution_count": null,
   "metadata": {
    "collapsed": true,
    "deletable": false,
    "nbgrader": {
     "checksum": "95be3b0bb22382606db7f6fb4ac13263",
     "grade": false,
     "grade_id": "basicvectoro",
     "locked": false,
     "solution": true
    }
   },
   "outputs": [],
   "source": [
    "def mean(x):\n",
    "    \"\"\"Compute the mean of the elements of x.\"\"\"\n",
    "    # YOUR CODE HERE\n",
    "    raise NotImplementedError()"
   ]
  },
  {
   "cell_type": "code",
   "execution_count": null,
   "metadata": {
    "collapsed": false,
    "deletable": false,
    "nbgrader": {
     "checksum": "b9c39824676c2988a037e949b70e90d4",
     "grade": true,
     "grade_id": "basicvectorp",
     "locked": true,
     "points": 1,
     "solution": false
    }
   },
   "outputs": [],
   "source": [
    "assert mean([1,1,1,1])==1\n",
    "assert mean([1,2,3,4])==2.5"
   ]
  },
  {
   "cell_type": "markdown",
   "metadata": {},
   "source": [
    "Implement a function that computes the variance of the elements of a vector `x`:"
   ]
  },
  {
   "cell_type": "code",
   "execution_count": null,
   "metadata": {
    "collapsed": true,
    "deletable": false,
    "nbgrader": {
     "checksum": "5cd93b43bd7813cb4a34c91ca785d191",
     "grade": false,
     "grade_id": "basicvectorq",
     "locked": false,
     "solution": true
    }
   },
   "outputs": [],
   "source": [
    "def var(x):\n",
    "    \"\"\"Compute the variance of the elements of x.\"\"\"\n",
    "    # YOUR CODE HERE\n",
    "    raise NotImplementedError()"
   ]
  },
  {
   "cell_type": "code",
   "execution_count": null,
   "metadata": {
    "collapsed": false,
    "deletable": false,
    "nbgrader": {
     "checksum": "0e3a1ef8bcadee49386f5cba5eeebe1b",
     "grade": true,
     "grade_id": "basicvectorr",
     "locked": true,
     "points": 1,
     "solution": false
    }
   },
   "outputs": [],
   "source": [
    "assert var([1,1,1,1])==0.0\n",
    "assert var([1,2,3,4])==1.25"
   ]
  },
  {
   "cell_type": "markdown",
   "metadata": {},
   "source": [
    "Implement a function that computes the standard deviation of a vector `x`:"
   ]
  },
  {
   "cell_type": "code",
   "execution_count": null,
   "metadata": {
    "collapsed": true,
    "deletable": false,
    "nbgrader": {
     "checksum": "fd8e6fc913c06f0c264650061b0c356a",
     "grade": false,
     "grade_id": "basicvectors",
     "locked": false,
     "solution": true
    }
   },
   "outputs": [],
   "source": [
    "def std(x):\n",
    "    \"\"\"Compute the standard deviation of the elements of x.\"\"\"\n",
    "    # YOUR CODE HERE\n",
    "    raise NotImplementedError()"
   ]
  },
  {
   "cell_type": "code",
   "execution_count": null,
   "metadata": {
    "collapsed": false,
    "deletable": false,
    "nbgrader": {
     "checksum": "089b6e1de0f75973e081cedb8408e904",
     "grade": true,
     "grade_id": "basicvectort",
     "locked": true,
     "points": 1,
     "solution": false
    }
   },
   "outputs": [],
   "source": [
    "assert abs(std([2,4,6,8])-2.23606)<0.0001"
   ]
  }
 ],
 "metadata": {
  "kernelspec": {
   "display_name": "Python 3",
   "language": "python",
   "name": "python3"
  },
  "language_info": {
   "codemirror_mode": {
    "name": "ipython",
    "version": 3
   },
   "file_extension": ".py",
   "mimetype": "text/x-python",
   "name": "python",
   "nbconvert_exporter": "python",
   "pygments_lexer": "ipython3",
   "version": "3.4.3"
  }
 },
 "nbformat": 4,
 "nbformat_minor": 0
}
