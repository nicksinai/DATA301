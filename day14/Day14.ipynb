{
 "cells": [
  {
   "cell_type": "markdown",
   "metadata": {},
   "source": [
    "# Day 14\n",
    "\n",
    "* Introduction to Data Science (Data 301)\n",
    "* Cal Poly, Winter 2016\n",
    "* Brian E. Granger\n",
    "* Office hours: W+F 3-5pm, **26-110L**"
   ]
  },
  {
   "cell_type": "markdown",
   "metadata": {},
   "source": [
    "## Announcements"
   ]
  },
  {
   "cell_type": "markdown",
   "metadata": {},
   "source": [
    "\n",
    "### Homework solutions\n",
    "\n",
    "https://data301a.calpolydatascience.org/public_html/ellisonbg/\n"
   ]
  },
  {
   "cell_type": "markdown",
   "metadata": {},
   "source": [
    "## In class\n",
    "\n",
    "* Grab the materials for the day:\n",
    "  - `nbgrader fetch --course data301a day14`\n",
    "  - `nbgrader fetch --course data301a assignment10`\n",
    "* Submit your last assignment:\n",
    "  - `nbgrader submit --course data301a assignment09`\n",
    "* Regrading requests\n",
    "  - If you want me to regrade part of your midterm, please submit a written request to my\n",
    "    through email by **today**. Please include a detailed description of which\n",
    "    problem, which part and what you would like me to reconsider.\n",
    "  - Also, please feel free to submit emails with written requests for regrade homework problems.\n",
    "* New Material: More Pandas\n",
    "  - Missing Values\n",
    "  - Hierarchical Indexing\n",
    "  - Time Series\n",
    "  - Eval and Query\n",
    "* Initial discussion about picking datasets for projects"
   ]
  },
  {
   "cell_type": "markdown",
   "metadata": {},
   "source": [
    "## Out of class\n",
    "\n",
    "* Assignment 10 due on Tuesday, day 15.\n",
    "* Read Chapter 4, Introduction to Pandas\n",
    "* You should have watched following videos:\n",
    "  - [Machine Learning 01: Introduction](https://www.youtube.com/playlist?list=PLnnr1O8OWc6abwwtocnvpRD5mFVUglbZU)\n",
    "  - [Machine Learning 02: Linear Regression](https://www.youtube.com/playlist?list=PLnnr1O8OWc6ajN_fNcSUz9k5gF_E9huF0)"
   ]
  }
 ],
 "metadata": {
  "kernelspec": {
   "display_name": "Python 3",
   "language": "python",
   "name": "python3"
  },
  "language_info": {
   "codemirror_mode": {
    "name": "ipython",
    "version": 3
   },
   "file_extension": ".py",
   "mimetype": "text/x-python",
   "name": "python",
   "nbconvert_exporter": "python",
   "pygments_lexer": "ipython3",
   "version": "3.4.3"
  }
 },
 "nbformat": 4,
 "nbformat_minor": 0
}