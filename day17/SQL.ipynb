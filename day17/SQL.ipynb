{
 "cells": [
  {
   "cell_type": "markdown",
   "metadata": {},
   "source": [
    "# SQL"
   ]
  },
  {
   "cell_type": "markdown",
   "metadata": {},
   "source": [
    "**Learning Objectives**: Learn how to connect to and query SQL databases and get the results back as Pandas DataFrames."
   ]
  },
  {
   "cell_type": "code",
   "execution_count": 1,
   "metadata": {
    "collapsed": false
   },
   "outputs": [],
   "source": [
    "%matplotlib inline\n",
    "import matplotlib.pyplot as plt\n",
    "import numpy as np\n",
    "import pandas as pd\n",
    "import seaborn as sns"
   ]
  },
  {
   "cell_type": "markdown",
   "metadata": {},
   "source": [
    "## Introduction"
   ]
  },
  {
   "cell_type": "markdown",
   "metadata": {},
   "source": [
    "[SQL](http://en.wikipedia.org/wiki/SQL), or *Structured Query Lanauge* is a programming language focused on read, writing and transforming table based data sets, called *Relational Databases*. There are a number of reasons you might want to work with data in a SQL database:\n",
    "\n",
    "* They offer high performance for a limited set of operations. They are much faster than Pandas for many types of operations, but are more limited.\n",
    "* They can handle data sets that don't fit into memory. Pandas DataFrames have to fit in the memory of your computer, which limits their size. Data bases are typically stored on disk and don't have that limitation. This opens the door for working with much larger data sets. Most \"big data\" tools offer some sort of SQL interfaces.\n",
    "* The data you want/need to work with may already be in a SQL database.\n",
    "\n",
    "\n",
    "There are numerous free and open source databases that offer SQL interfaces:\n",
    "\n",
    "* [SQLite](http://www.sqlite.org/)\n",
    "* [MySQL](http://www.mysql.com/)\n",
    "* [PostgreSQL](http://www.postgresql.org/)\n",
    "\n",
    "It is a good idea to start with SQLite as it has good performance characteristics, doesn't require any specialized setup and comes already installed with Python.\n",
    "\n",
    "There are a number of different Python packages for working with SQL databases:\n",
    "\n",
    "* [SqlAlchemy](http://www.sqlalchemy.org/): foundation layer that other tools rely on.\n",
    "* [pandas.io.sql](http://pandas.pydata.org/pandas-docs/stable/io.html#io-sql)\n",
    "* [Blaze](http://blaze.pydata.org/docs/latest/index.html)"
   ]
  },
  {
   "cell_type": "markdown",
   "metadata": {},
   "source": [
    "## Connecting"
   ]
  },
  {
   "cell_type": "markdown",
   "metadata": {},
   "source": [
    "The first step in working with an existing SQL database is to connect to it. This involves figuring out the appropriate connection string and passing it to `sqlalchemy.create_engine`. Here is the logic for our SQLite database:"
   ]
  },
  {
   "cell_type": "code",
   "execution_count": 2,
   "metadata": {
    "collapsed": true
   },
   "outputs": [],
   "source": [
    "from sqlalchemy import create_engine "
   ]
  },
  {
   "cell_type": "code",
   "execution_count": 3,
   "metadata": {
    "collapsed": false
   },
   "outputs": [
    {
     "name": "stdout",
     "output_type": "stream",
     "text": [
      "rm: cannot remove ‘titanic.db’: No such file or directory\r\n"
     ]
    }
   ],
   "source": [
    "!rm titanic.db"
   ]
  },
  {
   "cell_type": "code",
   "execution_count": 5,
   "metadata": {
    "collapsed": false
   },
   "outputs": [],
   "source": [
    "te = create_engine('sqlite:///titanic.db')\n",
    "# te = create_engine('sqlite:////data/titanic.db')"
   ]
  },
  {
   "cell_type": "markdown",
   "metadata": {},
   "source": [
    "Notice, this will use the file `titanic.db` in the current directory, which doesn't yet exist. SqlAlchemy will create it when needed. Here is the SqlAlchemy documentation for [engines and connection strings](http://docs.sqlalchemy.org/en/rel_0_9/core/engines.html)."
   ]
  },
  {
   "cell_type": "markdown",
   "metadata": {},
   "source": [
    "## `pandas.io.sql`"
   ]
  },
  {
   "cell_type": "markdown",
   "metadata": {},
   "source": [
    "Pandas has basic capabilties to reading, writing and querying SQL databases. These function are in the `pandas.io.sql` subpackage:"
   ]
  },
  {
   "cell_type": "code",
   "execution_count": 6,
   "metadata": {
    "collapsed": true
   },
   "outputs": [],
   "source": [
    "from pandas.io import sql"
   ]
  },
  {
   "cell_type": "code",
   "execution_count": 7,
   "metadata": {
    "collapsed": true
   },
   "outputs": [],
   "source": [
    "tdf = sns.load_dataset('titanic')"
   ]
  },
  {
   "cell_type": "code",
   "execution_count": 8,
   "metadata": {
    "collapsed": false
   },
   "outputs": [
    {
     "data": {
      "text/html": [
       "<div>\n",
       "<table border=\"1\" class=\"dataframe\">\n",
       "  <thead>\n",
       "    <tr style=\"text-align: right;\">\n",
       "      <th></th>\n",
       "      <th>survived</th>\n",
       "      <th>pclass</th>\n",
       "      <th>sex</th>\n",
       "      <th>age</th>\n",
       "      <th>sibsp</th>\n",
       "      <th>parch</th>\n",
       "      <th>fare</th>\n",
       "      <th>embarked</th>\n",
       "      <th>class</th>\n",
       "      <th>who</th>\n",
       "      <th>adult_male</th>\n",
       "      <th>deck</th>\n",
       "      <th>embark_town</th>\n",
       "      <th>alive</th>\n",
       "      <th>alone</th>\n",
       "    </tr>\n",
       "  </thead>\n",
       "  <tbody>\n",
       "    <tr>\n",
       "      <th>0</th>\n",
       "      <td>0</td>\n",
       "      <td>3</td>\n",
       "      <td>male</td>\n",
       "      <td>22</td>\n",
       "      <td>1</td>\n",
       "      <td>0</td>\n",
       "      <td>7.2500</td>\n",
       "      <td>S</td>\n",
       "      <td>Third</td>\n",
       "      <td>man</td>\n",
       "      <td>True</td>\n",
       "      <td>NaN</td>\n",
       "      <td>Southampton</td>\n",
       "      <td>no</td>\n",
       "      <td>False</td>\n",
       "    </tr>\n",
       "    <tr>\n",
       "      <th>1</th>\n",
       "      <td>1</td>\n",
       "      <td>1</td>\n",
       "      <td>female</td>\n",
       "      <td>38</td>\n",
       "      <td>1</td>\n",
       "      <td>0</td>\n",
       "      <td>71.2833</td>\n",
       "      <td>C</td>\n",
       "      <td>First</td>\n",
       "      <td>woman</td>\n",
       "      <td>False</td>\n",
       "      <td>C</td>\n",
       "      <td>Cherbourg</td>\n",
       "      <td>yes</td>\n",
       "      <td>False</td>\n",
       "    </tr>\n",
       "    <tr>\n",
       "      <th>2</th>\n",
       "      <td>1</td>\n",
       "      <td>3</td>\n",
       "      <td>female</td>\n",
       "      <td>26</td>\n",
       "      <td>0</td>\n",
       "      <td>0</td>\n",
       "      <td>7.9250</td>\n",
       "      <td>S</td>\n",
       "      <td>Third</td>\n",
       "      <td>woman</td>\n",
       "      <td>False</td>\n",
       "      <td>NaN</td>\n",
       "      <td>Southampton</td>\n",
       "      <td>yes</td>\n",
       "      <td>True</td>\n",
       "    </tr>\n",
       "    <tr>\n",
       "      <th>3</th>\n",
       "      <td>1</td>\n",
       "      <td>1</td>\n",
       "      <td>female</td>\n",
       "      <td>35</td>\n",
       "      <td>1</td>\n",
       "      <td>0</td>\n",
       "      <td>53.1000</td>\n",
       "      <td>S</td>\n",
       "      <td>First</td>\n",
       "      <td>woman</td>\n",
       "      <td>False</td>\n",
       "      <td>C</td>\n",
       "      <td>Southampton</td>\n",
       "      <td>yes</td>\n",
       "      <td>False</td>\n",
       "    </tr>\n",
       "    <tr>\n",
       "      <th>4</th>\n",
       "      <td>0</td>\n",
       "      <td>3</td>\n",
       "      <td>male</td>\n",
       "      <td>35</td>\n",
       "      <td>0</td>\n",
       "      <td>0</td>\n",
       "      <td>8.0500</td>\n",
       "      <td>S</td>\n",
       "      <td>Third</td>\n",
       "      <td>man</td>\n",
       "      <td>True</td>\n",
       "      <td>NaN</td>\n",
       "      <td>Southampton</td>\n",
       "      <td>no</td>\n",
       "      <td>True</td>\n",
       "    </tr>\n",
       "  </tbody>\n",
       "</table>\n",
       "</div>"
      ],
      "text/plain": [
       "   survived  pclass     sex  age  sibsp  parch     fare embarked  class  \\\n",
       "0         0       3    male   22      1      0   7.2500        S  Third   \n",
       "1         1       1  female   38      1      0  71.2833        C  First   \n",
       "2         1       3  female   26      0      0   7.9250        S  Third   \n",
       "3         1       1  female   35      1      0  53.1000        S  First   \n",
       "4         0       3    male   35      0      0   8.0500        S  Third   \n",
       "\n",
       "     who adult_male deck  embark_town alive  alone  \n",
       "0    man       True  NaN  Southampton    no  False  \n",
       "1  woman      False    C    Cherbourg   yes  False  \n",
       "2  woman      False  NaN  Southampton   yes   True  \n",
       "3  woman      False    C  Southampton   yes  False  \n",
       "4    man       True  NaN  Southampton    no   True  "
      ]
     },
     "execution_count": 8,
     "metadata": {},
     "output_type": "execute_result"
    }
   ],
   "source": [
    "tdf.head()"
   ]
  },
  {
   "cell_type": "markdown",
   "metadata": {},
   "source": [
    "You can write a table to a SQL database using the `to_sql` method, which takes the name of the table and an engine object:"
   ]
  },
  {
   "cell_type": "code",
   "execution_count": 9,
   "metadata": {
    "collapsed": false
   },
   "outputs": [],
   "source": [
    "tdf.to_sql('people', te)"
   ]
  },
  {
   "cell_type": "code",
   "execution_count": 10,
   "metadata": {
    "collapsed": false
   },
   "outputs": [
    {
     "name": "stdout",
     "output_type": "stream",
     "text": [
      "titanic.db\r\n"
     ]
    }
   ],
   "source": [
    "ls *.db"
   ]
  },
  {
   "cell_type": "markdown",
   "metadata": {},
   "source": [
    "Now that we have a populated database table, we can use Pandas to query the data set. The first thing we might want to do is read the entire table back into Python as a `DataFrame`. To emphasize that this is a new object, let's delete the original `DataFrame` we had."
   ]
  },
  {
   "cell_type": "code",
   "execution_count": 11,
   "metadata": {
    "collapsed": true
   },
   "outputs": [],
   "source": [
    "del tdf"
   ]
  },
  {
   "cell_type": "markdown",
   "metadata": {},
   "source": [
    "Then use the `read_sql_table` function with the table name and engine object to get the entire table:"
   ]
  },
  {
   "cell_type": "code",
   "execution_count": 12,
   "metadata": {
    "collapsed": true
   },
   "outputs": [],
   "source": [
    "new_tdf = sql.read_sql_table('people', te)"
   ]
  },
  {
   "cell_type": "code",
   "execution_count": 13,
   "metadata": {
    "collapsed": false
   },
   "outputs": [
    {
     "data": {
      "text/html": [
       "<div>\n",
       "<table border=\"1\" class=\"dataframe\">\n",
       "  <thead>\n",
       "    <tr style=\"text-align: right;\">\n",
       "      <th></th>\n",
       "      <th>index</th>\n",
       "      <th>survived</th>\n",
       "      <th>pclass</th>\n",
       "      <th>sex</th>\n",
       "      <th>age</th>\n",
       "      <th>sibsp</th>\n",
       "      <th>parch</th>\n",
       "      <th>fare</th>\n",
       "      <th>embarked</th>\n",
       "      <th>class</th>\n",
       "      <th>who</th>\n",
       "      <th>adult_male</th>\n",
       "      <th>deck</th>\n",
       "      <th>embark_town</th>\n",
       "      <th>alive</th>\n",
       "      <th>alone</th>\n",
       "    </tr>\n",
       "  </thead>\n",
       "  <tbody>\n",
       "    <tr>\n",
       "      <th>0</th>\n",
       "      <td>0</td>\n",
       "      <td>0</td>\n",
       "      <td>3</td>\n",
       "      <td>male</td>\n",
       "      <td>22</td>\n",
       "      <td>1</td>\n",
       "      <td>0</td>\n",
       "      <td>7.2500</td>\n",
       "      <td>S</td>\n",
       "      <td>Third</td>\n",
       "      <td>man</td>\n",
       "      <td>True</td>\n",
       "      <td>None</td>\n",
       "      <td>Southampton</td>\n",
       "      <td>no</td>\n",
       "      <td>False</td>\n",
       "    </tr>\n",
       "    <tr>\n",
       "      <th>1</th>\n",
       "      <td>1</td>\n",
       "      <td>1</td>\n",
       "      <td>1</td>\n",
       "      <td>female</td>\n",
       "      <td>38</td>\n",
       "      <td>1</td>\n",
       "      <td>0</td>\n",
       "      <td>71.2833</td>\n",
       "      <td>C</td>\n",
       "      <td>First</td>\n",
       "      <td>woman</td>\n",
       "      <td>False</td>\n",
       "      <td>C</td>\n",
       "      <td>Cherbourg</td>\n",
       "      <td>yes</td>\n",
       "      <td>False</td>\n",
       "    </tr>\n",
       "    <tr>\n",
       "      <th>2</th>\n",
       "      <td>2</td>\n",
       "      <td>1</td>\n",
       "      <td>3</td>\n",
       "      <td>female</td>\n",
       "      <td>26</td>\n",
       "      <td>0</td>\n",
       "      <td>0</td>\n",
       "      <td>7.9250</td>\n",
       "      <td>S</td>\n",
       "      <td>Third</td>\n",
       "      <td>woman</td>\n",
       "      <td>False</td>\n",
       "      <td>None</td>\n",
       "      <td>Southampton</td>\n",
       "      <td>yes</td>\n",
       "      <td>True</td>\n",
       "    </tr>\n",
       "    <tr>\n",
       "      <th>3</th>\n",
       "      <td>3</td>\n",
       "      <td>1</td>\n",
       "      <td>1</td>\n",
       "      <td>female</td>\n",
       "      <td>35</td>\n",
       "      <td>1</td>\n",
       "      <td>0</td>\n",
       "      <td>53.1000</td>\n",
       "      <td>S</td>\n",
       "      <td>First</td>\n",
       "      <td>woman</td>\n",
       "      <td>False</td>\n",
       "      <td>C</td>\n",
       "      <td>Southampton</td>\n",
       "      <td>yes</td>\n",
       "      <td>False</td>\n",
       "    </tr>\n",
       "    <tr>\n",
       "      <th>4</th>\n",
       "      <td>4</td>\n",
       "      <td>0</td>\n",
       "      <td>3</td>\n",
       "      <td>male</td>\n",
       "      <td>35</td>\n",
       "      <td>0</td>\n",
       "      <td>0</td>\n",
       "      <td>8.0500</td>\n",
       "      <td>S</td>\n",
       "      <td>Third</td>\n",
       "      <td>man</td>\n",
       "      <td>True</td>\n",
       "      <td>None</td>\n",
       "      <td>Southampton</td>\n",
       "      <td>no</td>\n",
       "      <td>True</td>\n",
       "    </tr>\n",
       "  </tbody>\n",
       "</table>\n",
       "</div>"
      ],
      "text/plain": [
       "   index  survived  pclass     sex  age  sibsp  parch     fare embarked  \\\n",
       "0      0         0       3    male   22      1      0   7.2500        S   \n",
       "1      1         1       1  female   38      1      0  71.2833        C   \n",
       "2      2         1       3  female   26      0      0   7.9250        S   \n",
       "3      3         1       1  female   35      1      0  53.1000        S   \n",
       "4      4         0       3    male   35      0      0   8.0500        S   \n",
       "\n",
       "   class    who adult_male  deck  embark_town alive  alone  \n",
       "0  Third    man       True  None  Southampton    no  False  \n",
       "1  First  woman      False     C    Cherbourg   yes  False  \n",
       "2  Third  woman      False  None  Southampton   yes   True  \n",
       "3  First  woman      False     C  Southampton   yes  False  \n",
       "4  Third    man       True  None  Southampton    no   True  "
      ]
     },
     "execution_count": 13,
     "metadata": {},
     "output_type": "execute_result"
    }
   ],
   "source": [
    "new_tdf.head()"
   ]
  },
  {
   "cell_type": "markdown",
   "metadata": {},
   "source": [
    "Warning: don't do this unless you know exactly how large the table is. Databases can contain tables that are many times larger than the available memory on your system."
   ]
  },
  {
   "cell_type": "markdown",
   "metadata": {},
   "source": [
    "The real power of SQL databases comes from being able to query them using the SQL language. This can be done in Pandas using the `read_sql_query` function. To use this function, we need to cover the basic syntax of the SQL language. Here is a [high-level overview](http://www.w3schools.com/sql/default.asp) of the SQL language."
   ]
  },
  {
   "cell_type": "markdown",
   "metadata": {},
   "source": [
    "### SELECT"
   ]
  },
  {
   "cell_type": "markdown",
   "metadata": {},
   "source": [
    "The `SELECT` statement is the most important part of the SQL language and is used to reads rows from a database table or tables. Here is an example that reads all (`*`) rows from the `people` table:"
   ]
  },
  {
   "cell_type": "code",
   "execution_count": 14,
   "metadata": {
    "collapsed": false
   },
   "outputs": [
    {
     "data": {
      "text/html": [
       "<div>\n",
       "<table border=\"1\" class=\"dataframe\">\n",
       "  <thead>\n",
       "    <tr style=\"text-align: right;\">\n",
       "      <th></th>\n",
       "      <th>index</th>\n",
       "      <th>survived</th>\n",
       "      <th>pclass</th>\n",
       "      <th>sex</th>\n",
       "      <th>age</th>\n",
       "      <th>sibsp</th>\n",
       "      <th>parch</th>\n",
       "      <th>fare</th>\n",
       "      <th>embarked</th>\n",
       "      <th>class</th>\n",
       "      <th>who</th>\n",
       "      <th>adult_male</th>\n",
       "      <th>deck</th>\n",
       "      <th>embark_town</th>\n",
       "      <th>alive</th>\n",
       "      <th>alone</th>\n",
       "    </tr>\n",
       "  </thead>\n",
       "  <tbody>\n",
       "    <tr>\n",
       "      <th>0</th>\n",
       "      <td>0</td>\n",
       "      <td>0</td>\n",
       "      <td>3</td>\n",
       "      <td>male</td>\n",
       "      <td>22</td>\n",
       "      <td>1</td>\n",
       "      <td>0</td>\n",
       "      <td>7.2500</td>\n",
       "      <td>S</td>\n",
       "      <td>Third</td>\n",
       "      <td>man</td>\n",
       "      <td>1</td>\n",
       "      <td>None</td>\n",
       "      <td>Southampton</td>\n",
       "      <td>no</td>\n",
       "      <td>0</td>\n",
       "    </tr>\n",
       "    <tr>\n",
       "      <th>1</th>\n",
       "      <td>1</td>\n",
       "      <td>1</td>\n",
       "      <td>1</td>\n",
       "      <td>female</td>\n",
       "      <td>38</td>\n",
       "      <td>1</td>\n",
       "      <td>0</td>\n",
       "      <td>71.2833</td>\n",
       "      <td>C</td>\n",
       "      <td>First</td>\n",
       "      <td>woman</td>\n",
       "      <td>0</td>\n",
       "      <td>C</td>\n",
       "      <td>Cherbourg</td>\n",
       "      <td>yes</td>\n",
       "      <td>0</td>\n",
       "    </tr>\n",
       "    <tr>\n",
       "      <th>2</th>\n",
       "      <td>2</td>\n",
       "      <td>1</td>\n",
       "      <td>3</td>\n",
       "      <td>female</td>\n",
       "      <td>26</td>\n",
       "      <td>0</td>\n",
       "      <td>0</td>\n",
       "      <td>7.9250</td>\n",
       "      <td>S</td>\n",
       "      <td>Third</td>\n",
       "      <td>woman</td>\n",
       "      <td>0</td>\n",
       "      <td>None</td>\n",
       "      <td>Southampton</td>\n",
       "      <td>yes</td>\n",
       "      <td>1</td>\n",
       "    </tr>\n",
       "    <tr>\n",
       "      <th>3</th>\n",
       "      <td>3</td>\n",
       "      <td>1</td>\n",
       "      <td>1</td>\n",
       "      <td>female</td>\n",
       "      <td>35</td>\n",
       "      <td>1</td>\n",
       "      <td>0</td>\n",
       "      <td>53.1000</td>\n",
       "      <td>S</td>\n",
       "      <td>First</td>\n",
       "      <td>woman</td>\n",
       "      <td>0</td>\n",
       "      <td>C</td>\n",
       "      <td>Southampton</td>\n",
       "      <td>yes</td>\n",
       "      <td>0</td>\n",
       "    </tr>\n",
       "    <tr>\n",
       "      <th>4</th>\n",
       "      <td>4</td>\n",
       "      <td>0</td>\n",
       "      <td>3</td>\n",
       "      <td>male</td>\n",
       "      <td>35</td>\n",
       "      <td>0</td>\n",
       "      <td>0</td>\n",
       "      <td>8.0500</td>\n",
       "      <td>S</td>\n",
       "      <td>Third</td>\n",
       "      <td>man</td>\n",
       "      <td>1</td>\n",
       "      <td>None</td>\n",
       "      <td>Southampton</td>\n",
       "      <td>no</td>\n",
       "      <td>1</td>\n",
       "    </tr>\n",
       "  </tbody>\n",
       "</table>\n",
       "</div>"
      ],
      "text/plain": [
       "   index  survived  pclass     sex  age  sibsp  parch     fare embarked  \\\n",
       "0      0         0       3    male   22      1      0   7.2500        S   \n",
       "1      1         1       1  female   38      1      0  71.2833        C   \n",
       "2      2         1       3  female   26      0      0   7.9250        S   \n",
       "3      3         1       1  female   35      1      0  53.1000        S   \n",
       "4      4         0       3    male   35      0      0   8.0500        S   \n",
       "\n",
       "   class    who  adult_male  deck  embark_town alive  alone  \n",
       "0  Third    man           1  None  Southampton    no      0  \n",
       "1  First  woman           0     C    Cherbourg   yes      0  \n",
       "2  Third  woman           0  None  Southampton   yes      1  \n",
       "3  First  woman           0     C  Southampton   yes      0  \n",
       "4  Third    man           1  None  Southampton    no      1  "
      ]
     },
     "execution_count": 14,
     "metadata": {},
     "output_type": "execute_result"
    }
   ],
   "source": [
    "sql.read_sql_query('SELECT * FROM people;', te).head()\n",
    "# select all (*) the columns from the people table"
   ]
  },
  {
   "cell_type": "markdown",
   "metadata": {},
   "source": [
    "You can read particular columns by name as follows:"
   ]
  },
  {
   "cell_type": "code",
   "execution_count": 16,
   "metadata": {
    "collapsed": false
   },
   "outputs": [
    {
     "data": {
      "text/html": [
       "<div>\n",
       "<table border=\"1\" class=\"dataframe\">\n",
       "  <thead>\n",
       "    <tr style=\"text-align: right;\">\n",
       "      <th></th>\n",
       "      <th>survived</th>\n",
       "      <th>sex</th>\n",
       "      <th>age</th>\n",
       "      <th>fare</th>\n",
       "    </tr>\n",
       "  </thead>\n",
       "  <tbody>\n",
       "    <tr>\n",
       "      <th>0</th>\n",
       "      <td>0</td>\n",
       "      <td>male</td>\n",
       "      <td>22</td>\n",
       "      <td>7.2500</td>\n",
       "    </tr>\n",
       "    <tr>\n",
       "      <th>1</th>\n",
       "      <td>1</td>\n",
       "      <td>female</td>\n",
       "      <td>38</td>\n",
       "      <td>71.2833</td>\n",
       "    </tr>\n",
       "    <tr>\n",
       "      <th>2</th>\n",
       "      <td>1</td>\n",
       "      <td>female</td>\n",
       "      <td>26</td>\n",
       "      <td>7.9250</td>\n",
       "    </tr>\n",
       "    <tr>\n",
       "      <th>3</th>\n",
       "      <td>1</td>\n",
       "      <td>female</td>\n",
       "      <td>35</td>\n",
       "      <td>53.1000</td>\n",
       "    </tr>\n",
       "    <tr>\n",
       "      <th>4</th>\n",
       "      <td>0</td>\n",
       "      <td>male</td>\n",
       "      <td>35</td>\n",
       "      <td>8.0500</td>\n",
       "    </tr>\n",
       "  </tbody>\n",
       "</table>\n",
       "</div>"
      ],
      "text/plain": [
       "   survived     sex  age     fare\n",
       "0         0    male   22   7.2500\n",
       "1         1  female   38  71.2833\n",
       "2         1  female   26   7.9250\n",
       "3         1  female   35  53.1000\n",
       "4         0    male   35   8.0500"
      ]
     },
     "execution_count": 16,
     "metadata": {},
     "output_type": "execute_result"
    }
   ],
   "source": [
    "sql.read_sql_query('SELECT survived, sex, age, fare FROM people;', te).head()\n",
    "# .head() doesn't limit"
   ]
  },
  {
   "cell_type": "markdown",
   "metadata": {},
   "source": [
    "### LIMIT"
   ]
  },
  {
   "cell_type": "markdown",
   "metadata": {},
   "source": [
    "You can use the `LIMIT` clause to limit the number of rows that are returned. This is much more efficient that reading all  rows and then using `.head()`."
   ]
  },
  {
   "cell_type": "code",
   "execution_count": 18,
   "metadata": {
    "collapsed": false
   },
   "outputs": [
    {
     "data": {
      "text/html": [
       "<div>\n",
       "<table border=\"1\" class=\"dataframe\">\n",
       "  <thead>\n",
       "    <tr style=\"text-align: right;\">\n",
       "      <th></th>\n",
       "      <th>survived</th>\n",
       "      <th>sex</th>\n",
       "      <th>age</th>\n",
       "      <th>fare</th>\n",
       "    </tr>\n",
       "  </thead>\n",
       "  <tbody>\n",
       "    <tr>\n",
       "      <th>0</th>\n",
       "      <td>0</td>\n",
       "      <td>male</td>\n",
       "      <td>22</td>\n",
       "      <td>7.2500</td>\n",
       "    </tr>\n",
       "    <tr>\n",
       "      <th>1</th>\n",
       "      <td>1</td>\n",
       "      <td>female</td>\n",
       "      <td>38</td>\n",
       "      <td>71.2833</td>\n",
       "    </tr>\n",
       "    <tr>\n",
       "      <th>2</th>\n",
       "      <td>1</td>\n",
       "      <td>female</td>\n",
       "      <td>26</td>\n",
       "      <td>7.9250</td>\n",
       "    </tr>\n",
       "    <tr>\n",
       "      <th>3</th>\n",
       "      <td>1</td>\n",
       "      <td>female</td>\n",
       "      <td>35</td>\n",
       "      <td>53.1000</td>\n",
       "    </tr>\n",
       "    <tr>\n",
       "      <th>4</th>\n",
       "      <td>0</td>\n",
       "      <td>male</td>\n",
       "      <td>35</td>\n",
       "      <td>8.0500</td>\n",
       "    </tr>\n",
       "    <tr>\n",
       "      <th>5</th>\n",
       "      <td>0</td>\n",
       "      <td>male</td>\n",
       "      <td>NaN</td>\n",
       "      <td>8.4583</td>\n",
       "    </tr>\n",
       "    <tr>\n",
       "      <th>6</th>\n",
       "      <td>0</td>\n",
       "      <td>male</td>\n",
       "      <td>54</td>\n",
       "      <td>51.8625</td>\n",
       "    </tr>\n",
       "    <tr>\n",
       "      <th>7</th>\n",
       "      <td>0</td>\n",
       "      <td>male</td>\n",
       "      <td>2</td>\n",
       "      <td>21.0750</td>\n",
       "    </tr>\n",
       "    <tr>\n",
       "      <th>8</th>\n",
       "      <td>1</td>\n",
       "      <td>female</td>\n",
       "      <td>27</td>\n",
       "      <td>11.1333</td>\n",
       "    </tr>\n",
       "    <tr>\n",
       "      <th>9</th>\n",
       "      <td>1</td>\n",
       "      <td>female</td>\n",
       "      <td>14</td>\n",
       "      <td>30.0708</td>\n",
       "    </tr>\n",
       "  </tbody>\n",
       "</table>\n",
       "</div>"
      ],
      "text/plain": [
       "   survived     sex  age     fare\n",
       "0         0    male   22   7.2500\n",
       "1         1  female   38  71.2833\n",
       "2         1  female   26   7.9250\n",
       "3         1  female   35  53.1000\n",
       "4         0    male   35   8.0500\n",
       "5         0    male  NaN   8.4583\n",
       "6         0    male   54  51.8625\n",
       "7         0    male    2  21.0750\n",
       "8         1  female   27  11.1333\n",
       "9         1  female   14  30.0708"
      ]
     },
     "execution_count": 18,
     "metadata": {},
     "output_type": "execute_result"
    }
   ],
   "source": [
    "sql.read_sql_query(\"\"\"\n",
    "SELECT survived, sex, age, fare\n",
    "  FROM people\n",
    " LIMIT 10;\n",
    "\"\"\", te)\n",
    "#preffered formatting, not case sensitive though"
   ]
  },
  {
   "cell_type": "markdown",
   "metadata": {},
   "source": [
    "### WHERE"
   ]
  },
  {
   "cell_type": "markdown",
   "metadata": {},
   "source": [
    "You can use the `WHERE` clause to pick a subset of rows that satisfy certain criteria or tests. Notice how the notation for these tests is sligthly different from Python and Pandas."
   ]
  },
  {
   "cell_type": "code",
   "execution_count": 20,
   "metadata": {
    "collapsed": false
   },
   "outputs": [
    {
     "data": {
      "text/html": [
       "<div>\n",
       "<table border=\"1\" class=\"dataframe\">\n",
       "  <thead>\n",
       "    <tr style=\"text-align: right;\">\n",
       "      <th></th>\n",
       "      <th>survived</th>\n",
       "      <th>sex</th>\n",
       "      <th>age</th>\n",
       "      <th>fare</th>\n",
       "    </tr>\n",
       "  </thead>\n",
       "  <tbody>\n",
       "    <tr>\n",
       "      <th>0</th>\n",
       "      <td>0</td>\n",
       "      <td>male</td>\n",
       "      <td>22</td>\n",
       "      <td>7.2500</td>\n",
       "    </tr>\n",
       "    <tr>\n",
       "      <th>1</th>\n",
       "      <td>0</td>\n",
       "      <td>male</td>\n",
       "      <td>35</td>\n",
       "      <td>8.0500</td>\n",
       "    </tr>\n",
       "    <tr>\n",
       "      <th>2</th>\n",
       "      <td>0</td>\n",
       "      <td>male</td>\n",
       "      <td>54</td>\n",
       "      <td>51.8625</td>\n",
       "    </tr>\n",
       "    <tr>\n",
       "      <th>3</th>\n",
       "      <td>0</td>\n",
       "      <td>male</td>\n",
       "      <td>39</td>\n",
       "      <td>31.2750</td>\n",
       "    </tr>\n",
       "    <tr>\n",
       "      <th>4</th>\n",
       "      <td>0</td>\n",
       "      <td>male</td>\n",
       "      <td>35</td>\n",
       "      <td>26.0000</td>\n",
       "    </tr>\n",
       "  </tbody>\n",
       "</table>\n",
       "</div>"
      ],
      "text/plain": [
       "   survived   sex  age     fare\n",
       "0         0  male   22   7.2500\n",
       "1         0  male   35   8.0500\n",
       "2         0  male   54  51.8625\n",
       "3         0  male   39  31.2750\n",
       "4         0  male   35  26.0000"
      ]
     },
     "execution_count": 20,
     "metadata": {},
     "output_type": "execute_result"
    }
   ],
   "source": [
    "sql.read_sql_query(\"\"\"\n",
    "SELECT survived, sex, age, fare\n",
    "  FROM people\n",
    " WHERE age>20 AND survived=0 and sex=\"male\";\n",
    "\"\"\", te).head()\n",
    "# notice boolean equals operator is a single '=', some may work with '=='"
   ]
  },
  {
   "cell_type": "markdown",
   "metadata": {},
   "source": [
    "### ORDER BY"
   ]
  },
  {
   "cell_type": "markdown",
   "metadata": {},
   "source": [
    "You can sort the resulting rows using the `ORDER BY` clause and the name of a column or columns"
   ]
  },
  {
   "cell_type": "code",
   "execution_count": 21,
   "metadata": {
    "collapsed": false
   },
   "outputs": [
    {
     "data": {
      "text/html": [
       "<div>\n",
       "<table border=\"1\" class=\"dataframe\">\n",
       "  <thead>\n",
       "    <tr style=\"text-align: right;\">\n",
       "      <th></th>\n",
       "      <th>survived</th>\n",
       "      <th>sex</th>\n",
       "      <th>age</th>\n",
       "      <th>fare</th>\n",
       "    </tr>\n",
       "  </thead>\n",
       "  <tbody>\n",
       "    <tr>\n",
       "      <th>0</th>\n",
       "      <td>0</td>\n",
       "      <td>male</td>\n",
       "      <td>36</td>\n",
       "      <td>0</td>\n",
       "    </tr>\n",
       "    <tr>\n",
       "      <th>1</th>\n",
       "      <td>0</td>\n",
       "      <td>male</td>\n",
       "      <td>40</td>\n",
       "      <td>0</td>\n",
       "    </tr>\n",
       "    <tr>\n",
       "      <th>2</th>\n",
       "      <td>0</td>\n",
       "      <td>male</td>\n",
       "      <td>49</td>\n",
       "      <td>0</td>\n",
       "    </tr>\n",
       "    <tr>\n",
       "      <th>3</th>\n",
       "      <td>0</td>\n",
       "      <td>male</td>\n",
       "      <td>39</td>\n",
       "      <td>0</td>\n",
       "    </tr>\n",
       "    <tr>\n",
       "      <th>4</th>\n",
       "      <td>0</td>\n",
       "      <td>male</td>\n",
       "      <td>38</td>\n",
       "      <td>0</td>\n",
       "    </tr>\n",
       "  </tbody>\n",
       "</table>\n",
       "</div>"
      ],
      "text/plain": [
       "   survived   sex  age  fare\n",
       "0         0  male   36     0\n",
       "1         0  male   40     0\n",
       "2         0  male   49     0\n",
       "3         0  male   39     0\n",
       "4         0  male   38     0"
      ]
     },
     "execution_count": 21,
     "metadata": {},
     "output_type": "execute_result"
    }
   ],
   "source": [
    "sql.read_sql_query(\"\"\"\n",
    "SELECT survived, sex, age, fare\n",
    "  FROM people\n",
    " WHERE age>20 AND survived=0 and sex=\"male\"\n",
    " ORDER BY fare;\n",
    "\"\"\", te).head()"
   ]
  },
  {
   "cell_type": "markdown",
   "metadata": {},
   "source": [
    "Add `DESC` to reverse the order of the sort to descending:"
   ]
  },
  {
   "cell_type": "code",
   "execution_count": 22,
   "metadata": {
    "collapsed": false
   },
   "outputs": [
    {
     "data": {
      "text/html": [
       "<div>\n",
       "<table border=\"1\" class=\"dataframe\">\n",
       "  <thead>\n",
       "    <tr style=\"text-align: right;\">\n",
       "      <th></th>\n",
       "      <th>survived</th>\n",
       "      <th>sex</th>\n",
       "      <th>age</th>\n",
       "      <th>fare</th>\n",
       "    </tr>\n",
       "  </thead>\n",
       "  <tbody>\n",
       "    <tr>\n",
       "      <th>0</th>\n",
       "      <td>0</td>\n",
       "      <td>male</td>\n",
       "      <td>49.0</td>\n",
       "      <td>0.0000</td>\n",
       "    </tr>\n",
       "    <tr>\n",
       "      <th>1</th>\n",
       "      <td>0</td>\n",
       "      <td>male</td>\n",
       "      <td>40.0</td>\n",
       "      <td>0.0000</td>\n",
       "    </tr>\n",
       "    <tr>\n",
       "      <th>2</th>\n",
       "      <td>0</td>\n",
       "      <td>male</td>\n",
       "      <td>39.0</td>\n",
       "      <td>0.0000</td>\n",
       "    </tr>\n",
       "    <tr>\n",
       "      <th>3</th>\n",
       "      <td>0</td>\n",
       "      <td>male</td>\n",
       "      <td>38.0</td>\n",
       "      <td>0.0000</td>\n",
       "    </tr>\n",
       "    <tr>\n",
       "      <th>4</th>\n",
       "      <td>0</td>\n",
       "      <td>male</td>\n",
       "      <td>36.0</td>\n",
       "      <td>0.0000</td>\n",
       "    </tr>\n",
       "    <tr>\n",
       "      <th>5</th>\n",
       "      <td>0</td>\n",
       "      <td>male</td>\n",
       "      <td>33.0</td>\n",
       "      <td>5.0000</td>\n",
       "    </tr>\n",
       "    <tr>\n",
       "      <th>6</th>\n",
       "      <td>0</td>\n",
       "      <td>male</td>\n",
       "      <td>61.0</td>\n",
       "      <td>6.2375</td>\n",
       "    </tr>\n",
       "    <tr>\n",
       "      <th>7</th>\n",
       "      <td>0</td>\n",
       "      <td>male</td>\n",
       "      <td>34.5</td>\n",
       "      <td>6.4375</td>\n",
       "    </tr>\n",
       "    <tr>\n",
       "      <th>8</th>\n",
       "      <td>0</td>\n",
       "      <td>male</td>\n",
       "      <td>43.0</td>\n",
       "      <td>6.4500</td>\n",
       "    </tr>\n",
       "    <tr>\n",
       "      <th>9</th>\n",
       "      <td>0</td>\n",
       "      <td>male</td>\n",
       "      <td>34.0</td>\n",
       "      <td>6.4958</td>\n",
       "    </tr>\n",
       "  </tbody>\n",
       "</table>\n",
       "</div>"
      ],
      "text/plain": [
       "   survived   sex   age    fare\n",
       "0         0  male  49.0  0.0000\n",
       "1         0  male  40.0  0.0000\n",
       "2         0  male  39.0  0.0000\n",
       "3         0  male  38.0  0.0000\n",
       "4         0  male  36.0  0.0000\n",
       "5         0  male  33.0  5.0000\n",
       "6         0  male  61.0  6.2375\n",
       "7         0  male  34.5  6.4375\n",
       "8         0  male  43.0  6.4500\n",
       "9         0  male  34.0  6.4958"
      ]
     },
     "execution_count": 22,
     "metadata": {},
     "output_type": "execute_result"
    }
   ],
   "source": [
    "sql.read_sql_query(\"\"\"\n",
    "SELECT survived, sex, age, fare\n",
    "  FROM people\n",
    " WHERE age>20 AND survived=0 and sex=\"male\"\n",
    " ORDER BY fare, age DESC;\n",
    "\"\"\", te).head(10)"
   ]
  },
  {
   "cell_type": "markdown",
   "metadata": {},
   "source": [
    "### SQL functions"
   ]
  },
  {
   "cell_type": "markdown",
   "metadata": {},
   "source": [
    "SQL offers a host of functions that can applied to columns of data:\n",
    "\n",
    "* `AVG()`\n",
    "* `COUNT()`\n",
    "* `MIN()`\n",
    "* `MAX()`\n",
    "* `SUM()`\n",
    "\n",
    "Here we compute the number of males and the average fare they paid:"
   ]
  },
  {
   "cell_type": "code",
   "execution_count": 23,
   "metadata": {
    "collapsed": false
   },
   "outputs": [
    {
     "data": {
      "text/html": [
       "<div>\n",
       "<table border=\"1\" class=\"dataframe\">\n",
       "  <thead>\n",
       "    <tr style=\"text-align: right;\">\n",
       "      <th></th>\n",
       "      <th>AVG(fare)</th>\n",
       "      <th>COUNT(sex)</th>\n",
       "    </tr>\n",
       "  </thead>\n",
       "  <tbody>\n",
       "    <tr>\n",
       "      <th>0</th>\n",
       "      <td>25.523893</td>\n",
       "      <td>577</td>\n",
       "    </tr>\n",
       "  </tbody>\n",
       "</table>\n",
       "</div>"
      ],
      "text/plain": [
       "   AVG(fare)  COUNT(sex)\n",
       "0  25.523893         577"
      ]
     },
     "execution_count": 23,
     "metadata": {},
     "output_type": "execute_result"
    }
   ],
   "source": [
    "sql.read_sql_query(\"\"\"\n",
    "SELECT AVG(fare), COUNT(sex)\n",
    "  FROM people\n",
    " WHERE sex=\"male\";\n",
    "\"\"\", te)"
   ]
  },
  {
   "cell_type": "code",
   "execution_count": 24,
   "metadata": {
    "collapsed": false
   },
   "outputs": [
    {
     "data": {
      "text/html": [
       "<div>\n",
       "<table border=\"1\" class=\"dataframe\">\n",
       "  <thead>\n",
       "    <tr style=\"text-align: right;\">\n",
       "      <th></th>\n",
       "      <th>AVG(fare)</th>\n",
       "      <th>COUNT(sex)</th>\n",
       "    </tr>\n",
       "  </thead>\n",
       "  <tbody>\n",
       "    <tr>\n",
       "      <th>0</th>\n",
       "      <td>25.523893</td>\n",
       "      <td>577</td>\n",
       "    </tr>\n",
       "  </tbody>\n",
       "</table>\n",
       "</div>"
      ],
      "text/plain": [
       "   AVG(fare)  COUNT(sex)\n",
       "0  25.523893         577"
      ]
     },
     "execution_count": 24,
     "metadata": {},
     "output_type": "execute_result"
    }
   ],
   "source": [
    "filtered = new_tdf[new_tdf.sex=='male']\n",
    "pd.DataFrame({'COUNT(sex)': [filtered.sex.count()], 'AVG(fare)': [filtered.fare.mean()]})"
   ]
  },
  {
   "cell_type": "markdown",
   "metadata": {},
   "source": [
    "### GROUP BY"
   ]
  },
  {
   "cell_type": "markdown",
   "metadata": {},
   "source": [
    "The `GROUP BY` clause allows you to perform split-apply-combine to a table to perform a wide range of transformations and aggregations. This works almost identically to the `groupby` method in Pandas. Here we using `GROUP BY` to compute averarge fares by gender:"
   ]
  },
  {
   "cell_type": "code",
   "execution_count": 31,
   "metadata": {
    "collapsed": false
   },
   "outputs": [
    {
     "data": {
      "text/html": [
       "<div>\n",
       "<table border=\"1\" class=\"dataframe\">\n",
       "  <thead>\n",
       "    <tr style=\"text-align: right;\">\n",
       "      <th></th>\n",
       "      <th>AVG(fare)</th>\n",
       "    </tr>\n",
       "    <tr>\n",
       "      <th>sex</th>\n",
       "      <th></th>\n",
       "    </tr>\n",
       "  </thead>\n",
       "  <tbody>\n",
       "    <tr>\n",
       "      <th>female</th>\n",
       "      <td>44.479818</td>\n",
       "    </tr>\n",
       "    <tr>\n",
       "      <th>male</th>\n",
       "      <td>25.523893</td>\n",
       "    </tr>\n",
       "  </tbody>\n",
       "</table>\n",
       "</div>"
      ],
      "text/plain": [
       "        AVG(fare)\n",
       "sex              \n",
       "female  44.479818\n",
       "male    25.523893"
      ]
     },
     "execution_count": 31,
     "metadata": {},
     "output_type": "execute_result"
    }
   ],
   "source": [
    "sql.read_sql_query(\"\"\"\n",
    "SELECT sex, AVG(fare)\n",
    "  FROM people\n",
    " GROUP BY sex\n",
    "\"\"\", te).set_index(['sex'])"
   ]
  },
  {
   "cell_type": "markdown",
   "metadata": {},
   "source": [
    "Here is the same computation on a Pandas `DataFrame`:"
   ]
  },
  {
   "cell_type": "code",
   "execution_count": 32,
   "metadata": {
    "collapsed": false
   },
   "outputs": [
    {
     "data": {
      "text/plain": [
       "sex\n",
       "female    44.479818\n",
       "male      25.523893\n",
       "Name: fare, dtype: float64"
      ]
     },
     "execution_count": 32,
     "metadata": {},
     "output_type": "execute_result"
    }
   ],
   "source": [
    "new_tdf.groupby('sex')['fare'].mean()"
   ]
  },
  {
   "cell_type": "markdown",
   "metadata": {},
   "source": [
    "## Database introspection"
   ]
  },
  {
   "cell_type": "markdown",
   "metadata": {},
   "source": [
    "One of the most important things to do when you start exploring a new database is to survey what tables the database has and what columns those tables have. This is simple with `sqlalchemy.inspect` and Pandas.\n",
    "\n",
    "For this part, we will use the [Chinook Database](https://chinookdatabase.codeplex.com/) of music:"
   ]
  },
  {
   "cell_type": "code",
   "execution_count": 33,
   "metadata": {
    "collapsed": true
   },
   "outputs": [],
   "source": [
    "ce = create_engine('sqlite:///data/Chinook_Sqlite.sqlite')"
   ]
  },
  {
   "cell_type": "markdown",
   "metadata": {},
   "source": [
    "Create an inspector for that database:"
   ]
  },
  {
   "cell_type": "code",
   "execution_count": 34,
   "metadata": {
    "collapsed": true
   },
   "outputs": [],
   "source": [
    "from sqlalchemy import inspect\n",
    "inspector = inspect(ce)"
   ]
  },
  {
   "cell_type": "markdown",
   "metadata": {},
   "source": [
    "Get the column names from the database:"
   ]
  },
  {
   "cell_type": "code",
   "execution_count": 35,
   "metadata": {
    "collapsed": false
   },
   "outputs": [
    {
     "data": {
      "text/plain": [
       "['Album',\n",
       " 'Artist',\n",
       " 'Customer',\n",
       " 'Employee',\n",
       " 'Genre',\n",
       " 'Invoice',\n",
       " 'InvoiceLine',\n",
       " 'MediaType',\n",
       " 'Playlist',\n",
       " 'PlaylistTrack',\n",
       " 'Track']"
      ]
     },
     "execution_count": 35,
     "metadata": {},
     "output_type": "execute_result"
    }
   ],
   "source": [
    "inspector.get_table_names()"
   ]
  },
  {
   "cell_type": "markdown",
   "metadata": {},
   "source": [
    "Get the columns from a particular table:"
   ]
  },
  {
   "cell_type": "code",
   "execution_count": 36,
   "metadata": {
    "collapsed": false
   },
   "outputs": [
    {
     "data": {
      "text/plain": [
       "[{'autoincrement': True,\n",
       "  'default': None,\n",
       "  'name': 'ArtistId',\n",
       "  'nullable': False,\n",
       "  'primary_key': 1,\n",
       "  'type': INTEGER()},\n",
       " {'autoincrement': True,\n",
       "  'default': None,\n",
       "  'name': 'Name',\n",
       "  'nullable': True,\n",
       "  'primary_key': 0,\n",
       "  'type': NVARCHAR(length=120)}]"
      ]
     },
     "execution_count": 36,
     "metadata": {},
     "output_type": "execute_result"
    }
   ],
   "source": [
    "inspector.get_columns('Artist')"
   ]
  },
  {
   "cell_type": "markdown",
   "metadata": {},
   "source": [
    "Here is a simple function for retrieving the the columns names and types as a `DataFrame`:"
   ]
  },
  {
   "cell_type": "code",
   "execution_count": 37,
   "metadata": {
    "collapsed": false
   },
   "outputs": [],
   "source": [
    "def table_info(table_name, i):\n",
    "    \"\"\"Shwo the column names and types as a Pandas DataFrame.\"\"\"\n",
    "    return pd.DataFrame(i.get_columns(table_name))[['name','type']]"
   ]
  },
  {
   "cell_type": "markdown",
   "metadata": {},
   "source": [
    "The `Album` table:"
   ]
  },
  {
   "cell_type": "code",
   "execution_count": 38,
   "metadata": {
    "collapsed": false
   },
   "outputs": [
    {
     "data": {
      "text/html": [
       "<div>\n",
       "<table border=\"1\" class=\"dataframe\">\n",
       "  <thead>\n",
       "    <tr style=\"text-align: right;\">\n",
       "      <th></th>\n",
       "      <th>name</th>\n",
       "      <th>type</th>\n",
       "    </tr>\n",
       "  </thead>\n",
       "  <tbody>\n",
       "    <tr>\n",
       "      <th>0</th>\n",
       "      <td>AlbumId</td>\n",
       "      <td>INTEGER</td>\n",
       "    </tr>\n",
       "    <tr>\n",
       "      <th>1</th>\n",
       "      <td>Title</td>\n",
       "      <td>NVARCHAR(160)</td>\n",
       "    </tr>\n",
       "    <tr>\n",
       "      <th>2</th>\n",
       "      <td>ArtistId</td>\n",
       "      <td>INTEGER</td>\n",
       "    </tr>\n",
       "  </tbody>\n",
       "</table>\n",
       "</div>"
      ],
      "text/plain": [
       "       name           type\n",
       "0   AlbumId        INTEGER\n",
       "1     Title  NVARCHAR(160)\n",
       "2  ArtistId        INTEGER"
      ]
     },
     "execution_count": 38,
     "metadata": {},
     "output_type": "execute_result"
    }
   ],
   "source": [
    "table_info('Album', inspector)"
   ]
  },
  {
   "cell_type": "markdown",
   "metadata": {},
   "source": [
    "The `Artist` table:"
   ]
  },
  {
   "cell_type": "code",
   "execution_count": 39,
   "metadata": {
    "collapsed": false
   },
   "outputs": [
    {
     "data": {
      "text/html": [
       "<div>\n",
       "<table border=\"1\" class=\"dataframe\">\n",
       "  <thead>\n",
       "    <tr style=\"text-align: right;\">\n",
       "      <th></th>\n",
       "      <th>name</th>\n",
       "      <th>type</th>\n",
       "    </tr>\n",
       "  </thead>\n",
       "  <tbody>\n",
       "    <tr>\n",
       "      <th>0</th>\n",
       "      <td>ArtistId</td>\n",
       "      <td>INTEGER</td>\n",
       "    </tr>\n",
       "    <tr>\n",
       "      <th>1</th>\n",
       "      <td>Name</td>\n",
       "      <td>NVARCHAR(120)</td>\n",
       "    </tr>\n",
       "  </tbody>\n",
       "</table>\n",
       "</div>"
      ],
      "text/plain": [
       "       name           type\n",
       "0  ArtistId        INTEGER\n",
       "1      Name  NVARCHAR(120)"
      ]
     },
     "execution_count": 39,
     "metadata": {},
     "output_type": "execute_result"
    }
   ],
   "source": [
    "table_info('Artist', inspector)"
   ]
  },
  {
   "cell_type": "markdown",
   "metadata": {},
   "source": [
    "## Joining tables"
   ]
  },
  {
   "cell_type": "markdown",
   "metadata": {},
   "source": [
    "Notice how both the `Artist` and `Album` table have an `ArtistId` column. Let's perform a join on those two tables. Similar to Pandas, SQL support 4 types of joins (INNER, LEFT, RIGHT, FULL). Notice how we are using AS to rename columns in the final result."
   ]
  },
  {
   "cell_type": "code",
   "execution_count": 40,
   "metadata": {
    "collapsed": false
   },
   "outputs": [
    {
     "data": {
      "text/html": [
       "<div>\n",
       "<table border=\"1\" class=\"dataframe\">\n",
       "  <thead>\n",
       "    <tr style=\"text-align: right;\">\n",
       "      <th></th>\n",
       "      <th>AlbumTitle</th>\n",
       "      <th>Artist</th>\n",
       "    </tr>\n",
       "  </thead>\n",
       "  <tbody>\n",
       "    <tr>\n",
       "      <th>0</th>\n",
       "      <td>For Those About To Rock We Salute You</td>\n",
       "      <td>AC/DC</td>\n",
       "    </tr>\n",
       "    <tr>\n",
       "      <th>1</th>\n",
       "      <td>Let There Be Rock</td>\n",
       "      <td>AC/DC</td>\n",
       "    </tr>\n",
       "    <tr>\n",
       "      <th>2</th>\n",
       "      <td>A Copland Celebration, Vol. I</td>\n",
       "      <td>Aaron Copland &amp; London Symphony Orchestra</td>\n",
       "    </tr>\n",
       "    <tr>\n",
       "      <th>3</th>\n",
       "      <td>Worlds</td>\n",
       "      <td>Aaron Goldberg</td>\n",
       "    </tr>\n",
       "    <tr>\n",
       "      <th>4</th>\n",
       "      <td>The World of Classical Favourites</td>\n",
       "      <td>Academy of St. Martin in the Fields &amp; Sir Nevi...</td>\n",
       "    </tr>\n",
       "    <tr>\n",
       "      <th>5</th>\n",
       "      <td>Sir Neville Marriner: A Celebration</td>\n",
       "      <td>Academy of St. Martin in the Fields Chamber En...</td>\n",
       "    </tr>\n",
       "    <tr>\n",
       "      <th>6</th>\n",
       "      <td>Fauré: Requiem, Ravel: Pavane &amp; Others</td>\n",
       "      <td>Academy of St. Martin in the Fields, John Birc...</td>\n",
       "    </tr>\n",
       "    <tr>\n",
       "      <th>7</th>\n",
       "      <td>Bach: Orchestral Suites Nos. 1 - 4</td>\n",
       "      <td>Academy of St. Martin in the Fields, Sir Nevil...</td>\n",
       "    </tr>\n",
       "    <tr>\n",
       "      <th>8</th>\n",
       "      <td>Balls to the Wall</td>\n",
       "      <td>Accept</td>\n",
       "    </tr>\n",
       "    <tr>\n",
       "      <th>9</th>\n",
       "      <td>Restless and Wild</td>\n",
       "      <td>Accept</td>\n",
       "    </tr>\n",
       "    <tr>\n",
       "      <th>10</th>\n",
       "      <td>Górecki: Symphony No. 3</td>\n",
       "      <td>Adrian Leaper &amp; Doreen de Feis</td>\n",
       "    </tr>\n",
       "    <tr>\n",
       "      <th>11</th>\n",
       "      <td>Big Ones</td>\n",
       "      <td>Aerosmith</td>\n",
       "    </tr>\n",
       "    <tr>\n",
       "      <th>12</th>\n",
       "      <td>Quiet Songs</td>\n",
       "      <td>Aisha Duo</td>\n",
       "    </tr>\n",
       "    <tr>\n",
       "      <th>13</th>\n",
       "      <td>Jagged Little Pill</td>\n",
       "      <td>Alanis Morissette</td>\n",
       "    </tr>\n",
       "    <tr>\n",
       "      <th>14</th>\n",
       "      <td>Adorate Deum: Gregorian Chant from the Proper ...</td>\n",
       "      <td>Alberto Turco &amp; Nova Schola Gregoriana</td>\n",
       "    </tr>\n",
       "    <tr>\n",
       "      <th>15</th>\n",
       "      <td>Facelift</td>\n",
       "      <td>Alice In Chains</td>\n",
       "    </tr>\n",
       "    <tr>\n",
       "      <th>16</th>\n",
       "      <td>Back to Black</td>\n",
       "      <td>Amy Winehouse</td>\n",
       "    </tr>\n",
       "    <tr>\n",
       "      <th>17</th>\n",
       "      <td>Frank</td>\n",
       "      <td>Amy Winehouse</td>\n",
       "    </tr>\n",
       "    <tr>\n",
       "      <th>18</th>\n",
       "      <td>Vivaldi: The Four Seasons</td>\n",
       "      <td>Anne-Sophie Mutter, Herbert Von Karajan &amp; Wien...</td>\n",
       "    </tr>\n",
       "    <tr>\n",
       "      <th>19</th>\n",
       "      <td>Tchaikovsky: 1812 Festival Overture, Op.49, Ca...</td>\n",
       "      <td>Antal Doráti &amp; London Symphony Orchestra</td>\n",
       "    </tr>\n",
       "    <tr>\n",
       "      <th>20</th>\n",
       "      <td>Warner 25 Anos</td>\n",
       "      <td>Antônio Carlos Jobim</td>\n",
       "    </tr>\n",
       "    <tr>\n",
       "      <th>21</th>\n",
       "      <td>Chill: Brazil (Disc 2)</td>\n",
       "      <td>Antônio Carlos Jobim</td>\n",
       "    </tr>\n",
       "    <tr>\n",
       "      <th>22</th>\n",
       "      <td>Plays Metallica By Four Cellos</td>\n",
       "      <td>Apocalyptica</td>\n",
       "    </tr>\n",
       "    <tr>\n",
       "      <th>23</th>\n",
       "      <td>Aquaman</td>\n",
       "      <td>Aquaman</td>\n",
       "    </tr>\n",
       "    <tr>\n",
       "      <th>24</th>\n",
       "      <td>Audioslave</td>\n",
       "      <td>Audioslave</td>\n",
       "    </tr>\n",
       "    <tr>\n",
       "      <th>25</th>\n",
       "      <td>Out Of Exile</td>\n",
       "      <td>Audioslave</td>\n",
       "    </tr>\n",
       "    <tr>\n",
       "      <th>26</th>\n",
       "      <td>Revelations</td>\n",
       "      <td>Audioslave</td>\n",
       "    </tr>\n",
       "    <tr>\n",
       "      <th>27</th>\n",
       "      <td>BackBeat Soundtrack</td>\n",
       "      <td>BackBeat</td>\n",
       "    </tr>\n",
       "    <tr>\n",
       "      <th>28</th>\n",
       "      <td>The Last Night of the Proms</td>\n",
       "      <td>Barry Wordsworth &amp; BBC Concert Orchestra</td>\n",
       "    </tr>\n",
       "    <tr>\n",
       "      <th>29</th>\n",
       "      <td>Battlestar Galactica: The Story So Far</td>\n",
       "      <td>Battlestar Galactica</td>\n",
       "    </tr>\n",
       "    <tr>\n",
       "      <th>...</th>\n",
       "      <td>...</td>\n",
       "      <td>...</td>\n",
       "    </tr>\n",
       "    <tr>\n",
       "      <th>317</th>\n",
       "      <td>Serie Sem Limite (Disc 2)</td>\n",
       "      <td>Tim Maia</td>\n",
       "    </tr>\n",
       "    <tr>\n",
       "      <th>318</th>\n",
       "      <td>Acústico</td>\n",
       "      <td>Titãs</td>\n",
       "    </tr>\n",
       "    <tr>\n",
       "      <th>319</th>\n",
       "      <td>Volume Dois</td>\n",
       "      <td>Titãs</td>\n",
       "    </tr>\n",
       "    <tr>\n",
       "      <th>320</th>\n",
       "      <td>Bach: Toccata &amp; Fugue in D Minor</td>\n",
       "      <td>Ton Koopman</td>\n",
       "    </tr>\n",
       "    <tr>\n",
       "      <th>321</th>\n",
       "      <td>Vinícius De Moraes - Sem Limite</td>\n",
       "      <td>Toquinho &amp; Vinícius</td>\n",
       "    </tr>\n",
       "    <tr>\n",
       "      <th>322</th>\n",
       "      <td>Achtung Baby</td>\n",
       "      <td>U2</td>\n",
       "    </tr>\n",
       "    <tr>\n",
       "      <th>323</th>\n",
       "      <td>All That You Can't Leave Behind</td>\n",
       "      <td>U2</td>\n",
       "    </tr>\n",
       "    <tr>\n",
       "      <th>324</th>\n",
       "      <td>B-Sides 1980-1990</td>\n",
       "      <td>U2</td>\n",
       "    </tr>\n",
       "    <tr>\n",
       "      <th>325</th>\n",
       "      <td>How To Dismantle An Atomic Bomb</td>\n",
       "      <td>U2</td>\n",
       "    </tr>\n",
       "    <tr>\n",
       "      <th>326</th>\n",
       "      <td>Pop</td>\n",
       "      <td>U2</td>\n",
       "    </tr>\n",
       "    <tr>\n",
       "      <th>327</th>\n",
       "      <td>Rattle And Hum</td>\n",
       "      <td>U2</td>\n",
       "    </tr>\n",
       "    <tr>\n",
       "      <th>328</th>\n",
       "      <td>The Best Of 1980-1990</td>\n",
       "      <td>U2</td>\n",
       "    </tr>\n",
       "    <tr>\n",
       "      <th>329</th>\n",
       "      <td>War</td>\n",
       "      <td>U2</td>\n",
       "    </tr>\n",
       "    <tr>\n",
       "      <th>330</th>\n",
       "      <td>Zooropa</td>\n",
       "      <td>U2</td>\n",
       "    </tr>\n",
       "    <tr>\n",
       "      <th>331</th>\n",
       "      <td>Instant Karma: The Amnesty International Campa...</td>\n",
       "      <td>U2</td>\n",
       "    </tr>\n",
       "    <tr>\n",
       "      <th>332</th>\n",
       "      <td>UB40 The Best Of - Volume Two [UK]</td>\n",
       "      <td>UB40</td>\n",
       "    </tr>\n",
       "    <tr>\n",
       "      <th>333</th>\n",
       "      <td>Diver Down</td>\n",
       "      <td>Van Halen</td>\n",
       "    </tr>\n",
       "    <tr>\n",
       "      <th>334</th>\n",
       "      <td>The Best Of Van Halen, Vol. I</td>\n",
       "      <td>Van Halen</td>\n",
       "    </tr>\n",
       "    <tr>\n",
       "      <th>335</th>\n",
       "      <td>Van Halen</td>\n",
       "      <td>Van Halen</td>\n",
       "    </tr>\n",
       "    <tr>\n",
       "      <th>336</th>\n",
       "      <td>Van Halen III</td>\n",
       "      <td>Van Halen</td>\n",
       "    </tr>\n",
       "    <tr>\n",
       "      <th>337</th>\n",
       "      <td>Axé Bahia 2001</td>\n",
       "      <td>Various Artists</td>\n",
       "    </tr>\n",
       "    <tr>\n",
       "      <th>338</th>\n",
       "      <td>Carnaval 2001</td>\n",
       "      <td>Various Artists</td>\n",
       "    </tr>\n",
       "    <tr>\n",
       "      <th>339</th>\n",
       "      <td>Sambas De Enredo 2001</td>\n",
       "      <td>Various Artists</td>\n",
       "    </tr>\n",
       "    <tr>\n",
       "      <th>340</th>\n",
       "      <td>Vozes do MPB</td>\n",
       "      <td>Various Artists</td>\n",
       "    </tr>\n",
       "    <tr>\n",
       "      <th>341</th>\n",
       "      <td>Contraband</td>\n",
       "      <td>Velvet Revolver</td>\n",
       "    </tr>\n",
       "    <tr>\n",
       "      <th>342</th>\n",
       "      <td>Vinicius De Moraes</td>\n",
       "      <td>Vinícius De Moraes</td>\n",
       "    </tr>\n",
       "    <tr>\n",
       "      <th>343</th>\n",
       "      <td>Bach: Goldberg Variations</td>\n",
       "      <td>Wilhelm Kempff</td>\n",
       "    </tr>\n",
       "    <tr>\n",
       "      <th>344</th>\n",
       "      <td>Bartok: Violin &amp; Viola Concertos</td>\n",
       "      <td>Yehudi Menuhin</td>\n",
       "    </tr>\n",
       "    <tr>\n",
       "      <th>345</th>\n",
       "      <td>Bach: The Cello Suites</td>\n",
       "      <td>Yo-Yo Ma</td>\n",
       "    </tr>\n",
       "    <tr>\n",
       "      <th>346</th>\n",
       "      <td>Ao Vivo [IMPORT]</td>\n",
       "      <td>Zeca Pagodinho</td>\n",
       "    </tr>\n",
       "  </tbody>\n",
       "</table>\n",
       "<p>347 rows × 2 columns</p>\n",
       "</div>"
      ],
      "text/plain": [
       "                                            AlbumTitle  \\\n",
       "0                For Those About To Rock We Salute You   \n",
       "1                                    Let There Be Rock   \n",
       "2                        A Copland Celebration, Vol. I   \n",
       "3                                               Worlds   \n",
       "4                    The World of Classical Favourites   \n",
       "5                  Sir Neville Marriner: A Celebration   \n",
       "6               Fauré: Requiem, Ravel: Pavane & Others   \n",
       "7                   Bach: Orchestral Suites Nos. 1 - 4   \n",
       "8                                    Balls to the Wall   \n",
       "9                                    Restless and Wild   \n",
       "10                             Górecki: Symphony No. 3   \n",
       "11                                            Big Ones   \n",
       "12                                         Quiet Songs   \n",
       "13                                  Jagged Little Pill   \n",
       "14   Adorate Deum: Gregorian Chant from the Proper ...   \n",
       "15                                            Facelift   \n",
       "16                                       Back to Black   \n",
       "17                                               Frank   \n",
       "18                           Vivaldi: The Four Seasons   \n",
       "19   Tchaikovsky: 1812 Festival Overture, Op.49, Ca...   \n",
       "20                                      Warner 25 Anos   \n",
       "21                              Chill: Brazil (Disc 2)   \n",
       "22                      Plays Metallica By Four Cellos   \n",
       "23                                             Aquaman   \n",
       "24                                          Audioslave   \n",
       "25                                        Out Of Exile   \n",
       "26                                         Revelations   \n",
       "27                                 BackBeat Soundtrack   \n",
       "28                         The Last Night of the Proms   \n",
       "29              Battlestar Galactica: The Story So Far   \n",
       "..                                                 ...   \n",
       "317                          Serie Sem Limite (Disc 2)   \n",
       "318                                           Acústico   \n",
       "319                                        Volume Dois   \n",
       "320                   Bach: Toccata & Fugue in D Minor   \n",
       "321                    Vinícius De Moraes - Sem Limite   \n",
       "322                                       Achtung Baby   \n",
       "323                    All That You Can't Leave Behind   \n",
       "324                                  B-Sides 1980-1990   \n",
       "325                    How To Dismantle An Atomic Bomb   \n",
       "326                                                Pop   \n",
       "327                                     Rattle And Hum   \n",
       "328                              The Best Of 1980-1990   \n",
       "329                                                War   \n",
       "330                                            Zooropa   \n",
       "331  Instant Karma: The Amnesty International Campa...   \n",
       "332                 UB40 The Best Of - Volume Two [UK]   \n",
       "333                                         Diver Down   \n",
       "334                      The Best Of Van Halen, Vol. I   \n",
       "335                                          Van Halen   \n",
       "336                                      Van Halen III   \n",
       "337                                     Axé Bahia 2001   \n",
       "338                                      Carnaval 2001   \n",
       "339                              Sambas De Enredo 2001   \n",
       "340                                       Vozes do MPB   \n",
       "341                                         Contraband   \n",
       "342                                 Vinicius De Moraes   \n",
       "343                          Bach: Goldberg Variations   \n",
       "344                   Bartok: Violin & Viola Concertos   \n",
       "345                             Bach: The Cello Suites   \n",
       "346                                   Ao Vivo [IMPORT]   \n",
       "\n",
       "                                                Artist  \n",
       "0                                                AC/DC  \n",
       "1                                                AC/DC  \n",
       "2            Aaron Copland & London Symphony Orchestra  \n",
       "3                                       Aaron Goldberg  \n",
       "4    Academy of St. Martin in the Fields & Sir Nevi...  \n",
       "5    Academy of St. Martin in the Fields Chamber En...  \n",
       "6    Academy of St. Martin in the Fields, John Birc...  \n",
       "7    Academy of St. Martin in the Fields, Sir Nevil...  \n",
       "8                                               Accept  \n",
       "9                                               Accept  \n",
       "10                      Adrian Leaper & Doreen de Feis  \n",
       "11                                           Aerosmith  \n",
       "12                                           Aisha Duo  \n",
       "13                                   Alanis Morissette  \n",
       "14              Alberto Turco & Nova Schola Gregoriana  \n",
       "15                                     Alice In Chains  \n",
       "16                                       Amy Winehouse  \n",
       "17                                       Amy Winehouse  \n",
       "18   Anne-Sophie Mutter, Herbert Von Karajan & Wien...  \n",
       "19            Antal Doráti & London Symphony Orchestra  \n",
       "20                                Antônio Carlos Jobim  \n",
       "21                                Antônio Carlos Jobim  \n",
       "22                                        Apocalyptica  \n",
       "23                                             Aquaman  \n",
       "24                                          Audioslave  \n",
       "25                                          Audioslave  \n",
       "26                                          Audioslave  \n",
       "27                                            BackBeat  \n",
       "28            Barry Wordsworth & BBC Concert Orchestra  \n",
       "29                                Battlestar Galactica  \n",
       "..                                                 ...  \n",
       "317                                           Tim Maia  \n",
       "318                                              Titãs  \n",
       "319                                              Titãs  \n",
       "320                                        Ton Koopman  \n",
       "321                                Toquinho & Vinícius  \n",
       "322                                                 U2  \n",
       "323                                                 U2  \n",
       "324                                                 U2  \n",
       "325                                                 U2  \n",
       "326                                                 U2  \n",
       "327                                                 U2  \n",
       "328                                                 U2  \n",
       "329                                                 U2  \n",
       "330                                                 U2  \n",
       "331                                                 U2  \n",
       "332                                               UB40  \n",
       "333                                          Van Halen  \n",
       "334                                          Van Halen  \n",
       "335                                          Van Halen  \n",
       "336                                          Van Halen  \n",
       "337                                    Various Artists  \n",
       "338                                    Various Artists  \n",
       "339                                    Various Artists  \n",
       "340                                    Various Artists  \n",
       "341                                    Velvet Revolver  \n",
       "342                                 Vinícius De Moraes  \n",
       "343                                     Wilhelm Kempff  \n",
       "344                                     Yehudi Menuhin  \n",
       "345                                           Yo-Yo Ma  \n",
       "346                                     Zeca Pagodinho  \n",
       "\n",
       "[347 rows x 2 columns]"
      ]
     },
     "execution_count": 40,
     "metadata": {},
     "output_type": "execute_result"
    }
   ],
   "source": [
    "sql.read_sql_query(\"\"\"\n",
    "SELECT Album.Title AS AlbumTitle, Artist.Name AS Artist FROM Album\n",
    "    INNER JOIN Artist\n",
    "    ON Artist.ArtistId=Album.ArtistId\n",
    "    ORDER BY Artist.Name;\n",
    "\"\"\", ce)"
   ]
  },
  {
   "cell_type": "code",
   "execution_count": null,
   "metadata": {
    "collapsed": true
   },
   "outputs": [],
   "source": []
  }
 ],
 "metadata": {
  "kernelspec": {
   "display_name": "Python 3",
   "language": "python",
   "name": "python3"
  },
  "language_info": {
   "codemirror_mode": {
    "name": "ipython",
    "version": 3
   },
   "file_extension": ".py",
   "mimetype": "text/x-python",
   "name": "python",
   "nbconvert_exporter": "python",
   "pygments_lexer": "ipython3",
   "version": "3.4.3"
  }
 },
 "nbformat": 4,
 "nbformat_minor": 0
}
