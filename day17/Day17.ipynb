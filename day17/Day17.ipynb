{
 "cells": [
  {
   "cell_type": "markdown",
   "metadata": {},
   "source": [
    "# Day 17\n",
    "\n",
    "* Introduction to Data Science (Data 301)\n",
    "* Cal Poly, Winter 2016\n",
    "* Brian E. Granger\n",
    "* Office hours: W+F 3-5pm, **26-110L**"
   ]
  },
  {
   "cell_type": "markdown",
   "metadata": {},
   "source": [
    "## Announcements"
   ]
  },
  {
   "cell_type": "markdown",
   "metadata": {},
   "source": [
    "* **No office hours this Friday.**\n",
    "* **Project work day this Sunday 10:00am-6:00pm in 26-110L instead.**\n",
    "* You should have received all grades for homeworks 1-5 and the midterm. If not, please talk to me.\n",
    "* One of my graders failed to grade `assignment06`. I apologize for this. Because `assignment06` was quite difficult I would like to give you a second chance to re-submit it by this Thursday.\n",
    "* You can now put data in `/data`:\n",
    "\n",
    "       cd /data\n",
    "       mkdir ellisonbg  # use your github username here\n",
    "\n",
    "* Use `wget` to download data into your directory.\n",
    "* Email about installation of additional Python packages\n",
    "* All homework solutions are posted."
   ]
  },
  {
   "cell_type": "markdown",
   "metadata": {},
   "source": [
    "## Homework solutions\n",
    "\n",
    "https://data301a.calpolydatascience.org/public_html/ellisonbg/"
   ]
  },
  {
   "cell_type": "markdown",
   "metadata": {},
   "source": [
    "## In class\n",
    "\n",
    "* Grab the materials for the day:\n",
    "  - `nbgrader fetch --course data301a day17`\n",
    "* Regrading requests\n",
    "  - Please feel free to submit emails with written requests for regrade homework problems.\n",
    "* New Material:\n",
    "  - SQL\n",
    "  - Machine Learning:\n",
    "    - Introducing Scikit-Learn\n",
    "  - ChinookSQL\n",
    "  - TitanicClassification"
   ]
  },
  {
   "cell_type": "markdown",
   "metadata": {},
   "source": [
    "## Out of class\n",
    "\n",
    "* Work on your project.\n",
    "* Read Chapter 6, Machine Learning."
   ]
  }
 ],
 "metadata": {
  "kernelspec": {
   "display_name": "Python 3",
   "language": "python",
   "name": "python3"
  },
  "language_info": {
   "codemirror_mode": {
    "name": "ipython",
    "version": 3
   },
   "file_extension": ".py",
   "mimetype": "text/x-python",
   "name": "python",
   "nbconvert_exporter": "python",
   "pygments_lexer": "ipython3",
   "version": "3.4.3"
  }
 },
 "nbformat": 4,
 "nbformat_minor": 0
}
