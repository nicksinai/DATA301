{
 "cells": [
  {
   "cell_type": "markdown",
   "metadata": {},
   "source": [
    "# A Brief Theory of Data"
   ]
  },
  {
   "cell_type": "markdown",
   "metadata": {},
   "source": [
    "## Types of data"
   ]
  },
  {
   "cell_type": "markdown",
   "metadata": {},
   "source": [
    "In this section, when I talk about the \"type\" of the data, I am not talking about the `dtype` (`int`, `float`, `bool`, `str`) used to represent the data in a NumPy array or Pandas DataFrame. In this context the \"type\" of the data is used in a more abstract sense."
   ]
  },
  {
   "cell_type": "markdown",
   "metadata": {},
   "source": [
    "## Take 1: Data+Design"
   ]
  },
  {
   "cell_type": "markdown",
   "metadata": {},
   "source": [
    "[Data+Design]() is an excellent online book about the theory of data. It is very well thought out and beautiful as well. I highly recommend spending time reading it. In Chapter 1 of Data+Design, the authors cover [Basic Data Types](https://infoactive.co/data-design/ch01.html). Here is a short summary of those basic data types:"
   ]
  },
  {
   "cell_type": "markdown",
   "metadata": {},
   "source": [
    "### Nominal"
   ]
  },
  {
   "cell_type": "markdown",
   "metadata": {},
   "source": [
    "* Non-numerical\n",
    "* Usually, but not always strings\n",
    "* Non-ordered\n",
    "* Cannot be averaged"
   ]
  },
  {
   "cell_type": "code",
   "execution_count": null,
   "metadata": {
    "collapsed": false
   },
   "outputs": [],
   "source": [
    "states = ['Oregon', 'California', 'Texas', 'Colorado']\n",
    "states"
   ]
  },
  {
   "cell_type": "code",
   "execution_count": null,
   "metadata": {
    "collapsed": false
   },
   "outputs": [],
   "source": [
    "grocery_sections = [\"produce\", 'diary', 'frozen']\n",
    "grocery_sections"
   ]
  },
  {
   "cell_type": "code",
   "execution_count": null,
   "metadata": {
    "collapsed": false
   },
   "outputs": [],
   "source": [
    "gender = ['male', 'female']\n",
    "gender"
   ]
  },
  {
   "cell_type": "markdown",
   "metadata": {},
   "source": [
    "### Ordinal"
   ]
  },
  {
   "cell_type": "markdown",
   "metadata": {},
   "source": [
    "* Non-numerical\n",
    "* Usually, but not always strings\n",
    "* Natural ordering\n",
    "* Sometimes can be averaged\n",
    "* Can assign numerical scale, but it will be arbitrary"
   ]
  },
  {
   "cell_type": "code",
   "execution_count": null,
   "metadata": {
    "collapsed": false
   },
   "outputs": [],
   "source": [
    "response = ['strongly disagree', 'disagre', 'neutral', 'agree', 'strongly agree']\n",
    "response"
   ]
  },
  {
   "cell_type": "code",
   "execution_count": null,
   "metadata": {
    "collapsed": false
   },
   "outputs": [],
   "source": [
    "temp = ['cold', 'hot']\n",
    "temp"
   ]
  },
  {
   "cell_type": "code",
   "execution_count": null,
   "metadata": {
    "collapsed": false
   },
   "outputs": [],
   "source": [
    "height = ['short', 'medium', 'tall']\n",
    "height"
   ]
  },
  {
   "cell_type": "markdown",
   "metadata": {},
   "source": [
    "### Interval"
   ]
  },
  {
   "cell_type": "markdown",
   "metadata": {},
   "source": [
    "* Equally spaced numerical data\n",
    "* Ordered\n",
    "* Can either be discrete (int) or continuous (float)\n",
    "* No meaningful zero point\n",
    "* Examples:\n",
    "  - Temperature in F or C\n",
    "  - Dates/Times"
   ]
  },
  {
   "cell_type": "code",
   "execution_count": null,
   "metadata": {
    "collapsed": false
   },
   "outputs": [],
   "source": [
    "temps = [32.1, 99.4, 210.0, -76.4]\n",
    "temps"
   ]
  },
  {
   "cell_type": "markdown",
   "metadata": {},
   "source": [
    "### Ratio"
   ]
  },
  {
   "cell_type": "markdown",
   "metadata": {},
   "source": [
    "* Equally spaced, ordered numerical data\n",
    "* Can either be discrete or continuous\n",
    "* Meaningful zero point that indicates an absence of the measured entity\n",
    "* Examples:\n",
    "  - Age in years\n",
    "  - Height in inches"
   ]
  },
  {
   "cell_type": "code",
   "execution_count": null,
   "metadata": {
    "collapsed": false
   },
   "outputs": [],
   "source": [
    "ages = [random.randint(0,100) for i in range(10)]\n",
    "ages"
   ]
  },
  {
   "cell_type": "code",
   "execution_count": null,
   "metadata": {
    "collapsed": false
   },
   "outputs": [],
   "source": [
    "height = [76.0*random.random() for i in range(10)]\n",
    "height"
   ]
  },
  {
   "cell_type": "markdown",
   "metadata": {},
   "source": [
    "### Categorical\n",
    "\n",
    "* Data is labelled by well separated categories\n",
    "* Often used as an umbrella for nominal and ordinal, which are unordered and ordered categorical data types respectively."
   ]
  },
  {
   "cell_type": "markdown",
   "metadata": {},
   "source": [
    "## Take 2: Polaris, Tableau, d3/vega"
   ]
  },
  {
   "cell_type": "markdown",
   "metadata": {},
   "source": [
    "The data visualization community has spent a lot of time thinking carefully about fundamental data types. There is a large body of research and software projects that encode the results of that research into usable forms. Good examples of this research and software are:\n",
    "\n",
    "* [Polaris: A System for...](http://graphics.stanford.edu/papers/polaris_extended/polaris.pdf), C. Stolte, D. Tank and P. Hanrahan (2002).\n",
    "* [Tableau](http://www.tableau.com/), Tableau Software, website (2016).\n",
    "* [d3](http://d3js.org/), Data Driven Documents, website (2016).\n",
    "* [Vega](http://vega.github.io/vega/), Vega: A Visualization Grammar, website (2016).\n",
    "* [Vega-Lite](http://vega.github.io/vega-lite/), Vega-Lite: A High-Level Visualization Grammar, website (2016).\n",
    "* [polestar](http://vega.github.io/polestar/), Polestar website (2016).\n",
    "\n",
    "Here is a rough union of the different data types found in this body of work:\n",
    "\n",
    "* Ordinal (same as above)\n",
    "* Nominal (same as above)\n",
    "* Quantitative (ratio, interval)\n",
    "* Date/time (calendar dates and/or times)\n",
    "* Geographic (states, latitude/longitude)\n",
    "\n",
    "Some of these sofware packages also have a `text` data type that is meant for textual data that is not categorical."
   ]
  },
  {
   "cell_type": "markdown",
   "metadata": {},
   "source": [
    "## Variables"
   ]
  },
  {
   "cell_type": "markdown",
   "metadata": {},
   "source": [
    "* A **variable** is some quantity that is measured, such as \"age\"\n",
    "* A single variable can be measured in different ways that give different data types:\n",
    "  - \"young\" or \"old\" = ordinal\n",
    "  - Age ranges (0-9, 10-19, ...) = ordinal\n",
    "  - Age in years = ratio"
   ]
  },
  {
   "cell_type": "markdown",
   "metadata": {},
   "source": [
    "## Records and data sets\n",
    "\n",
    " * A **record** or **sample** is one measurement of a set of variables\n",
    " * A **data set** is a set of records that measure the same set of variables in the same way"
   ]
  },
  {
   "cell_type": "code",
   "execution_count": null,
   "metadata": {
    "collapsed": false
   },
   "outputs": [],
   "source": [
    "ages = [random.randint(0,100) for i in range(10)]\n",
    "heights = [76.0*random.random() for i in range(10)]\n",
    "data_set = [{'age':a, 'height':h} for a, h in zip(ages, heights)]\n",
    "data_set"
   ]
  },
  {
   "cell_type": "code",
   "execution_count": null,
   "metadata": {
    "collapsed": false
   },
   "outputs": [],
   "source": [
    "sample0 = data_set[0]\n",
    "sample0"
   ]
  },
  {
   "cell_type": "markdown",
   "metadata": {},
   "source": [
    "## Resources"
   ]
  },
  {
   "cell_type": "markdown",
   "metadata": {},
   "source": [
    "* [Data+Design](https://infoactive.co/data-design) Trina Chiasson, Dyanna Gregory, et al (2016)."
   ]
  }
 ],
 "metadata": {
  "kernelspec": {
   "display_name": "Python 3",
   "language": "python",
   "name": "python3"
  },
  "language_info": {
   "codemirror_mode": {
    "name": "ipython",
    "version": 3
   },
   "file_extension": ".py",
   "mimetype": "text/x-python",
   "name": "python",
   "nbconvert_exporter": "python",
   "pygments_lexer": "ipython3",
   "version": "3.4.3"
  }
 },
 "nbformat": 4,
 "nbformat_minor": 0
}