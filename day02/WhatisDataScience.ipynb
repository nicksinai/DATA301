{
 "cells": [
  {
   "cell_type": "markdown",
   "metadata": {},
   "source": [
    "# What is Data Science?"
   ]
  },
  {
   "cell_type": "markdown",
   "metadata": {},
   "source": [
    "**Learning Objective:** Understand different ways that Data Science can be defined."
   ]
  },
  {
   "cell_type": "markdown",
   "metadata": {},
   "source": [
    "## Data Science as a *skill set*"
   ]
  },
  {
   "cell_type": "markdown",
   "metadata": {},
   "source": [
    "Perhaps the most common definition of Data Science is to enumerate the skills and knowledge areas used in Data Science. The best known treatment of that approach is [Drew Conway's Data Science Venn diagram](http://drewconway.com/zia/2013/3/26/the-data-science-venn-diagram), seen here:\n",
    "\n",
    "![Data Science Venn Diagram](images/data_science_vd.png)"
   ]
  },
  {
   "cell_type": "markdown",
   "metadata": {},
   "source": [
    "## Data Science as a *process*"
   ]
  },
  {
   "cell_type": "markdown",
   "metadata": {},
   "source": [
    "An operational definition of Data Science answers the question, \"what do Data Scientists do?\". Over the last few years, the community of Data Scientists have been building a concensus answer to this question. The different activities involved in Data Science are linked together to form the Data Science **process** or **workflow**. By looking at the descriptions of the Data Science process by a few individuals, we can start to see a clear picture emerging.\n",
    "\n",
    "* [A Data Science Taxonomy](http://www.dataists.com/2010/09/a-taxonomy-of-data-science/), Hilary Mason (2012):\n",
    "  - Obtain\n",
    "  - Scrub\n",
    "  - Explore\n",
    "  - Model\n",
    "  - Interpret\n",
    "* [The Data Science Process](http://columbiadatascience.com/2012/09/24/reflections-after-jakes-lecture/), Rachel Shutt (2012):\n",
    "  - Observation and collection\n",
    "  - Processing\n",
    "  - Exploratory data analysis\n",
    "  - Modeling: Stats, ML\n",
    "  - Build data product\n",
    "  - Communicate\n",
    "  - Make decisions\n",
    "* [Introduction to Data Science 2.0](http://columbiadatascience.com/2013/09/16/introduction-to-data-science-version-2-0/), Rachel Shutt (2013):\n",
    "  - Gather and observe\n",
    "  - Process\n",
    "  - Modeling: Stats, ML\n",
    "  - Summarize, communicate, build\n",
    "  - Decide, interact\n",
    "* [Data Science Workflow: Overview and Challenges ](http://cacm.acm.org/blogs/blog-cacm/169199-data-science-workflow-overview-and-challenges/fulltext), Philip Guo (2014):\n",
    "  - Preparation\n",
    "  - Analysis\n",
    "  - Reflection\n",
    "  - Dissemination"
   ]
  },
  {
   "cell_type": "markdown",
   "metadata": {},
   "source": [
    "## Data Science as a *set of questions*"
   ]
  },
  {
   "cell_type": "markdown",
   "metadata": {},
   "source": [
    "The *skills* and *process* approaches to defining Data Science do have some limitations. Another approach, for which I advocate, is to enumerate the underlying questions that the field is pursuing. Here are some possibilities:\n",
    "\n",
    "* How/where do we get data?\n",
    "* What is the raw format of the data?\n",
    "* How much data and how often?\n",
    "* What variables/fields are present in the data and what are their types?\n",
    "* What relevant variables/fields are not present in the data?\n",
    "* What relationships are present in the data and how are they expressed?\n",
    "* Is the data observational or collected in a controlled manner?\n",
    "* What practical questions can we, or would we like to answer with the data?\n",
    "* How is the data stored after collection and how does that relate to the\n",
    "  practical questions we are interested in answering?\n",
    "* What in memory data structures are appropriate for answering those practical\n",
    "  questions efficiently?\n",
    "* What can we predict with the data?\n",
    "* What can we understand with the data?\n",
    "* What hypotheses can be supported or rejected with the data?\n",
    "* What statistical or machine learning methods are needed to answer these questions?\n",
    "* What user interfaces are required for humans to work with the data efficiently and\n",
    "  productively?\n",
    "* How can the data be visualized effectively?\n",
    "* How can code, data and visualizations be embedded into narratives used to\n",
    "  communicate results?\n",
    "* What software is needed to support the activities around these questions?\n",
    "* What computational infrastructure is needed?\n",
    "* How can organizations leverage data to meet their goals?\n",
    "* What organizational structures are needed to best take advantage of data?\n",
    "* What are the economic benefits of pursuing these questions?\n",
    "* What are the social benefits of pursuing these questions?\n",
    "* Where do these questions and the activities in pursuit of them intersect important ethical issues."
   ]
  },
  {
   "cell_type": "markdown",
   "metadata": {},
   "source": [
    "## Data Science as *Science*"
   ]
  },
  {
   "cell_type": "markdown",
   "metadata": {},
   "source": [
    "If we take the name \"Data Science\" seriously, then we have to assume that it is somehow related to science. Here is my own take:\n",
    "\n",
    "> Data Science involves the application of scientific methods and approaches to data sets that *may* lie outside the traditional fields of science (Physics, Chemistry, Biology, etc.).\n",
    "\n",
    "In other words, Data Science involves a broad application of the scientific method."
   ]
  },
  {
   "cell_type": "markdown",
   "metadata": {},
   "source": [
    "## Resources"
   ]
  },
  {
   "cell_type": "markdown",
   "metadata": {},
   "source": [
    "* [Scientific Method](https://en.wikipedia.org/wiki/Scientific_method), Wikipedia (2016).\n",
    "* [50 Years of Data Science](http://courses.csail.mit.edu/18.337/2015/docs/50YearsDataScience.pdf), David Donoho (2015).\n",
    "* [Data Science Survey](https://www.oreilly.com/ideas/2015-data-science-salary-survey), O'Reilly Media (2015).\n",
    "* [The Emerging Role of Data Scientists on Software Development Teams](http://research.microsoft.com/apps/pubs/default.aspx?id=242286), Microsoft Research (2015)."
   ]
  }
 ],
 "metadata": {
  "kernelspec": {
   "display_name": "Python 3",
   "language": "python",
   "name": "python3"
  },
  "language_info": {
   "codemirror_mode": {
    "name": "ipython",
    "version": 3
   },
   "file_extension": ".py",
   "mimetype": "text/x-python",
   "name": "python",
   "nbconvert_exporter": "python",
   "pygments_lexer": "ipython3",
   "version": "3.4.3"
  }
 },
 "nbformat": 4,
 "nbformat_minor": 0
}