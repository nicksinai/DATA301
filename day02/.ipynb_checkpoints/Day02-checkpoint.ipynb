{
 "cells": [
  {
   "cell_type": "markdown",
   "metadata": {},
   "source": [
    "# Day 2\n",
    "\n",
    "* Introduction to Data Science (Data 301)\n",
    "* Cal Poly, Winter 2016\n",
    "* Brian E. Granger"
   ]
  },
  {
   "cell_type": "markdown",
   "metadata": {},
   "source": [
    "## Announcements"
   ]
  },
  {
   "cell_type": "markdown",
   "metadata": {},
   "source": [
    "**Innovation Quest: $30k in prizes for startups**\n",
    "\n",
    "Learn more at the information sessions on 1/12 and 2/9 6:00-7:30 in the ATL (building 7)\n",
    "\n",
    "**Social Entrepreneurship Forum**\n",
    "\n",
    "One of the best ways to embody social change is to build a company around it. Learn how companies and innovators are working to solve the world's problems through entrepreneurship.\n",
    "\n",
    "* Monday, February 1, 2016\n",
    "* 4:30-7:00 Cal Poly Performing Arts Center\n",
    "* Register: https://www.eventbrite.com/e/social-entrepreneurship-tickets-19540448006\n",
    "\n",
    "**Startup Weekend: Help launch a startup in 54 hours!**\n",
    "\n",
    "* Bring your talent & your creativity to help launch a startup in 54 hours!\n",
    "* January 15-17\n",
    "* The event starts at 6:00 p.m. on 1/15 in the ATL (building 7)\n",
    "* Get your tickets here: https://www.eventbrite.com/e/startup-weekend-san-luis-obispo-2016-tickets-19336317446\n"
   ]
  },
  {
   "cell_type": "markdown",
   "metadata": {},
   "source": [
    "## In class\n",
    "\n",
    "* Grab the materials for the day:\n",
    "  - `nbgrader list --course data301a`\n",
    "  - `nbgrader fetch --course data301a day02`\n",
    "  - `nbgrader fetch --course data301a assignment01`\n",
    "* To turn in `assignment01`:\n",
    "  - Restart kernel and run all to make sure your code works\n",
    "  - `nbgrader submit --course data301a assignment01`\n",
    "* Introduction to Jupyter\n",
    "* What is Data Science?\n",
    "* Theory of Data\n",
    "* Introduction to Python\n",
    "  - Start work on Assignment 1\n",
    "  - Continue work on codeacademy"
   ]
  },
  {
   "cell_type": "markdown",
   "metadata": {},
   "source": [
    "## Out of class\n",
    "\n",
    "* Assignment 1 is due on Tuesday, day 3\n",
    "* Codecademy is due on Thursday, day 4"
   ]
  }
 ],
 "metadata": {
  "kernelspec": {
   "display_name": "Python 3",
   "language": "python",
   "name": "python3"
  },
  "language_info": {
   "codemirror_mode": {
    "name": "ipython",
    "version": 3
   },
   "file_extension": ".py",
   "mimetype": "text/x-python",
   "name": "python",
   "nbconvert_exporter": "python",
   "pygments_lexer": "ipython3",
   "version": "3.4.3"
  }
 },
 "nbformat": 4,
 "nbformat_minor": 0
}
