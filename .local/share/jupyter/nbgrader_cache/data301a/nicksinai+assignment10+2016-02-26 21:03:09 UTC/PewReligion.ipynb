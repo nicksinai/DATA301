{
 "cells": [
  {
   "cell_type": "markdown",
   "metadata": {},
   "source": [
    "# Pew Research Center's Religious Landscape Study"
   ]
  },
  {
   "cell_type": "markdown",
   "metadata": {},
   "source": [
    "In this notebook you will clean and wrangle a dataset that has come out of the Pew Research Center's [Religious Landscape Study](http://www.pewforum.org/religious-landscape-study/). The actual dataset used comes from Hadley Wickham's [Tidy Data Repository](https://github.com/hadley/tidy-data)."
   ]
  },
  {
   "cell_type": "markdown",
   "metadata": {},
   "source": [
    "## Imports"
   ]
  },
  {
   "cell_type": "code",
   "execution_count": null,
   "metadata": {
    "collapsed": true
   },
   "outputs": [],
   "source": [
    "%matplotlib inline\n",
    "import matplotlib.pyplot as plt\n",
    "import seaborn as sns\n",
    "\n",
    "import numpy as np\n",
    "import pandas as pd"
   ]
  },
  {
   "cell_type": "markdown",
   "metadata": {},
   "source": [
    "## Read in the data"
   ]
  },
  {
   "cell_type": "markdown",
   "metadata": {},
   "source": [
    "Here, we read in the data using `read_csv`:"
   ]
  },
  {
   "cell_type": "code",
   "execution_count": null,
   "metadata": {
    "collapsed": false
   },
   "outputs": [],
   "source": [
    "df = pd.read_csv('/data/tidy-data/data/pew.csv')"
   ]
  },
  {
   "cell_type": "markdown",
   "metadata": {},
   "source": [
    "Extract the following columns and rename them:\n",
    "\n",
    "* `q16`\n",
    "* `reltrad` -> `religion`\n",
    "* `income`"
   ]
  },
  {
   "cell_type": "code",
   "execution_count": null,
   "metadata": {
    "collapsed": false,
    "deletable": false,
    "nbgrader": {
     "checksum": "d05111f46ef8414131c8c9b9046bf809",
     "grade": false,
     "grade_id": "pew-religion-a",
     "locked": false,
     "solution": true
    }
   },
   "outputs": [],
   "source": [
    "# YOUR CODE HERE\n",
    "raise NotImplementedError()"
   ]
  },
  {
   "cell_type": "code",
   "execution_count": null,
   "metadata": {
    "collapsed": false
   },
   "outputs": [],
   "source": [
    "df.head()"
   ]
  },
  {
   "cell_type": "code",
   "execution_count": null,
   "metadata": {
    "collapsed": true,
    "deletable": false,
    "nbgrader": {
     "checksum": "2dc1ddacf369cba41d6f21952e4ea714",
     "grade": true,
     "grade_id": "pew-religion-b",
     "locked": true,
     "points": 2,
     "solution": false
    }
   },
   "outputs": [],
   "source": [
    "assert list(df.columns)==['q16', 'religion', 'income']\n",
    "assert len(df)==35556"
   ]
  },
  {
   "cell_type": "markdown",
   "metadata": {},
   "source": [
    "## Religion"
   ]
  },
  {
   "cell_type": "markdown",
   "metadata": {},
   "source": [
    "Now you are going to tidy up the `religion` column. Perform the following transformations of the `religion` column:\n",
    "\n",
    "* Replace `'Churches'` by an empty string\n",
    "* Replace `'Protestant'` by `'Prot'`\n",
    "* For the rows that have `\" Atheist (do not believe in God) \"` in the `q16` column, put the value `'Atheist'` in the\n",
    "  `religion` column\n",
    "* For rows that have `\" Agnostic (not sure if there is a God) \"` in the `q16` column, put the value `'Agnostic'` in the `religion` column\n",
    "* For rows that have the phrase `\"(no information on religious affiliation)\"`, replace their value by `'Unknown'`\n",
    "* Strip leading and trailing whitespace"
   ]
  },
  {
   "cell_type": "code",
   "execution_count": null,
   "metadata": {
    "collapsed": false,
    "deletable": false,
    "nbgrader": {
     "checksum": "552b1ff0f19f4b7546a1df5873c4d42b",
     "grade": false,
     "grade_id": "pew-religion-c",
     "locked": false,
     "solution": true
    }
   },
   "outputs": [],
   "source": [
    "# YOUR CODE HERE\n",
    "raise NotImplementedError()"
   ]
  },
  {
   "cell_type": "code",
   "execution_count": null,
   "metadata": {
    "collapsed": false,
    "deletable": false,
    "nbgrader": {
     "checksum": "86af6d5ce742920b6254c7e8949fe6fb",
     "grade": true,
     "grade_id": "pew-religion-d",
     "locked": true,
     "points": 2,
     "solution": false
    }
   },
   "outputs": [],
   "source": [
    "assert list(df['religion'].unique()) == \\\n",
    "['Evangelical Prot',\n",
    " 'Mainline Prot',\n",
    " 'Unaffiliated',\n",
    " 'Jewish',\n",
    " 'Unknown',\n",
    " 'Other Faiths',\n",
    " 'Historically Black Prot',\n",
    " \"Jehovah's Witness\",\n",
    " 'Atheist',\n",
    " 'Agnostic',\n",
    " 'Catholic',\n",
    " 'Buddhist',\n",
    " 'Mormon',\n",
    " 'Muslim',\n",
    " 'Hindu',\n",
    " 'Other Christian',\n",
    " 'Orthodox',\n",
    " 'Other World Religions']"
   ]
  },
  {
   "cell_type": "markdown",
   "metadata": {},
   "source": [
    "Now do the following:\n",
    "\n",
    "* Extract out just the `religion` and `income` columns\n",
    "* Convert the `religion` column to a categorical type"
   ]
  },
  {
   "cell_type": "code",
   "execution_count": null,
   "metadata": {
    "collapsed": false,
    "deletable": false,
    "nbgrader": {
     "checksum": "d35886d61816e95351d6de1972003ab1",
     "grade": false,
     "grade_id": "pew-religion-e",
     "locked": false,
     "solution": true
    }
   },
   "outputs": [],
   "source": [
    "# YOUR CODE HERE\n",
    "raise NotImplementedError()"
   ]
  },
  {
   "cell_type": "code",
   "execution_count": null,
   "metadata": {
    "collapsed": false
   },
   "outputs": [],
   "source": [
    "df.head()"
   ]
  },
  {
   "cell_type": "code",
   "execution_count": null,
   "metadata": {
    "collapsed": false,
    "deletable": false,
    "nbgrader": {
     "checksum": "d4a53879e3b66ba10f3f13ecf475b10b",
     "grade": true,
     "grade_id": "pew-religion-f",
     "locked": true,
     "points": 2,
     "solution": false
    }
   },
   "outputs": [],
   "source": [
    "assert list(df.columns)==['religion', 'income']\n",
    "assert df.religion.dtype.name=='category'"
   ]
  },
  {
   "cell_type": "markdown",
   "metadata": {},
   "source": [
    "Now make an appropriately labeled Seaborn `countplot` of the `religion` column on the y-axis, sorted by the number of people in each religion."
   ]
  },
  {
   "cell_type": "code",
   "execution_count": null,
   "metadata": {
    "collapsed": false,
    "deletable": false,
    "nbgrader": {
     "checksum": "3442195d6d8c2f770fe24a76ed7ee12e",
     "grade": true,
     "grade_id": "pew-religion-g",
     "locked": false,
     "points": 4,
     "solution": true
    }
   },
   "outputs": [],
   "source": [
    "# YOUR CODE HERE\n",
    "raise NotImplementedError()"
   ]
  },
  {
   "cell_type": "markdown",
   "metadata": {},
   "source": [
    "## Income"
   ]
  },
  {
   "cell_type": "markdown",
   "metadata": {},
   "source": [
    "Now work on the `income` column. Replace the existing income strings by the ones in the tests below:"
   ]
  },
  {
   "cell_type": "code",
   "execution_count": null,
   "metadata": {
    "collapsed": false,
    "deletable": false,
    "nbgrader": {
     "checksum": "6e1ea42bf3d5157527f1727f8058b619",
     "grade": false,
     "grade_id": "pew-religion-h",
     "locked": false,
     "solution": true
    }
   },
   "outputs": [],
   "source": [
    "# YOUR CODE HERE\n",
    "raise NotImplementedError()"
   ]
  },
  {
   "cell_type": "code",
   "execution_count": null,
   "metadata": {
    "collapsed": true,
    "deletable": false,
    "nbgrader": {
     "checksum": "838347b898b9ffe5e0d14067cb4cb421",
     "grade": true,
     "grade_id": "pew-religion-i",
     "locked": true,
     "points": 2,
     "solution": false
    }
   },
   "outputs": [],
   "source": [
    "assert list(df.income.unique())==\\\n",
    "    ['$75-100k',\n",
    "     '$20-30k',\n",
    "     '$30-40k',\n",
    "     '<$10k',\n",
    "     '$50-75k',\n",
    "     '>150k',\n",
    "     '$40-50k',\n",
    "     'Unknown',\n",
    "     '$100-150k',\n",
    "     '$10-20k']"
   ]
  },
  {
   "cell_type": "markdown",
   "metadata": {},
   "source": [
    "Convert the `income` column to a category type:"
   ]
  },
  {
   "cell_type": "code",
   "execution_count": null,
   "metadata": {
    "collapsed": true,
    "deletable": false,
    "nbgrader": {
     "checksum": "85c1b5ca570925cc7816d56b8d60c2f4",
     "grade": false,
     "grade_id": "pew-religion-j",
     "locked": false,
     "solution": true
    }
   },
   "outputs": [],
   "source": [
    "# YOUR CODE HERE\n",
    "raise NotImplementedError()"
   ]
  },
  {
   "cell_type": "code",
   "execution_count": null,
   "metadata": {
    "collapsed": false,
    "deletable": false,
    "nbgrader": {
     "checksum": "c1daff116da9833e92bc3d412dfb7281",
     "grade": true,
     "grade_id": "pew-religion-k",
     "locked": true,
     "points": 2,
     "solution": false
    }
   },
   "outputs": [],
   "source": [
    "assert df.income.dtype.name=='category'"
   ]
  },
  {
   "cell_type": "markdown",
   "metadata": {},
   "source": [
    "Mow make an approprately labeled `countplot` of the `income` column, ordered by the income level:"
   ]
  },
  {
   "cell_type": "code",
   "execution_count": null,
   "metadata": {
    "collapsed": false,
    "deletable": false,
    "nbgrader": {
     "checksum": "9a61d7655e7296507b1ef4879de8d92c",
     "grade": true,
     "grade_id": "pew-religion-l",
     "locked": false,
     "points": 4,
     "solution": true
    }
   },
   "outputs": [],
   "source": [
    "# YOUR CODE HERE\n",
    "raise NotImplementedError()"
   ]
  },
  {
   "cell_type": "markdown",
   "metadata": {},
   "source": [
    "## Simple Analysis"
   ]
  },
  {
   "cell_type": "markdown",
   "metadata": {},
   "source": [
    "Using a `groupby` and custom aggregation do the following:\n",
    "\n",
    "* Extract rows where the income is not `'Unknown'`\n",
    "* Compute the most commonly occuring income category for each religion (mode)\n",
    "* Sort the result by the mode income\n",
    "* Store the result in a single-column `DataFrame` with an index that is the religion and a column name of `mode_income`"
   ]
  },
  {
   "cell_type": "code",
   "execution_count": null,
   "metadata": {
    "collapsed": false,
    "deletable": false,
    "nbgrader": {
     "checksum": "008399c4db4579dd716a76eb63d83a44",
     "grade": true,
     "grade_id": "pew-religion-m",
     "locked": false,
     "points": 2,
     "solution": true
    }
   },
   "outputs": [],
   "source": [
    "# YOUR CODE HERE\n",
    "raise NotImplementedError()"
   ]
  }
 ],
 "metadata": {
  "kernelspec": {
   "display_name": "Python 3",
   "language": "python",
   "name": "python3"
  },
  "language_info": {
   "codemirror_mode": {
    "name": "ipython",
    "version": 3
   },
   "file_extension": ".py",
   "mimetype": "text/x-python",
   "name": "python",
   "nbconvert_exporter": "python",
   "pygments_lexer": "ipython3",
   "version": "3.4.3"
  }
 },
 "nbformat": 4,
 "nbformat_minor": 0
}