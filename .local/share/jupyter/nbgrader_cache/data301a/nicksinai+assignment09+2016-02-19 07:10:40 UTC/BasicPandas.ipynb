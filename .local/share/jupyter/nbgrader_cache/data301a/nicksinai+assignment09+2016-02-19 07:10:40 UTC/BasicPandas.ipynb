{
 "cells": [
  {
   "cell_type": "markdown",
   "metadata": {
    "nbgrader": {}
   },
   "source": [
    "# Basic Pandas Homework"
   ]
  },
  {
   "cell_type": "code",
   "execution_count": 1,
   "metadata": {
    "collapsed": false,
    "nbgrader": {}
   },
   "outputs": [],
   "source": [
    "import pandas as pd\n",
    "import numpy as np\n",
    "import matplotlib.pyplot as plt\n",
    "%matplotlib inline"
   ]
  },
  {
   "cell_type": "markdown",
   "metadata": {
    "nbgrader": {}
   },
   "source": [
    "## DatFrame and Series"
   ]
  },
  {
   "cell_type": "markdown",
   "metadata": {
    "nbgrader": {}
   },
   "source": [
    "Create a `DataFrame` named `df1` with the following properties:\n",
    "\n",
    "* 10 rows.\n",
    "* An `age` column with random ages between 0 and 100 (inclusive).\n",
    "* A `cell_phone` column of randomly sampled categorical values `ios`, `android`, `windows`.\n",
    "* A `gender` column of randomly sampled categorical values `f` and `m`.\n",
    "* The order of columns should be `gender`, `age`, `cell_phone`.\n",
    "* A row index consisting of lowercase alphabetical letters.\n",
    "\n",
    "Use the function defined above to create this `DataFrame`."
   ]
  },
  {
   "cell_type": "code",
   "execution_count": 16,
   "metadata": {
    "collapsed": false,
    "deletable": false,
    "nbgrader": {
     "checksum": "874a325d28b3f9a50e43e044197b70ec",
     "grade_id": "basic-pandas-a",
     "solution": true
    }
   },
   "outputs": [],
   "source": [
    "age = np.random.choice(101,10)"
   ]
  },
  {
   "cell_type": "code",
   "execution_count": 23,
   "metadata": {
    "collapsed": false
   },
   "outputs": [],
   "source": [
    "cell_phone = np.random.choice(('ios','android','windows'),10)"
   ]
  },
  {
   "cell_type": "code",
   "execution_count": 25,
   "metadata": {
    "collapsed": false
   },
   "outputs": [],
   "source": [
    "gender = np.random.choice(('f','m'), 10)"
   ]
  },
  {
   "cell_type": "code",
   "execution_count": null,
   "metadata": {
    "collapsed": false
   },
   "outputs": [],
   "source": []
  },
  {
   "cell_type": "code",
   "execution_count": null,
   "metadata": {
    "collapsed": false,
    "nbgrader": {}
   },
   "outputs": [],
   "source": []
  },
  {
   "cell_type": "markdown",
   "metadata": {
    "nbgrader": {}
   },
   "source": [
    "Make sure your code passes the following `assert` statements:"
   ]
  },
  {
   "cell_type": "code",
   "execution_count": null,
   "metadata": {
    "collapsed": false,
    "deletable": false,
    "nbgrader": {
     "checksum": "6672a354e9a487f35b21677b5da497e0",
     "grade": true,
     "grade_id": "basic-pandas-b",
     "grader_id": "df1",
     "points": 3
    }
   },
   "outputs": [],
   "source": [
    "assert 'a' in df1.index\n",
    "assert 'j' in df1.index\n",
    "assert 'age' in df1.columns\n",
    "assert 'cell_phone' in df1.columns\n",
    "assert 'gender' in df1.columns\n",
    "assert df1.age.dtype.name=='int64'\n",
    "assert df1.cell_phone.dtype.name=='category'\n",
    "assert df1.gender.dtype.name=='category'\n",
    "assert list(df1.columns)==['gender','age','cell_phone']"
   ]
  },
  {
   "cell_type": "markdown",
   "metadata": {
    "nbgrader": {}
   },
   "source": [
    "Create a new `DataFrame`, named `df2` with the following transformations:\n",
    "\n",
    "* Extract rows `a` through `g`\n",
    "* Extract the `age` and `gender` column, but put `age` first.\n",
    "* Reverse the rows to they run `g` to `a`.\n",
    "* Add a new column named `income` that is a random list of dollars between [0,10000]\n",
    "* Add a new column named `expenses` that is a random list of dollars between [0,10000]\n",
    "* Create a new column named `profit` that is computed using the `income` and `expenses` columns."
   ]
  },
  {
   "cell_type": "code",
   "execution_count": null,
   "metadata": {
    "collapsed": false,
    "deletable": false,
    "nbgrader": {
     "checksum": "c9d3d4f2c7399ff4caeb02a74dc9cfcd",
     "grade": false,
     "grade_id": "basic-pandas-c",
     "solution": true
    }
   },
   "outputs": [],
   "source": [
    "# YOUR CODE HERE\n",
    "raise NotImplementedError()"
   ]
  },
  {
   "cell_type": "code",
   "execution_count": null,
   "metadata": {
    "collapsed": false,
    "nbgrader": {}
   },
   "outputs": [],
   "source": [
    "df2"
   ]
  },
  {
   "cell_type": "markdown",
   "metadata": {
    "nbgrader": {}
   },
   "source": [
    "Make sure your code passes the following `assert` statements:"
   ]
  },
  {
   "cell_type": "code",
   "execution_count": null,
   "metadata": {
    "collapsed": false,
    "deletable": false,
    "nbgrader": {
     "checksum": "2c1b2029c60109ba8c731e034a8b5049",
     "grade": true,
     "grade_id": "basic-pandas-d",
     "grader_id": "df2",
     "points": 3
    }
   },
   "outputs": [],
   "source": [
    "assert df2.index[0]=='g'\n",
    "assert df2.index[-1]=='a'\n",
    "assert list(df2.columns)==['age','gender','income','expenses','profit']\n",
    "assert df2.income.dtype.name=='int64'\n",
    "assert df2.expenses.dtype.name=='int64'\n",
    "assert df2.expenses.dtype.name=='int64'\n",
    "assert all(df2.profit+df2.expenses-df2.income==0)"
   ]
  },
  {
   "cell_type": "markdown",
   "metadata": {
    "nbgrader": {}
   },
   "source": [
    "Write a function named `mean_and_std` that takes a `Series` object and returns a new `Series` that contains the mean and standard deviation of the original series."
   ]
  },
  {
   "cell_type": "code",
   "execution_count": null,
   "metadata": {
    "collapsed": false,
    "deletable": false,
    "nbgrader": {
     "checksum": "12d85117d924b03c829d32fb3b46c740",
     "grade": false,
     "grade_id": "basic-pandas-e",
     "locked": false,
     "solution": true
    }
   },
   "outputs": [],
   "source": [
    "def mean_and_std(s):\n",
    "    \"\"\"Compute the mean and std of series s.\n",
    "    \n",
    "    Parameters\n",
    "    ----------\n",
    "    s : Series\n",
    "    \n",
    "    Returns\n",
    "    -------\n",
    "    Series containing the mean and std of s with an index of `mean` and `std`.\n",
    "    \"\"\"\n",
    "    # YOUR CODE HERE\n",
    "    raise NotImplementedError()"
   ]
  },
  {
   "cell_type": "markdown",
   "metadata": {
    "nbgrader": {}
   },
   "source": [
    "Make sure your code passes the following `assert` statements:"
   ]
  },
  {
   "cell_type": "code",
   "execution_count": null,
   "metadata": {
    "collapsed": false,
    "deletable": false,
    "nbgrader": {
     "checksum": "3461c91ccd78d1b83aa8d545cab58a42",
     "grade": true,
     "grade_id": "basic-pandas-f",
     "grader_id": "mean_and_std",
     "points": 2
    }
   },
   "outputs": [],
   "source": [
    "assert list(mean_and_std(df2.age).index)==['mean','std']\n",
    "assert mean_and_std(df2.age)['mean']==df2.age.describe()['mean']\n",
    "assert mean_and_std(df2.age)['std']==df2.age.describe()['std']"
   ]
  },
  {
   "cell_type": "markdown",
   "metadata": {
    "nbgrader": {}
   },
   "source": [
    "Use the `.apply()` method with `mean_and_std` to compute the mean and standard deviation of only the columns `income`, `expenses` and profit. Save the result in a variable named `stats`."
   ]
  },
  {
   "cell_type": "code",
   "execution_count": null,
   "metadata": {
    "collapsed": false,
    "deletable": false,
    "nbgrader": {
     "checksum": "b18f57258d13daddd8ab572792bc12bd",
     "grade_id": "basic-pandas-g",
     "solution": true
    }
   },
   "outputs": [],
   "source": [
    "# YOUR CODE HERE\n",
    "raise NotImplementedError()"
   ]
  },
  {
   "cell_type": "code",
   "execution_count": null,
   "metadata": {
    "collapsed": false,
    "nbgrader": {}
   },
   "outputs": [],
   "source": [
    "stats"
   ]
  },
  {
   "cell_type": "markdown",
   "metadata": {
    "nbgrader": {}
   },
   "source": [
    "Make sure your code passes the following `assert` statements:"
   ]
  },
  {
   "cell_type": "code",
   "execution_count": null,
   "metadata": {
    "collapsed": false,
    "deletable": false,
    "nbgrader": {
     "checksum": "e94f72f1c277d5e42b22979dc7f0718b",
     "grade": true,
     "grade_id": "basic-pandas-h",
     "grader_id": "stats",
     "points": 2
    }
   },
   "outputs": [],
   "source": [
    "d = df2[['income','expenses','profit']].describe()\n",
    "assert 'income' in stats.columns\n",
    "assert 'expenses' in stats.columns\n",
    "assert 'profit' in stats.columns\n",
    "assert stats.ix['mean','income']==d.ix['mean','income']\n",
    "assert stats.ix['mean','expenses']==d.ix['mean','expenses']\n",
    "assert stats.ix['mean','profit']==d.ix['mean','profit']\n",
    "assert stats.ix['std','income']==d.ix['std','income']\n",
    "assert stats.ix['std','expenses']==d.ix['std','expenses']\n",
    "assert stats.ix['std','profit']==d.ix['std','profit']"
   ]
  }
 ],
 "metadata": {
  "kernelspec": {
   "display_name": "Python 3",
   "language": "python",
   "name": "python3"
  },
  "language_info": {
   "codemirror_mode": {
    "name": "ipython",
    "version": 3
   },
   "file_extension": ".py",
   "mimetype": "text/x-python",
   "name": "python",
   "nbconvert_exporter": "python",
   "pygments_lexer": "ipython3",
   "version": "3.4.3"
  }
 },
 "nbformat": 4,
 "nbformat_minor": 0
}
