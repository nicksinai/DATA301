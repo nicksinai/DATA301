{
 "cells": [
  {
   "cell_type": "markdown",
   "metadata": {
    "nbgrader": {}
   },
   "source": [
    "# Codecademy Completion"
   ]
  },
  {
   "cell_type": "markdown",
   "metadata": {
    "nbgrader": {}
   },
   "source": [
    "This problem will be used for verifying that you have completed the Python course on http://www.codecademy.com/.\n",
    "\n",
    "Here are the steps to do this verification:\n",
    "\n",
    "1. Go to the page on http://www.codecademy.com/ that shows your percent completion.\n",
    "2. Take a screen shot of that page.\n",
    "3. Name the file `codecademy.png` and upload it to this folder using the *Upload* button in the Jupyter dashboard.\n",
    "4. Run the following cells to display the image in this notebook.\n",
    "5. Make sure that your screenshot shows up in this notebook!"
   ]
  },
  {
   "cell_type": "code",
   "execution_count": null,
   "metadata": {
    "collapsed": true,
    "nbgrader": {}
   },
   "outputs": [],
   "source": [
    "from IPython.display import Image"
   ]
  },
  {
   "cell_type": "code",
   "execution_count": null,
   "metadata": {
    "collapsed": false,
    "deletable": false,
    "nbgrader": {
     "checksum": "15d696c0ee2b227c5d2c4bc2c725b452",
     "grade": true,
     "grade_id": "codecademy",
     "locked": false,
     "points": 40,
     "solution": true
    }
   },
   "outputs": [],
   "source": [
    "# YOUR CODE HERE\n",
    "raise NotImplementedError()"
   ]
  }
 ],
 "metadata": {
  "kernelspec": {
   "display_name": "Python 3",
   "language": "python",
   "name": "python3"
  },
  "language_info": {
   "codemirror_mode": {
    "name": "ipython",
    "version": 3
   },
   "file_extension": ".py",
   "mimetype": "text/x-python",
   "name": "python",
   "nbconvert_exporter": "python",
   "pygments_lexer": "ipython3",
   "version": "3.4.3"
  }
 },
 "nbformat": 4,
 "nbformat_minor": 0
}
