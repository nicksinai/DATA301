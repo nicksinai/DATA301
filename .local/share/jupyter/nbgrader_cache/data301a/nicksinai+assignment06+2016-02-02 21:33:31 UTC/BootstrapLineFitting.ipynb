{
 "cells": [
  {
   "cell_type": "markdown",
   "metadata": {},
   "source": [
    "# Bootstrapped Line Fitting"
   ]
  },
  {
   "cell_type": "markdown",
   "metadata": {},
   "source": [
    "In this notebook, you will use bootstrapping to estimate the uncertainty in the slope and intercept of a line fit to data."
   ]
  },
  {
   "cell_type": "markdown",
   "metadata": {},
   "source": [
    "## Imports"
   ]
  },
  {
   "cell_type": "code",
   "execution_count": 2,
   "metadata": {
    "collapsed": true
   },
   "outputs": [],
   "source": [
    "import numpy as np\n",
    "%matplotlib inline\n",
    "from matplotlib import pyplot as plt\n",
    "import seaborn as sns"
   ]
  },
  {
   "cell_type": "markdown",
   "metadata": {},
   "source": [
    "We start with a generative model:\n",
    "\n",
    "$$\n",
    "X \\sim U(10,20)\n",
    "$$\n",
    "\n",
    "$$\n",
    "Y \\sim mX + b + N(0,\\sigma^2)\n",
    "$$\n",
    "\n",
    "\"Uniform Distribution\"\n",
    "\n",
    "Here are the input parameters we are going to use for this model."
   ]
  },
  {
   "cell_type": "code",
   "execution_count": 3,
   "metadata": {
    "collapsed": true
   },
   "outputs": [],
   "source": [
    "m = 0.75\n",
    "b = 3.5\n",
    "sigma = 0.5"
   ]
  },
  {
   "cell_type": "markdown",
   "metadata": {},
   "source": [
    "Generate two NumPy arrays of 50 points for this model. Store these values in the arrays `X` and `Y`:"
   ]
  },
  {
   "cell_type": "code",
   "execution_count": 4,
   "metadata": {
    "collapsed": true
   },
   "outputs": [],
   "source": [
    "def fY(X, m, b, sigma):\n",
    "    return m*X+b+np.random.normal(0,sigma**2)"
   ]
  },
  {
   "cell_type": "code",
   "execution_count": 5,
   "metadata": {
    "collapsed": false,
    "deletable": false,
    "nbgrader": {
     "checksum": "ad4226c83603cf96899221c3c6a5fce6",
     "grade": true,
     "grade_id": "bootstraplinea",
     "locked": false,
     "points": 2,
     "solution": true
    }
   },
   "outputs": [
    {
     "name": "stdout",
     "output_type": "stream",
     "text": [
      "[ 11.36959354  13.75944616  15.89779846  13.82137836  12.43217963\n",
      "  19.05566256  15.04059603  19.41346588  18.42933831  11.41114521\n",
      "  10.99718752  18.57009942  11.14697859  11.59634623  19.94300879\n",
      "  15.43257515  12.84232673  15.00274498  12.85517165  12.41856479\n",
      "  17.77048537  12.74481307  16.34110364  15.03113189  15.07052676\n",
      "  11.44295821  15.20096014  14.7776184   17.18858138  14.66726859\n",
      "  14.53183613  16.70176975  11.17369813  17.33638318  13.86231981\n",
      "  11.64312362  19.91946763  11.83094916  14.70525845  10.42723308\n",
      "  14.66023051  11.69590124  14.37819546  16.07098931  18.02575496\n",
      "  18.00662059  17.51429524  13.17910091  18.08379956  11.31052093]\n",
      "[ 11.89752034  13.68990981  15.29367403  13.73635895  12.6944599\n",
      "  17.6620721   14.65077221  17.93042459  17.19232892  11.92868409\n",
      "  11.61821582  17.29789975  11.73055913  12.06758486  18.32758177\n",
      "  14.94475654  13.00207023  14.62238392  13.01170392  12.68424878\n",
      "  16.69818921  12.92893499  15.62615292  14.6436741   14.67322025\n",
      "  11.95254384  14.77104529  14.45353898  16.26176122  14.37077662\n",
      "  14.26920228  15.89665249  11.75059878  16.37261257  13.76706504\n",
      "  12.1026679   18.30992591  12.24353705  14.39926902  11.19074999\n",
      "  14.36549806  12.14225111  14.15397178  15.42356717  16.8896414\n",
      "  16.87529062  16.50604661  13.25465087  16.93317485  11.85321588]\n"
     ]
    }
   ],
   "source": [
    "\n",
    "X = np.array(np.random.uniform(10,20,50))\n",
    "Y = np.array(fY(X, m, b, sigma))\n",
    "print (X)\n",
    "print (Y)"
   ]
  },
  {
   "cell_type": "markdown",
   "metadata": {},
   "source": [
    "Make an appropriately labeled scatter plot of the `X` and `Y` data:"
   ]
  },
  {
   "cell_type": "code",
   "execution_count": 6,
   "metadata": {
    "collapsed": false,
    "deletable": false,
    "nbgrader": {
     "checksum": "3f65a56ff08712bed889eec9db61041c",
     "grade": true,
     "grade_id": "bootstraplineb",
     "locked": false,
     "points": 2,
     "solution": true
    }
   },
   "outputs": [
    {
     "data": {
      "text/plain": [
       "<matplotlib.text.Text at 0x7f575e546128>"
      ]
     },
     "execution_count": 6,
     "metadata": {},
     "output_type": "execute_result"
    },
    {
     "data": {
      "image/png": "[encoded data removed]",
      "text/plain": [
       "<matplotlib.figure.Figure at 0x7f575e9e7358>"
      ]
     },
     "metadata": {},
     "output_type": "display_data"
    }
   ],
   "source": [
    "plt.scatter(X,Y)\n",
    "plt.xlabel(\"? U(10,20)\")\n",
    "plt.ylabel(\"?\")"
   ]
  },
  {
   "cell_type": "code",
   "execution_count": 7,
   "metadata": {
    "collapsed": false
   },
   "outputs": [],
   "source": [
    "from scipy.optimize import curve_fit"
   ]
  },
  {
   "cell_type": "markdown",
   "metadata": {},
   "source": [
    "Write a function `fit`, that uses `curve_fit` and returns a fitted `(slope, intercept)` for the `X` and `Y` data above."
   ]
  },
  {
   "cell_type": "code",
   "execution_count": 9,
   "metadata": {
    "collapsed": false
   },
   "outputs": [
    {
     "name": "stderr",
     "output_type": "stream",
     "text": [
      "/usr/local/lib/python3.4/dist-packages/scipy/optimize/minpack.py:601: OptimizeWarning: Covariance of the parameters could not be estimated\n",
      "  category=OptimizeWarning)\n"
     ]
    },
    {
     "data": {
      "text/plain": [
       "(array([ 0.75      ,  0.76466327,  1.39523381]), array([[ inf,  inf,  inf],\n",
       "        [ inf,  inf,  inf],\n",
       "        [ inf,  inf,  inf]]))"
      ]
     },
     "execution_count": 9,
     "metadata": {},
     "output_type": "execute_result"
    }
   ],
   "source": [
    "curve_fit(fY,X,Y)"
   ]
  },
  {
   "cell_type": "code",
   "execution_count": null,
   "metadata": {
    "collapsed": true,
    "deletable": false,
    "nbgrader": {
     "checksum": "e9988f91da334022a78d51495877e2cb",
     "grade": false,
     "grade_id": "bootstraplinec",
     "locked": false,
     "solution": true
    }
   },
   "outputs": [],
   "source": [
    "def fit(X, Y):\n",
    "    \"\"\"Fit X and Y data to the model Y ~ m*X + b and return (m,b)\"\"\"\n",
    "    return curve_fit(fY,X,Y)"
   ]
  },
  {
   "cell_type": "code",
   "execution_count": null,
   "metadata": {
    "collapsed": false,
    "deletable": false,
    "nbgrader": {
     "checksum": "7e24329341c903bd6480fee862d2a59f",
     "grade": true,
     "grade_id": "bootstraplined",
     "locked": true,
     "points": 2,
     "solution": false
    },
    "scrolled": true
   },
   "outputs": [],
   "source": [
    "m, b = fit([0,1,2], [0,1,2])\n",
    "assert abs(m-1.0)<0.01\n",
    "assert abs(b-0.0)<0.01"
   ]
  },
  {
   "cell_type": "markdown",
   "metadata": {},
   "source": [
    "Write a function, `bootstrap`, that can create boostrapped versions of the `X` and `Y` arrays above. It is important that you bootstrap pairs of `X[i],Y[i]` to preserve correlations in the model. Remember, to bootstrap data you will draw random samples with replacement."
   ]
  },
  {
   "cell_type": "code",
   "execution_count": 18,
   "metadata": {
    "collapsed": true
   },
   "outputs": [],
   "source": [
    "def bootstrap_data(data):\n",
    "    \"\"\"Perform a single boostrap resampling of the input data array.\"\"\"\n",
    "    return np.array( [data[np.random.randint(0,len(data)-1)] for r in range(len(data))] )"
   ]
  },
  {
   "cell_type": "code",
   "execution_count": 22,
   "metadata": {
    "collapsed": false,
    "deletable": false,
    "nbgrader": {
     "checksum": "2672513022ec10e1743a2343efd7b762",
     "grade": false,
     "grade_id": "bootstraplinee",
     "locked": false,
     "solution": true
    }
   },
   "outputs": [],
   "source": [
    "def bootstrap(X, Y):\n",
    "    \"\"\"Return boostrapped versions of the input X and Y arrays, perserving correlations.\n",
    "    \n",
    "    Parameters\n",
    "    ----------\n",
    "    X: ndarray\n",
    "        Input X array.\n",
    "    Y: ndarray\n",
    "    \n",
    "    Returns\n",
    "    -------\n",
    "    XX: ndarray\n",
    "        The boostrapped X array with the same shape as X and correlated random samples\n",
    "        drawn with replacement.\n",
    "    YY: ndarray\n",
    "        The bootstrapped Y array with the same shape as Y and correlated random samples\n",
    "        drawn with replacement.\n",
    "    \"\"\"\n",
    "    original = [[x, y] for x, y in zip(X, Y)]\n",
    "    print (original)\n",
    "    result = []\n",
    "    for sample in range(len(original)):\n",
    "        resample = bootstrap_data(original)\n",
    "        result.append(resample)\n",
    "    return np.array(result)"
   ]
  },
  {
   "cell_type": "code",
   "execution_count": 23,
   "metadata": {
    "collapsed": false
   },
   "outputs": [
    {
     "name": "stdout",
     "output_type": "stream",
     "text": [
      "[[0, 4], [1, 5], [2, 6], [3, 7]]\n"
     ]
    },
    {
     "data": {
      "text/plain": [
       "array([[[2, 6],\n",
       "        [0, 4],\n",
       "        [1, 5],\n",
       "        [2, 6]],\n",
       "\n",
       "       [[0, 4],\n",
       "        [1, 5],\n",
       "        [0, 4],\n",
       "        [2, 6]],\n",
       "\n",
       "       [[1, 5],\n",
       "        [2, 6],\n",
       "        [1, 5],\n",
       "        [0, 4]],\n",
       "\n",
       "       [[0, 4],\n",
       "        [1, 5],\n",
       "        [1, 5],\n",
       "        [2, 6]]])"
      ]
     },
     "execution_count": 23,
     "metadata": {},
     "output_type": "execute_result"
    }
   ],
   "source": [
    "a = np.array([0,1,2,3])\n",
    "b = np.array([4,5,6,7])\n",
    "bootstrap(a, b)"
   ]
  },
  {
   "cell_type": "code",
   "execution_count": null,
   "metadata": {
    "collapsed": false,
    "deletable": false,
    "nbgrader": {
     "checksum": "ba3e8601392b56d3e9dbabd9997dbcb3",
     "grade": true,
     "grade_id": "bootstraplinef",
     "locked": true,
     "points": 2,
     "solution": false
    }
   },
   "outputs": [],
   "source": [
    "a = np.array([0,1,2,3])\n",
    "b = np.array([4,5,6,7])\n",
    "ab, bb = bootstrap(a, b)\n",
    "for element in ab:\n",
    "    assert element in a\n",
    "for element in bb:\n",
    "    assert element in b\n",
    "assert len(a)==len(ab)\n",
    "assert len(ab)==len(bb)"
   ]
  },
  {
   "cell_type": "markdown",
   "metadata": {},
   "source": [
    "Write a function, `bootstrap_fit`, that takes finds the slope and intercept of the input `X` and `Y` data  using the `fit` function above. Your function should perform this fit `n` times using bootstrapped data."
   ]
  },
  {
   "cell_type": "code",
   "execution_count": null,
   "metadata": {
    "collapsed": true,
    "deletable": false,
    "nbgrader": {
     "checksum": "95f749b850ce7ae375f02fc2fe5f2a5f",
     "grade": true,
     "grade_id": "bootstraplineg",
     "locked": false,
     "points": 2,
     "solution": true
    }
   },
   "outputs": [],
   "source": [
    "def bootstrap_fit(X, Y, n):\n",
    "    \"\"\"Fit a straight line to X and Y n times using bootstrapping.\n",
    "    \n",
    "    Returns\n",
    "    -------\n",
    "    (m, b): tuple of ndarrays\n",
    "        A tuple of 1d arrays with the bootstrapped values of the slope and intercept.\n",
    "    \"\"\"\n",
    "    # YOUR CODE HERE\n",
    "    raise NotImplementedError()"
   ]
  },
  {
   "cell_type": "markdown",
   "metadata": {},
   "source": [
    "Using the original `X` and `Y` data above:\n",
    "\n",
    "* Find the bootstrapped slopes and intercepts (bootstrap 100 times).\n",
    "* Make an appropriately labeled `jointplot` of the bootstrapped slopes and intercepts.\n",
    "* Find and print the 95% confidence intervals for the slope and intercept."
   ]
  },
  {
   "cell_type": "code",
   "execution_count": null,
   "metadata": {
    "collapsed": false,
    "deletable": false,
    "nbgrader": {
     "checksum": "0515c7749b20287d9612abbefb2cdf6f",
     "grade": true,
     "grade_id": "bootstraplineh",
     "locked": false,
     "points": 2,
     "solution": true
    }
   },
   "outputs": [],
   "source": [
    "# YOUR CODE HERE\n",
    "raise NotImplementedError()"
   ]
  }
 ],
 "metadata": {
  "kernelspec": {
   "display_name": "Python 3",
   "language": "python",
   "name": "python3"
  },
  "language_info": {
   "codemirror_mode": {
    "name": "ipython",
    "version": 3
   },
   "file_extension": ".py",
   "mimetype": "text/x-python",
   "name": "python",
   "nbconvert_exporter": "python",
   "pygments_lexer": "ipython3",
   "version": "3.4.3"
  }
 },
 "nbformat": 4,
 "nbformat_minor": 0
}
