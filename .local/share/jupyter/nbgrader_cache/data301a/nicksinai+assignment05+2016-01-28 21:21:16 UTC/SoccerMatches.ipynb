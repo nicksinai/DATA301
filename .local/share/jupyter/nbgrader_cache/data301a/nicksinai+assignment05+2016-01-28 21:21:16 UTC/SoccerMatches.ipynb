{
 "cells": [
  {
   "cell_type": "markdown",
   "metadata": {},
   "source": [
    "# Simulating soccer matches"
   ]
  },
  {
   "cell_type": "markdown",
   "metadata": {},
   "source": [
    "In this notebook, you will near to simulate soccer matches using the Poisson distribution. This is a very simple, model but shows how simple generative models can simulate real word situations."
   ]
  },
  {
   "cell_type": "markdown",
   "metadata": {},
   "source": [
    "## Imports"
   ]
  },
  {
   "cell_type": "code",
   "execution_count": 1,
   "metadata": {
    "collapsed": true
   },
   "outputs": [],
   "source": [
    "import numpy as np\n",
    "%matplotlib inline\n",
    "from matplotlib import pyplot as plt\n",
    "import seaborn as sns"
   ]
  },
  {
   "cell_type": "markdown",
   "metadata": {},
   "source": [
    "## Model"
   ]
  },
  {
   "cell_type": "markdown",
   "metadata": {},
   "source": [
    "Here is the basic model we are going to work with:\n",
    "\n",
    "* There are two teams (1 and 2) that are going to meet in the finals of the world cup.\n",
    "* All we know about those teams is the average number of goals that have scored in each past game.\n",
    "* You are going to model the number of goals they score per game using a Poisson distribution.\n",
    "* By drawing samples from the appropriate Poisson distribution for each team, you will simulate the point spread.\n",
    "* Using the point spread, you will calculate the probability of each team winning or a tie.\n",
    "\n",
    "Here are the parameters of the model:"
   ]
  },
  {
   "cell_type": "code",
   "execution_count": 46,
   "metadata": {
    "collapsed": true
   },
   "outputs": [],
   "source": [
    "t1_avg = 3 # team 1 average goals per game\n",
    "t2_avg = 2 # team 2 average goals per game\n",
    "n = 500    # number of simulated games"
   ]
  },
  {
   "cell_type": "markdown",
   "metadata": {},
   "source": [
    "Simulate `n` games for each team using a Poisson distribution $Pois(\\lambda)$ with $\\lambda$ chosen appropriately for the team. Store the number of goals for each team in a NumPy array named `sim1` and `sim2`:"
   ]
  },
  {
   "cell_type": "code",
   "execution_count": 47,
   "metadata": {
    "collapsed": true,
    "deletable": false,
    "nbgrader": {
     "checksum": "a59fd09e113d4e3acac8611d2ac47e8b",
     "grade": false,
     "grade_id": "soccermatchesa",
     "locked": false,
     "solution": true
    }
   },
   "outputs": [],
   "source": [
    "sim1 = np.random.poisson(t1_avg, n)\n",
    "sim2 = np.random.poisson(t2_avg, n)"
   ]
  },
  {
   "cell_type": "code",
   "execution_count": 48,
   "metadata": {
    "collapsed": false,
    "deletable": false,
    "nbgrader": {
     "checksum": "dd2006a6355625fb4597b361ed0937eb",
     "grade": true,
     "grade_id": "soccermatchesb",
     "locked": true,
     "points": 2,
     "solution": false
    }
   },
   "outputs": [],
   "source": [
    "assert len(sim1)==n\n",
    "assert len(sim2)==n\n",
    "assert sim1.dtype==np.dtype(int)\n",
    "assert sim2.dtype==np.dtype(int)\n",
    "assert abs(sim1.mean()-t1_avg)<0.1\n",
    "assert abs(sim2.mean()-t2_avg)<0.1"
   ]
  },
  {
   "cell_type": "markdown",
   "metadata": {},
   "source": [
    "Calculate an array of point spreads ($Team_2-Team_1$) for the `n` games. Save your array as the variable `spread`."
   ]
  },
  {
   "cell_type": "code",
   "execution_count": 49,
   "metadata": {
    "collapsed": false,
    "deletable": false,
    "nbgrader": {
     "checksum": "2007b1f13f4d68795f291c6b990a0c69",
     "grade": false,
     "grade_id": "soccermatchesc",
     "locked": false,
     "solution": true
    }
   },
   "outputs": [],
   "source": [
    "spread = [sim2 - sim1 for sim1,sim2 in zip(sim1,sim2)]\n",
    "spread = np.array(spread)"
   ]
  },
  {
   "cell_type": "code",
   "execution_count": 50,
   "metadata": {
    "collapsed": false
   },
   "outputs": [
    {
     "name": "stdout",
     "output_type": "stream",
     "text": [
      "500\n"
     ]
    }
   ],
   "source": [
    "print (len(spread))"
   ]
  },
  {
   "cell_type": "code",
   "execution_count": 51,
   "metadata": {
    "collapsed": false
   },
   "outputs": [
    {
     "name": "stdout",
     "output_type": "stream",
     "text": [
      "[-5 -4  0 -1 -1 -2  3 -2 -1 -3 -1 -4 -7  1  0 -1  0  0 -6  0 -3  1 -5 -3 -4\n",
      " -1 -3 -2  0 -1 -4 -5 -2 -1 -1 -3 -2 -3 -5 -4  1 -1 -3 -2  3 -1  2 -3 -4 -1\n",
      "  0  1 -1 -2  1 -3 -3 -1 -1 -1  0  1 -5  1  0 -5  0 -3  1 -1 -1  1  1  0 -4\n",
      " -1 -4  3  0 -1 -3  5 -4 -5 -4  0 -2  0 -2 -1  1 -4 -1 -2  2 -3 -2 -1 -1  4\n",
      "  1 -1 -2  2  1 -3 -4 -1  2 -6  1 -4 -2  4  0 -4  2 -5 -4  0 -4 -5 -2 -4  0\n",
      " -1 -4 -3 -2 -1 -2 -3 -2  1  2 -1 -3 -1  1  2 -2 -3 -3  0 -5  1 -3 -1 -2 -2\n",
      " -1  1 -3 -7 -2 -2  0  1 -1 -2 -3  0  0 -1  0  4 -3  0 -1 -3 -1  0  4 -3 -5\n",
      "  0 -1 -1  1 -2  0 -2 -2  3 -2  0 -2 -5 -3 -1  1 -2  1  0 -2 -1  1 -2 -1  4\n",
      " -2 -3 -4 -1  0 -6 -3 -2  2  0  6 -1 -2  3 -1 -2 -3  0 -1 -2  0  0  1 -2  3\n",
      " -1 -4 -1  0 -1 -1 -2  2 -1 -4 -1  1  2  0 -1  1 -2  1  0  3  0 -1  1 -3  0\n",
      " -1 -1  0 -1 -3  0  1  2  3  1 -1  2 -1  3 -1  0  0 -2 -4 -1 -2 -3 -2 -2 -4\n",
      " -4  1  7  1  1 -6 -3 -2 -1  0 -3 -1 -1  0 -6 -1  1 -2 -4  1 -2  0  2 -1 -3\n",
      " -2 -7  1 -2 -2  1  1 -2  1 -6  0 -1 -2  0 -5  1 -2  0 -2  1 -4 -2 -3 -2 -3\n",
      "  1 -1 -2  0  1 -1 -5  0  2 -2 -2  2 -3 -6 -2 -5 -2 -1 -2 -4 -3 -1 -2  0 -1\n",
      "  2  0 -4  1  2 -4  1 -1 -2  0 -4 -1 -2  2  1  0 -2  0 -2  4 -4  2 -1  0 -1\n",
      "  0  2 -1  3 -3 -1 -1 -2  2  0  0 -2 -2  1  1  1  2 -3  0  1  2  3  0  0 -2\n",
      "  1 -3  0  3 -1  0 -3 -1 -3 -3  2  0  0 -4 -6  1 -1  1  2  0  1  0 -1 -3 -4\n",
      "  0 -3 -3 -1  1 -1  1  3  1 -5 -1  2 -3 -1  2  2  0 -3 -1  3  1  3  2 -3 -3\n",
      " -1  0 -5 -2 -1  1  2 -1 -2  3 -2 -5  2  0  0  1 -3 -3  1  1  1  4 -3 -1  0\n",
      "  3 -1  0 -1 -2 -3  2  2 -4 -3 -1 -1  1  0 -1 -1  0 -3 -1 -1  0  0 -5  2 -1]\n"
     ]
    }
   ],
   "source": [
    "print (spread)"
   ]
  },
  {
   "cell_type": "code",
   "execution_count": 52,
   "metadata": {
    "collapsed": false,
    "deletable": false,
    "nbgrader": {
     "checksum": "a13160be991117a22ca81c13fbc90043",
     "grade": true,
     "grade_id": "soccermatchesd",
     "locked": true,
     "points": 2,
     "solution": false
    }
   },
   "outputs": [],
   "source": [
    "assert len(spread)==n\n",
    "assert spread.dtype==np.dtype(int)"
   ]
  },
  {
   "cell_type": "markdown",
   "metadata": {},
   "source": [
    "Visualize the point spread by making a `distplot` using Seaborn. Label your axes."
   ]
  },
  {
   "cell_type": "code",
   "execution_count": 53,
   "metadata": {
    "collapsed": false,
    "deletable": false,
    "nbgrader": {
     "checksum": "55ff958f5060c10c80d0e445d8aa6ba4",
     "grade": true,
     "grade_id": "soccermatchese",
     "locked": false,
     "points": 2,
     "solution": true
    }
   },
   "outputs": [
    {
     "data": {
      "text/plain": [
       "<matplotlib.text.Text at 0x7fbc7fcc5358>"
      ]
     },
     "execution_count": 53,
     "metadata": {},
     "output_type": "execute_result"
    },
    {
     "data": {
      "image/png": "[encoded data removed]",
      "text/plain": [
       "<matplotlib.figure.Figure at 0x7fbc7ffb07f0>"
      ]
     },
     "metadata": {},
     "output_type": "display_data"
    }
   ],
   "source": [
    "sns.distplot(spread)\n",
    "plt.xlabel(\"Point Spread\")\n",
    "plt.ylabel(\"Frequency\")"
   ]
  },
  {
   "cell_type": "markdown",
   "metadata": {},
   "source": [
    "Use the array of simulated point spreads to calculate the probabilities that each team will win or reach a tie. Print these probabilities, along with the team numbers."
   ]
  },
  {
   "cell_type": "code",
   "execution_count": 59,
   "metadata": {
    "collapsed": false,
    "deletable": false,
    "nbgrader": {
     "checksum": "a362ea0cf27e4b2335054662019dc54e",
     "grade": true,
     "grade_id": "soccermatchesf",
     "locked": false,
     "points": 4,
     "solution": true
    }
   },
   "outputs": [
    {
     "name": "stdout",
     "output_type": "stream",
     "text": [
      "T2 WIN:  0.592\n",
      "T1 WIN:  0.408\n"
     ]
    }
   ],
   "source": [
    "# Talked with Liz Rosa about using numpy to turn array to bools and sum\n",
    "\n",
    "\n",
    "t2_win_prob = ((spread < 0).sum())/n #True is team one wins\n",
    "t1_win_prob = 1 - t2_win_prob\n",
    "print (\"T2 WIN: \", t2_win_prob)\n",
    "print (\"T1 WIN: \", t1_win_prob)\n",
    "\n",
    "\n"
   ]
  },
  {
   "cell_type": "code",
   "execution_count": null,
   "metadata": {
    "collapsed": true
   },
   "outputs": [],
   "source": []
  }
 ],
 "metadata": {
  "kernelspec": {
   "display_name": "Python 3",
   "language": "python",
   "name": "python3"
  },
  "language_info": {
   "codemirror_mode": {
    "name": "ipython",
    "version": 3
   },
   "file_extension": ".py",
   "mimetype": "text/x-python",
   "name": "python",
   "nbconvert_exporter": "python",
   "pygments_lexer": "ipython3",
   "version": "3.4.3"
  }
 },
 "nbformat": 4,
 "nbformat_minor": 0
}
