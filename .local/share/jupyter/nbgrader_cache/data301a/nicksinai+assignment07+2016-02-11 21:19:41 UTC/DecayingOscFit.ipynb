{
 "cells": [
  {
   "cell_type": "markdown",
   "metadata": {
    "nbgrader": {}
   },
   "source": [
    "# Fitting a Decaying Oscillation"
   ]
  },
  {
   "cell_type": "markdown",
   "metadata": {},
   "source": [
    "In this notebook you will fit a dataset to a non-linear model that has a decaying oscillation."
   ]
  },
  {
   "cell_type": "markdown",
   "metadata": {
    "nbgrader": {}
   },
   "source": [
    "## Imports"
   ]
  },
  {
   "cell_type": "code",
   "execution_count": 37,
   "metadata": {
    "collapsed": true,
    "nbgrader": {}
   },
   "outputs": [],
   "source": [
    "%matplotlib inline\n",
    "import matplotlib.pyplot as plt\n",
    "import numpy as np\n",
    "import scipy.optimize as opt"
   ]
  },
  {
   "cell_type": "markdown",
   "metadata": {
    "nbgrader": {}
   },
   "source": [
    "## Fitting a decaying oscillation"
   ]
  },
  {
   "cell_type": "markdown",
   "metadata": {
    "nbgrader": {}
   },
   "source": [
    "For this problem you are given a raw dataset in the file `decay_osc.npz`. This file contains three arrays:\n",
    "\n",
    "* `tdata`: an array of time values\n",
    "* `ydata`: an array of y values\n",
    "* `dy`: the absolute uncertainties (standard deviations) in y\n",
    "\n",
    "Your job is to fit the following model to this data:\n",
    "\n",
    "$$ y(t) = A e^{-\\lambda t} \\cos{\\omega t + \\delta} $$\n",
    "\n",
    "First, import the data using NumPy and make an appropriately styled error bar plot of the raw data."
   ]
  },
  {
   "cell_type": "code",
   "execution_count": 39,
   "metadata": {
    "collapsed": true
   },
   "outputs": [],
   "source": [
    "def yt(t, A, lamda, omega, delt):\n",
    "    return A*np.exp(-lamda*t) * np.cos(omega*t+delt)"
   ]
  },
  {
   "cell_type": "code",
   "execution_count": 40,
   "metadata": {
    "collapsed": false,
    "deletable": false,
    "nbgrader": {
     "checksum": "5cf7935f0a5192079e45056e8620e91f",
     "grade": true,
     "grade_id": "decayingosc-a",
     "locked": false,
     "points": 5,
     "solution": true
    }
   },
   "outputs": [
    {
     "data": {
      "text/plain": [
       "<Container object of 3 artists>"
      ]
     },
     "execution_count": 40,
     "metadata": {},
     "output_type": "execute_result"
    },
    {
     "data": {
      "image/png": "[encoded data removed]",
      "text/plain": [
       "<matplotlib.figure.Figure at 0x7effbb715a90>"
      ]
     },
     "metadata": {},
     "output_type": "display_data"
    }
   ],
   "source": [
    "decay_file = np.load('decay_osc.npz')\n",
    "tdata = decay_file['tdata']\n",
    "ydata = decay_file['ydata']\n",
    "dy = decay_file['dy']\n",
    "\n",
    "plt.errorbar(tdata,ydata,fmt = 'k.', yerr=dy)"
   ]
  },
  {
   "cell_type": "markdown",
   "metadata": {
    "nbgrader": {}
   },
   "source": [
    "Now, using `scipy.optimize.curve_fit` to fit this model and determine the estimates and uncertainties for the parameters:\n",
    "\n",
    "* Print the parameters estimates and uncertainties.\n",
    "* Plot the raw and best fit model.\n",
    "* You will likely have to pass an initial guess to `curve_fit` to get a good fit.\n",
    "* Treat the uncertainties in $y$ as *absolute errors* by passing `absolute_sigma=True`. "
   ]
  },
  {
   "cell_type": "markdown",
   "metadata": {},
   "source": [
    "__What would be a good guess for p0?__"
   ]
  },
  {
   "cell_type": "code",
   "execution_count": 58,
   "metadata": {
    "collapsed": false,
    "deletable": false,
    "nbgrader": {
     "checksum": "0f8605c573cee8b0e27f3f0d167957c5",
     "grade": true,
     "grade_id": "decayingosc-b",
     "locked": false,
     "points": 5,
     "solution": true
    }
   },
   "outputs": [],
   "source": [
    "estimates, uncertainties = opt.curve_fit(yt, tdata, ydata, absolute_sigma=True)"
   ]
  },
  {
   "cell_type": "code",
   "execution_count": 59,
   "metadata": {
    "collapsed": false
   },
   "outputs": [
    {
     "data": {
      "text/plain": [
       "array([-5.22512656,  0.07323666,  1.01409163,  6.26632736])"
      ]
     },
     "execution_count": 59,
     "metadata": {},
     "output_type": "execute_result"
    }
   ],
   "source": [
    "estimates"
   ]
  },
  {
   "cell_type": "code",
   "execution_count": 60,
   "metadata": {
    "collapsed": false
   },
   "outputs": [
    {
     "data": {
      "text/plain": [
       "array([[  2.97521698e-01,  -6.17931049e-03,   1.84916857e-03,\n",
       "         -1.46175297e-02],\n",
       "       [ -6.17931049e-03,   2.27697231e-04,  -4.82988275e-05,\n",
       "          3.45719688e-04],\n",
       "       [  1.84916857e-03,  -4.82988275e-05,   1.84078496e-04,\n",
       "         -9.30483841e-04],\n",
       "       [ -1.46175297e-02,   3.45719688e-04,  -9.30483841e-04,\n",
       "          8.37797276e-03]])"
      ]
     },
     "execution_count": 60,
     "metadata": {},
     "output_type": "execute_result"
    }
   ],
   "source": [
    "uncertainties"
   ]
  },
  {
   "cell_type": "code",
   "execution_count": 45,
   "metadata": {
    "collapsed": false
   },
   "outputs": [
    {
     "name": "stdout",
     "output_type": "stream",
     "text": [
      "A = -5.225 +/- 0.454\n",
      "lambda = 0.073 +/- 0.013\n",
      "omega = 1.014 +/- 0.011\n",
      "delta = 6.266 +/- 0.076\n"
     ]
    }
   ],
   "source": [
    "print('A = {0:.3f} +/- {1:.3f}'.format(estimates[0], np.sqrt(uncertainties[0,0])))\n",
    "print('lambda = {0:.3f} +/- {1:.3f}'.format(estimates[1], np.sqrt(uncertainties[1,1])))\n",
    "print('omega = {0:.3f} +/- {1:.3f}'.format(estimates[2], np.sqrt(uncertainties[2,2])))\n",
    "print('delta = {0:.3f} +/- {1:.3f}'.format(estimates[3], np.sqrt(uncertainties[3,3])))"
   ]
  },
  {
   "cell_type": "code",
   "execution_count": 61,
   "metadata": {
    "collapsed": false
   },
   "outputs": [
    {
     "data": {
      "image/png": "[encoded data removed]",
      "text/plain": [
       "<matplotlib.figure.Figure at 0x7effbb83e048>"
      ]
     },
     "metadata": {},
     "output_type": "display_data"
    }
   ],
   "source": [
    "xfit = np.linspace(0,20)\n",
    "yfit = yt(xfit, estimates[0], estimates[1], estimates[2], estimates[3])\n",
    "plt.errorbar(tdata,ydata,fmt = 'k.', yerr=dy)\n",
    "plt.plot(xfit, yfit)\n",
    "plt.xlabel('t')\n",
    "plt.ylabel('y(t)');"
   ]
  }
 ],
 "metadata": {
  "kernelspec": {
   "display_name": "Python 3",
   "language": "python",
   "name": "python3"
  },
  "language_info": {
   "codemirror_mode": {
    "name": "ipython",
    "version": 3
   },
   "file_extension": ".py",
   "mimetype": "text/x-python",
   "name": "python",
   "nbconvert_exporter": "python",
   "pygments_lexer": "ipython3",
   "version": "3.4.3"
  }
 },
 "nbformat": 4,
 "nbformat_minor": 0
}
