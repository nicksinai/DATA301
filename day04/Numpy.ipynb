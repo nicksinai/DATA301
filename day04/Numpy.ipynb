{
 "cells": [
  {
   "cell_type": "markdown",
   "metadata": {},
   "source": [
    "# NumPy: Numerical Arrays for Python"
   ]
  },
  {
   "cell_type": "markdown",
   "metadata": {},
   "source": [
    "**Learning Objectives:** Learn how to create, transform and visualize multidimensional data of a single type using NumPy. \n",
    "\n",
    "NumPy is the foundation for scientific computing and data science in Python. Its core data structure is a multidimensional array with the following characteristics:\n",
    "\n",
    "* Any number of dimensions\n",
    "* All elements of an array have the same data type\n",
    "* Array elements are usually native data dtype\n",
    "* The memory for an array is a contiguous block that can be easily passed to other numerical libraries (BLAS, LAPACK, etc.).\n",
    "* Most of NumPy is implemented in C, so it is fast."
   ]
  },
  {
   "cell_type": "markdown",
   "metadata": {},
   "source": [
    "## Plotting"
   ]
  },
  {
   "cell_type": "markdown",
   "metadata": {},
   "source": [
    "While this notebook doesn't focus on plotting, Matplotlib will be used to make a few basic plots."
   ]
  },
  {
   "cell_type": "code",
   "execution_count": 1,
   "metadata": {
    "collapsed": false
   },
   "outputs": [],
   "source": [
    "%matplotlib inline\n",
    "from matplotlib import pyplot as plt\n",
    "from matplotlib import style\n",
    "\n",
    "style.use(['seaborn-darkgrid', 'seaborn-notebook'])"
   ]
  },
  {
   "cell_type": "markdown",
   "metadata": {},
   "source": [
    "The `vizarray` package will be used to visualize NumPy arrays:"
   ]
  },
  {
   "cell_type": "code",
   "execution_count": 2,
   "metadata": {
    "collapsed": false
   },
   "outputs": [],
   "source": [
    "import vizarray as va"
   ]
  },
  {
   "cell_type": "markdown",
   "metadata": {},
   "source": [
    "## Multidimensional array type"
   ]
  },
  {
   "cell_type": "markdown",
   "metadata": {},
   "source": [
    "This is the canonical way you should import Numpy:"
   ]
  },
  {
   "cell_type": "code",
   "execution_count": 3,
   "metadata": {
    "collapsed": false
   },
   "outputs": [],
   "source": [
    "import numpy as np"
   ]
  },
  {
   "cell_type": "markdown",
   "metadata": {},
   "source": [
    "NumPy arrays can be contructed from iterables:"
   ]
  },
  {
   "cell_type": "code",
   "execution_count": 4,
   "metadata": {
    "collapsed": false
   },
   "outputs": [],
   "source": [
    "data = [0,2,4,6]\n",
    "a = np.array(data)"
   ]
  },
  {
   "cell_type": "code",
   "execution_count": 5,
   "metadata": {
    "collapsed": false
   },
   "outputs": [
    {
     "data": {
      "text/plain": [
       "numpy.ndarray"
      ]
     },
     "execution_count": 5,
     "metadata": {},
     "output_type": "execute_result"
    }
   ],
   "source": [
    "type(a)"
   ]
  },
  {
   "cell_type": "code",
   "execution_count": 6,
   "metadata": {
    "collapsed": false
   },
   "outputs": [
    {
     "data": {
      "text/plain": [
       "array([0, 2, 4, 6])"
      ]
     },
     "execution_count": 6,
     "metadata": {},
     "output_type": "execute_result"
    }
   ],
   "source": [
    "a"
   ]
  },
  {
   "cell_type": "markdown",
   "metadata": {},
   "source": [
    "The `vz.vizarray` function can be used to visualize a 1d or 2d NumPy array using a colormap:"
   ]
  },
  {
   "cell_type": "code",
   "execution_count": 7,
   "metadata": {
    "collapsed": false
   },
   "outputs": [
    {
     "data": {
      "text/html": [
       "<style type=\"text/css\">table.blockgrid {border: none;} .blockgrid tr {border: none;} .blockgrid td {padding: 0px;} #blocks362991f7-799b-45ec-8bc0-1a4dd74b0028 td {border: 1px solid white;}</style><table id=\"blocks362991f7-799b-45ec-8bc0-1a4dd74b0028\" class=\"blockgrid\"><tbody><tr><td title=\"Index: [0, 0]&#10;Color: (68, 1, 84)\" style=\"width: 30px; height: 30px;background-color: rgb(68, 1, 84);\"></td><td title=\"Index: [0, 1]&#10;Color: (49, 104, 142)\" style=\"width: 30px; height: 30px;background-color: rgb(49, 104, 142);\"></td><td title=\"Index: [0, 2]&#10;Color: (53, 183, 121)\" style=\"width: 30px; height: 30px;background-color: rgb(53, 183, 121);\"></td><td title=\"Index: [0, 3]&#10;Color: (253, 231, 37)\" style=\"width: 30px; height: 30px;background-color: rgb(253, 231, 37);\"></td></tr></tbody></table>"
      ],
      "text/plain": [
       "<ipythonblocks.ipythonblocks.BlockGrid at 0x7f642f19f9b0>"
      ]
     },
     "execution_count": 7,
     "metadata": {},
     "output_type": "execute_result"
    }
   ],
   "source": [
    "va.vizarray(a)"
   ]
  },
  {
   "cell_type": "markdown",
   "metadata": {},
   "source": [
    "The shape of the array:"
   ]
  },
  {
   "cell_type": "code",
   "execution_count": 8,
   "metadata": {
    "collapsed": false
   },
   "outputs": [
    {
     "data": {
      "text/plain": [
       "(4,)"
      ]
     },
     "execution_count": 8,
     "metadata": {},
     "output_type": "execute_result"
    }
   ],
   "source": [
    "a.shape"
   ]
  },
  {
   "cell_type": "markdown",
   "metadata": {},
   "source": [
    "The number of array dimensions:"
   ]
  },
  {
   "cell_type": "code",
   "execution_count": 9,
   "metadata": {
    "collapsed": false
   },
   "outputs": [
    {
     "data": {
      "text/plain": [
       "1"
      ]
     },
     "execution_count": 9,
     "metadata": {},
     "output_type": "execute_result"
    }
   ],
   "source": [
    "a.ndim"
   ]
  },
  {
   "cell_type": "markdown",
   "metadata": {},
   "source": [
    "The number of array elements:"
   ]
  },
  {
   "cell_type": "code",
   "execution_count": 10,
   "metadata": {
    "collapsed": false
   },
   "outputs": [
    {
     "data": {
      "text/plain": [
       "4"
      ]
     },
     "execution_count": 10,
     "metadata": {},
     "output_type": "execute_result"
    }
   ],
   "source": [
    "a.size"
   ]
  },
  {
   "cell_type": "markdown",
   "metadata": {},
   "source": [
    "The number of bytes the array takes up:"
   ]
  },
  {
   "cell_type": "code",
   "execution_count": 11,
   "metadata": {
    "collapsed": false
   },
   "outputs": [
    {
     "data": {
      "text/plain": [
       "32"
      ]
     },
     "execution_count": 11,
     "metadata": {},
     "output_type": "execute_result"
    }
   ],
   "source": [
    "a.nbytes"
   ]
  },
  {
   "cell_type": "markdown",
   "metadata": {},
   "source": [
    "The `dtype` attribute describes the \"data type\" of the elements:"
   ]
  },
  {
   "cell_type": "code",
   "execution_count": 12,
   "metadata": {
    "collapsed": false
   },
   "outputs": [
    {
     "data": {
      "text/plain": [
       "dtype('int64')"
      ]
     },
     "execution_count": 12,
     "metadata": {},
     "output_type": "execute_result"
    }
   ],
   "source": [
    "a.dtype"
   ]
  },
  {
   "cell_type": "markdown",
   "metadata": {},
   "source": [
    "## Creating arrays"
   ]
  },
  {
   "cell_type": "markdown",
   "metadata": {},
   "source": [
    "Multidimensional arrays can be created with nested lists or tuples:"
   ]
  },
  {
   "cell_type": "code",
   "execution_count": 13,
   "metadata": {
    "collapsed": false
   },
   "outputs": [],
   "source": [
    "data = [[0.0,2.0,4.0,6.0],[1.0,3.0,5.0,7.0]]\n",
    "b = np.array(data)"
   ]
  },
  {
   "cell_type": "code",
   "execution_count": 14,
   "metadata": {
    "collapsed": false
   },
   "outputs": [
    {
     "data": {
      "text/plain": [
       "array([[ 0.,  2.,  4.,  6.],\n",
       "       [ 1.,  3.,  5.,  7.]])"
      ]
     },
     "execution_count": 14,
     "metadata": {},
     "output_type": "execute_result"
    }
   ],
   "source": [
    "b"
   ]
  },
  {
   "cell_type": "code",
   "execution_count": 15,
   "metadata": {
    "collapsed": false
   },
   "outputs": [
    {
     "data": {
      "text/html": [
       "<style type=\"text/css\">table.blockgrid {border: none;} .blockgrid tr {border: none;} .blockgrid td {padding: 0px;} #blocks9f8a6d86-582c-4b45-90e9-d60b86ce60da td {border: 1px solid white;}</style><table id=\"blocks9f8a6d86-582c-4b45-90e9-d60b86ce60da\" class=\"blockgrid\"><tbody><tr><td title=\"Index: [0, 0]&#10;Color: (68, 1, 84)\" style=\"width: 30px; height: 30px;background-color: rgb(68, 1, 84);\"></td><td title=\"Index: [0, 1]&#10;Color: (54, 92, 141)\" style=\"width: 30px; height: 30px;background-color: rgb(54, 92, 141);\"></td><td title=\"Index: [0, 2]&#10;Color: (31, 161, 135)\" style=\"width: 30px; height: 30px;background-color: rgb(31, 161, 135);\"></td><td title=\"Index: [0, 3]&#10;Color: (160, 218, 57)\" style=\"width: 30px; height: 30px;background-color: rgb(160, 218, 57);\"></td></tr><tr><td title=\"Index: [1, 0]&#10;Color: (70, 50, 126)\" style=\"width: 30px; height: 30px;background-color: rgb(70, 50, 126);\"></td><td title=\"Index: [1, 1]&#10;Color: (39, 127, 142)\" style=\"width: 30px; height: 30px;background-color: rgb(39, 127, 142);\"></td><td title=\"Index: [1, 2]&#10;Color: (74, 193, 109)\" style=\"width: 30px; height: 30px;background-color: rgb(74, 193, 109);\"></td><td title=\"Index: [1, 3]&#10;Color: (253, 231, 37)\" style=\"width: 30px; height: 30px;background-color: rgb(253, 231, 37);\"></td></tr></tbody></table>"
      ],
      "text/plain": [
       "<ipythonblocks.ipythonblocks.BlockGrid at 0x7f642f19f7b8>"
      ]
     },
     "execution_count": 15,
     "metadata": {},
     "output_type": "execute_result"
    }
   ],
   "source": [
    "va.vizarray(b)"
   ]
  },
  {
   "cell_type": "code",
   "execution_count": 16,
   "metadata": {
    "collapsed": false
   },
   "outputs": [
    {
     "data": {
      "text/plain": [
       "((2, 4), 2, 8, 64)"
      ]
     },
     "execution_count": 16,
     "metadata": {},
     "output_type": "execute_result"
    }
   ],
   "source": [
    "b.shape, b.ndim, b.size, b.nbytes"
   ]
  },
  {
   "cell_type": "markdown",
   "metadata": {},
   "source": [
    "The `arange` function is similar to Python's builtin `range` function, but creates an array:"
   ]
  },
  {
   "cell_type": "code",
   "execution_count": 17,
   "metadata": {
    "collapsed": false
   },
   "outputs": [
    {
     "data": {
      "text/plain": [
       "array([ 0.,  1.,  2.,  3.,  4.,  5.,  6.,  7.,  8.,  9.])"
      ]
     },
     "execution_count": 17,
     "metadata": {},
     "output_type": "execute_result"
    }
   ],
   "source": [
    "c = np.arange(0.0, 10.0, 1.0) # Step size of 1.0\n",
    "c"
   ]
  },
  {
   "cell_type": "markdown",
   "metadata": {},
   "source": [
    "The `linspace` function is similar, but allows you to specify the number of points:"
   ]
  },
  {
   "cell_type": "code",
   "execution_count": 18,
   "metadata": {
    "collapsed": false
   },
   "outputs": [
    {
     "data": {
      "text/plain": [
       "array([ 0. ,  0.5,  1. ,  1.5,  2. ,  2.5,  3. ,  3.5,  4. ,  4.5,  5. ])"
      ]
     },
     "execution_count": 18,
     "metadata": {},
     "output_type": "execute_result"
    }
   ],
   "source": [
    "e = np.linspace(0.0, 5.0, 11) # 11 points\n",
    "e"
   ]
  },
  {
   "cell_type": "markdown",
   "metadata": {},
   "source": [
    "There are also `empty`, `zeros` and `ones` functions:"
   ]
  },
  {
   "cell_type": "code",
   "execution_count": 19,
   "metadata": {
    "collapsed": false
   },
   "outputs": [
    {
     "data": {
      "text/plain": [
       "array([[  6.92032146e-310,   1.85175172e-316,   6.92031250e-310,\n",
       "          6.92031250e-310],\n",
       "       [  6.92031250e-310,   6.92031250e-310,   6.92031250e-310,\n",
       "          6.92031250e-310],\n",
       "       [  6.92031250e-310,   6.92031250e-310,   5.07904227e-317,\n",
       "          5.07904227e-317],\n",
       "       [  0.00000000e+000,   0.00000000e+000,   5.07904227e-317,\n",
       "          0.00000000e+000]])"
      ]
     },
     "execution_count": 19,
     "metadata": {},
     "output_type": "execute_result"
    }
   ],
   "source": [
    "np.empty((4,4))"
   ]
  },
  {
   "cell_type": "code",
   "execution_count": 20,
   "metadata": {
    "collapsed": false
   },
   "outputs": [
    {
     "data": {
      "text/plain": [
       "array([[ 0.,  0.,  0.],\n",
       "       [ 0.,  0.,  0.],\n",
       "       [ 0.,  0.,  0.]])"
      ]
     },
     "execution_count": 20,
     "metadata": {},
     "output_type": "execute_result"
    }
   ],
   "source": [
    "np.zeros((3,3))"
   ]
  },
  {
   "cell_type": "code",
   "execution_count": 21,
   "metadata": {
    "collapsed": false
   },
   "outputs": [
    {
     "data": {
      "text/plain": [
       "array([[ 1.,  1.,  1.],\n",
       "       [ 1.,  1.,  1.],\n",
       "       [ 1.,  1.,  1.]])"
      ]
     },
     "execution_count": 21,
     "metadata": {},
     "output_type": "execute_result"
    }
   ],
   "source": [
    "np.ones((3,3))"
   ]
  },
  {
   "cell_type": "markdown",
   "metadata": {},
   "source": [
    "See also:\n",
    "\n",
    "* `empty_like`, `ones_like`, `zeros_like`\n",
    "* `eye`, `identity`, `diag`"
   ]
  },
  {
   "cell_type": "markdown",
   "metadata": {},
   "source": [
    "## dtype"
   ]
  },
  {
   "cell_type": "markdown",
   "metadata": {},
   "source": [
    "Arrays have a `dtype` attribute that encapsulates the \"data type\" of each element. It can be set:\n",
    "\n",
    "* Implicitely by the element type\n",
    "* By passing the `dtype` argument to an array creation function\n",
    "\n",
    "Here is an integer valued array:"
   ]
  },
  {
   "cell_type": "code",
   "execution_count": 22,
   "metadata": {
    "collapsed": false
   },
   "outputs": [],
   "source": [
    "a = np.array([0,1,2,3])"
   ]
  },
  {
   "cell_type": "code",
   "execution_count": 23,
   "metadata": {
    "collapsed": false
   },
   "outputs": [
    {
     "data": {
      "text/plain": [
       "(array([0, 1, 2, 3]), dtype('int64'))"
      ]
     },
     "execution_count": 23,
     "metadata": {},
     "output_type": "execute_result"
    }
   ],
   "source": [
    "a, a.dtype"
   ]
  },
  {
   "cell_type": "markdown",
   "metadata": {},
   "source": [
    "All array creation functions accept an optional `dtype` argument:"
   ]
  },
  {
   "cell_type": "code",
   "execution_count": 24,
   "metadata": {
    "collapsed": false
   },
   "outputs": [
    {
     "data": {
      "text/plain": [
       "array([[ 0.+0.j,  0.+0.j],\n",
       "       [ 0.+0.j,  0.+0.j]], dtype=complex64)"
      ]
     },
     "execution_count": 24,
     "metadata": {},
     "output_type": "execute_result"
    }
   ],
   "source": [
    "b = np.zeros((2,2), dtype=np.complex64)\n",
    "b"
   ]
  },
  {
   "cell_type": "code",
   "execution_count": 25,
   "metadata": {
    "collapsed": false
   },
   "outputs": [
    {
     "data": {
      "text/plain": [
       "array([ 0.,  2.,  4.,  6.,  8.])"
      ]
     },
     "execution_count": 25,
     "metadata": {},
     "output_type": "execute_result"
    }
   ],
   "source": [
    "c = np.arange(0, 10, 2, dtype=np.float)\n",
    "c"
   ]
  },
  {
   "cell_type": "markdown",
   "metadata": {},
   "source": [
    "You can use the `astype` method to create a copy of the array with a given `dtype`:"
   ]
  },
  {
   "cell_type": "code",
   "execution_count": 26,
   "metadata": {
    "collapsed": false
   },
   "outputs": [
    {
     "data": {
      "text/plain": [
       "array([0, 2, 4, 6, 8])"
      ]
     },
     "execution_count": 26,
     "metadata": {},
     "output_type": "execute_result"
    }
   ],
   "source": [
    "d = c.astype(dtype=np.int)\n",
    "d"
   ]
  },
  {
   "cell_type": "markdown",
   "metadata": {},
   "source": [
    "IPython's tab completion is useful for exploring the various available `dtypes`:"
   ]
  },
  {
   "cell_type": "code",
   "execution_count": 27,
   "metadata": {
    "collapsed": false
   },
   "outputs": [
    {
     "data": {
      "text/plain": [
       "np.float\n",
       "np.float128\n",
       "np.float16\n",
       "np.float32\n",
       "np.float64\n",
       "np.float_\n",
       "np.floating"
      ]
     },
     "metadata": {},
     "output_type": "display_data"
    }
   ],
   "source": [
    "np.float*?"
   ]
  },
  {
   "cell_type": "markdown",
   "metadata": {},
   "source": [
    "The NumPy documentation on [dtypes](http://docs.scipy.org/doc/numpy/reference/arrays.dtypes.html) describes the many other ways of specifying dtypes."
   ]
  },
  {
   "cell_type": "markdown",
   "metadata": {},
   "source": [
    "## Array operations"
   ]
  },
  {
   "cell_type": "markdown",
   "metadata": {},
   "source": [
    "Basic mathematical operations are **elementwise** for:\n",
    "\n",
    "* Scalars and arrays\n",
    "* Arrays and arrays\n",
    "\n",
    "Fill an array with a value:"
   ]
  },
  {
   "cell_type": "code",
   "execution_count": 28,
   "metadata": {
    "collapsed": false
   },
   "outputs": [
    {
     "data": {
      "text/plain": [
       "array([[ 0.1,  0.1,  0.1],\n",
       "       [ 0.1,  0.1,  0.1],\n",
       "       [ 0.1,  0.1,  0.1]])"
      ]
     },
     "execution_count": 28,
     "metadata": {},
     "output_type": "execute_result"
    }
   ],
   "source": [
    "a = np.empty((3,3))\n",
    "a.fill(0.1)\n",
    "a"
   ]
  },
  {
   "cell_type": "code",
   "execution_count": 29,
   "metadata": {
    "collapsed": false
   },
   "outputs": [
    {
     "data": {
      "text/plain": [
       "array([[ 1.,  1.,  1.],\n",
       "       [ 1.,  1.,  1.],\n",
       "       [ 1.,  1.,  1.]])"
      ]
     },
     "execution_count": 29,
     "metadata": {},
     "output_type": "execute_result"
    }
   ],
   "source": [
    "b = np.ones((3,3))\n",
    "b"
   ]
  },
  {
   "cell_type": "markdown",
   "metadata": {},
   "source": [
    "Addition is elementwise:"
   ]
  },
  {
   "cell_type": "code",
   "execution_count": 30,
   "metadata": {
    "collapsed": false
   },
   "outputs": [
    {
     "data": {
      "text/plain": [
       "array([[ 1.1,  1.1,  1.1],\n",
       "       [ 1.1,  1.1,  1.1],\n",
       "       [ 1.1,  1.1,  1.1]])"
      ]
     },
     "execution_count": 30,
     "metadata": {},
     "output_type": "execute_result"
    }
   ],
   "source": [
    "a+b"
   ]
  },
  {
   "cell_type": "markdown",
   "metadata": {},
   "source": [
    "Division is elementwise:"
   ]
  },
  {
   "cell_type": "code",
   "execution_count": 31,
   "metadata": {
    "collapsed": false
   },
   "outputs": [
    {
     "data": {
      "text/plain": [
       "array([[ 10.,  10.,  10.],\n",
       "       [ 10.,  10.,  10.],\n",
       "       [ 10.,  10.,  10.]])"
      ]
     },
     "execution_count": 31,
     "metadata": {},
     "output_type": "execute_result"
    }
   ],
   "source": [
    "b/a"
   ]
  },
  {
   "cell_type": "markdown",
   "metadata": {},
   "source": [
    "As are powers:"
   ]
  },
  {
   "cell_type": "code",
   "execution_count": 32,
   "metadata": {
    "collapsed": false
   },
   "outputs": [
    {
     "data": {
      "text/plain": [
       "array([[ 0.01,  0.01,  0.01],\n",
       "       [ 0.01,  0.01,  0.01],\n",
       "       [ 0.01,  0.01,  0.01]])"
      ]
     },
     "execution_count": 32,
     "metadata": {},
     "output_type": "execute_result"
    }
   ],
   "source": [
    "a**2"
   ]
  },
  {
   "cell_type": "markdown",
   "metadata": {},
   "source": [
    "Scalar multiplication is also elementwise:"
   ]
  },
  {
   "cell_type": "code",
   "execution_count": 33,
   "metadata": {
    "collapsed": false
   },
   "outputs": [
    {
     "data": {
      "text/plain": [
       "array([[ 3.14159265,  3.14159265,  3.14159265],\n",
       "       [ 3.14159265,  3.14159265,  3.14159265],\n",
       "       [ 3.14159265,  3.14159265,  3.14159265]])"
      ]
     },
     "execution_count": 33,
     "metadata": {},
     "output_type": "execute_result"
    }
   ],
   "source": [
    "np.pi*b"
   ]
  },
  {
   "cell_type": "markdown",
   "metadata": {},
   "source": [
    "## Indexing and slicing"
   ]
  },
  {
   "cell_type": "markdown",
   "metadata": {},
   "source": [
    "Indexing and slicing provide an efficient way of getting the values in an array and modifying them."
   ]
  },
  {
   "cell_type": "code",
   "execution_count": 34,
   "metadata": {
    "collapsed": false
   },
   "outputs": [],
   "source": [
    "a = np.random.rand(10,10)"
   ]
  },
  {
   "cell_type": "markdown",
   "metadata": {},
   "source": [
    "The `enable` function is part of `vizarray` and enables a nice display of arrays:"
   ]
  },
  {
   "cell_type": "code",
   "execution_count": 35,
   "metadata": {
    "collapsed": false
   },
   "outputs": [],
   "source": [
    "va.enable_notebook()"
   ]
  },
  {
   "cell_type": "code",
   "execution_count": 36,
   "metadata": {
    "collapsed": false
   },
   "outputs": [
    {
     "data": {
      "text/html": [
       "<style type=\"text/css\">table.blockgrid {border: none;} .blockgrid tr {border: none;} .blockgrid td {padding: 0px;} #blocks6f65eaba-c510-486b-8675-391795d652de td {border: 1px solid white;}</style><table id=\"blocks6f65eaba-c510-486b-8675-391795d652de\" class=\"blockgrid\"><tbody><tr><td title=\"Index: [0, 0]&#10;Color: (54, 92, 141)\" style=\"width: 30px; height: 30px;background-color: rgb(54, 92, 141);\"></td><td title=\"Index: [0, 1]&#10;Color: (57, 86, 140)\" style=\"width: 30px; height: 30px;background-color: rgb(57, 86, 140);\"></td><td title=\"Index: [0, 2]&#10;Color: (32, 146, 140)\" style=\"width: 30px; height: 30px;background-color: rgb(32, 146, 140);\"></td><td title=\"Index: [0, 3]&#10;Color: (68, 2, 86)\" style=\"width: 30px; height: 30px;background-color: rgb(68, 2, 86);\"></td><td title=\"Index: [0, 4]&#10;Color: (50, 101, 142)\" style=\"width: 30px; height: 30px;background-color: rgb(50, 101, 142);\"></td><td title=\"Index: [0, 5]&#10;Color: (31, 159, 136)\" style=\"width: 30px; height: 30px;background-color: rgb(31, 159, 136);\"></td><td title=\"Index: [0, 6]&#10;Color: (70, 52, 128)\" style=\"width: 30px; height: 30px;background-color: rgb(70, 52, 128);\"></td><td title=\"Index: [0, 7]&#10;Color: (72, 29, 111)\" style=\"width: 30px; height: 30px;background-color: rgb(72, 29, 111);\"></td><td title=\"Index: [0, 8]&#10;Color: (51, 99, 141)\" style=\"width: 30px; height: 30px;background-color: rgb(51, 99, 141);\"></td><td title=\"Index: [0, 9]&#10;Color: (45, 113, 142)\" style=\"width: 30px; height: 30px;background-color: rgb(45, 113, 142);\"></td></tr><tr><td title=\"Index: [1, 0]&#10;Color: (103, 204, 92)\" style=\"width: 30px; height: 30px;background-color: rgb(103, 204, 92);\"></td><td title=\"Index: [1, 1]&#10;Color: (53, 94, 141)\" style=\"width: 30px; height: 30px;background-color: rgb(53, 94, 141);\"></td><td title=\"Index: [1, 2]&#10;Color: (63, 71, 136)\" style=\"width: 30px; height: 30px;background-color: rgb(63, 71, 136);\"></td><td title=\"Index: [1, 3]&#10;Color: (33, 144, 141)\" style=\"width: 30px; height: 30px;background-color: rgb(33, 144, 141);\"></td><td title=\"Index: [1, 4]&#10;Color: (35, 136, 142)\" style=\"width: 30px; height: 30px;background-color: rgb(35, 136, 142);\"></td><td title=\"Index: [1, 5]&#10;Color: (71, 19, 101)\" style=\"width: 30px; height: 30px;background-color: rgb(71, 19, 101);\"></td><td title=\"Index: [1, 6]&#10;Color: (197, 224, 33)\" style=\"width: 30px; height: 30px;background-color: rgb(197, 224, 33);\"></td><td title=\"Index: [1, 7]&#10;Color: (94, 201, 98)\" style=\"width: 30px; height: 30px;background-color: rgb(94, 201, 98);\"></td><td title=\"Index: [1, 8]&#10;Color: (66, 64, 134)\" style=\"width: 30px; height: 30px;background-color: rgb(66, 64, 134);\"></td><td title=\"Index: [1, 9]&#10;Color: (72, 33, 115)\" style=\"width: 30px; height: 30px;background-color: rgb(72, 33, 115);\"></td></tr><tr><td title=\"Index: [2, 0]&#10;Color: (72, 41, 121)\" style=\"width: 30px; height: 30px;background-color: rgb(72, 41, 121);\"></td><td title=\"Index: [2, 1]&#10;Color: (69, 4, 87)\" style=\"width: 30px; height: 30px;background-color: rgb(69, 4, 87);\"></td><td title=\"Index: [2, 2]&#10;Color: (149, 216, 64)\" style=\"width: 30px; height: 30px;background-color: rgb(149, 216, 64);\"></td><td title=\"Index: [2, 3]&#10;Color: (39, 126, 142)\" style=\"width: 30px; height: 30px;background-color: rgb(39, 126, 142);\"></td><td title=\"Index: [2, 4]&#10;Color: (170, 220, 50)\" style=\"width: 30px; height: 30px;background-color: rgb(170, 220, 50);\"></td><td title=\"Index: [2, 5]&#10;Color: (229, 228, 25)\" style=\"width: 30px; height: 30px;background-color: rgb(229, 228, 25);\"></td><td title=\"Index: [2, 6]&#10;Color: (31, 150, 139)\" style=\"width: 30px; height: 30px;background-color: rgb(31, 150, 139);\"></td><td title=\"Index: [2, 7]&#10;Color: (31, 162, 135)\" style=\"width: 30px; height: 30px;background-color: rgb(31, 162, 135);\"></td><td title=\"Index: [2, 8]&#10;Color: (92, 200, 99)\" style=\"width: 30px; height: 30px;background-color: rgb(92, 200, 99);\"></td><td title=\"Index: [2, 9]&#10;Color: (61, 188, 116)\" style=\"width: 30px; height: 30px;background-color: rgb(61, 188, 116);\"></td></tr><tr><td title=\"Index: [3, 0]&#10;Color: (41, 175, 127)\" style=\"width: 30px; height: 30px;background-color: rgb(41, 175, 127);\"></td><td title=\"Index: [3, 1]&#10;Color: (31, 162, 135)\" style=\"width: 30px; height: 30px;background-color: rgb(31, 162, 135);\"></td><td title=\"Index: [3, 2]&#10;Color: (56, 185, 119)\" style=\"width: 30px; height: 30px;background-color: rgb(56, 185, 119);\"></td><td title=\"Index: [3, 3]&#10;Color: (30, 157, 137)\" style=\"width: 30px; height: 30px;background-color: rgb(30, 157, 137);\"></td><td title=\"Index: [3, 4]&#10;Color: (49, 103, 142)\" style=\"width: 30px; height: 30px;background-color: rgb(49, 103, 142);\"></td><td title=\"Index: [3, 5]&#10;Color: (31, 150, 139)\" style=\"width: 30px; height: 30px;background-color: rgb(31, 150, 139);\"></td><td title=\"Index: [3, 6]&#10;Color: (41, 122, 142)\" style=\"width: 30px; height: 30px;background-color: rgb(41, 122, 142);\"></td><td title=\"Index: [3, 7]&#10;Color: (70, 8, 92)\" style=\"width: 30px; height: 30px;background-color: rgb(70, 8, 92);\"></td><td title=\"Index: [3, 8]&#10;Color: (137, 213, 72)\" style=\"width: 30px; height: 30px;background-color: rgb(137, 213, 72);\"></td><td title=\"Index: [3, 9]&#10;Color: (50, 182, 122)\" style=\"width: 30px; height: 30px;background-color: rgb(50, 182, 122);\"></td></tr><tr><td title=\"Index: [4, 0]&#10;Color: (56, 88, 140)\" style=\"width: 30px; height: 30px;background-color: rgb(56, 88, 140);\"></td><td title=\"Index: [4, 1]&#10;Color: (202, 225, 31)\" style=\"width: 30px; height: 30px;background-color: rgb(202, 225, 31);\"></td><td title=\"Index: [4, 2]&#10;Color: (31, 160, 136)\" style=\"width: 30px; height: 30px;background-color: rgb(31, 160, 136);\"></td><td title=\"Index: [4, 3]&#10;Color: (32, 147, 140)\" style=\"width: 30px; height: 30px;background-color: rgb(32, 147, 140);\"></td><td title=\"Index: [4, 4]&#10;Color: (38, 130, 142)\" style=\"width: 30px; height: 30px;background-color: rgb(38, 130, 142);\"></td><td title=\"Index: [4, 5]&#10;Color: (31, 148, 140)\" style=\"width: 30px; height: 30px;background-color: rgb(31, 148, 140);\"></td><td title=\"Index: [4, 6]&#10;Color: (61, 78, 138)\" style=\"width: 30px; height: 30px;background-color: rgb(61, 78, 138);\"></td><td title=\"Index: [4, 7]&#10;Color: (42, 120, 142)\" style=\"width: 30px; height: 30px;background-color: rgb(42, 120, 142);\"></td><td title=\"Index: [4, 8]&#10;Color: (31, 151, 139)\" style=\"width: 30px; height: 30px;background-color: rgb(31, 151, 139);\"></td><td title=\"Index: [4, 9]&#10;Color: (40, 125, 142)\" style=\"width: 30px; height: 30px;background-color: rgb(40, 125, 142);\"></td></tr><tr><td title=\"Index: [5, 0]&#10;Color: (69, 53, 129)\" style=\"width: 30px; height: 30px;background-color: rgb(69, 53, 129);\"></td><td title=\"Index: [5, 1]&#10;Color: (68, 2, 86)\" style=\"width: 30px; height: 30px;background-color: rgb(68, 2, 86);\"></td><td title=\"Index: [5, 2]&#10;Color: (92, 200, 99)\" style=\"width: 30px; height: 30px;background-color: rgb(92, 200, 99);\"></td><td title=\"Index: [5, 3]&#10;Color: (101, 203, 94)\" style=\"width: 30px; height: 30px;background-color: rgb(101, 203, 94);\"></td><td title=\"Index: [5, 4]&#10;Color: (68, 59, 132)\" style=\"width: 30px; height: 30px;background-color: rgb(68, 59, 132);\"></td><td title=\"Index: [5, 5]&#10;Color: (231, 228, 25)\" style=\"width: 30px; height: 30px;background-color: rgb(231, 228, 25);\"></td><td title=\"Index: [5, 6]&#10;Color: (49, 181, 123)\" style=\"width: 30px; height: 30px;background-color: rgb(49, 181, 123);\"></td><td title=\"Index: [5, 7]&#10;Color: (66, 63, 133)\" style=\"width: 30px; height: 30px;background-color: rgb(66, 63, 133);\"></td><td title=\"Index: [5, 8]&#10;Color: (52, 96, 141)\" style=\"width: 30px; height: 30px;background-color: rgb(52, 96, 141);\"></td><td title=\"Index: [5, 9]&#10;Color: (71, 19, 101)\" style=\"width: 30px; height: 30px;background-color: rgb(71, 19, 101);\"></td></tr><tr><td title=\"Index: [6, 0]&#10;Color: (70, 10, 93)\" style=\"width: 30px; height: 30px;background-color: rgb(70, 10, 93);\"></td><td title=\"Index: [6, 1]&#10;Color: (31, 153, 138)\" style=\"width: 30px; height: 30px;background-color: rgb(31, 153, 138);\"></td><td title=\"Index: [6, 2]&#10;Color: (208, 225, 28)\" style=\"width: 30px; height: 30px;background-color: rgb(208, 225, 28);\"></td><td title=\"Index: [6, 3]&#10;Color: (55, 90, 140)\" style=\"width: 30px; height: 30px;background-color: rgb(55, 90, 140);\"></td><td title=\"Index: [6, 4]&#10;Color: (61, 77, 138)\" style=\"width: 30px; height: 30px;background-color: rgb(61, 77, 138);\"></td><td title=\"Index: [6, 5]&#10;Color: (70, 51, 127)\" style=\"width: 30px; height: 30px;background-color: rgb(70, 51, 127);\"></td><td title=\"Index: [6, 6]&#10;Color: (31, 158, 137)\" style=\"width: 30px; height: 30px;background-color: rgb(31, 158, 137);\"></td><td title=\"Index: [6, 7]&#10;Color: (78, 195, 107)\" style=\"width: 30px; height: 30px;background-color: rgb(78, 195, 107);\"></td><td title=\"Index: [6, 8]&#10;Color: (69, 53, 129)\" style=\"width: 30px; height: 30px;background-color: rgb(69, 53, 129);\"></td><td title=\"Index: [6, 9]&#10;Color: (51, 99, 141)\" style=\"width: 30px; height: 30px;background-color: rgb(51, 99, 141);\"></td></tr><tr><td title=\"Index: [7, 0]&#10;Color: (39, 126, 142)\" style=\"width: 30px; height: 30px;background-color: rgb(39, 126, 142);\"></td><td title=\"Index: [7, 1]&#10;Color: (35, 169, 131)\" style=\"width: 30px; height: 30px;background-color: rgb(35, 169, 131);\"></td><td title=\"Index: [7, 2]&#10;Color: (69, 53, 129)\" style=\"width: 30px; height: 30px;background-color: rgb(69, 53, 129);\"></td><td title=\"Index: [7, 3]&#10;Color: (31, 151, 139)\" style=\"width: 30px; height: 30px;background-color: rgb(31, 151, 139);\"></td><td title=\"Index: [7, 4]&#10;Color: (68, 1, 84)\" style=\"width: 30px; height: 30px;background-color: rgb(68, 1, 84);\"></td><td title=\"Index: [7, 5]&#10;Color: (70, 50, 126)\" style=\"width: 30px; height: 30px;background-color: rgb(70, 50, 126);\"></td><td title=\"Index: [7, 6]&#10;Color: (59, 82, 139)\" style=\"width: 30px; height: 30px;background-color: rgb(59, 82, 139);\"></td><td title=\"Index: [7, 7]&#10;Color: (234, 229, 26)\" style=\"width: 30px; height: 30px;background-color: rgb(234, 229, 26);\"></td><td title=\"Index: [7, 8]&#10;Color: (162, 218, 55)\" style=\"width: 30px; height: 30px;background-color: rgb(162, 218, 55);\"></td><td title=\"Index: [7, 9]&#10;Color: (31, 161, 136)\" style=\"width: 30px; height: 30px;background-color: rgb(31, 161, 136);\"></td></tr><tr><td title=\"Index: [8, 0]&#10;Color: (41, 175, 127)\" style=\"width: 30px; height: 30px;background-color: rgb(41, 175, 127);\"></td><td title=\"Index: [8, 1]&#10;Color: (72, 38, 119)\" style=\"width: 30px; height: 30px;background-color: rgb(72, 38, 119);\"></td><td title=\"Index: [8, 2]&#10;Color: (122, 209, 81)\" style=\"width: 30px; height: 30px;background-color: rgb(122, 209, 81);\"></td><td title=\"Index: [8, 3]&#10;Color: (57, 85, 140)\" style=\"width: 30px; height: 30px;background-color: rgb(57, 85, 140);\"></td><td title=\"Index: [8, 4]&#10;Color: (127, 211, 78)\" style=\"width: 30px; height: 30px;background-color: rgb(127, 211, 78);\"></td><td title=\"Index: [8, 5]&#10;Color: (69, 4, 87)\" style=\"width: 30px; height: 30px;background-color: rgb(69, 4, 87);\"></td><td title=\"Index: [8, 6]&#10;Color: (108, 205, 90)\" style=\"width: 30px; height: 30px;background-color: rgb(108, 205, 90);\"></td><td title=\"Index: [8, 7]&#10;Color: (119, 209, 83)\" style=\"width: 30px; height: 30px;background-color: rgb(119, 209, 83);\"></td><td title=\"Index: [8, 8]&#10;Color: (72, 27, 109)\" style=\"width: 30px; height: 30px;background-color: rgb(72, 27, 109);\"></td><td title=\"Index: [8, 9]&#10;Color: (49, 181, 123)\" style=\"width: 30px; height: 30px;background-color: rgb(49, 181, 123);\"></td></tr><tr><td title=\"Index: [9, 0]&#10;Color: (45, 113, 142)\" style=\"width: 30px; height: 30px;background-color: rgb(45, 113, 142);\"></td><td title=\"Index: [9, 1]&#10;Color: (68, 58, 131)\" style=\"width: 30px; height: 30px;background-color: rgb(68, 58, 131);\"></td><td title=\"Index: [9, 2]&#10;Color: (32, 146, 140)\" style=\"width: 30px; height: 30px;background-color: rgb(32, 146, 140);\"></td><td title=\"Index: [9, 3]&#10;Color: (67, 61, 132)\" style=\"width: 30px; height: 30px;background-color: rgb(67, 61, 132);\"></td><td title=\"Index: [9, 4]&#10;Color: (66, 190, 113)\" style=\"width: 30px; height: 30px;background-color: rgb(66, 190, 113);\"></td><td title=\"Index: [9, 5]&#10;Color: (218, 227, 25)\" style=\"width: 30px; height: 30px;background-color: rgb(218, 227, 25);\"></td><td title=\"Index: [9, 6]&#10;Color: (71, 44, 122)\" style=\"width: 30px; height: 30px;background-color: rgb(71, 44, 122);\"></td><td title=\"Index: [9, 7]&#10;Color: (253, 231, 37)\" style=\"width: 30px; height: 30px;background-color: rgb(253, 231, 37);\"></td><td title=\"Index: [9, 8]&#10;Color: (31, 161, 136)\" style=\"width: 30px; height: 30px;background-color: rgb(31, 161, 136);\"></td><td title=\"Index: [9, 9]&#10;Color: (33, 142, 141)\" style=\"width: 30px; height: 30px;background-color: rgb(33, 142, 141);\"></td></tr></tbody></table>"
      ],
      "text/plain": [
       "array([[ 0.28843705,  0.26691533,  0.50684485,  0.01177901,  0.32289942,\n",
       "         0.55616335,  0.15296375,  0.08499039,  0.31444376,  0.37012103],\n",
       "       [ 0.75726719,  0.2965775 ,  0.21349892,  0.49448394,  0.46229986,\n",
       "         0.05518873,  0.90208761,  0.74227227,  0.19318093,  0.09622425],\n",
       "       [ 0.11951988,  0.01764011,  0.83296882,  0.42334931,  0.86212151,\n",
       "         0.94508249,  0.52131436,  0.57164416,  0.74017517,  0.67693216],\n",
       "       [ 0.62509341,  0.57008238,  0.66832475,  0.54993852,  0.32839552,\n",
       "         0.52267351,  0.40598286,  0.02717127,  0.81122015,  0.65270927],\n",
       "       [ 0.27151922,  0.90966585,  0.56047303,  0.50977535,  0.44020431,\n",
       "         0.51544904,  0.23672536,  0.39972903,  0.52678812,  0.41732366],\n",
       "       [ 0.15932305,  0.01037194,  0.7407211 ,  0.75400206,  0.17495001,\n",
       "         0.9497303 ,  0.64888418,  0.18651569,  0.30433168,  0.05404427],\n",
       "       [ 0.03277088,  0.53206188,  0.91739086,  0.2784613 ,  0.23295839,\n",
       "         0.14829049,  0.55219537,  0.71250462,  0.15587272,  0.31413572],\n",
       "       [ 0.42345084,  0.59874457,  0.15669775,  0.52686089,  0.00616648,\n",
       "         0.14427059,  0.25284223,  0.95417454,  0.85113466,  0.56197061],\n",
       "       [ 0.62360691,  0.11280103,  0.79056607,  0.26660195,  0.79786072,\n",
       "         0.01392371,  0.76821023,  0.78640032,  0.07783353,  0.64787915],\n",
       "       [ 0.3693402 ,  0.17257004,  0.50461752,  0.18069093,  0.69105094,\n",
       "         0.9296363 ,  0.12705787,  0.98697687,  0.56362313,  0.48812098]])"
      ]
     },
     "execution_count": 36,
     "metadata": {},
     "output_type": "execute_result"
    }
   ],
   "source": [
    "a"
   ]
  },
  {
   "cell_type": "markdown",
   "metadata": {},
   "source": [
    "List Python lists and tuples, NumPy arrays have zero-based indexing and use the `[]` syntax for getting and setting values:"
   ]
  },
  {
   "cell_type": "code",
   "execution_count": 37,
   "metadata": {
    "collapsed": false
   },
   "outputs": [
    {
     "data": {
      "text/plain": [
       "0.2884370505546261"
      ]
     },
     "execution_count": 37,
     "metadata": {},
     "output_type": "execute_result"
    }
   ],
   "source": [
    "a[0,0]"
   ]
  },
  {
   "cell_type": "markdown",
   "metadata": {},
   "source": [
    "An index of `-1` refers to the last element along that axis:"
   ]
  },
  {
   "cell_type": "code",
   "execution_count": 38,
   "metadata": {
    "collapsed": false
   },
   "outputs": [
    {
     "data": {
      "text/plain": [
       "True"
      ]
     },
     "execution_count": 38,
     "metadata": {},
     "output_type": "execute_result"
    }
   ],
   "source": [
    "a[-1,-1] == a[9,9]"
   ]
  },
  {
   "cell_type": "markdown",
   "metadata": {},
   "source": [
    "Extract the 0th column using the `:` syntax, which denotes all elements along that axis."
   ]
  },
  {
   "cell_type": "code",
   "execution_count": 39,
   "metadata": {
    "collapsed": false
   },
   "outputs": [
    {
     "data": {
      "text/html": [
       "<style type=\"text/css\">table.blockgrid {border: none;} .blockgrid tr {border: none;} .blockgrid td {padding: 0px;} #blocks04f82ea0-a272-4793-ad46-5f891bbfe578 td {border: 1px solid white;}</style><table id=\"blocks04f82ea0-a272-4793-ad46-5f891bbfe578\" class=\"blockgrid\"><tbody><tr><td title=\"Index: [0, 0]&#10;Color: (54, 92, 141)\" style=\"width: 30px; height: 30px;background-color: rgb(54, 92, 141);\"></td><td title=\"Index: [0, 1]&#10;Color: (103, 204, 92)\" style=\"width: 30px; height: 30px;background-color: rgb(103, 204, 92);\"></td><td title=\"Index: [0, 2]&#10;Color: (72, 41, 121)\" style=\"width: 30px; height: 30px;background-color: rgb(72, 41, 121);\"></td><td title=\"Index: [0, 3]&#10;Color: (41, 175, 127)\" style=\"width: 30px; height: 30px;background-color: rgb(41, 175, 127);\"></td><td title=\"Index: [0, 4]&#10;Color: (56, 88, 140)\" style=\"width: 30px; height: 30px;background-color: rgb(56, 88, 140);\"></td><td title=\"Index: [0, 5]&#10;Color: (69, 53, 129)\" style=\"width: 30px; height: 30px;background-color: rgb(69, 53, 129);\"></td><td title=\"Index: [0, 6]&#10;Color: (70, 10, 93)\" style=\"width: 30px; height: 30px;background-color: rgb(70, 10, 93);\"></td><td title=\"Index: [0, 7]&#10;Color: (39, 126, 142)\" style=\"width: 30px; height: 30px;background-color: rgb(39, 126, 142);\"></td><td title=\"Index: [0, 8]&#10;Color: (41, 175, 127)\" style=\"width: 30px; height: 30px;background-color: rgb(41, 175, 127);\"></td><td title=\"Index: [0, 9]&#10;Color: (45, 113, 142)\" style=\"width: 30px; height: 30px;background-color: rgb(45, 113, 142);\"></td></tr></tbody></table>"
      ],
      "text/plain": [
       "array([ 0.28843705,  0.75726719,  0.11951988,  0.62509341,  0.27151922,\n",
       "        0.15932305,  0.03277088,  0.42345084,  0.62360691,  0.3693402 ])"
      ]
     },
     "execution_count": 39,
     "metadata": {},
     "output_type": "execute_result"
    }
   ],
   "source": [
    "a[:,0]"
   ]
  },
  {
   "cell_type": "markdown",
   "metadata": {},
   "source": [
    "The last row:"
   ]
  },
  {
   "cell_type": "code",
   "execution_count": 40,
   "metadata": {
    "collapsed": false
   },
   "outputs": [
    {
     "data": {
      "text/html": [
       "<style type=\"text/css\">table.blockgrid {border: none;} .blockgrid tr {border: none;} .blockgrid td {padding: 0px;} #blocksba092911-4832-4045-bd74-77a79a3c4ff5 td {border: 1px solid white;}</style><table id=\"blocksba092911-4832-4045-bd74-77a79a3c4ff5\" class=\"blockgrid\"><tbody><tr><td title=\"Index: [0, 0]&#10;Color: (45, 113, 142)\" style=\"width: 30px; height: 30px;background-color: rgb(45, 113, 142);\"></td><td title=\"Index: [0, 1]&#10;Color: (68, 58, 131)\" style=\"width: 30px; height: 30px;background-color: rgb(68, 58, 131);\"></td><td title=\"Index: [0, 2]&#10;Color: (32, 146, 140)\" style=\"width: 30px; height: 30px;background-color: rgb(32, 146, 140);\"></td><td title=\"Index: [0, 3]&#10;Color: (67, 61, 132)\" style=\"width: 30px; height: 30px;background-color: rgb(67, 61, 132);\"></td><td title=\"Index: [0, 4]&#10;Color: (66, 190, 113)\" style=\"width: 30px; height: 30px;background-color: rgb(66, 190, 113);\"></td><td title=\"Index: [0, 5]&#10;Color: (218, 227, 25)\" style=\"width: 30px; height: 30px;background-color: rgb(218, 227, 25);\"></td><td title=\"Index: [0, 6]&#10;Color: (71, 44, 122)\" style=\"width: 30px; height: 30px;background-color: rgb(71, 44, 122);\"></td><td title=\"Index: [0, 7]&#10;Color: (253, 231, 37)\" style=\"width: 30px; height: 30px;background-color: rgb(253, 231, 37);\"></td><td title=\"Index: [0, 8]&#10;Color: (31, 161, 136)\" style=\"width: 30px; height: 30px;background-color: rgb(31, 161, 136);\"></td><td title=\"Index: [0, 9]&#10;Color: (33, 142, 141)\" style=\"width: 30px; height: 30px;background-color: rgb(33, 142, 141);\"></td></tr></tbody></table>"
      ],
      "text/plain": [
       "array([ 0.3693402 ,  0.17257004,  0.50461752,  0.18069093,  0.69105094,\n",
       "        0.9296363 ,  0.12705787,  0.98697687,  0.56362313,  0.48812098])"
      ]
     },
     "execution_count": 40,
     "metadata": {},
     "output_type": "execute_result"
    }
   ],
   "source": [
    "a[-1,:]"
   ]
  },
  {
   "cell_type": "markdown",
   "metadata": {},
   "source": [
    "You can also slice ranges:"
   ]
  },
  {
   "cell_type": "code",
   "execution_count": 41,
   "metadata": {
    "collapsed": false
   },
   "outputs": [
    {
     "data": {
      "text/html": [
       "<style type=\"text/css\">table.blockgrid {border: none;} .blockgrid tr {border: none;} .blockgrid td {padding: 0px;} #blockscaca94a0-2a09-46b6-8ebb-5a274228aa2d td {border: 1px solid white;}</style><table id=\"blockscaca94a0-2a09-46b6-8ebb-5a274228aa2d\" class=\"blockgrid\"><tbody><tr><td title=\"Index: [0, 0]&#10;Color: (54, 92, 141)\" style=\"width: 30px; height: 30px;background-color: rgb(54, 92, 141);\"></td><td title=\"Index: [0, 1]&#10;Color: (57, 86, 140)\" style=\"width: 30px; height: 30px;background-color: rgb(57, 86, 140);\"></td></tr><tr><td title=\"Index: [1, 0]&#10;Color: (103, 204, 92)\" style=\"width: 30px; height: 30px;background-color: rgb(103, 204, 92);\"></td><td title=\"Index: [1, 1]&#10;Color: (53, 94, 141)\" style=\"width: 30px; height: 30px;background-color: rgb(53, 94, 141);\"></td></tr></tbody></table>"
      ],
      "text/plain": [
       "array([[ 0.28843705,  0.26691533],\n",
       "       [ 0.75726719,  0.2965775 ]])"
      ]
     },
     "execution_count": 41,
     "metadata": {},
     "output_type": "execute_result"
    }
   ],
   "source": [
    "a[0:2,0:2]"
   ]
  },
  {
   "cell_type": "markdown",
   "metadata": {},
   "source": [
    "Assignment also works with slices:"
   ]
  },
  {
   "cell_type": "code",
   "execution_count": 42,
   "metadata": {
    "collapsed": false
   },
   "outputs": [],
   "source": [
    "a[0:5,0:5] = 1.0"
   ]
  },
  {
   "cell_type": "code",
   "execution_count": 43,
   "metadata": {
    "collapsed": false
   },
   "outputs": [
    {
     "data": {
      "text/html": [
       "<style type=\"text/css\">table.blockgrid {border: none;} .blockgrid tr {border: none;} .blockgrid td {padding: 0px;} #blocksc1d1932c-3112-4231-be1f-b68ee1231e97 td {border: 1px solid white;}</style><table id=\"blocksc1d1932c-3112-4231-be1f-b68ee1231e97\" class=\"blockgrid\"><tbody><tr><td title=\"Index: [0, 0]&#10;Color: (253, 231, 37)\" style=\"width: 30px; height: 30px;background-color: rgb(253, 231, 37);\"></td><td title=\"Index: [0, 1]&#10;Color: (253, 231, 37)\" style=\"width: 30px; height: 30px;background-color: rgb(253, 231, 37);\"></td><td title=\"Index: [0, 2]&#10;Color: (253, 231, 37)\" style=\"width: 30px; height: 30px;background-color: rgb(253, 231, 37);\"></td><td title=\"Index: [0, 3]&#10;Color: (253, 231, 37)\" style=\"width: 30px; height: 30px;background-color: rgb(253, 231, 37);\"></td><td title=\"Index: [0, 4]&#10;Color: (253, 231, 37)\" style=\"width: 30px; height: 30px;background-color: rgb(253, 231, 37);\"></td><td title=\"Index: [0, 5]&#10;Color: (30, 157, 137)\" style=\"width: 30px; height: 30px;background-color: rgb(30, 157, 137);\"></td><td title=\"Index: [0, 6]&#10;Color: (70, 51, 127)\" style=\"width: 30px; height: 30px;background-color: rgb(70, 51, 127);\"></td><td title=\"Index: [0, 7]&#10;Color: (72, 29, 111)\" style=\"width: 30px; height: 30px;background-color: rgb(72, 29, 111);\"></td><td title=\"Index: [0, 8]&#10;Color: (51, 98, 141)\" style=\"width: 30px; height: 30px;background-color: rgb(51, 98, 141);\"></td><td title=\"Index: [0, 9]&#10;Color: (45, 112, 142)\" style=\"width: 30px; height: 30px;background-color: rgb(45, 112, 142);\"></td></tr><tr><td title=\"Index: [1, 0]&#10;Color: (253, 231, 37)\" style=\"width: 30px; height: 30px;background-color: rgb(253, 231, 37);\"></td><td title=\"Index: [1, 1]&#10;Color: (253, 231, 37)\" style=\"width: 30px; height: 30px;background-color: rgb(253, 231, 37);\"></td><td title=\"Index: [1, 2]&#10;Color: (253, 231, 37)\" style=\"width: 30px; height: 30px;background-color: rgb(253, 231, 37);\"></td><td title=\"Index: [1, 3]&#10;Color: (253, 231, 37)\" style=\"width: 30px; height: 30px;background-color: rgb(253, 231, 37);\"></td><td title=\"Index: [1, 4]&#10;Color: (253, 231, 37)\" style=\"width: 30px; height: 30px;background-color: rgb(253, 231, 37);\"></td><td title=\"Index: [1, 5]&#10;Color: (71, 19, 101)\" style=\"width: 30px; height: 30px;background-color: rgb(71, 19, 101);\"></td><td title=\"Index: [1, 6]&#10;Color: (189, 223, 38)\" style=\"width: 30px; height: 30px;background-color: rgb(189, 223, 38);\"></td><td title=\"Index: [1, 7]&#10;Color: (88, 199, 101)\" style=\"width: 30px; height: 30px;background-color: rgb(88, 199, 101);\"></td><td title=\"Index: [1, 8]&#10;Color: (66, 64, 134)\" style=\"width: 30px; height: 30px;background-color: rgb(66, 64, 134);\"></td><td title=\"Index: [1, 9]&#10;Color: (72, 33, 115)\" style=\"width: 30px; height: 30px;background-color: rgb(72, 33, 115);\"></td></tr><tr><td title=\"Index: [2, 0]&#10;Color: (253, 231, 37)\" style=\"width: 30px; height: 30px;background-color: rgb(253, 231, 37);\"></td><td title=\"Index: [2, 1]&#10;Color: (253, 231, 37)\" style=\"width: 30px; height: 30px;background-color: rgb(253, 231, 37);\"></td><td title=\"Index: [2, 2]&#10;Color: (253, 231, 37)\" style=\"width: 30px; height: 30px;background-color: rgb(253, 231, 37);\"></td><td title=\"Index: [2, 3]&#10;Color: (253, 231, 37)\" style=\"width: 30px; height: 30px;background-color: rgb(253, 231, 37);\"></td><td title=\"Index: [2, 4]&#10;Color: (253, 231, 37)\" style=\"width: 30px; height: 30px;background-color: rgb(253, 231, 37);\"></td><td title=\"Index: [2, 5]&#10;Color: (218, 227, 25)\" style=\"width: 30px; height: 30px;background-color: rgb(218, 227, 25);\"></td><td title=\"Index: [2, 6]&#10;Color: (31, 148, 140)\" style=\"width: 30px; height: 30px;background-color: rgb(31, 148, 140);\"></td><td title=\"Index: [2, 7]&#10;Color: (31, 161, 136)\" style=\"width: 30px; height: 30px;background-color: rgb(31, 161, 136);\"></td><td title=\"Index: [2, 8]&#10;Color: (88, 199, 101)\" style=\"width: 30px; height: 30px;background-color: rgb(88, 199, 101);\"></td><td title=\"Index: [2, 9]&#10;Color: (56, 185, 119)\" style=\"width: 30px; height: 30px;background-color: rgb(56, 185, 119);\"></td></tr><tr><td title=\"Index: [3, 0]&#10;Color: (253, 231, 37)\" style=\"width: 30px; height: 30px;background-color: rgb(253, 231, 37);\"></td><td title=\"Index: [3, 1]&#10;Color: (253, 231, 37)\" style=\"width: 30px; height: 30px;background-color: rgb(253, 231, 37);\"></td><td title=\"Index: [3, 2]&#10;Color: (253, 231, 37)\" style=\"width: 30px; height: 30px;background-color: rgb(253, 231, 37);\"></td><td title=\"Index: [3, 3]&#10;Color: (253, 231, 37)\" style=\"width: 30px; height: 30px;background-color: rgb(253, 231, 37);\"></td><td title=\"Index: [3, 4]&#10;Color: (253, 231, 37)\" style=\"width: 30px; height: 30px;background-color: rgb(253, 231, 37);\"></td><td title=\"Index: [3, 5]&#10;Color: (31, 149, 139)\" style=\"width: 30px; height: 30px;background-color: rgb(31, 149, 139);\"></td><td title=\"Index: [3, 6]&#10;Color: (42, 120, 142)\" style=\"width: 30px; height: 30px;background-color: rgb(42, 120, 142);\"></td><td title=\"Index: [3, 7]&#10;Color: (70, 8, 92)\" style=\"width: 30px; height: 30px;background-color: rgb(70, 8, 92);\"></td><td title=\"Index: [3, 8]&#10;Color: (129, 211, 77)\" style=\"width: 30px; height: 30px;background-color: rgb(129, 211, 77);\"></td><td title=\"Index: [3, 9]&#10;Color: (47, 180, 124)\" style=\"width: 30px; height: 30px;background-color: rgb(47, 180, 124);\"></td></tr><tr><td title=\"Index: [4, 0]&#10;Color: (253, 231, 37)\" style=\"width: 30px; height: 30px;background-color: rgb(253, 231, 37);\"></td><td title=\"Index: [4, 1]&#10;Color: (253, 231, 37)\" style=\"width: 30px; height: 30px;background-color: rgb(253, 231, 37);\"></td><td title=\"Index: [4, 2]&#10;Color: (253, 231, 37)\" style=\"width: 30px; height: 30px;background-color: rgb(253, 231, 37);\"></td><td title=\"Index: [4, 3]&#10;Color: (253, 231, 37)\" style=\"width: 30px; height: 30px;background-color: rgb(253, 231, 37);\"></td><td title=\"Index: [4, 4]&#10;Color: (253, 231, 37)\" style=\"width: 30px; height: 30px;background-color: rgb(253, 231, 37);\"></td><td title=\"Index: [4, 5]&#10;Color: (32, 147, 140)\" style=\"width: 30px; height: 30px;background-color: rgb(32, 147, 140);\"></td><td title=\"Index: [4, 6]&#10;Color: (61, 77, 138)\" style=\"width: 30px; height: 30px;background-color: rgb(61, 77, 138);\"></td><td title=\"Index: [4, 7]&#10;Color: (42, 119, 142)\" style=\"width: 30px; height: 30px;background-color: rgb(42, 119, 142);\"></td><td title=\"Index: [4, 8]&#10;Color: (31, 150, 139)\" style=\"width: 30px; height: 30px;background-color: rgb(31, 150, 139);\"></td><td title=\"Index: [4, 9]&#10;Color: (41, 123, 142)\" style=\"width: 30px; height: 30px;background-color: rgb(41, 123, 142);\"></td></tr><tr><td title=\"Index: [5, 0]&#10;Color: (69, 53, 129)\" style=\"width: 30px; height: 30px;background-color: rgb(69, 53, 129);\"></td><td title=\"Index: [5, 1]&#10;Color: (68, 2, 86)\" style=\"width: 30px; height: 30px;background-color: rgb(68, 2, 86);\"></td><td title=\"Index: [5, 2]&#10;Color: (88, 199, 101)\" style=\"width: 30px; height: 30px;background-color: rgb(88, 199, 101);\"></td><td title=\"Index: [5, 3]&#10;Color: (94, 201, 98)\" style=\"width: 30px; height: 30px;background-color: rgb(94, 201, 98);\"></td><td title=\"Index: [5, 4]&#10;Color: (68, 58, 131)\" style=\"width: 30px; height: 30px;background-color: rgb(68, 58, 131);\"></td><td title=\"Index: [5, 5]&#10;Color: (223, 227, 24)\" style=\"width: 30px; height: 30px;background-color: rgb(223, 227, 24);\"></td><td title=\"Index: [5, 6]&#10;Color: (46, 179, 124)\" style=\"width: 30px; height: 30px;background-color: rgb(46, 179, 124);\"></td><td title=\"Index: [5, 7]&#10;Color: (67, 62, 133)\" style=\"width: 30px; height: 30px;background-color: rgb(67, 62, 133);\"></td><td title=\"Index: [5, 8]&#10;Color: (53, 95, 141)\" style=\"width: 30px; height: 30px;background-color: rgb(53, 95, 141);\"></td><td title=\"Index: [5, 9]&#10;Color: (71, 19, 101)\" style=\"width: 30px; height: 30px;background-color: rgb(71, 19, 101);\"></td></tr><tr><td title=\"Index: [6, 0]&#10;Color: (70, 10, 93)\" style=\"width: 30px; height: 30px;background-color: rgb(70, 10, 93);\"></td><td title=\"Index: [6, 1]&#10;Color: (31, 151, 139)\" style=\"width: 30px; height: 30px;background-color: rgb(31, 151, 139);\"></td><td title=\"Index: [6, 2]&#10;Color: (200, 224, 32)\" style=\"width: 30px; height: 30px;background-color: rgb(200, 224, 32);\"></td><td title=\"Index: [6, 3]&#10;Color: (56, 89, 140)\" style=\"width: 30px; height: 30px;background-color: rgb(56, 89, 140);\"></td><td title=\"Index: [6, 4]&#10;Color: (62, 76, 138)\" style=\"width: 30px; height: 30px;background-color: rgb(62, 76, 138);\"></td><td title=\"Index: [6, 5]&#10;Color: (70, 50, 126)\" style=\"width: 30px; height: 30px;background-color: rgb(70, 50, 126);\"></td><td title=\"Index: [6, 6]&#10;Color: (30, 156, 137)\" style=\"width: 30px; height: 30px;background-color: rgb(30, 156, 137);\"></td><td title=\"Index: [6, 7]&#10;Color: (72, 193, 110)\" style=\"width: 30px; height: 30px;background-color: rgb(72, 193, 110);\"></td><td title=\"Index: [6, 8]&#10;Color: (70, 52, 128)\" style=\"width: 30px; height: 30px;background-color: rgb(70, 52, 128);\"></td><td title=\"Index: [6, 9]&#10;Color: (51, 98, 141)\" style=\"width: 30px; height: 30px;background-color: rgb(51, 98, 141);\"></td></tr><tr><td title=\"Index: [7, 0]&#10;Color: (40, 125, 142)\" style=\"width: 30px; height: 30px;background-color: rgb(40, 125, 142);\"></td><td title=\"Index: [7, 1]&#10;Color: (34, 167, 133)\" style=\"width: 30px; height: 30px;background-color: rgb(34, 167, 133);\"></td><td title=\"Index: [7, 2]&#10;Color: (70, 52, 128)\" style=\"width: 30px; height: 30px;background-color: rgb(70, 52, 128);\"></td><td title=\"Index: [7, 3]&#10;Color: (31, 150, 139)\" style=\"width: 30px; height: 30px;background-color: rgb(31, 150, 139);\"></td><td title=\"Index: [7, 4]&#10;Color: (68, 1, 84)\" style=\"width: 30px; height: 30px;background-color: rgb(68, 1, 84);\"></td><td title=\"Index: [7, 5]&#10;Color: (70, 48, 126)\" style=\"width: 30px; height: 30px;background-color: rgb(70, 48, 126);\"></td><td title=\"Index: [7, 6]&#10;Color: (59, 81, 139)\" style=\"width: 30px; height: 30px;background-color: rgb(59, 81, 139);\"></td><td title=\"Index: [7, 7]&#10;Color: (226, 228, 24)\" style=\"width: 30px; height: 30px;background-color: rgb(226, 228, 24);\"></td><td title=\"Index: [7, 8]&#10;Color: (155, 217, 60)\" style=\"width: 30px; height: 30px;background-color: rgb(155, 217, 60);\"></td><td title=\"Index: [7, 9]&#10;Color: (31, 159, 136)\" style=\"width: 30px; height: 30px;background-color: rgb(31, 159, 136);\"></td></tr><tr><td title=\"Index: [8, 0]&#10;Color: (39, 173, 129)\" style=\"width: 30px; height: 30px;background-color: rgb(39, 173, 129);\"></td><td title=\"Index: [8, 1]&#10;Color: (72, 38, 119)\" style=\"width: 30px; height: 30px;background-color: rgb(72, 38, 119);\"></td><td title=\"Index: [8, 2]&#10;Color: (117, 208, 84)\" style=\"width: 30px; height: 30px;background-color: rgb(117, 208, 84);\"></td><td title=\"Index: [8, 3]&#10;Color: (57, 85, 140)\" style=\"width: 30px; height: 30px;background-color: rgb(57, 85, 140);\"></td><td title=\"Index: [8, 4]&#10;Color: (119, 209, 83)\" style=\"width: 30px; height: 30px;background-color: rgb(119, 209, 83);\"></td><td title=\"Index: [8, 5]&#10;Color: (68, 2, 86)\" style=\"width: 30px; height: 30px;background-color: rgb(68, 2, 86);\"></td><td title=\"Index: [8, 6]&#10;Color: (103, 204, 92)\" style=\"width: 30px; height: 30px;background-color: rgb(103, 204, 92);\"></td><td title=\"Index: [8, 7]&#10;Color: (112, 207, 87)\" style=\"width: 30px; height: 30px;background-color: rgb(112, 207, 87);\"></td><td title=\"Index: [8, 8]&#10;Color: (72, 27, 109)\" style=\"width: 30px; height: 30px;background-color: rgb(72, 27, 109);\"></td><td title=\"Index: [8, 9]&#10;Color: (46, 179, 124)\" style=\"width: 30px; height: 30px;background-color: rgb(46, 179, 124);\"></td></tr><tr><td title=\"Index: [9, 0]&#10;Color: (45, 112, 142)\" style=\"width: 30px; height: 30px;background-color: rgb(45, 112, 142);\"></td><td title=\"Index: [9, 1]&#10;Color: (68, 57, 131)\" style=\"width: 30px; height: 30px;background-color: rgb(68, 57, 131);\"></td><td title=\"Index: [9, 2]&#10;Color: (33, 145, 140)\" style=\"width: 30px; height: 30px;background-color: rgb(33, 145, 140);\"></td><td title=\"Index: [9, 3]&#10;Color: (68, 59, 132)\" style=\"width: 30px; height: 30px;background-color: rgb(68, 59, 132);\"></td><td title=\"Index: [9, 4]&#10;Color: (63, 188, 115)\" style=\"width: 30px; height: 30px;background-color: rgb(63, 188, 115);\"></td><td title=\"Index: [9, 5]&#10;Color: (208, 225, 28)\" style=\"width: 30px; height: 30px;background-color: rgb(208, 225, 28);\"></td><td title=\"Index: [9, 6]&#10;Color: (71, 44, 122)\" style=\"width: 30px; height: 30px;background-color: rgb(71, 44, 122);\"></td><td title=\"Index: [9, 7]&#10;Color: (246, 230, 32)\" style=\"width: 30px; height: 30px;background-color: rgb(246, 230, 32);\"></td><td title=\"Index: [9, 8]&#10;Color: (31, 159, 136)\" style=\"width: 30px; height: 30px;background-color: rgb(31, 159, 136);\"></td><td title=\"Index: [9, 9]&#10;Color: (34, 141, 141)\" style=\"width: 30px; height: 30px;background-color: rgb(34, 141, 141);\"></td></tr></tbody></table>"
      ],
      "text/plain": [
       "array([[ 1.        ,  1.        ,  1.        ,  1.        ,  1.        ,\n",
       "         0.55616335,  0.15296375,  0.08499039,  0.31444376,  0.37012103],\n",
       "       [ 1.        ,  1.        ,  1.        ,  1.        ,  1.        ,\n",
       "         0.05518873,  0.90208761,  0.74227227,  0.19318093,  0.09622425],\n",
       "       [ 1.        ,  1.        ,  1.        ,  1.        ,  1.        ,\n",
       "         0.94508249,  0.52131436,  0.57164416,  0.74017517,  0.67693216],\n",
       "       [ 1.        ,  1.        ,  1.        ,  1.        ,  1.        ,\n",
       "         0.52267351,  0.40598286,  0.02717127,  0.81122015,  0.65270927],\n",
       "       [ 1.        ,  1.        ,  1.        ,  1.        ,  1.        ,\n",
       "         0.51544904,  0.23672536,  0.39972903,  0.52678812,  0.41732366],\n",
       "       [ 0.15932305,  0.01037194,  0.7407211 ,  0.75400206,  0.17495001,\n",
       "         0.9497303 ,  0.64888418,  0.18651569,  0.30433168,  0.05404427],\n",
       "       [ 0.03277088,  0.53206188,  0.91739086,  0.2784613 ,  0.23295839,\n",
       "         0.14829049,  0.55219537,  0.71250462,  0.15587272,  0.31413572],\n",
       "       [ 0.42345084,  0.59874457,  0.15669775,  0.52686089,  0.00616648,\n",
       "         0.14427059,  0.25284223,  0.95417454,  0.85113466,  0.56197061],\n",
       "       [ 0.62360691,  0.11280103,  0.79056607,  0.26660195,  0.79786072,\n",
       "         0.01392371,  0.76821023,  0.78640032,  0.07783353,  0.64787915],\n",
       "       [ 0.3693402 ,  0.17257004,  0.50461752,  0.18069093,  0.69105094,\n",
       "         0.9296363 ,  0.12705787,  0.98697687,  0.56362313,  0.48812098]])"
      ]
     },
     "execution_count": 43,
     "metadata": {},
     "output_type": "execute_result"
    }
   ],
   "source": [
    "a"
   ]
  },
  {
   "cell_type": "markdown",
   "metadata": {},
   "source": [
    "Note how even though we assigned the value to the slice, the original array was changed. This clarifies that slices are **views** of the same data, not a copy."
   ]
  },
  {
   "cell_type": "code",
   "execution_count": 44,
   "metadata": {
    "collapsed": false
   },
   "outputs": [],
   "source": [
    "va.disable_notebook()"
   ]
  },
  {
   "cell_type": "markdown",
   "metadata": {},
   "source": [
    "### Boolean indexing"
   ]
  },
  {
   "cell_type": "markdown",
   "metadata": {},
   "source": [
    "Arrays can be indexed using other arrays that have boolean values."
   ]
  },
  {
   "cell_type": "code",
   "execution_count": 45,
   "metadata": {
    "collapsed": false
   },
   "outputs": [],
   "source": [
    "ages = np.array([23,56,67,89,23,56,27,12,8,72])\n",
    "genders = np.array(['m','m','f','f','m','f','m','m','m','f'])"
   ]
  },
  {
   "cell_type": "markdown",
   "metadata": {},
   "source": [
    "Boolean expressions involving arrays create new arrays with a `bool` dtype and the elementwise result of the expression:"
   ]
  },
  {
   "cell_type": "code",
   "execution_count": 46,
   "metadata": {
    "collapsed": false
   },
   "outputs": [
    {
     "data": {
      "text/plain": [
       "array([False,  True,  True,  True, False,  True, False, False, False,  True], dtype=bool)"
      ]
     },
     "execution_count": 46,
     "metadata": {},
     "output_type": "execute_result"
    }
   ],
   "source": [
    "ages > 30"
   ]
  },
  {
   "cell_type": "code",
   "execution_count": 47,
   "metadata": {
    "collapsed": false
   },
   "outputs": [
    {
     "data": {
      "text/plain": [
       "array([ True,  True, False, False,  True, False,  True,  True,  True, False], dtype=bool)"
      ]
     },
     "execution_count": 47,
     "metadata": {},
     "output_type": "execute_result"
    }
   ],
   "source": [
    "genders == 'm'"
   ]
  },
  {
   "cell_type": "markdown",
   "metadata": {},
   "source": [
    "Boolean expressions provide an extremely fast and flexible way of querying arrays:"
   ]
  },
  {
   "cell_type": "code",
   "execution_count": 48,
   "metadata": {
    "collapsed": false
   },
   "outputs": [
    {
     "data": {
      "text/plain": [
       "array([ True, False, False, False,  True, False,  True,  True, False, False], dtype=bool)"
      ]
     },
     "execution_count": 48,
     "metadata": {},
     "output_type": "execute_result"
    }
   ],
   "source": [
    "(ages > 10) & (ages < 50)"
   ]
  },
  {
   "cell_type": "markdown",
   "metadata": {},
   "source": [
    "You can use a boolean array to index into the original or another array. This selects the ages of all females in the `genders` array:"
   ]
  },
  {
   "cell_type": "code",
   "execution_count": 49,
   "metadata": {
    "collapsed": false
   },
   "outputs": [
    {
     "data": {
      "text/plain": [
       "array([67, 89, 56, 72])"
      ]
     },
     "execution_count": 49,
     "metadata": {},
     "output_type": "execute_result"
    }
   ],
   "source": [
    "mask = (genders == 'f')\n",
    "ages[mask]"
   ]
  },
  {
   "cell_type": "code",
   "execution_count": 50,
   "metadata": {
    "collapsed": false
   },
   "outputs": [
    {
     "data": {
      "text/plain": [
       "array([56, 67, 89, 56, 72])"
      ]
     },
     "execution_count": 50,
     "metadata": {},
     "output_type": "execute_result"
    }
   ],
   "source": [
    "ages[ages>30]"
   ]
  },
  {
   "cell_type": "markdown",
   "metadata": {},
   "source": [
    "## Reshaping, transposing"
   ]
  },
  {
   "cell_type": "code",
   "execution_count": 51,
   "metadata": {
    "collapsed": false
   },
   "outputs": [],
   "source": [
    "va.enable_notebook()"
   ]
  },
  {
   "cell_type": "code",
   "execution_count": 52,
   "metadata": {
    "collapsed": false
   },
   "outputs": [],
   "source": [
    "a = np.random.rand(3,4)"
   ]
  },
  {
   "cell_type": "code",
   "execution_count": 53,
   "metadata": {
    "collapsed": false
   },
   "outputs": [
    {
     "data": {
      "text/html": [
       "<style type=\"text/css\">table.blockgrid {border: none;} .blockgrid tr {border: none;} .blockgrid td {padding: 0px;} #blocks71bf6486-311d-4386-9261-146f9b72c046 td {border: 1px solid white;}</style><table id=\"blocks71bf6486-311d-4386-9261-146f9b72c046\" class=\"blockgrid\"><tbody><tr><td title=\"Index: [0, 0]&#10;Color: (76, 194, 108)\" style=\"width: 30px; height: 30px;background-color: rgb(76, 194, 108);\"></td><td title=\"Index: [0, 1]&#10;Color: (58, 83, 139)\" style=\"width: 30px; height: 30px;background-color: rgb(58, 83, 139);\"></td><td title=\"Index: [0, 2]&#10;Color: (157, 217, 59)\" style=\"width: 30px; height: 30px;background-color: rgb(157, 217, 59);\"></td><td title=\"Index: [0, 3]&#10;Color: (124, 210, 80)\" style=\"width: 30px; height: 30px;background-color: rgb(124, 210, 80);\"></td></tr><tr><td title=\"Index: [1, 0]&#10;Color: (82, 197, 105)\" style=\"width: 30px; height: 30px;background-color: rgb(82, 197, 105);\"></td><td title=\"Index: [1, 1]&#10;Color: (31, 159, 136)\" style=\"width: 30px; height: 30px;background-color: rgb(31, 159, 136);\"></td><td title=\"Index: [1, 2]&#10;Color: (103, 204, 92)\" style=\"width: 30px; height: 30px;background-color: rgb(103, 204, 92);\"></td><td title=\"Index: [1, 3]&#10;Color: (253, 231, 37)\" style=\"width: 30px; height: 30px;background-color: rgb(253, 231, 37);\"></td></tr><tr><td title=\"Index: [2, 0]&#10;Color: (70, 50, 126)\" style=\"width: 30px; height: 30px;background-color: rgb(70, 50, 126);\"></td><td title=\"Index: [2, 1]&#10;Color: (53, 183, 121)\" style=\"width: 30px; height: 30px;background-color: rgb(53, 183, 121);\"></td><td title=\"Index: [2, 2]&#10;Color: (68, 1, 84)\" style=\"width: 30px; height: 30px;background-color: rgb(68, 1, 84);\"></td><td title=\"Index: [2, 3]&#10;Color: (165, 219, 54)\" style=\"width: 30px; height: 30px;background-color: rgb(165, 219, 54);\"></td></tr></tbody></table>"
      ],
      "text/plain": [
       "array([[ 0.70517923,  0.28976613,  0.82850603,  0.78317441],\n",
       "       [ 0.715328  ,  0.56303229,  0.75296676,  0.9620661 ],\n",
       "       [ 0.18646764,  0.65974813,  0.05758858,  0.83884843]])"
      ]
     },
     "execution_count": 53,
     "metadata": {},
     "output_type": "execute_result"
    }
   ],
   "source": [
    "a"
   ]
  },
  {
   "cell_type": "markdown",
   "metadata": {},
   "source": [
    "The `T` atrribute contains the transpose of the original array:"
   ]
  },
  {
   "cell_type": "code",
   "execution_count": 54,
   "metadata": {
    "collapsed": false
   },
   "outputs": [
    {
     "data": {
      "text/html": [
       "<style type=\"text/css\">table.blockgrid {border: none;} .blockgrid tr {border: none;} .blockgrid td {padding: 0px;} #blocks8bb8ff8d-88e7-41e8-a1c1-a9ffefe864ef td {border: 1px solid white;}</style><table id=\"blocks8bb8ff8d-88e7-41e8-a1c1-a9ffefe864ef\" class=\"blockgrid\"><tbody><tr><td title=\"Index: [0, 0]&#10;Color: (76, 194, 108)\" style=\"width: 30px; height: 30px;background-color: rgb(76, 194, 108);\"></td><td title=\"Index: [0, 1]&#10;Color: (82, 197, 105)\" style=\"width: 30px; height: 30px;background-color: rgb(82, 197, 105);\"></td><td title=\"Index: [0, 2]&#10;Color: (70, 50, 126)\" style=\"width: 30px; height: 30px;background-color: rgb(70, 50, 126);\"></td></tr><tr><td title=\"Index: [1, 0]&#10;Color: (58, 83, 139)\" style=\"width: 30px; height: 30px;background-color: rgb(58, 83, 139);\"></td><td title=\"Index: [1, 1]&#10;Color: (31, 159, 136)\" style=\"width: 30px; height: 30px;background-color: rgb(31, 159, 136);\"></td><td title=\"Index: [1, 2]&#10;Color: (53, 183, 121)\" style=\"width: 30px; height: 30px;background-color: rgb(53, 183, 121);\"></td></tr><tr><td title=\"Index: [2, 0]&#10;Color: (157, 217, 59)\" style=\"width: 30px; height: 30px;background-color: rgb(157, 217, 59);\"></td><td title=\"Index: [2, 1]&#10;Color: (103, 204, 92)\" style=\"width: 30px; height: 30px;background-color: rgb(103, 204, 92);\"></td><td title=\"Index: [2, 2]&#10;Color: (68, 1, 84)\" style=\"width: 30px; height: 30px;background-color: rgb(68, 1, 84);\"></td></tr><tr><td title=\"Index: [3, 0]&#10;Color: (124, 210, 80)\" style=\"width: 30px; height: 30px;background-color: rgb(124, 210, 80);\"></td><td title=\"Index: [3, 1]&#10;Color: (253, 231, 37)\" style=\"width: 30px; height: 30px;background-color: rgb(253, 231, 37);\"></td><td title=\"Index: [3, 2]&#10;Color: (165, 219, 54)\" style=\"width: 30px; height: 30px;background-color: rgb(165, 219, 54);\"></td></tr></tbody></table>"
      ],
      "text/plain": [
       "array([[ 0.70517923,  0.715328  ,  0.18646764],\n",
       "       [ 0.28976613,  0.56303229,  0.65974813],\n",
       "       [ 0.82850603,  0.75296676,  0.05758858],\n",
       "       [ 0.78317441,  0.9620661 ,  0.83884843]])"
      ]
     },
     "execution_count": 54,
     "metadata": {},
     "output_type": "execute_result"
    }
   ],
   "source": [
    "a.T"
   ]
  },
  {
   "cell_type": "markdown",
   "metadata": {},
   "source": [
    "The `reshape` method can be used to change the shape and even the number of dimensions:"
   ]
  },
  {
   "cell_type": "code",
   "execution_count": 55,
   "metadata": {
    "collapsed": false
   },
   "outputs": [
    {
     "data": {
      "text/html": [
       "<style type=\"text/css\">table.blockgrid {border: none;} .blockgrid tr {border: none;} .blockgrid td {padding: 0px;} #blocksac310da2-61f1-40b3-84f5-a61a060de8bd td {border: 1px solid white;}</style><table id=\"blocksac310da2-61f1-40b3-84f5-a61a060de8bd\" class=\"blockgrid\"><tbody><tr><td title=\"Index: [0, 0]&#10;Color: (76, 194, 108)\" style=\"width: 30px; height: 30px;background-color: rgb(76, 194, 108);\"></td><td title=\"Index: [0, 1]&#10;Color: (58, 83, 139)\" style=\"width: 30px; height: 30px;background-color: rgb(58, 83, 139);\"></td><td title=\"Index: [0, 2]&#10;Color: (157, 217, 59)\" style=\"width: 30px; height: 30px;background-color: rgb(157, 217, 59);\"></td><td title=\"Index: [0, 3]&#10;Color: (124, 210, 80)\" style=\"width: 30px; height: 30px;background-color: rgb(124, 210, 80);\"></td><td title=\"Index: [0, 4]&#10;Color: (82, 197, 105)\" style=\"width: 30px; height: 30px;background-color: rgb(82, 197, 105);\"></td><td title=\"Index: [0, 5]&#10;Color: (31, 159, 136)\" style=\"width: 30px; height: 30px;background-color: rgb(31, 159, 136);\"></td></tr><tr><td title=\"Index: [1, 0]&#10;Color: (103, 204, 92)\" style=\"width: 30px; height: 30px;background-color: rgb(103, 204, 92);\"></td><td title=\"Index: [1, 1]&#10;Color: (253, 231, 37)\" style=\"width: 30px; height: 30px;background-color: rgb(253, 231, 37);\"></td><td title=\"Index: [1, 2]&#10;Color: (70, 50, 126)\" style=\"width: 30px; height: 30px;background-color: rgb(70, 50, 126);\"></td><td title=\"Index: [1, 3]&#10;Color: (53, 183, 121)\" style=\"width: 30px; height: 30px;background-color: rgb(53, 183, 121);\"></td><td title=\"Index: [1, 4]&#10;Color: (68, 1, 84)\" style=\"width: 30px; height: 30px;background-color: rgb(68, 1, 84);\"></td><td title=\"Index: [1, 5]&#10;Color: (165, 219, 54)\" style=\"width: 30px; height: 30px;background-color: rgb(165, 219, 54);\"></td></tr></tbody></table>"
      ],
      "text/plain": [
       "array([[ 0.70517923,  0.28976613,  0.82850603,  0.78317441,  0.715328  ,\n",
       "         0.56303229],\n",
       "       [ 0.75296676,  0.9620661 ,  0.18646764,  0.65974813,  0.05758858,\n",
       "         0.83884843]])"
      ]
     },
     "execution_count": 55,
     "metadata": {},
     "output_type": "execute_result"
    }
   ],
   "source": [
    "a.reshape(2,6)"
   ]
  },
  {
   "cell_type": "code",
   "execution_count": 56,
   "metadata": {
    "collapsed": false
   },
   "outputs": [
    {
     "data": {
      "text/html": [
       "<style type=\"text/css\">table.blockgrid {border: none;} .blockgrid tr {border: none;} .blockgrid td {padding: 0px;} #blocks6048c691-c1a4-4f10-b0a9-2da2e0d602e4 td {border: 1px solid white;}</style><table id=\"blocks6048c691-c1a4-4f10-b0a9-2da2e0d602e4\" class=\"blockgrid\"><tbody><tr><td title=\"Index: [0, 0]&#10;Color: (76, 194, 108)\" style=\"width: 30px; height: 30px;background-color: rgb(76, 194, 108);\"></td><td title=\"Index: [0, 1]&#10;Color: (58, 83, 139)\" style=\"width: 30px; height: 30px;background-color: rgb(58, 83, 139);\"></td></tr><tr><td title=\"Index: [1, 0]&#10;Color: (157, 217, 59)\" style=\"width: 30px; height: 30px;background-color: rgb(157, 217, 59);\"></td><td title=\"Index: [1, 1]&#10;Color: (124, 210, 80)\" style=\"width: 30px; height: 30px;background-color: rgb(124, 210, 80);\"></td></tr><tr><td title=\"Index: [2, 0]&#10;Color: (82, 197, 105)\" style=\"width: 30px; height: 30px;background-color: rgb(82, 197, 105);\"></td><td title=\"Index: [2, 1]&#10;Color: (31, 159, 136)\" style=\"width: 30px; height: 30px;background-color: rgb(31, 159, 136);\"></td></tr><tr><td title=\"Index: [3, 0]&#10;Color: (103, 204, 92)\" style=\"width: 30px; height: 30px;background-color: rgb(103, 204, 92);\"></td><td title=\"Index: [3, 1]&#10;Color: (253, 231, 37)\" style=\"width: 30px; height: 30px;background-color: rgb(253, 231, 37);\"></td></tr><tr><td title=\"Index: [4, 0]&#10;Color: (70, 50, 126)\" style=\"width: 30px; height: 30px;background-color: rgb(70, 50, 126);\"></td><td title=\"Index: [4, 1]&#10;Color: (53, 183, 121)\" style=\"width: 30px; height: 30px;background-color: rgb(53, 183, 121);\"></td></tr><tr><td title=\"Index: [5, 0]&#10;Color: (68, 1, 84)\" style=\"width: 30px; height: 30px;background-color: rgb(68, 1, 84);\"></td><td title=\"Index: [5, 1]&#10;Color: (165, 219, 54)\" style=\"width: 30px; height: 30px;background-color: rgb(165, 219, 54);\"></td></tr></tbody></table>"
      ],
      "text/plain": [
       "array([[ 0.70517923,  0.28976613],\n",
       "       [ 0.82850603,  0.78317441],\n",
       "       [ 0.715328  ,  0.56303229],\n",
       "       [ 0.75296676,  0.9620661 ],\n",
       "       [ 0.18646764,  0.65974813],\n",
       "       [ 0.05758858,  0.83884843]])"
      ]
     },
     "execution_count": 56,
     "metadata": {},
     "output_type": "execute_result"
    }
   ],
   "source": [
    "a.reshape(6,2)"
   ]
  },
  {
   "cell_type": "markdown",
   "metadata": {},
   "source": [
    "The `ravel` method strings the array out in one dimension:"
   ]
  },
  {
   "cell_type": "code",
   "execution_count": 57,
   "metadata": {
    "collapsed": false
   },
   "outputs": [
    {
     "data": {
      "text/html": [
       "<style type=\"text/css\">table.blockgrid {border: none;} .blockgrid tr {border: none;} .blockgrid td {padding: 0px;} #blocksfd565649-2705-4675-9ff0-92ba2a5d82fa td {border: 1px solid white;}</style><table id=\"blocksfd565649-2705-4675-9ff0-92ba2a5d82fa\" class=\"blockgrid\"><tbody><tr><td title=\"Index: [0, 0]&#10;Color: (76, 194, 108)\" style=\"width: 30px; height: 30px;background-color: rgb(76, 194, 108);\"></td><td title=\"Index: [0, 1]&#10;Color: (58, 83, 139)\" style=\"width: 30px; height: 30px;background-color: rgb(58, 83, 139);\"></td><td title=\"Index: [0, 2]&#10;Color: (157, 217, 59)\" style=\"width: 30px; height: 30px;background-color: rgb(157, 217, 59);\"></td><td title=\"Index: [0, 3]&#10;Color: (124, 210, 80)\" style=\"width: 30px; height: 30px;background-color: rgb(124, 210, 80);\"></td><td title=\"Index: [0, 4]&#10;Color: (82, 197, 105)\" style=\"width: 30px; height: 30px;background-color: rgb(82, 197, 105);\"></td><td title=\"Index: [0, 5]&#10;Color: (31, 159, 136)\" style=\"width: 30px; height: 30px;background-color: rgb(31, 159, 136);\"></td><td title=\"Index: [0, 6]&#10;Color: (103, 204, 92)\" style=\"width: 30px; height: 30px;background-color: rgb(103, 204, 92);\"></td><td title=\"Index: [0, 7]&#10;Color: (253, 231, 37)\" style=\"width: 30px; height: 30px;background-color: rgb(253, 231, 37);\"></td><td title=\"Index: [0, 8]&#10;Color: (70, 50, 126)\" style=\"width: 30px; height: 30px;background-color: rgb(70, 50, 126);\"></td><td title=\"Index: [0, 9]&#10;Color: (53, 183, 121)\" style=\"width: 30px; height: 30px;background-color: rgb(53, 183, 121);\"></td><td title=\"Index: [0, 10]&#10;Color: (68, 1, 84)\" style=\"width: 30px; height: 30px;background-color: rgb(68, 1, 84);\"></td><td title=\"Index: [0, 11]&#10;Color: (165, 219, 54)\" style=\"width: 30px; height: 30px;background-color: rgb(165, 219, 54);\"></td></tr></tbody></table>"
      ],
      "text/plain": [
       "array([ 0.70517923,  0.28976613,  0.82850603,  0.78317441,  0.715328  ,\n",
       "        0.56303229,  0.75296676,  0.9620661 ,  0.18646764,  0.65974813,\n",
       "        0.05758858,  0.83884843])"
      ]
     },
     "execution_count": 57,
     "metadata": {},
     "output_type": "execute_result"
    }
   ],
   "source": [
    "a.ravel()"
   ]
  },
  {
   "cell_type": "code",
   "execution_count": 58,
   "metadata": {
    "collapsed": false
   },
   "outputs": [],
   "source": [
    "va.disable_notebook()"
   ]
  },
  {
   "cell_type": "markdown",
   "metadata": {},
   "source": [
    "## Universal functions"
   ]
  },
  {
   "cell_type": "markdown",
   "metadata": {},
   "source": [
    "Universal function, or \"ufuncs,\" are functions that take and return arrays or scalars. They have the following characteristics:\n",
    "\n",
    "* Vectorized C implementations, much faster than hand written loops in Python\n",
    "* Allow for concise Pythonic code\n",
    "* Here is a complete list of the [available NumPy ufuncs](http://docs.scipy.org/doc/numpy/reference/ufuncs.html#available-ufuncs) lists the available ufuncs."
   ]
  },
  {
   "cell_type": "code",
   "execution_count": 59,
   "metadata": {
    "collapsed": false
   },
   "outputs": [],
   "source": [
    "va.set_block_size(5)\n",
    "va.enable_notebook()"
   ]
  },
  {
   "cell_type": "markdown",
   "metadata": {},
   "source": [
    "Here is a linear sequence of values\""
   ]
  },
  {
   "cell_type": "code",
   "execution_count": 60,
   "metadata": {
    "collapsed": false
   },
   "outputs": [
    {
     "data": {
      "text/html": [
       "<style type=\"text/css\">table.blockgrid {border: none;} .blockgrid tr {border: none;} .blockgrid td {padding: 0px;} #blocksf72a01b0-3ead-4e29-afef-46ac506642d3 td {border: 1px solid white;}</style><table id=\"blocksf72a01b0-3ead-4e29-afef-46ac506642d3\" class=\"blockgrid\"><tbody><tr><td title=\"Index: [0, 0]&#10;Color: (68, 1, 84)\" style=\"width: 5px; height: 5px;background-color: rgb(68, 1, 84);\"></td><td title=\"Index: [0, 1]&#10;Color: (69, 4, 87)\" style=\"width: 5px; height: 5px;background-color: rgb(69, 4, 87);\"></td><td title=\"Index: [0, 2]&#10;Color: (70, 8, 92)\" style=\"width: 5px; height: 5px;background-color: rgb(70, 8, 92);\"></td><td title=\"Index: [0, 3]&#10;Color: (70, 11, 94)\" style=\"width: 5px; height: 5px;background-color: rgb(70, 11, 94);\"></td><td title=\"Index: [0, 4]&#10;Color: (71, 16, 99)\" style=\"width: 5px; height: 5px;background-color: rgb(71, 16, 99);\"></td><td title=\"Index: [0, 5]&#10;Color: (71, 19, 101)\" style=\"width: 5px; height: 5px;background-color: rgb(71, 19, 101);\"></td><td title=\"Index: [0, 6]&#10;Color: (72, 23, 105)\" style=\"width: 5px; height: 5px;background-color: rgb(72, 23, 105);\"></td><td title=\"Index: [0, 7]&#10;Color: (72, 27, 109)\" style=\"width: 5px; height: 5px;background-color: rgb(72, 27, 109);\"></td><td title=\"Index: [0, 8]&#10;Color: (72, 29, 111)\" style=\"width: 5px; height: 5px;background-color: rgb(72, 29, 111);\"></td><td title=\"Index: [0, 9]&#10;Color: (72, 33, 115)\" style=\"width: 5px; height: 5px;background-color: rgb(72, 33, 115);\"></td><td title=\"Index: [0, 10]&#10;Color: (72, 36, 117)\" style=\"width: 5px; height: 5px;background-color: rgb(72, 36, 117);\"></td><td title=\"Index: [0, 11]&#10;Color: (72, 40, 120)\" style=\"width: 5px; height: 5px;background-color: rgb(72, 40, 120);\"></td><td title=\"Index: [0, 12]&#10;Color: (71, 44, 122)\" style=\"width: 5px; height: 5px;background-color: rgb(71, 44, 122);\"></td><td title=\"Index: [0, 13]&#10;Color: (71, 46, 124)\" style=\"width: 5px; height: 5px;background-color: rgb(71, 46, 124);\"></td><td title=\"Index: [0, 14]&#10;Color: (70, 50, 126)\" style=\"width: 5px; height: 5px;background-color: rgb(70, 50, 126);\"></td><td title=\"Index: [0, 15]&#10;Color: (70, 52, 128)\" style=\"width: 5px; height: 5px;background-color: rgb(70, 52, 128);\"></td><td title=\"Index: [0, 16]&#10;Color: (69, 56, 130)\" style=\"width: 5px; height: 5px;background-color: rgb(69, 56, 130);\"></td><td title=\"Index: [0, 17]&#10;Color: (68, 58, 131)\" style=\"width: 5px; height: 5px;background-color: rgb(68, 58, 131);\"></td><td title=\"Index: [0, 18]&#10;Color: (67, 62, 133)\" style=\"width: 5px; height: 5px;background-color: rgb(67, 62, 133);\"></td><td title=\"Index: [0, 19]&#10;Color: (66, 65, 134)\" style=\"width: 5px; height: 5px;background-color: rgb(66, 65, 134);\"></td><td title=\"Index: [0, 20]&#10;Color: (65, 68, 135)\" style=\"width: 5px; height: 5px;background-color: rgb(65, 68, 135);\"></td><td title=\"Index: [0, 21]&#10;Color: (63, 71, 136)\" style=\"width: 5px; height: 5px;background-color: rgb(63, 71, 136);\"></td><td title=\"Index: [0, 22]&#10;Color: (62, 73, 137)\" style=\"width: 5px; height: 5px;background-color: rgb(62, 73, 137);\"></td><td title=\"Index: [0, 23]&#10;Color: (61, 77, 138)\" style=\"width: 5px; height: 5px;background-color: rgb(61, 77, 138);\"></td><td title=\"Index: [0, 24]&#10;Color: (60, 80, 139)\" style=\"width: 5px; height: 5px;background-color: rgb(60, 80, 139);\"></td><td title=\"Index: [0, 25]&#10;Color: (59, 82, 139)\" style=\"width: 5px; height: 5px;background-color: rgb(59, 82, 139);\"></td><td title=\"Index: [0, 26]&#10;Color: (57, 85, 140)\" style=\"width: 5px; height: 5px;background-color: rgb(57, 85, 140);\"></td><td title=\"Index: [0, 27]&#10;Color: (56, 88, 140)\" style=\"width: 5px; height: 5px;background-color: rgb(56, 88, 140);\"></td><td title=\"Index: [0, 28]&#10;Color: (55, 91, 141)\" style=\"width: 5px; height: 5px;background-color: rgb(55, 91, 141);\"></td><td title=\"Index: [0, 29]&#10;Color: (54, 93, 141)\" style=\"width: 5px; height: 5px;background-color: rgb(54, 93, 141);\"></td><td title=\"Index: [0, 30]&#10;Color: (52, 96, 141)\" style=\"width: 5px; height: 5px;background-color: rgb(52, 96, 141);\"></td><td title=\"Index: [0, 31]&#10;Color: (51, 99, 141)\" style=\"width: 5px; height: 5px;background-color: rgb(51, 99, 141);\"></td><td title=\"Index: [0, 32]&#10;Color: (50, 101, 142)\" style=\"width: 5px; height: 5px;background-color: rgb(50, 101, 142);\"></td><td title=\"Index: [0, 33]&#10;Color: (49, 104, 142)\" style=\"width: 5px; height: 5px;background-color: rgb(49, 104, 142);\"></td><td title=\"Index: [0, 34]&#10;Color: (48, 106, 142)\" style=\"width: 5px; height: 5px;background-color: rgb(48, 106, 142);\"></td><td title=\"Index: [0, 35]&#10;Color: (46, 109, 142)\" style=\"width: 5px; height: 5px;background-color: rgb(46, 109, 142);\"></td><td title=\"Index: [0, 36]&#10;Color: (45, 112, 142)\" style=\"width: 5px; height: 5px;background-color: rgb(45, 112, 142);\"></td><td title=\"Index: [0, 37]&#10;Color: (44, 113, 142)\" style=\"width: 5px; height: 5px;background-color: rgb(44, 113, 142);\"></td><td title=\"Index: [0, 38]&#10;Color: (43, 116, 142)\" style=\"width: 5px; height: 5px;background-color: rgb(43, 116, 142);\"></td><td title=\"Index: [0, 39]&#10;Color: (42, 118, 142)\" style=\"width: 5px; height: 5px;background-color: rgb(42, 118, 142);\"></td><td title=\"Index: [0, 40]&#10;Color: (41, 121, 142)\" style=\"width: 5px; height: 5px;background-color: rgb(41, 121, 142);\"></td><td title=\"Index: [0, 41]&#10;Color: (40, 124, 142)\" style=\"width: 5px; height: 5px;background-color: rgb(40, 124, 142);\"></td><td title=\"Index: [0, 42]&#10;Color: (39, 126, 142)\" style=\"width: 5px; height: 5px;background-color: rgb(39, 126, 142);\"></td><td title=\"Index: [0, 43]&#10;Color: (38, 129, 142)\" style=\"width: 5px; height: 5px;background-color: rgb(38, 129, 142);\"></td><td title=\"Index: [0, 44]&#10;Color: (38, 130, 142)\" style=\"width: 5px; height: 5px;background-color: rgb(38, 130, 142);\"></td><td title=\"Index: [0, 45]&#10;Color: (37, 133, 142)\" style=\"width: 5px; height: 5px;background-color: rgb(37, 133, 142);\"></td><td title=\"Index: [0, 46]&#10;Color: (36, 135, 142)\" style=\"width: 5px; height: 5px;background-color: rgb(36, 135, 142);\"></td><td title=\"Index: [0, 47]&#10;Color: (35, 138, 141)\" style=\"width: 5px; height: 5px;background-color: rgb(35, 138, 141);\"></td><td title=\"Index: [0, 48]&#10;Color: (34, 141, 141)\" style=\"width: 5px; height: 5px;background-color: rgb(34, 141, 141);\"></td><td title=\"Index: [0, 49]&#10;Color: (33, 143, 141)\" style=\"width: 5px; height: 5px;background-color: rgb(33, 143, 141);\"></td><td title=\"Index: [0, 50]&#10;Color: (32, 146, 140)\" style=\"width: 5px; height: 5px;background-color: rgb(32, 146, 140);\"></td><td title=\"Index: [0, 51]&#10;Color: (32, 147, 140)\" style=\"width: 5px; height: 5px;background-color: rgb(32, 147, 140);\"></td><td title=\"Index: [0, 52]&#10;Color: (31, 150, 139)\" style=\"width: 5px; height: 5px;background-color: rgb(31, 150, 139);\"></td><td title=\"Index: [0, 53]&#10;Color: (31, 153, 138)\" style=\"width: 5px; height: 5px;background-color: rgb(31, 153, 138);\"></td><td title=\"Index: [0, 54]&#10;Color: (30, 155, 138)\" style=\"width: 5px; height: 5px;background-color: rgb(30, 155, 138);\"></td><td title=\"Index: [0, 55]&#10;Color: (31, 158, 137)\" style=\"width: 5px; height: 5px;background-color: rgb(31, 158, 137);\"></td><td title=\"Index: [0, 56]&#10;Color: (31, 160, 136)\" style=\"width: 5px; height: 5px;background-color: rgb(31, 160, 136);\"></td><td title=\"Index: [0, 57]&#10;Color: (31, 162, 135)\" style=\"width: 5px; height: 5px;background-color: rgb(31, 162, 135);\"></td><td title=\"Index: [0, 58]&#10;Color: (32, 164, 134)\" style=\"width: 5px; height: 5px;background-color: rgb(32, 164, 134);\"></td><td title=\"Index: [0, 59]&#10;Color: (34, 167, 133)\" style=\"width: 5px; height: 5px;background-color: rgb(34, 167, 133);\"></td><td title=\"Index: [0, 60]&#10;Color: (36, 170, 131)\" style=\"width: 5px; height: 5px;background-color: rgb(36, 170, 131);\"></td><td title=\"Index: [0, 61]&#10;Color: (37, 172, 130)\" style=\"width: 5px; height: 5px;background-color: rgb(37, 172, 130);\"></td><td title=\"Index: [0, 62]&#10;Color: (40, 174, 128)\" style=\"width: 5px; height: 5px;background-color: rgb(40, 174, 128);\"></td><td title=\"Index: [0, 63]&#10;Color: (42, 176, 127)\" style=\"width: 5px; height: 5px;background-color: rgb(42, 176, 127);\"></td><td title=\"Index: [0, 64]&#10;Color: (46, 179, 124)\" style=\"width: 5px; height: 5px;background-color: rgb(46, 179, 124);\"></td><td title=\"Index: [0, 65]&#10;Color: (50, 182, 122)\" style=\"width: 5px; height: 5px;background-color: rgb(50, 182, 122);\"></td><td title=\"Index: [0, 66]&#10;Color: (53, 183, 121)\" style=\"width: 5px; height: 5px;background-color: rgb(53, 183, 121);\"></td><td title=\"Index: [0, 67]&#10;Color: (58, 186, 118)\" style=\"width: 5px; height: 5px;background-color: rgb(58, 186, 118);\"></td><td title=\"Index: [0, 68]&#10;Color: (61, 188, 116)\" style=\"width: 5px; height: 5px;background-color: rgb(61, 188, 116);\"></td><td title=\"Index: [0, 69]&#10;Color: (66, 190, 113)\" style=\"width: 5px; height: 5px;background-color: rgb(66, 190, 113);\"></td><td title=\"Index: [0, 70]&#10;Color: (72, 193, 110)\" style=\"width: 5px; height: 5px;background-color: rgb(72, 193, 110);\"></td><td title=\"Index: [0, 71]&#10;Color: (76, 194, 108)\" style=\"width: 5px; height: 5px;background-color: rgb(76, 194, 108);\"></td><td title=\"Index: [0, 72]&#10;Color: (82, 197, 105)\" style=\"width: 5px; height: 5px;background-color: rgb(82, 197, 105);\"></td><td title=\"Index: [0, 73]&#10;Color: (86, 198, 103)\" style=\"width: 5px; height: 5px;background-color: rgb(86, 198, 103);\"></td><td title=\"Index: [0, 74]&#10;Color: (92, 200, 99)\" style=\"width: 5px; height: 5px;background-color: rgb(92, 200, 99);\"></td><td title=\"Index: [0, 75]&#10;Color: (96, 202, 96)\" style=\"width: 5px; height: 5px;background-color: rgb(96, 202, 96);\"></td><td title=\"Index: [0, 76]&#10;Color: (103, 204, 92)\" style=\"width: 5px; height: 5px;background-color: rgb(103, 204, 92);\"></td><td title=\"Index: [0, 77]&#10;Color: (110, 206, 88)\" style=\"width: 5px; height: 5px;background-color: rgb(110, 206, 88);\"></td><td title=\"Index: [0, 78]&#10;Color: (115, 208, 86)\" style=\"width: 5px; height: 5px;background-color: rgb(115, 208, 86);\"></td><td title=\"Index: [0, 79]&#10;Color: (122, 209, 81)\" style=\"width: 5px; height: 5px;background-color: rgb(122, 209, 81);\"></td><td title=\"Index: [0, 80]&#10;Color: (127, 211, 78)\" style=\"width: 5px; height: 5px;background-color: rgb(127, 211, 78);\"></td><td title=\"Index: [0, 81]&#10;Color: (134, 213, 73)\" style=\"width: 5px; height: 5px;background-color: rgb(134, 213, 73);\"></td><td title=\"Index: [0, 82]&#10;Color: (142, 214, 69)\" style=\"width: 5px; height: 5px;background-color: rgb(142, 214, 69);\"></td><td title=\"Index: [0, 83]&#10;Color: (147, 215, 65)\" style=\"width: 5px; height: 5px;background-color: rgb(147, 215, 65);\"></td><td title=\"Index: [0, 84]&#10;Color: (155, 217, 60)\" style=\"width: 5px; height: 5px;background-color: rgb(155, 217, 60);\"></td><td title=\"Index: [0, 85]&#10;Color: (160, 218, 57)\" style=\"width: 5px; height: 5px;background-color: rgb(160, 218, 57);\"></td><td title=\"Index: [0, 86]&#10;Color: (168, 219, 52)\" style=\"width: 5px; height: 5px;background-color: rgb(168, 219, 52);\"></td><td title=\"Index: [0, 87]&#10;Color: (173, 220, 48)\" style=\"width: 5px; height: 5px;background-color: rgb(173, 220, 48);\"></td><td title=\"Index: [0, 88]&#10;Color: (181, 222, 43)\" style=\"width: 5px; height: 5px;background-color: rgb(181, 222, 43);\"></td><td title=\"Index: [0, 89]&#10;Color: (189, 223, 38)\" style=\"width: 5px; height: 5px;background-color: rgb(189, 223, 38);\"></td><td title=\"Index: [0, 90]&#10;Color: (194, 223, 35)\" style=\"width: 5px; height: 5px;background-color: rgb(194, 223, 35);\"></td><td title=\"Index: [0, 91]&#10;Color: (202, 225, 31)\" style=\"width: 5px; height: 5px;background-color: rgb(202, 225, 31);\"></td><td title=\"Index: [0, 92]&#10;Color: (208, 225, 28)\" style=\"width: 5px; height: 5px;background-color: rgb(208, 225, 28);\"></td><td title=\"Index: [0, 93]&#10;Color: (216, 226, 25)\" style=\"width: 5px; height: 5px;background-color: rgb(216, 226, 25);\"></td><td title=\"Index: [0, 94]&#10;Color: (223, 227, 24)\" style=\"width: 5px; height: 5px;background-color: rgb(223, 227, 24);\"></td><td title=\"Index: [0, 95]&#10;Color: (229, 228, 25)\" style=\"width: 5px; height: 5px;background-color: rgb(229, 228, 25);\"></td><td title=\"Index: [0, 96]&#10;Color: (236, 229, 27)\" style=\"width: 5px; height: 5px;background-color: rgb(236, 229, 27);\"></td><td title=\"Index: [0, 97]&#10;Color: (241, 229, 29)\" style=\"width: 5px; height: 5px;background-color: rgb(241, 229, 29);\"></td><td title=\"Index: [0, 98]&#10;Color: (248, 230, 33)\" style=\"width: 5px; height: 5px;background-color: rgb(248, 230, 33);\"></td><td title=\"Index: [0, 99]&#10;Color: (253, 231, 37)\" style=\"width: 5px; height: 5px;background-color: rgb(253, 231, 37);\"></td></tr></tbody></table>"
      ],
      "text/plain": [
       "array([  0.        ,   0.12693304,   0.25386607,   0.38079911,\n",
       "         0.50773215,   0.63466518,   0.76159822,   0.88853126,\n",
       "         1.01546429,   1.14239733,   1.26933037,   1.3962634 ,\n",
       "         1.52319644,   1.65012947,   1.77706251,   1.90399555,\n",
       "         2.03092858,   2.15786162,   2.28479466,   2.41172769,\n",
       "         2.53866073,   2.66559377,   2.7925268 ,   2.91945984,\n",
       "         3.04639288,   3.17332591,   3.30025895,   3.42719199,\n",
       "         3.55412502,   3.68105806,   3.8079911 ,   3.93492413,\n",
       "         4.06185717,   4.1887902 ,   4.31572324,   4.44265628,\n",
       "         4.56958931,   4.69652235,   4.82345539,   4.95038842,\n",
       "         5.07732146,   5.2042545 ,   5.33118753,   5.45812057,\n",
       "         5.58505361,   5.71198664,   5.83891968,   5.96585272,\n",
       "         6.09278575,   6.21971879,   6.34665183,   6.47358486,\n",
       "         6.6005179 ,   6.72745093,   6.85438397,   6.98131701,\n",
       "         7.10825004,   7.23518308,   7.36211612,   7.48904915,\n",
       "         7.61598219,   7.74291523,   7.86984826,   7.9967813 ,\n",
       "         8.12371434,   8.25064737,   8.37758041,   8.50451345,\n",
       "         8.63144648,   8.75837952,   8.88531256,   9.01224559,\n",
       "         9.13917863,   9.26611167,   9.3930447 ,   9.51997774,\n",
       "         9.64691077,   9.77384381,   9.90077685,  10.02770988,\n",
       "        10.15464292,  10.28157596,  10.40850899,  10.53544203,\n",
       "        10.66237507,  10.7893081 ,  10.91624114,  11.04317418,\n",
       "        11.17010721,  11.29704025,  11.42397329,  11.55090632,\n",
       "        11.67783936,  11.8047724 ,  11.93170543,  12.05863847,\n",
       "        12.1855715 ,  12.31250454,  12.43943758,  12.56637061])"
      ]
     },
     "execution_count": 60,
     "metadata": {},
     "output_type": "execute_result"
    }
   ],
   "source": [
    "t = np.linspace(0.0, 4*np.pi, 100)\n",
    "t"
   ]
  },
  {
   "cell_type": "markdown",
   "metadata": {},
   "source": [
    "Take the $sin$ of each element of the array:"
   ]
  },
  {
   "cell_type": "code",
   "execution_count": 61,
   "metadata": {
    "collapsed": false
   },
   "outputs": [
    {
     "data": {
      "text/html": [
       "<style type=\"text/css\">table.blockgrid {border: none;} .blockgrid tr {border: none;} .blockgrid td {padding: 0px;} #blocks835dd2dd-f823-4c1e-985b-7a693a6a3f18 td {border: 1px solid white;}</style><table id=\"blocks835dd2dd-f823-4c1e-985b-7a693a6a3f18\" class=\"blockgrid\"><tbody><tr><td title=\"Index: [0, 0]&#10;Color: (33, 145, 140)\" style=\"width: 5px; height: 5px;background-color: rgb(33, 145, 140);\"></td><td title=\"Index: [0, 1]&#10;Color: (31, 160, 136)\" style=\"width: 5px; height: 5px;background-color: rgb(31, 160, 136);\"></td><td title=\"Index: [0, 2]&#10;Color: (40, 174, 128)\" style=\"width: 5px; height: 5px;background-color: rgb(40, 174, 128);\"></td><td title=\"Index: [0, 3]&#10;Color: (61, 188, 116)\" style=\"width: 5px; height: 5px;background-color: rgb(61, 188, 116);\"></td><td title=\"Index: [0, 4]&#10;Color: (90, 200, 100)\" style=\"width: 5px; height: 5px;background-color: rgb(90, 200, 100);\"></td><td title=\"Index: [0, 5]&#10;Color: (119, 209, 83)\" style=\"width: 5px; height: 5px;background-color: rgb(119, 209, 83);\"></td><td title=\"Index: [0, 6]&#10;Color: (152, 216, 62)\" style=\"width: 5px; height: 5px;background-color: rgb(152, 216, 62);\"></td><td title=\"Index: [0, 7]&#10;Color: (181, 222, 43)\" style=\"width: 5px; height: 5px;background-color: rgb(181, 222, 43);\"></td><td title=\"Index: [0, 8]&#10;Color: (205, 225, 29)\" style=\"width: 5px; height: 5px;background-color: rgb(205, 225, 29);\"></td><td title=\"Index: [0, 9]&#10;Color: (226, 228, 24)\" style=\"width: 5px; height: 5px;background-color: rgb(226, 228, 24);\"></td><td title=\"Index: [0, 10]&#10;Color: (241, 229, 29)\" style=\"width: 5px; height: 5px;background-color: rgb(241, 229, 29);\"></td><td title=\"Index: [0, 11]&#10;Color: (251, 231, 35)\" style=\"width: 5px; height: 5px;background-color: rgb(251, 231, 35);\"></td><td title=\"Index: [0, 12]&#10;Color: (253, 231, 37)\" style=\"width: 5px; height: 5px;background-color: rgb(253, 231, 37);\"></td><td title=\"Index: [0, 13]&#10;Color: (253, 231, 37)\" style=\"width: 5px; height: 5px;background-color: rgb(253, 231, 37);\"></td><td title=\"Index: [0, 14]&#10;Color: (248, 230, 33)\" style=\"width: 5px; height: 5px;background-color: rgb(248, 230, 33);\"></td><td title=\"Index: [0, 15]&#10;Color: (236, 229, 27)\" style=\"width: 5px; height: 5px;background-color: rgb(236, 229, 27);\"></td><td title=\"Index: [0, 16]&#10;Color: (221, 227, 24)\" style=\"width: 5px; height: 5px;background-color: rgb(221, 227, 24);\"></td><td title=\"Index: [0, 17]&#10;Color: (200, 224, 32)\" style=\"width: 5px; height: 5px;background-color: rgb(200, 224, 32);\"></td><td title=\"Index: [0, 18]&#10;Color: (173, 220, 48)\" style=\"width: 5px; height: 5px;background-color: rgb(173, 220, 48);\"></td><td title=\"Index: [0, 19]&#10;Color: (144, 215, 67)\" style=\"width: 5px; height: 5px;background-color: rgb(144, 215, 67);\"></td><td title=\"Index: [0, 20]&#10;Color: (112, 207, 87)\" style=\"width: 5px; height: 5px;background-color: rgb(112, 207, 87);\"></td><td title=\"Index: [0, 21]&#10;Color: (82, 197, 105)\" style=\"width: 5px; height: 5px;background-color: rgb(82, 197, 105);\"></td><td title=\"Index: [0, 22]&#10;Color: (55, 184, 120)\" style=\"width: 5px; height: 5px;background-color: rgb(55, 184, 120);\"></td><td title=\"Index: [0, 23]&#10;Color: (37, 171, 130)\" style=\"width: 5px; height: 5px;background-color: rgb(37, 171, 130);\"></td><td title=\"Index: [0, 24]&#10;Color: (30, 156, 137)\" style=\"width: 5px; height: 5px;background-color: rgb(30, 156, 137);\"></td><td title=\"Index: [0, 25]&#10;Color: (34, 140, 141)\" style=\"width: 5px; height: 5px;background-color: rgb(34, 140, 141);\"></td><td title=\"Index: [0, 26]&#10;Color: (40, 125, 142)\" style=\"width: 5px; height: 5px;background-color: rgb(40, 125, 142);\"></td><td title=\"Index: [0, 27]&#10;Color: (46, 110, 142)\" style=\"width: 5px; height: 5px;background-color: rgb(46, 110, 142);\"></td><td title=\"Index: [0, 28]&#10;Color: (53, 95, 141)\" style=\"width: 5px; height: 5px;background-color: rgb(53, 95, 141);\"></td><td title=\"Index: [0, 29]&#10;Color: (60, 80, 139)\" style=\"width: 5px; height: 5px;background-color: rgb(60, 80, 139);\"></td><td title=\"Index: [0, 30]&#10;Color: (66, 64, 134)\" style=\"width: 5px; height: 5px;background-color: rgb(66, 64, 134);\"></td><td title=\"Index: [0, 31]&#10;Color: (70, 50, 126)\" style=\"width: 5px; height: 5px;background-color: rgb(70, 50, 126);\"></td><td title=\"Index: [0, 32]&#10;Color: (72, 37, 118)\" style=\"width: 5px; height: 5px;background-color: rgb(72, 37, 118);\"></td><td title=\"Index: [0, 33]&#10;Color: (72, 26, 108)\" style=\"width: 5px; height: 5px;background-color: rgb(72, 26, 108);\"></td><td title=\"Index: [0, 34]&#10;Color: (71, 14, 97)\" style=\"width: 5px; height: 5px;background-color: rgb(71, 14, 97);\"></td><td title=\"Index: [0, 35]&#10;Color: (70, 7, 90)\" style=\"width: 5px; height: 5px;background-color: rgb(70, 7, 90);\"></td><td title=\"Index: [0, 36]&#10;Color: (68, 2, 86)\" style=\"width: 5px; height: 5px;background-color: rgb(68, 2, 86);\"></td><td title=\"Index: [0, 37]&#10;Color: (68, 1, 84)\" style=\"width: 5px; height: 5px;background-color: rgb(68, 1, 84);\"></td><td title=\"Index: [0, 38]&#10;Color: (68, 1, 84)\" style=\"width: 5px; height: 5px;background-color: rgb(68, 1, 84);\"></td><td title=\"Index: [0, 39]&#10;Color: (69, 5, 89)\" style=\"width: 5px; height: 5px;background-color: rgb(69, 5, 89);\"></td><td title=\"Index: [0, 40]&#10;Color: (71, 13, 96)\" style=\"width: 5px; height: 5px;background-color: rgb(71, 13, 96);\"></td><td title=\"Index: [0, 41]&#10;Color: (72, 23, 105)\" style=\"width: 5px; height: 5px;background-color: rgb(72, 23, 105);\"></td><td title=\"Index: [0, 42]&#10;Color: (72, 33, 115)\" style=\"width: 5px; height: 5px;background-color: rgb(72, 33, 115);\"></td><td title=\"Index: [0, 43]&#10;Color: (71, 46, 124)\" style=\"width: 5px; height: 5px;background-color: rgb(71, 46, 124);\"></td><td title=\"Index: [0, 44]&#10;Color: (67, 61, 132)\" style=\"width: 5px; height: 5px;background-color: rgb(67, 61, 132);\"></td><td title=\"Index: [0, 45]&#10;Color: (62, 76, 138)\" style=\"width: 5px; height: 5px;background-color: rgb(62, 76, 138);\"></td><td title=\"Index: [0, 46]&#10;Color: (55, 91, 141)\" style=\"width: 5px; height: 5px;background-color: rgb(55, 91, 141);\"></td><td title=\"Index: [0, 47]&#10;Color: (47, 107, 142)\" style=\"width: 5px; height: 5px;background-color: rgb(47, 107, 142);\"></td><td title=\"Index: [0, 48]&#10;Color: (41, 121, 142)\" style=\"width: 5px; height: 5px;background-color: rgb(41, 121, 142);\"></td><td title=\"Index: [0, 49]&#10;Color: (35, 136, 142)\" style=\"width: 5px; height: 5px;background-color: rgb(35, 136, 142);\"></td><td title=\"Index: [0, 50]&#10;Color: (31, 152, 139)\" style=\"width: 5px; height: 5px;background-color: rgb(31, 152, 139);\"></td><td title=\"Index: [0, 51]&#10;Color: (34, 167, 133)\" style=\"width: 5px; height: 5px;background-color: rgb(34, 167, 133);\"></td><td title=\"Index: [0, 52]&#10;Color: (49, 181, 123)\" style=\"width: 5px; height: 5px;background-color: rgb(49, 181, 123);\"></td><td title=\"Index: [0, 53]&#10;Color: (76, 194, 108)\" style=\"width: 5px; height: 5px;background-color: rgb(76, 194, 108);\"></td><td title=\"Index: [0, 54]&#10;Color: (105, 205, 91)\" style=\"width: 5px; height: 5px;background-color: rgb(105, 205, 91);\"></td><td title=\"Index: [0, 55]&#10;Color: (137, 213, 72)\" style=\"width: 5px; height: 5px;background-color: rgb(137, 213, 72);\"></td><td title=\"Index: [0, 56]&#10;Color: (168, 219, 52)\" style=\"width: 5px; height: 5px;background-color: rgb(168, 219, 52);\"></td><td title=\"Index: [0, 57]&#10;Color: (194, 223, 35)\" style=\"width: 5px; height: 5px;background-color: rgb(194, 223, 35);\"></td><td title=\"Index: [0, 58]&#10;Color: (216, 226, 25)\" style=\"width: 5px; height: 5px;background-color: rgb(216, 226, 25);\"></td><td title=\"Index: [0, 59]&#10;Color: (234, 229, 26)\" style=\"width: 5px; height: 5px;background-color: rgb(234, 229, 26);\"></td><td title=\"Index: [0, 60]&#10;Color: (246, 230, 32)\" style=\"width: 5px; height: 5px;background-color: rgb(246, 230, 32);\"></td><td title=\"Index: [0, 61]&#10;Color: (253, 231, 37)\" style=\"width: 5px; height: 5px;background-color: rgb(253, 231, 37);\"></td><td title=\"Index: [0, 62]&#10;Color: (253, 231, 37)\" style=\"width: 5px; height: 5px;background-color: rgb(253, 231, 37);\"></td><td title=\"Index: [0, 63]&#10;Color: (251, 231, 35)\" style=\"width: 5px; height: 5px;background-color: rgb(251, 231, 35);\"></td><td title=\"Index: [0, 64]&#10;Color: (244, 230, 30)\" style=\"width: 5px; height: 5px;background-color: rgb(244, 230, 30);\"></td><td title=\"Index: [0, 65]&#10;Color: (231, 228, 25)\" style=\"width: 5px; height: 5px;background-color: rgb(231, 228, 25);\"></td><td title=\"Index: [0, 66]&#10;Color: (210, 226, 27)\" style=\"width: 5px; height: 5px;background-color: rgb(210, 226, 27);\"></td><td title=\"Index: [0, 67]&#10;Color: (186, 222, 40)\" style=\"width: 5px; height: 5px;background-color: rgb(186, 222, 40);\"></td><td title=\"Index: [0, 68]&#10;Color: (160, 218, 57)\" style=\"width: 5px; height: 5px;background-color: rgb(160, 218, 57);\"></td><td title=\"Index: [0, 69]&#10;Color: (129, 211, 77)\" style=\"width: 5px; height: 5px;background-color: rgb(129, 211, 77);\"></td><td title=\"Index: [0, 70]&#10;Color: (96, 202, 96)\" style=\"width: 5px; height: 5px;background-color: rgb(96, 202, 96);\"></td><td title=\"Index: [0, 71]&#10;Color: (68, 191, 112)\" style=\"width: 5px; height: 5px;background-color: rgb(68, 191, 112);\"></td><td title=\"Index: [0, 72]&#10;Color: (45, 178, 125)\" style=\"width: 5px; height: 5px;background-color: rgb(45, 178, 125);\"></td><td title=\"Index: [0, 73]&#10;Color: (32, 163, 134)\" style=\"width: 5px; height: 5px;background-color: rgb(32, 163, 134);\"></td><td title=\"Index: [0, 74]&#10;Color: (31, 148, 140)\" style=\"width: 5px; height: 5px;background-color: rgb(31, 148, 140);\"></td><td title=\"Index: [0, 75]&#10;Color: (37, 132, 142)\" style=\"width: 5px; height: 5px;background-color: rgb(37, 132, 142);\"></td><td title=\"Index: [0, 76]&#10;Color: (43, 117, 142)\" style=\"width: 5px; height: 5px;background-color: rgb(43, 117, 142);\"></td><td title=\"Index: [0, 77]&#10;Color: (49, 103, 142)\" style=\"width: 5px; height: 5px;background-color: rgb(49, 103, 142);\"></td><td title=\"Index: [0, 78]&#10;Color: (56, 88, 140)\" style=\"width: 5px; height: 5px;background-color: rgb(56, 88, 140);\"></td><td title=\"Index: [0, 79]&#10;Color: (63, 72, 137)\" style=\"width: 5px; height: 5px;background-color: rgb(63, 72, 137);\"></td><td title=\"Index: [0, 80]&#10;Color: (68, 57, 131)\" style=\"width: 5px; height: 5px;background-color: rgb(68, 57, 131);\"></td><td title=\"Index: [0, 81]&#10;Color: (71, 44, 122)\" style=\"width: 5px; height: 5px;background-color: rgb(71, 44, 122);\"></td><td title=\"Index: [0, 82]&#10;Color: (72, 31, 112)\" style=\"width: 5px; height: 5px;background-color: rgb(72, 31, 112);\"></td><td title=\"Index: [0, 83]&#10;Color: (72, 20, 103)\" style=\"width: 5px; height: 5px;background-color: rgb(72, 20, 103);\"></td><td title=\"Index: [0, 84]&#10;Color: (70, 11, 94)\" style=\"width: 5px; height: 5px;background-color: rgb(70, 11, 94);\"></td><td title=\"Index: [0, 85]&#10;Color: (69, 4, 87)\" style=\"width: 5px; height: 5px;background-color: rgb(69, 4, 87);\"></td><td title=\"Index: [0, 86]&#10;Color: (68, 1, 84)\" style=\"width: 5px; height: 5px;background-color: rgb(68, 1, 84);\"></td><td title=\"Index: [0, 87]&#10;Color: (68, 1, 84)\" style=\"width: 5px; height: 5px;background-color: rgb(68, 1, 84);\"></td><td title=\"Index: [0, 88]&#10;Color: (68, 2, 86)\" style=\"width: 5px; height: 5px;background-color: rgb(68, 2, 86);\"></td><td title=\"Index: [0, 89]&#10;Color: (70, 8, 92)\" style=\"width: 5px; height: 5px;background-color: rgb(70, 8, 92);\"></td><td title=\"Index: [0, 90]&#10;Color: (71, 17, 100)\" style=\"width: 5px; height: 5px;background-color: rgb(71, 17, 100);\"></td><td title=\"Index: [0, 91]&#10;Color: (72, 28, 110)\" style=\"width: 5px; height: 5px;background-color: rgb(72, 28, 110);\"></td><td title=\"Index: [0, 92]&#10;Color: (72, 40, 120)\" style=\"width: 5px; height: 5px;background-color: rgb(72, 40, 120);\"></td><td title=\"Index: [0, 93]&#10;Color: (69, 53, 129)\" style=\"width: 5px; height: 5px;background-color: rgb(69, 53, 129);\"></td><td title=\"Index: [0, 94]&#10;Color: (64, 69, 136)\" style=\"width: 5px; height: 5px;background-color: rgb(64, 69, 136);\"></td><td title=\"Index: [0, 95]&#10;Color: (58, 83, 139)\" style=\"width: 5px; height: 5px;background-color: rgb(58, 83, 139);\"></td><td title=\"Index: [0, 96]&#10;Color: (51, 99, 141)\" style=\"width: 5px; height: 5px;background-color: rgb(51, 99, 141);\"></td><td title=\"Index: [0, 97]&#10;Color: (44, 113, 142)\" style=\"width: 5px; height: 5px;background-color: rgb(44, 113, 142);\"></td><td title=\"Index: [0, 98]&#10;Color: (38, 129, 142)\" style=\"width: 5px; height: 5px;background-color: rgb(38, 129, 142);\"></td><td title=\"Index: [0, 99]&#10;Color: (33, 144, 141)\" style=\"width: 5px; height: 5px;background-color: rgb(33, 144, 141);\"></td></tr></tbody></table>"
      ],
      "text/plain": [
       "array([  0.00000000e+00,   1.26592454e-01,   2.51147987e-01,\n",
       "         3.71662456e-01,   4.86196736e-01,   5.92907929e-01,\n",
       "         6.90079011e-01,   7.76146464e-01,   8.49725430e-01,\n",
       "         9.09631995e-01,   9.54902241e-01,   9.84807753e-01,\n",
       "         9.98867339e-01,   9.96854776e-01,   9.78802446e-01,\n",
       "         9.45000819e-01,   8.95993774e-01,   8.32569855e-01,\n",
       "         7.55749574e-01,   6.66769001e-01,   5.67059864e-01,\n",
       "         4.58226522e-01,   3.42020143e-01,   2.20310533e-01,\n",
       "         9.50560433e-02,  -3.17279335e-02,  -1.58001396e-01,\n",
       "        -2.81732557e-01,  -4.00930535e-01,  -5.13677392e-01,\n",
       "        -6.18158986e-01,  -7.12694171e-01,  -7.95761841e-01,\n",
       "        -8.66025404e-01,  -9.22354294e-01,  -9.63842159e-01,\n",
       "        -9.89821442e-01,  -9.99874128e-01,  -9.93838464e-01,\n",
       "        -9.71811568e-01,  -9.34147860e-01,  -8.81453363e-01,\n",
       "        -8.14575952e-01,  -7.34591709e-01,  -6.42787610e-01,\n",
       "        -5.40640817e-01,  -4.29794912e-01,  -3.12033446e-01,\n",
       "        -1.89251244e-01,  -6.34239197e-02,   6.34239197e-02,\n",
       "         1.89251244e-01,   3.12033446e-01,   4.29794912e-01,\n",
       "         5.40640817e-01,   6.42787610e-01,   7.34591709e-01,\n",
       "         8.14575952e-01,   8.81453363e-01,   9.34147860e-01,\n",
       "         9.71811568e-01,   9.93838464e-01,   9.99874128e-01,\n",
       "         9.89821442e-01,   9.63842159e-01,   9.22354294e-01,\n",
       "         8.66025404e-01,   7.95761841e-01,   7.12694171e-01,\n",
       "         6.18158986e-01,   5.13677392e-01,   4.00930535e-01,\n",
       "         2.81732557e-01,   1.58001396e-01,   3.17279335e-02,\n",
       "        -9.50560433e-02,  -2.20310533e-01,  -3.42020143e-01,\n",
       "        -4.58226522e-01,  -5.67059864e-01,  -6.66769001e-01,\n",
       "        -7.55749574e-01,  -8.32569855e-01,  -8.95993774e-01,\n",
       "        -9.45000819e-01,  -9.78802446e-01,  -9.96854776e-01,\n",
       "        -9.98867339e-01,  -9.84807753e-01,  -9.54902241e-01,\n",
       "        -9.09631995e-01,  -8.49725430e-01,  -7.76146464e-01,\n",
       "        -6.90079011e-01,  -5.92907929e-01,  -4.86196736e-01,\n",
       "        -3.71662456e-01,  -2.51147987e-01,  -1.26592454e-01,\n",
       "        -4.89858720e-16])"
      ]
     },
     "execution_count": 61,
     "metadata": {},
     "output_type": "execute_result"
    }
   ],
   "source": [
    "np.sin(t)"
   ]
  },
  {
   "cell_type": "markdown",
   "metadata": {},
   "source": [
    "As the next two examples show, multiple ufuncs can be used to create complex mathematical expressions that can be computed efficiently:"
   ]
  },
  {
   "cell_type": "code",
   "execution_count": 62,
   "metadata": {
    "collapsed": false
   },
   "outputs": [
    {
     "data": {
      "text/html": [
       "<style type=\"text/css\">table.blockgrid {border: none;} .blockgrid tr {border: none;} .blockgrid td {padding: 0px;} #blocksd70e357c-a5fa-4906-8c2c-550cced051d9 td {border: 1px solid white;}</style><table id=\"blocksd70e357c-a5fa-4906-8c2c-550cced051d9\" class=\"blockgrid\"><tbody><tr><td title=\"Index: [0, 0]&#10;Color: (68, 1, 84)\" style=\"width: 5px; height: 5px;background-color: rgb(68, 1, 84);\"></td><td title=\"Index: [0, 1]&#10;Color: (69, 5, 89)\" style=\"width: 5px; height: 5px;background-color: rgb(69, 5, 89);\"></td><td title=\"Index: [0, 2]&#10;Color: (70, 7, 90)\" style=\"width: 5px; height: 5px;background-color: rgb(70, 7, 90);\"></td><td title=\"Index: [0, 3]&#10;Color: (70, 10, 93)\" style=\"width: 5px; height: 5px;background-color: rgb(70, 10, 93);\"></td><td title=\"Index: [0, 4]&#10;Color: (70, 11, 94)\" style=\"width: 5px; height: 5px;background-color: rgb(70, 11, 94);\"></td><td title=\"Index: [0, 5]&#10;Color: (71, 14, 97)\" style=\"width: 5px; height: 5px;background-color: rgb(71, 14, 97);\"></td><td title=\"Index: [0, 6]&#10;Color: (71, 16, 99)\" style=\"width: 5px; height: 5px;background-color: rgb(71, 16, 99);\"></td><td title=\"Index: [0, 7]&#10;Color: (71, 17, 100)\" style=\"width: 5px; height: 5px;background-color: rgb(71, 17, 100);\"></td><td title=\"Index: [0, 8]&#10;Color: (72, 20, 103)\" style=\"width: 5px; height: 5px;background-color: rgb(72, 20, 103);\"></td><td title=\"Index: [0, 9]&#10;Color: (72, 22, 104)\" style=\"width: 5px; height: 5px;background-color: rgb(72, 22, 104);\"></td><td title=\"Index: [0, 10]&#10;Color: (72, 23, 105)\" style=\"width: 5px; height: 5px;background-color: rgb(72, 23, 105);\"></td><td title=\"Index: [0, 11]&#10;Color: (72, 26, 108)\" style=\"width: 5px; height: 5px;background-color: rgb(72, 26, 108);\"></td><td title=\"Index: [0, 12]&#10;Color: (72, 27, 109)\" style=\"width: 5px; height: 5px;background-color: rgb(72, 27, 109);\"></td><td title=\"Index: [0, 13]&#10;Color: (72, 28, 110)\" style=\"width: 5px; height: 5px;background-color: rgb(72, 28, 110);\"></td><td title=\"Index: [0, 14]&#10;Color: (72, 31, 112)\" style=\"width: 5px; height: 5px;background-color: rgb(72, 31, 112);\"></td><td title=\"Index: [0, 15]&#10;Color: (72, 32, 113)\" style=\"width: 5px; height: 5px;background-color: rgb(72, 32, 113);\"></td><td title=\"Index: [0, 16]&#10;Color: (72, 35, 116)\" style=\"width: 5px; height: 5px;background-color: rgb(72, 35, 116);\"></td><td title=\"Index: [0, 17]&#10;Color: (72, 36, 117)\" style=\"width: 5px; height: 5px;background-color: rgb(72, 36, 117);\"></td><td title=\"Index: [0, 18]&#10;Color: (72, 37, 118)\" style=\"width: 5px; height: 5px;background-color: rgb(72, 37, 118);\"></td><td title=\"Index: [0, 19]&#10;Color: (72, 40, 120)\" style=\"width: 5px; height: 5px;background-color: rgb(72, 40, 120);\"></td><td title=\"Index: [0, 20]&#10;Color: (72, 41, 121)\" style=\"width: 5px; height: 5px;background-color: rgb(72, 41, 121);\"></td><td title=\"Index: [0, 21]&#10;Color: (71, 44, 122)\" style=\"width: 5px; height: 5px;background-color: rgb(71, 44, 122);\"></td><td title=\"Index: [0, 22]&#10;Color: (71, 45, 123)\" style=\"width: 5px; height: 5px;background-color: rgb(71, 45, 123);\"></td><td title=\"Index: [0, 23]&#10;Color: (71, 47, 125)\" style=\"width: 5px; height: 5px;background-color: rgb(71, 47, 125);\"></td><td title=\"Index: [0, 24]&#10;Color: (70, 48, 126)\" style=\"width: 5px; height: 5px;background-color: rgb(70, 48, 126);\"></td><td title=\"Index: [0, 25]&#10;Color: (70, 51, 127)\" style=\"width: 5px; height: 5px;background-color: rgb(70, 51, 127);\"></td><td title=\"Index: [0, 26]&#10;Color: (69, 53, 129)\" style=\"width: 5px; height: 5px;background-color: rgb(69, 53, 129);\"></td><td title=\"Index: [0, 27]&#10;Color: (69, 55, 129)\" style=\"width: 5px; height: 5px;background-color: rgb(69, 55, 129);\"></td><td title=\"Index: [0, 28]&#10;Color: (68, 57, 131)\" style=\"width: 5px; height: 5px;background-color: rgb(68, 57, 131);\"></td><td title=\"Index: [0, 29]&#10;Color: (68, 59, 132)\" style=\"width: 5px; height: 5px;background-color: rgb(68, 59, 132);\"></td><td title=\"Index: [0, 30]&#10;Color: (67, 61, 132)\" style=\"width: 5px; height: 5px;background-color: rgb(67, 61, 132);\"></td><td title=\"Index: [0, 31]&#10;Color: (66, 63, 133)\" style=\"width: 5px; height: 5px;background-color: rgb(66, 63, 133);\"></td><td title=\"Index: [0, 32]&#10;Color: (66, 65, 134)\" style=\"width: 5px; height: 5px;background-color: rgb(66, 65, 134);\"></td><td title=\"Index: [0, 33]&#10;Color: (65, 68, 135)\" style=\"width: 5px; height: 5px;background-color: rgb(65, 68, 135);\"></td><td title=\"Index: [0, 34]&#10;Color: (64, 70, 136)\" style=\"width: 5px; height: 5px;background-color: rgb(64, 70, 136);\"></td><td title=\"Index: [0, 35]&#10;Color: (63, 72, 137)\" style=\"width: 5px; height: 5px;background-color: rgb(63, 72, 137);\"></td><td title=\"Index: [0, 36]&#10;Color: (62, 73, 137)\" style=\"width: 5px; height: 5px;background-color: rgb(62, 73, 137);\"></td><td title=\"Index: [0, 37]&#10;Color: (62, 76, 138)\" style=\"width: 5px; height: 5px;background-color: rgb(62, 76, 138);\"></td><td title=\"Index: [0, 38]&#10;Color: (61, 78, 138)\" style=\"width: 5px; height: 5px;background-color: rgb(61, 78, 138);\"></td><td title=\"Index: [0, 39]&#10;Color: (60, 80, 139)\" style=\"width: 5px; height: 5px;background-color: rgb(60, 80, 139);\"></td><td title=\"Index: [0, 40]&#10;Color: (59, 82, 139)\" style=\"width: 5px; height: 5px;background-color: rgb(59, 82, 139);\"></td><td title=\"Index: [0, 41]&#10;Color: (58, 84, 140)\" style=\"width: 5px; height: 5px;background-color: rgb(58, 84, 140);\"></td><td title=\"Index: [0, 42]&#10;Color: (57, 86, 140)\" style=\"width: 5px; height: 5px;background-color: rgb(57, 86, 140);\"></td><td title=\"Index: [0, 43]&#10;Color: (55, 90, 140)\" style=\"width: 5px; height: 5px;background-color: rgb(55, 90, 140);\"></td><td title=\"Index: [0, 44]&#10;Color: (54, 92, 141)\" style=\"width: 5px; height: 5px;background-color: rgb(54, 92, 141);\"></td><td title=\"Index: [0, 45]&#10;Color: (53, 94, 141)\" style=\"width: 5px; height: 5px;background-color: rgb(53, 94, 141);\"></td><td title=\"Index: [0, 46]&#10;Color: (52, 96, 141)\" style=\"width: 5px; height: 5px;background-color: rgb(52, 96, 141);\"></td><td title=\"Index: [0, 47]&#10;Color: (51, 98, 141)\" style=\"width: 5px; height: 5px;background-color: rgb(51, 98, 141);\"></td><td title=\"Index: [0, 48]&#10;Color: (50, 101, 142)\" style=\"width: 5px; height: 5px;background-color: rgb(50, 101, 142);\"></td><td title=\"Index: [0, 49]&#10;Color: (49, 103, 142)\" style=\"width: 5px; height: 5px;background-color: rgb(49, 103, 142);\"></td><td title=\"Index: [0, 50]&#10;Color: (48, 105, 142)\" style=\"width: 5px; height: 5px;background-color: rgb(48, 105, 142);\"></td><td title=\"Index: [0, 51]&#10;Color: (47, 108, 142)\" style=\"width: 5px; height: 5px;background-color: rgb(47, 108, 142);\"></td><td title=\"Index: [0, 52]&#10;Color: (46, 110, 142)\" style=\"width: 5px; height: 5px;background-color: rgb(46, 110, 142);\"></td><td title=\"Index: [0, 53]&#10;Color: (45, 113, 142)\" style=\"width: 5px; height: 5px;background-color: rgb(45, 113, 142);\"></td><td title=\"Index: [0, 54]&#10;Color: (44, 114, 142)\" style=\"width: 5px; height: 5px;background-color: rgb(44, 114, 142);\"></td><td title=\"Index: [0, 55]&#10;Color: (43, 117, 142)\" style=\"width: 5px; height: 5px;background-color: rgb(43, 117, 142);\"></td><td title=\"Index: [0, 56]&#10;Color: (42, 119, 142)\" style=\"width: 5px; height: 5px;background-color: rgb(42, 119, 142);\"></td><td title=\"Index: [0, 57]&#10;Color: (41, 122, 142)\" style=\"width: 5px; height: 5px;background-color: rgb(41, 122, 142);\"></td><td title=\"Index: [0, 58]&#10;Color: (40, 125, 142)\" style=\"width: 5px; height: 5px;background-color: rgb(40, 125, 142);\"></td><td title=\"Index: [0, 59]&#10;Color: (39, 127, 142)\" style=\"width: 5px; height: 5px;background-color: rgb(39, 127, 142);\"></td><td title=\"Index: [0, 60]&#10;Color: (38, 130, 142)\" style=\"width: 5px; height: 5px;background-color: rgb(38, 130, 142);\"></td><td title=\"Index: [0, 61]&#10;Color: (37, 132, 142)\" style=\"width: 5px; height: 5px;background-color: rgb(37, 132, 142);\"></td><td title=\"Index: [0, 62]&#10;Color: (36, 135, 142)\" style=\"width: 5px; height: 5px;background-color: rgb(36, 135, 142);\"></td><td title=\"Index: [0, 63]&#10;Color: (35, 138, 141)\" style=\"width: 5px; height: 5px;background-color: rgb(35, 138, 141);\"></td><td title=\"Index: [0, 64]&#10;Color: (34, 140, 141)\" style=\"width: 5px; height: 5px;background-color: rgb(34, 140, 141);\"></td><td title=\"Index: [0, 65]&#10;Color: (33, 143, 141)\" style=\"width: 5px; height: 5px;background-color: rgb(33, 143, 141);\"></td><td title=\"Index: [0, 66]&#10;Color: (32, 146, 140)\" style=\"width: 5px; height: 5px;background-color: rgb(32, 146, 140);\"></td><td title=\"Index: [0, 67]&#10;Color: (31, 148, 140)\" style=\"width: 5px; height: 5px;background-color: rgb(31, 148, 140);\"></td><td title=\"Index: [0, 68]&#10;Color: (31, 152, 139)\" style=\"width: 5px; height: 5px;background-color: rgb(31, 152, 139);\"></td><td title=\"Index: [0, 69]&#10;Color: (30, 155, 138)\" style=\"width: 5px; height: 5px;background-color: rgb(30, 155, 138);\"></td><td title=\"Index: [0, 70]&#10;Color: (31, 158, 137)\" style=\"width: 5px; height: 5px;background-color: rgb(31, 158, 137);\"></td><td title=\"Index: [0, 71]&#10;Color: (31, 161, 136)\" style=\"width: 5px; height: 5px;background-color: rgb(31, 161, 136);\"></td><td title=\"Index: [0, 72]&#10;Color: (32, 163, 134)\" style=\"width: 5px; height: 5px;background-color: rgb(32, 163, 134);\"></td><td title=\"Index: [0, 73]&#10;Color: (34, 167, 133)\" style=\"width: 5px; height: 5px;background-color: rgb(34, 167, 133);\"></td><td title=\"Index: [0, 74]&#10;Color: (36, 170, 131)\" style=\"width: 5px; height: 5px;background-color: rgb(36, 170, 131);\"></td><td title=\"Index: [0, 75]&#10;Color: (38, 173, 129)\" style=\"width: 5px; height: 5px;background-color: rgb(38, 173, 129);\"></td><td title=\"Index: [0, 76]&#10;Color: (42, 176, 127)\" style=\"width: 5px; height: 5px;background-color: rgb(42, 176, 127);\"></td><td title=\"Index: [0, 77]&#10;Color: (46, 179, 124)\" style=\"width: 5px; height: 5px;background-color: rgb(46, 179, 124);\"></td><td title=\"Index: [0, 78]&#10;Color: (52, 182, 121)\" style=\"width: 5px; height: 5px;background-color: rgb(52, 182, 121);\"></td><td title=\"Index: [0, 79]&#10;Color: (56, 185, 119)\" style=\"width: 5px; height: 5px;background-color: rgb(56, 185, 119);\"></td><td title=\"Index: [0, 80]&#10;Color: (63, 188, 115)\" style=\"width: 5px; height: 5px;background-color: rgb(63, 188, 115);\"></td><td title=\"Index: [0, 81]&#10;Color: (70, 192, 111)\" style=\"width: 5px; height: 5px;background-color: rgb(70, 192, 111);\"></td><td title=\"Index: [0, 82]&#10;Color: (78, 195, 107)\" style=\"width: 5px; height: 5px;background-color: rgb(78, 195, 107);\"></td><td title=\"Index: [0, 83]&#10;Color: (84, 197, 104)\" style=\"width: 5px; height: 5px;background-color: rgb(84, 197, 104);\"></td><td title=\"Index: [0, 84]&#10;Color: (92, 200, 99)\" style=\"width: 5px; height: 5px;background-color: rgb(92, 200, 99);\"></td><td title=\"Index: [0, 85]&#10;Color: (101, 203, 94)\" style=\"width: 5px; height: 5px;background-color: rgb(101, 203, 94);\"></td><td title=\"Index: [0, 86]&#10;Color: (110, 206, 88)\" style=\"width: 5px; height: 5px;background-color: rgb(110, 206, 88);\"></td><td title=\"Index: [0, 87]&#10;Color: (119, 209, 83)\" style=\"width: 5px; height: 5px;background-color: rgb(119, 209, 83);\"></td><td title=\"Index: [0, 88]&#10;Color: (129, 211, 77)\" style=\"width: 5px; height: 5px;background-color: rgb(129, 211, 77);\"></td><td title=\"Index: [0, 89]&#10;Color: (139, 214, 70)\" style=\"width: 5px; height: 5px;background-color: rgb(139, 214, 70);\"></td><td title=\"Index: [0, 90]&#10;Color: (149, 216, 64)\" style=\"width: 5px; height: 5px;background-color: rgb(149, 216, 64);\"></td><td title=\"Index: [0, 91]&#10;Color: (162, 218, 55)\" style=\"width: 5px; height: 5px;background-color: rgb(162, 218, 55);\"></td><td title=\"Index: [0, 92]&#10;Color: (173, 220, 48)\" style=\"width: 5px; height: 5px;background-color: rgb(173, 220, 48);\"></td><td title=\"Index: [0, 93]&#10;Color: (184, 222, 41)\" style=\"width: 5px; height: 5px;background-color: rgb(184, 222, 41);\"></td><td title=\"Index: [0, 94]&#10;Color: (197, 224, 33)\" style=\"width: 5px; height: 5px;background-color: rgb(197, 224, 33);\"></td><td title=\"Index: [0, 95]&#10;Color: (208, 225, 28)\" style=\"width: 5px; height: 5px;background-color: rgb(208, 225, 28);\"></td><td title=\"Index: [0, 96]&#10;Color: (221, 227, 24)\" style=\"width: 5px; height: 5px;background-color: rgb(221, 227, 24);\"></td><td title=\"Index: [0, 97]&#10;Color: (231, 228, 25)\" style=\"width: 5px; height: 5px;background-color: rgb(231, 228, 25);\"></td><td title=\"Index: [0, 98]&#10;Color: (244, 230, 30)\" style=\"width: 5px; height: 5px;background-color: rgb(244, 230, 30);\"></td><td title=\"Index: [0, 99]&#10;Color: (253, 231, 37)\" style=\"width: 5px; height: 5px;background-color: rgb(253, 231, 37);\"></td></tr></tbody></table>"
      ],
      "text/plain": [
       "array([  1.        ,   1.42800252,   1.65508314,   1.85352498,\n",
       "         2.0391912 ,   2.21811727,   2.39335452,   2.56669572,\n",
       "         2.73930019,   2.91197017,   3.0852899 ,   3.25970239,\n",
       "         3.43555487,   3.61312719,   3.79265037,   3.97431915,\n",
       "         4.15830075,   4.34474111,   4.53376955,   4.72550211,\n",
       "         4.92004424,   5.11749275,   5.31793737,   5.52146205,\n",
       "         5.72814588,   5.93806395,   6.15128796,   6.36788679,\n",
       "         6.58792691,   6.81147279,   7.03858718,   7.26933139,\n",
       "         7.50376552,   7.74194862,   7.9839389 ,   8.22979383,\n",
       "         8.47957029,   8.73332467,   8.99111297,   9.25299087,\n",
       "         9.5190138 ,   9.78923703,  10.0637157 ,  10.3425049 ,\n",
       "        10.62565969,  10.91323513,  11.20528637,  11.50186863,\n",
       "        11.80303726,  12.10884775,  12.41935577,  12.73461719,\n",
       "        13.05468809,  13.37962479,  13.70948387,  14.04432217,\n",
       "        14.38419685,  14.72916532,  15.07928535,  15.43461502,\n",
       "        15.79521274,  16.16113729,  16.53244781,  16.90920379,\n",
       "        17.29146511,  17.67929205,  18.07274529,  18.47188589,\n",
       "        18.87677534,  19.28747555,  19.70404886,  20.12655804,\n",
       "        20.5550663 ,  20.9896373 ,  21.43033517,  21.87722446,\n",
       "        22.33037022,  22.78983796,  23.25569367,  23.72800383,\n",
       "        24.20683537,  24.69225577,  25.18433296,  25.68313539,\n",
       "        26.18873203,  26.70119236,  27.22058635,  27.74698452,\n",
       "        28.28045791,  28.82107809,  29.36891717,  29.9240478 ,\n",
       "        30.48654317,  31.05647702,  31.63392365,  32.21895792,\n",
       "        32.81165525,  33.41209162,  34.0203436 ,  34.63648831])"
      ]
     },
     "execution_count": 62,
     "metadata": {},
     "output_type": "execute_result"
    }
   ],
   "source": [
    "np.exp(np.sqrt(t))"
   ]
  },
  {
   "cell_type": "code",
   "execution_count": 63,
   "metadata": {
    "collapsed": false
   },
   "outputs": [],
   "source": [
    "va.disable_notebook()\n",
    "va.set_block_size(30)"
   ]
  },
  {
   "cell_type": "code",
   "execution_count": 64,
   "metadata": {
    "collapsed": false
   },
   "outputs": [
    {
     "data": {
      "image/png": "[encoded data removed]",
      "text/plain": [
       "<matplotlib.figure.Figure at 0x7f642f142978>"
      ]
     },
     "metadata": {},
     "output_type": "display_data"
    }
   ],
   "source": [
    "plt.plot(t, np.exp(-0.1*t)*np.sin(t));"
   ]
  },
  {
   "cell_type": "markdown",
   "metadata": {},
   "source": [
    "In general, you should always try to use ufuncs rather than do computations using for loops. These types of array based computations are referred to as *vectorized*."
   ]
  },
  {
   "cell_type": "markdown",
   "metadata": {},
   "source": [
    "## Basic data processing"
   ]
  },
  {
   "cell_type": "code",
   "execution_count": 65,
   "metadata": {
    "collapsed": false
   },
   "outputs": [],
   "source": [
    "ages = np.array([23,56,67,89,23,56,27,12,8,72])\n",
    "genders = np.array(['m','m','f','f','m','f','m','m','m','f'])"
   ]
  },
  {
   "cell_type": "markdown",
   "metadata": {},
   "source": [
    "Numpy has a basic set of methods and function for computing basic quantities about data."
   ]
  },
  {
   "cell_type": "code",
   "execution_count": 66,
   "metadata": {
    "collapsed": false
   },
   "outputs": [
    {
     "data": {
      "text/plain": [
       "(8, 89)"
      ]
     },
     "execution_count": 66,
     "metadata": {},
     "output_type": "execute_result"
    }
   ],
   "source": [
    "ages.min(), ages.max()"
   ]
  },
  {
   "cell_type": "markdown",
   "metadata": {},
   "source": [
    "Compute the mean:"
   ]
  },
  {
   "cell_type": "code",
   "execution_count": 67,
   "metadata": {
    "collapsed": false
   },
   "outputs": [
    {
     "data": {
      "text/plain": [
       "43.299999999999997"
      ]
     },
     "execution_count": 67,
     "metadata": {},
     "output_type": "execute_result"
    }
   ],
   "source": [
    "ages.mean()"
   ]
  },
  {
   "cell_type": "markdown",
   "metadata": {},
   "source": [
    "Compute the variance and standard deviation:"
   ]
  },
  {
   "cell_type": "code",
   "execution_count": 68,
   "metadata": {
    "collapsed": false
   },
   "outputs": [
    {
     "data": {
      "text/plain": [
       "(711.21000000000004, 26.668520768876554)"
      ]
     },
     "execution_count": 68,
     "metadata": {},
     "output_type": "execute_result"
    }
   ],
   "source": [
    "ages.var(), ages.std()"
   ]
  },
  {
   "cell_type": "markdown",
   "metadata": {},
   "source": [
    "The `bincount` function counts how many times each value occurs in the array:"
   ]
  },
  {
   "cell_type": "code",
   "execution_count": 69,
   "metadata": {
    "collapsed": false
   },
   "outputs": [
    {
     "data": {
      "text/plain": [
       "array([0, 0, 0, 0, 0, 0, 0, 0, 1, 0, 0, 0, 1, 0, 0, 0, 0, 0, 0, 0, 0, 0, 0,\n",
       "       2, 0, 0, 0, 1, 0, 0, 0, 0, 0, 0, 0, 0, 0, 0, 0, 0, 0, 0, 0, 0, 0, 0,\n",
       "       0, 0, 0, 0, 0, 0, 0, 0, 0, 0, 2, 0, 0, 0, 0, 0, 0, 0, 0, 0, 0, 1, 0,\n",
       "       0, 0, 0, 1, 0, 0, 0, 0, 0, 0, 0, 0, 0, 0, 0, 0, 0, 0, 0, 0, 1])"
      ]
     },
     "execution_count": 69,
     "metadata": {},
     "output_type": "execute_result"
    }
   ],
   "source": [
    "np.bincount(ages)"
   ]
  },
  {
   "cell_type": "markdown",
   "metadata": {},
   "source": [
    "The `cumsum` and `cumprod` methods compute cumulative sums and products:"
   ]
  },
  {
   "cell_type": "code",
   "execution_count": 70,
   "metadata": {
    "collapsed": false
   },
   "outputs": [
    {
     "data": {
      "text/plain": [
       "array([ 23,  79, 146, 235, 258, 314, 341, 353, 361, 433])"
      ]
     },
     "execution_count": 70,
     "metadata": {},
     "output_type": "execute_result"
    }
   ],
   "source": [
    "ages.cumsum()"
   ]
  },
  {
   "cell_type": "code",
   "execution_count": 71,
   "metadata": {
    "collapsed": false
   },
   "outputs": [
    {
     "data": {
      "text/plain": [
       "array([              23,             1288,            86296,\n",
       "                7680344,        176647912,       9892283072,\n",
       "           267091642944,    3205099715328,   25640797722624,\n",
       "       1846137436028928])"
      ]
     },
     "execution_count": 71,
     "metadata": {},
     "output_type": "execute_result"
    }
   ],
   "source": [
    "ages.cumprod()"
   ]
  },
  {
   "cell_type": "markdown",
   "metadata": {},
   "source": [
    "Most of the functions and methods above take an `axis` argument that will apply the action along a particular axis:"
   ]
  },
  {
   "cell_type": "code",
   "execution_count": 72,
   "metadata": {
    "collapsed": false
   },
   "outputs": [
    {
     "data": {
      "text/plain": [
       "array([[3, 6, 5, 1],\n",
       "       [2, 9, 3, 3],\n",
       "       [0, 6, 0, 3]])"
      ]
     },
     "execution_count": 72,
     "metadata": {},
     "output_type": "execute_result"
    }
   ],
   "source": [
    "a = np.random.randint(0,10,(3,4))\n",
    "a"
   ]
  },
  {
   "cell_type": "markdown",
   "metadata": {},
   "source": [
    "With `axis=0` the action takes place along rows:"
   ]
  },
  {
   "cell_type": "code",
   "execution_count": 73,
   "metadata": {
    "collapsed": false
   },
   "outputs": [
    {
     "data": {
      "text/plain": [
       "array([ 5, 21,  8,  7])"
      ]
     },
     "execution_count": 73,
     "metadata": {},
     "output_type": "execute_result"
    }
   ],
   "source": [
    "a.sum(axis=0)"
   ]
  },
  {
   "cell_type": "markdown",
   "metadata": {},
   "source": [
    "With `axis=1` the action takes place along columns:"
   ]
  },
  {
   "cell_type": "code",
   "execution_count": 74,
   "metadata": {
    "collapsed": false
   },
   "outputs": [
    {
     "data": {
      "text/plain": [
       "array([15, 17,  9])"
      ]
     },
     "execution_count": 74,
     "metadata": {},
     "output_type": "execute_result"
    }
   ],
   "source": [
    "a.sum(axis=1)"
   ]
  },
  {
   "cell_type": "markdown",
   "metadata": {},
   "source": [
    "The `unique` function is extremely useful in working with categorical data:"
   ]
  },
  {
   "cell_type": "code",
   "execution_count": 75,
   "metadata": {
    "collapsed": false
   },
   "outputs": [
    {
     "data": {
      "text/plain": [
       "array(['f', 'm'], \n",
       "      dtype='<U1')"
      ]
     },
     "execution_count": 75,
     "metadata": {},
     "output_type": "execute_result"
    }
   ],
   "source": [
    "np.unique(genders)"
   ]
  },
  {
   "cell_type": "code",
   "execution_count": 76,
   "metadata": {
    "collapsed": false
   },
   "outputs": [
    {
     "data": {
      "text/plain": [
       "(array(['f', 'm'], \n",
       "       dtype='<U1'), array([4, 6]))"
      ]
     },
     "execution_count": 76,
     "metadata": {},
     "output_type": "execute_result"
    }
   ],
   "source": [
    "np.unique(genders, return_counts=True)"
   ]
  },
  {
   "cell_type": "markdown",
   "metadata": {},
   "source": [
    "The where function allows you to apply conditional logic to arrays. Here is a rough sketch of how it works:\n",
    "\n",
    "```python\n",
    "def where(condition, if_false, if_true):\n",
    "```"
   ]
  },
  {
   "cell_type": "code",
   "execution_count": 77,
   "metadata": {
    "collapsed": false
   },
   "outputs": [
    {
     "data": {
      "text/plain": [
       "array([1, 0, 0, 0, 1, 0, 1, 1, 1, 0])"
      ]
     },
     "execution_count": 77,
     "metadata": {},
     "output_type": "execute_result"
    }
   ],
   "source": [
    "np.where(ages>30, 0, 1)"
   ]
  },
  {
   "cell_type": "markdown",
   "metadata": {},
   "source": [
    "The `if_false` and `if_true` values can be arrays themselves:"
   ]
  },
  {
   "cell_type": "code",
   "execution_count": 78,
   "metadata": {
    "collapsed": false
   },
   "outputs": [
    {
     "data": {
      "text/plain": [
       "array([ 0, 56, 67, 89,  0, 56,  0,  0,  0, 72])"
      ]
     },
     "execution_count": 78,
     "metadata": {},
     "output_type": "execute_result"
    }
   ],
   "source": [
    "np.where(ages<30, 0, ages)"
   ]
  },
  {
   "cell_type": "markdown",
   "metadata": {},
   "source": [
    "## File IO"
   ]
  },
  {
   "cell_type": "markdown",
   "metadata": {},
   "source": [
    "NumPy has a a number of different function to reading and writing arrays to and from disk."
   ]
  },
  {
   "cell_type": "markdown",
   "metadata": {},
   "source": [
    "### Single array, binary format"
   ]
  },
  {
   "cell_type": "code",
   "execution_count": 79,
   "metadata": {
    "collapsed": false
   },
   "outputs": [
    {
     "data": {
      "text/plain": [
       "array([ 0.93169785,  0.59444731,  0.54218421,  0.06179936,  0.28662907,\n",
       "        0.34794862,  0.19588381,  0.57338884,  0.46852917,  0.2500546 ])"
      ]
     },
     "execution_count": 79,
     "metadata": {},
     "output_type": "execute_result"
    }
   ],
   "source": [
    "a = np.random.rand(10)\n",
    "a"
   ]
  },
  {
   "cell_type": "markdown",
   "metadata": {},
   "source": [
    "Save the array to a binary file named `array1.npy`:"
   ]
  },
  {
   "cell_type": "code",
   "execution_count": 80,
   "metadata": {
    "collapsed": false
   },
   "outputs": [],
   "source": [
    "np.save('array1', a)"
   ]
  },
  {
   "cell_type": "code",
   "execution_count": 81,
   "metadata": {
    "collapsed": false
   },
   "outputs": [
    {
     "name": "stdout",
     "output_type": "stream",
     "text": [
      "array1.npy  Day04.ipynb  Numpy.ipynb  Untitled.ipynb\r\n"
     ]
    }
   ],
   "source": [
    "ls"
   ]
  },
  {
   "cell_type": "markdown",
   "metadata": {},
   "source": [
    "Using `%pycat` to look at the file shows that it is binary:"
   ]
  },
  {
   "cell_type": "code",
   "execution_count": 82,
   "metadata": {
    "collapsed": false
   },
   "outputs": [
    {
     "name": "stdout",
     "output_type": "stream",
     "text": [
      "�NUMPY\u0001\u0000F\u0000{'descr': '<f8', 'fortran_order': False, 'shape': (10,), }           \r\n",
      "�\u0004x��?q��Z�\u0005�?�x���Y�?���Y*��?��Pw!X�?:!nF�D�?$qӆ�\u0012�?��Ë3Y�?2+f�a��?Z�I\u0000�\u0000�?"
     ]
    }
   ],
   "source": [
    "!cat array1.npy"
   ]
  },
  {
   "cell_type": "markdown",
   "metadata": {},
   "source": [
    "Load the array back into memory:"
   ]
  },
  {
   "cell_type": "code",
   "execution_count": 83,
   "metadata": {
    "collapsed": false
   },
   "outputs": [],
   "source": [
    "a_copy = np.load('array1.npy')"
   ]
  },
  {
   "cell_type": "code",
   "execution_count": 84,
   "metadata": {
    "collapsed": false
   },
   "outputs": [
    {
     "data": {
      "text/plain": [
       "array([ 0.93169785,  0.59444731,  0.54218421,  0.06179936,  0.28662907,\n",
       "        0.34794862,  0.19588381,  0.57338884,  0.46852917,  0.2500546 ])"
      ]
     },
     "execution_count": 84,
     "metadata": {},
     "output_type": "execute_result"
    }
   ],
   "source": [
    "a_copy"
   ]
  },
  {
   "cell_type": "markdown",
   "metadata": {},
   "source": [
    "### Single array, text format"
   ]
  },
  {
   "cell_type": "code",
   "execution_count": 85,
   "metadata": {
    "collapsed": false
   },
   "outputs": [
    {
     "data": {
      "text/plain": [
       "array([[5, 9, 6],\n",
       "       [4, 4, 7],\n",
       "       [1, 2, 0],\n",
       "       [1, 6, 8],\n",
       "       [6, 5, 3]])"
      ]
     },
     "execution_count": 85,
     "metadata": {},
     "output_type": "execute_result"
    }
   ],
   "source": [
    "b = np.random.randint(0,10,(5,3))\n",
    "b"
   ]
  },
  {
   "cell_type": "markdown",
   "metadata": {},
   "source": [
    "The `savetxt` function saves arrays in a simple, textual format that is less effecient, but easier for other languges to read:"
   ]
  },
  {
   "cell_type": "code",
   "execution_count": 86,
   "metadata": {
    "collapsed": false
   },
   "outputs": [],
   "source": [
    "np.savetxt('array2.txt', b)"
   ]
  },
  {
   "cell_type": "code",
   "execution_count": 87,
   "metadata": {
    "collapsed": false
   },
   "outputs": [
    {
     "name": "stdout",
     "output_type": "stream",
     "text": [
      "array1.npy  array2.txt  Day04.ipynb  Numpy.ipynb  Untitled.ipynb\r\n"
     ]
    }
   ],
   "source": [
    "ls"
   ]
  },
  {
   "cell_type": "markdown",
   "metadata": {},
   "source": [
    "Using `%pycat` to look at the contents shows that the files is indeed a plain text file:"
   ]
  },
  {
   "cell_type": "code",
   "execution_count": 88,
   "metadata": {
    "collapsed": false
   },
   "outputs": [
    {
     "name": "stdout",
     "output_type": "stream",
     "text": [
      "5.000000000000000000e+00 9.000000000000000000e+00 6.000000000000000000e+00\r\n",
      "4.000000000000000000e+00 4.000000000000000000e+00 7.000000000000000000e+00\r\n",
      "1.000000000000000000e+00 2.000000000000000000e+00 0.000000000000000000e+00\r\n",
      "1.000000000000000000e+00 6.000000000000000000e+00 8.000000000000000000e+00\r\n",
      "6.000000000000000000e+00 5.000000000000000000e+00 3.000000000000000000e+00\r\n"
     ]
    }
   ],
   "source": [
    "!cat array2.txt"
   ]
  },
  {
   "cell_type": "code",
   "execution_count": 89,
   "metadata": {
    "collapsed": false
   },
   "outputs": [
    {
     "data": {
      "text/plain": [
       "array([[ 5.,  9.,  6.],\n",
       "       [ 4.,  4.,  7.],\n",
       "       [ 1.,  2.,  0.],\n",
       "       [ 1.,  6.,  8.],\n",
       "       [ 6.,  5.,  3.]])"
      ]
     },
     "execution_count": 89,
     "metadata": {},
     "output_type": "execute_result"
    }
   ],
   "source": [
    "np.loadtxt('array2.txt')"
   ]
  },
  {
   "cell_type": "markdown",
   "metadata": {},
   "source": [
    "### Multiple arrays, binary format"
   ]
  },
  {
   "cell_type": "markdown",
   "metadata": {},
   "source": [
    "The `savez` function provides an efficient way of saving multiple arrays to a single file:"
   ]
  },
  {
   "cell_type": "code",
   "execution_count": 90,
   "metadata": {
    "collapsed": false
   },
   "outputs": [],
   "source": [
    "np.savez('arrays.npz', a=a, b=b)"
   ]
  },
  {
   "cell_type": "markdown",
   "metadata": {},
   "source": [
    "The `load` function returns a dictionary like object that provides access to the individual arrays:"
   ]
  },
  {
   "cell_type": "code",
   "execution_count": 91,
   "metadata": {
    "collapsed": false
   },
   "outputs": [],
   "source": [
    "a_and_b = np.load('arrays.npz')"
   ]
  },
  {
   "cell_type": "code",
   "execution_count": 92,
   "metadata": {
    "collapsed": false
   },
   "outputs": [
    {
     "data": {
      "text/plain": [
       "array([ 0.93169785,  0.59444731,  0.54218421,  0.06179936,  0.28662907,\n",
       "        0.34794862,  0.19588381,  0.57338884,  0.46852917,  0.2500546 ])"
      ]
     },
     "execution_count": 92,
     "metadata": {},
     "output_type": "execute_result"
    }
   ],
   "source": [
    "a_and_b['a']"
   ]
  },
  {
   "cell_type": "code",
   "execution_count": 93,
   "metadata": {
    "collapsed": false
   },
   "outputs": [
    {
     "data": {
      "text/plain": [
       "array([[5, 9, 6],\n",
       "       [4, 4, 7],\n",
       "       [1, 2, 0],\n",
       "       [1, 6, 8],\n",
       "       [6, 5, 3]])"
      ]
     },
     "execution_count": 93,
     "metadata": {},
     "output_type": "execute_result"
    }
   ],
   "source": [
    "a_and_b['b']"
   ]
  },
  {
   "cell_type": "markdown",
   "metadata": {},
   "source": [
    "## Linear algebra"
   ]
  },
  {
   "cell_type": "markdown",
   "metadata": {},
   "source": [
    "NumPy has excellent linear algebra capabilities."
   ]
  },
  {
   "cell_type": "code",
   "execution_count": 94,
   "metadata": {
    "collapsed": false
   },
   "outputs": [],
   "source": [
    "a = np.random.rand(5,5)\n",
    "b = np.random.rand(5,5)"
   ]
  },
  {
   "cell_type": "markdown",
   "metadata": {},
   "source": [
    "Remember that array operations are elementwise. Thus, this is **not** matrix multiplication:"
   ]
  },
  {
   "cell_type": "code",
   "execution_count": 95,
   "metadata": {
    "collapsed": false
   },
   "outputs": [
    {
     "data": {
      "text/plain": [
       "array([[  2.40053953e-01,   1.04749615e-01,   6.83037299e-02,\n",
       "          3.61902875e-01,   4.79248749e-01],\n",
       "       [  3.00302356e-02,   9.31464431e-04,   2.88860419e-02,\n",
       "          2.83772366e-01,   5.12925383e-01],\n",
       "       [  4.52545569e-02,   1.87670340e-01,   8.51805905e-02,\n",
       "          3.35016801e-01,   4.98830144e-02],\n",
       "       [  8.90759999e-02,   3.26321631e-01,   4.94506502e-01,\n",
       "          5.95380890e-01,   1.99906128e-01],\n",
       "       [  1.53143598e-02,   2.16361672e-01,   4.34528154e-01,\n",
       "          2.77806129e-04,   2.85859374e-02]])"
      ]
     },
     "execution_count": 95,
     "metadata": {},
     "output_type": "execute_result"
    }
   ],
   "source": [
    "a*b"
   ]
  },
  {
   "cell_type": "markdown",
   "metadata": {},
   "source": [
    "To get matrix multiplication use `np.dot`:"
   ]
  },
  {
   "cell_type": "code",
   "execution_count": 96,
   "metadata": {
    "collapsed": false
   },
   "outputs": [
    {
     "data": {
      "text/plain": [
       "array([[ 1.32969446,  0.82170888,  1.27313342,  0.81176221,  1.47173595],\n",
       "       [ 1.34276291,  0.82708331,  1.1119631 ,  0.83872295,  1.22443318],\n",
       "       [ 1.23354389,  0.92018876,  1.17115704,  1.04271311,  1.38817917],\n",
       "       [ 1.30963768,  1.1144533 ,  1.10229592,  1.45401645,  1.53559693],\n",
       "       [ 0.21857704,  0.40750627,  0.27377343,  0.61936666,  0.59484862]])"
      ]
     },
     "execution_count": 96,
     "metadata": {},
     "output_type": "execute_result"
    }
   ],
   "source": [
    "np.dot(a, b)"
   ]
  },
  {
   "cell_type": "markdown",
   "metadata": {},
   "source": [
    "Or, NumPy as a `matrix` subclass for which matrix operations are the default:"
   ]
  },
  {
   "cell_type": "code",
   "execution_count": 97,
   "metadata": {
    "collapsed": false
   },
   "outputs": [],
   "source": [
    "m1 = np.matrix(a)\n",
    "m2 = np.matrix(b)"
   ]
  },
  {
   "cell_type": "code",
   "execution_count": 98,
   "metadata": {
    "collapsed": false
   },
   "outputs": [
    {
     "data": {
      "text/plain": [
       "matrix([[ 1.32969446,  0.82170888,  1.27313342,  0.81176221,  1.47173595],\n",
       "        [ 1.34276291,  0.82708331,  1.1119631 ,  0.83872295,  1.22443318],\n",
       "        [ 1.23354389,  0.92018876,  1.17115704,  1.04271311,  1.38817917],\n",
       "        [ 1.30963768,  1.1144533 ,  1.10229592,  1.45401645,  1.53559693],\n",
       "        [ 0.21857704,  0.40750627,  0.27377343,  0.61936666,  0.59484862]])"
      ]
     },
     "execution_count": 98,
     "metadata": {},
     "output_type": "execute_result"
    }
   ],
   "source": [
    "m1*m2"
   ]
  },
  {
   "cell_type": "markdown",
   "metadata": {},
   "source": [
    "The `np.linalg` package has a wide range of fast linear algebra operations.\n",
    "\n",
    "Here is determinant:"
   ]
  },
  {
   "cell_type": "code",
   "execution_count": 99,
   "metadata": {
    "collapsed": false
   },
   "outputs": [
    {
     "data": {
      "text/plain": [
       "-0.0058295937914988258"
      ]
     },
     "execution_count": 99,
     "metadata": {},
     "output_type": "execute_result"
    }
   ],
   "source": [
    "np.linalg.det(a)"
   ]
  },
  {
   "cell_type": "markdown",
   "metadata": {},
   "source": [
    "Matrix inverse:"
   ]
  },
  {
   "cell_type": "code",
   "execution_count": 100,
   "metadata": {
    "collapsed": false
   },
   "outputs": [
    {
     "data": {
      "text/plain": [
       "array([[-1.44665038, -3.96294881,  6.75186607,  0.07937476, -3.20728703],\n",
       "       [ 5.38562671, -5.00122793, -4.78978069,  4.73096489, -2.76966266],\n",
       "       [-5.09489066,  4.73908731,  4.45013496, -4.49491088,  4.21609265],\n",
       "       [ 0.80538956, -2.75554797, -0.04605329,  3.39427457, -4.12942491],\n",
       "       [ 0.77238704,  5.12859552, -3.41691257, -3.10080567,  5.08656423]])"
      ]
     },
     "execution_count": 100,
     "metadata": {},
     "output_type": "execute_result"
    }
   ],
   "source": [
    "np.linalg.inv(a)"
   ]
  },
  {
   "cell_type": "markdown",
   "metadata": {},
   "source": [
    "Eigenvalues:"
   ]
  },
  {
   "cell_type": "code",
   "execution_count": 101,
   "metadata": {
    "collapsed": false
   },
   "outputs": [
    {
     "data": {
      "text/plain": [
       "array([ 2.24915598+0.j       , -0.71401931+0.j       ,\n",
       "        0.29909559+0.j       ,  0.02485339+0.1073264j,\n",
       "        0.02485339-0.1073264j])"
      ]
     },
     "execution_count": 101,
     "metadata": {},
     "output_type": "execute_result"
    }
   ],
   "source": [
    "np.linalg.eigvals(a)"
   ]
  },
  {
   "cell_type": "markdown",
   "metadata": {},
   "source": [
    "NumPy can be built against fast BLAS/LAPACK implementation for these linear algebra operations."
   ]
  },
  {
   "cell_type": "code",
   "execution_count": 102,
   "metadata": {
    "collapsed": false
   },
   "outputs": [],
   "source": [
    "c = np.random.rand(2000,2000)"
   ]
  },
  {
   "cell_type": "code",
   "execution_count": 103,
   "metadata": {
    "collapsed": false
   },
   "outputs": [
    {
     "name": "stdout",
     "output_type": "stream",
     "text": [
      "1 loops, best of 1: 18.4 s per loop\n"
     ]
    }
   ],
   "source": [
    "%timeit -n1 -r1 evs = np.linalg.eigvals(c)"
   ]
  },
  {
   "cell_type": "markdown",
   "metadata": {},
   "source": [
    "## Random numbers"
   ]
  },
  {
   "cell_type": "markdown",
   "metadata": {},
   "source": [
    "NumPy has functions for creating arrays of random numbers from different distributions in `np.random`, as well as handling things like permutation, shuffling, and choosing.\n",
    "\n",
    "Here is the [numpy.random documentation](http://docs.scipy.org/doc/numpy/reference/routines.random.html)."
   ]
  },
  {
   "cell_type": "code",
   "execution_count": 104,
   "metadata": {
    "collapsed": false
   },
   "outputs": [
    {
     "data": {
      "text/plain": [
       "<matplotlib.text.Text at 0x7f642f0c1518>"
      ]
     },
     "execution_count": 104,
     "metadata": {},
     "output_type": "execute_result"
    },
    {
     "data": {
      "image/png": "[encoded data removed]",
      "text/plain": [
       "<matplotlib.figure.Figure at 0x7f642ef96320>"
      ]
     },
     "metadata": {},
     "output_type": "display_data"
    }
   ],
   "source": [
    "plt.hist(np.random.random(250))\n",
    "plt.title('Uniform Random Distribution $[0,1]$')\n",
    "plt.xlabel('value')\n",
    "plt.ylabel('count')"
   ]
  },
  {
   "cell_type": "code",
   "execution_count": 105,
   "metadata": {
    "collapsed": false
   },
   "outputs": [
    {
     "data": {
      "text/plain": [
       "<matplotlib.text.Text at 0x7f642f01d748>"
      ]
     },
     "execution_count": 105,
     "metadata": {},
     "output_type": "execute_result"
    },
    {
     "data": {
      "image/png": "[encoded data removed]",
      "text/plain": [
       "<matplotlib.figure.Figure at 0x7f642efa4cf8>"
      ]
     },
     "metadata": {},
     "output_type": "display_data"
    }
   ],
   "source": [
    "plt.hist(np.random.randn(250))\n",
    "plt.title('Standard Normal Distribution')\n",
    "plt.xlabel('value')\n",
    "plt.ylabel('count')"
   ]
  },
  {
   "cell_type": "markdown",
   "metadata": {},
   "source": [
    "The `shuffle` function shuffles an array in place:"
   ]
  },
  {
   "cell_type": "code",
   "execution_count": 106,
   "metadata": {
    "collapsed": false
   },
   "outputs": [
    {
     "data": {
      "text/plain": [
       "array([5, 4, 0, 8, 6, 1, 2, 3, 9, 7])"
      ]
     },
     "execution_count": 106,
     "metadata": {},
     "output_type": "execute_result"
    }
   ],
   "source": [
    "a = np.arange(0,10)\n",
    "np.random.shuffle(a)\n",
    "a"
   ]
  },
  {
   "cell_type": "markdown",
   "metadata": {},
   "source": [
    "The `permutation` function does the same thing but first makes a copy:"
   ]
  },
  {
   "cell_type": "code",
   "execution_count": 107,
   "metadata": {
    "collapsed": false
   },
   "outputs": [
    {
     "name": "stdout",
     "output_type": "stream",
     "text": [
      "[5 4 0 9 7 2 8 1 3 6]\n",
      "[0 1 2 3 4 5 6 7 8 9]\n"
     ]
    }
   ],
   "source": [
    "a = np.arange(0,10)\n",
    "print(np.random.permutation(a))\n",
    "print(a)"
   ]
  },
  {
   "cell_type": "markdown",
   "metadata": {},
   "source": [
    "The `choice` function provides a powerful way of creating synthetic data sets of discrete data:"
   ]
  },
  {
   "cell_type": "code",
   "execution_count": 108,
   "metadata": {
    "collapsed": false
   },
   "outputs": [
    {
     "data": {
      "text/plain": [
       "array(['f', 'f', 'm', 'f', 'f', 'm', 'f', 'f', 'f', 'f', 'm', 'f', 'f',\n",
       "       'm', 'f', 'f', 'f', 'm', 'f', 'f'], \n",
       "      dtype='<U1')"
      ]
     },
     "execution_count": 108,
     "metadata": {},
     "output_type": "execute_result"
    }
   ],
   "source": [
    "np.random.choice(['m','f'], 20, p=[0.25,0.75])"
   ]
  },
  {
   "cell_type": "markdown",
   "metadata": {},
   "source": [
    "## Resources"
   ]
  },
  {
   "cell_type": "markdown",
   "metadata": {},
   "source": [
    "* [NumPy Reference Documentation](http://docs.scipy.org/doc/numpy/reference/)\n",
    "* [Python Scientific Lecture Notes](http://scipy-lectures.github.io/index.html), Edited by Valentin Haenel,\n",
    "Emmanuelle Gouillart and Gaël Varoquaux.\n",
    "* [Lectures on Scientific Computing with Python](https://github.com/jrjohansson/scientific-python-lectures), J.R. Johansson.\n",
    "* [Introduction to Scientific Computing in Python](http://nbviewer.ipython.org/github/jakevdp/2014_fall_ASTR599/tree/master/), Jake Vanderplas."
   ]
  },
  {
   "cell_type": "code",
   "execution_count": null,
   "metadata": {
    "collapsed": true
   },
   "outputs": [],
   "source": []
  },
  {
   "cell_type": "code",
   "execution_count": null,
   "metadata": {
    "collapsed": true
   },
   "outputs": [],
   "source": []
  },
  {
   "cell_type": "code",
   "execution_count": null,
   "metadata": {
    "collapsed": true
   },
   "outputs": [],
   "source": []
  },
  {
   "cell_type": "code",
   "execution_count": null,
   "metadata": {
    "collapsed": true
   },
   "outputs": [],
   "source": []
  },
  {
   "cell_type": "code",
   "execution_count": null,
   "metadata": {
    "collapsed": true
   },
   "outputs": [],
   "source": []
  },
  {
   "cell_type": "code",
   "execution_count": null,
   "metadata": {
    "collapsed": true
   },
   "outputs": [],
   "source": []
  }
 ],
 "metadata": {
  "kernelspec": {
   "display_name": "Python 3",
   "language": "python",
   "name": "python3"
  },
  "language_info": {
   "codemirror_mode": {
    "name": "ipython",
    "version": 3
   },
   "file_extension": ".py",
   "mimetype": "text/x-python",
   "name": "python",
   "nbconvert_exporter": "python",
   "pygments_lexer": "ipython3",
   "version": "3.4.3"
  }
 },
 "nbformat": 4,
 "nbformat_minor": 0
}
