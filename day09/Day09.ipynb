{
 "cells": [
  {
   "cell_type": "markdown",
   "metadata": {},
   "source": [
    "# Day 9\n",
    "\n",
    "* Introduction to Data Science (Data 301)\n",
    "* Cal Poly, Winter 2016\n",
    "* Brian E. Granger\n",
    "* Office hours: W+F 3-5pm, **26-110L**"
   ]
  },
  {
   "cell_type": "markdown",
   "metadata": {},
   "source": [
    "## Announcements"
   ]
  },
  {
   "cell_type": "markdown",
   "metadata": {},
   "source": [
    "### Homework Solutions\n",
    "\n",
    "https://data301a.calpolydatascience.org/public_html/ellisonbg/"
   ]
  },
  {
   "cell_type": "markdown",
   "metadata": {},
   "source": [
    "## In class\n",
    "\n",
    "* Grab the materials for the day:\n",
    "  - `nbgrader fetch --course data301a day09`\n",
    "* Submit `assignment06`:\n",
    "  - Restart kernel and run all to make sure your code works\n",
    "  - `nbgrader submit --course data301a assignment06`\n",
    "* Quick look at `assignment06` solutions\n",
    "* Fetch the midterm:\n",
    "  - `nbgrader fetch --course data301a midterm`\n",
    "* Submit the midterm:\n",
    "  - `nbgrader submit --course data301a midterm`\n",
    "* New Material\n",
    "  - Display\n",
    "  - LaTeX"
   ]
  },
  {
   "cell_type": "markdown",
   "metadata": {},
   "source": [
    "## Out of class\n",
    "\n",
    "* No homework due day 10\n",
    "* Watch the following videos:\n",
    "  - [Machine Learning 01: Introduction](https://www.youtube.com/playlist?list=PLnnr1O8OWc6abwwtocnvpRD5mFVUglbZU)\n",
    "  - [Machine Learning 02: Linear Regression](https://www.youtube.com/playlist?list=PLnnr1O8OWc6ajN_fNcSUz9k5gF_E9huF0)"
   ]
  }
 ],
 "metadata": {
  "kernelspec": {
   "display_name": "Python 3",
   "language": "python",
   "name": "python3"
  },
  "language_info": {
   "codemirror_mode": {
    "name": "ipython",
    "version": 3
   },
   "file_extension": ".py",
   "mimetype": "text/x-python",
   "name": "python",
   "nbconvert_exporter": "python",
   "pygments_lexer": "ipython3",
   "version": "3.4.3"
  }
 },
 "nbformat": 4,
 "nbformat_minor": 0
}
