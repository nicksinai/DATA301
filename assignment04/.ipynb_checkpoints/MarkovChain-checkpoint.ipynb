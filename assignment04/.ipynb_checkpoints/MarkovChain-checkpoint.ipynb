{
 "cells": [
  {
   "cell_type": "markdown",
   "metadata": {},
   "source": [
    "# Markov Chain"
   ]
  },
  {
   "cell_type": "markdown",
   "metadata": {},
   "source": [
    "**Learning Objectives:** Learn how to build Markov Chains from n-grams and generate new sequences from the Markov Chains."
   ]
  },
  {
   "cell_type": "code",
   "execution_count": 1,
   "metadata": {
    "collapsed": true
   },
   "outputs": [],
   "source": [
    "import types\n",
    "from itertools import islice\n",
    "import random"
   ]
  },
  {
   "cell_type": "markdown",
   "metadata": {},
   "source": [
    "## n-grams"
   ]
  },
  {
   "cell_type": "markdown",
   "metadata": {},
   "source": [
    "You can read about the background information related to n-grams [here](https://en.wikipedia.org/wiki/N-gram). Write a function, `build_ngrams`, that returns n-grams from an input sequene (iterator). Try to do this without concrete lists. The `islice` function may be helpful."
   ]
  },
  {
   "cell_type": "code",
   "execution_count": 2,
   "metadata": {
    "collapsed": false,
    "deletable": false,
    "nbgrader": {
     "checksum": "91e898737a49eccfcddb1b81a5dc0081",
     "grade": false,
     "grade_id": "markovchaina",
     "locked": false,
     "solution": true
    }
   },
   "outputs": [],
   "source": [
    "def build_ngrams(itr, n=2):\n",
    "    \"\"\"Return the sequence of n-grams from the source iterator.\"\"\"\n",
    "    return iter([tuple(islice(itr,i,i+n,1)) for i in range(len(itr)-n+1)])"
   ]
  },
  {
   "cell_type": "code",
   "execution_count": 3,
   "metadata": {
    "collapsed": false,
    "deletable": false,
    "nbgrader": {
     "checksum": "d5e2a40b50b1497822c07250c20e79fb",
     "grade": true,
     "grade_id": "markovchainb",
     "locked": true,
     "points": 4,
     "solution": false
    }
   },
   "outputs": [],
   "source": [
    "a = build_ngrams(range(10), n=2)\n",
    "assert hasattr(a, '__iter__') and not isinstance(a, list)\n",
    "al = list(a)\n",
    "assert al == [(i,i+1) for i in range(9)]\n",
    "\n",
    "b = build_ngrams(range(10), n=5)\n",
    "assert hasattr(b, '__iter__') and not isinstance(b, list)\n",
    "bl = list(b)\n",
    "assert bl == [(i,i+1,i+2,i+3,i+4) for i in range(6)]\n",
    "\n",
    "assert list(build_ngrams('one two three four five six seven'.split(' '), n=5)) == \\\n",
    "    [('one','two','three','four','five'),\n",
    "     ('two','three','four','five','six'),\n",
    "     ('three','four','five','six','seven')]"
   ]
  },
  {
   "cell_type": "markdown",
   "metadata": {},
   "source": [
    "## Markov chain"
   ]
  },
  {
   "cell_type": "markdown",
   "metadata": {},
   "source": [
    "You can read about the background of Markov Chains [here](https://en.wikipedia.org/wiki/Markov_chain). Write a function `build_chain`, that returns a Markov Chain for a sequence of n-grams. This function should return a `dict` with:\n",
    "\n",
    "* The keys will be the source node in the Markov Chain, which is the first `n-1` elements in each n-gram, as a `tuple`.\n",
    "* The values will be a *list* of possible targets in the Markov Chain. As you find new values for a single key, you will need to append to the list."
   ]
  },
  {
   "cell_type": "code",
   "execution_count": 4,
   "metadata": {
    "collapsed": true,
    "deletable": false,
    "nbgrader": {
     "checksum": "81db0d592629e73d52ebe4212ed7873f",
     "grade": false,
     "grade_id": "markovchainc",
     "locked": false,
     "solution": true
    }
   },
   "outputs": [],
   "source": [
    "def build_chain(ngrams, chain=None):\n",
    "    \"\"\"Build a Markov chain out of an iterator of n-grams.\n",
    "    \n",
    "    Parameters\n",
    "    ----------\n",
    "    ngrams: list of n-tuples\n",
    "        A list of n-grams as tuples, where the first n-1 elements are the source node\n",
    "        in the Markov chain ahd the last element is the target node in the Markov chain.\n",
    "    chain: dict or None\n",
    "        An existing Markov chain to add ngrams to or None for a new chain.\n",
    "    \"\"\"\n",
    "    \n",
    "    ngrams = list(ngrams)\n",
    "    if chain != None:\n",
    "        for x in ngrams:\n",
    "            if x[0:-1] in chain:\n",
    "                chain[x[0:-1]].append(x[-1])\n",
    "            else:\n",
    "                chain[x[0:-1]] = []\n",
    "                chain[x[0:-1]].append(x[-1])\n",
    "        return chain\n",
    "    else:\n",
    "        dic = {x[0:-1]: [] for x in ngrams}\n",
    "        {dic[x[0:-1]].append(x[-1]) for x in ngrams}\n",
    "        return dic\n",
    "    \"\"\"ngrams = list(ngrams)\n",
    "    dic = {x[0:n-1]: [] for x in ngrams}\n",
    "    {dic[x[0:n-1]].append(x[-1]) for x in ngrams}\n",
    "    return dic\"\"\""
   ]
  },
  {
   "cell_type": "code",
   "execution_count": 5,
   "metadata": {
    "collapsed": false,
    "deletable": false,
    "nbgrader": {
     "checksum": "cdc2c5a4d76be2333c46c36d3434a42b",
     "grade": true,
     "grade_id": "markovchaind",
     "locked": true,
     "points": 4,
     "solution": false
    }
   },
   "outputs": [],
   "source": [
    "random.seed(0)\n",
    "seq1 = [random.randint(0,10) for i in range(200)]\n",
    "chain = build_chain(build_ngrams(seq1, n=3))\n",
    "seq2 = [random.randint(0,10) for i in range(200)]\n",
    "chain = build_chain(build_ngrams(seq2, n=3), chain=chain)\n",
    "assert chain[(0,0)]==[7, 10, 0, 3, 4]\n",
    "assert chain[(4,2)]==[1, 3, 8, 3, 7, 1, 10, 2, 8]\n",
    "assert len(chain.keys())==111"
   ]
  },
  {
   "cell_type": "markdown",
   "metadata": {},
   "source": [
    "Write a function, `generate_sequence`, that can generate new sequences of length `m` from a trained Markov Chain (in the `dict` format described above). For the initial part of the sequence, randomly choose one of the keys in the Markov Chain `dict`."
   ]
  },
  {
   "cell_type": "code",
   "execution_count": 6,
   "metadata": {
    "collapsed": false,
    "deletable": false,
    "nbgrader": {
     "checksum": "c6a6198595980de73f730a79952898e9",
     "grade": false,
     "grade_id": "markovchaine",
     "locked": false,
     "solution": true
    }
   },
   "outputs": [],
   "source": [
    "import random\n",
    "\n",
    "def generate_sequence(chain, m):\n",
    "    \"\"\"Generate a new sequence of length n from a Markov chain.\n",
    "    \n",
    "    Parameter\n",
    "    ---------\n",
    "    chain : dict\n",
    "        A dict where the keys are the source node of the Markov chain steps and\n",
    "        the values are a list of possible targets.\n",
    "    m : int\n",
    "        The length of the sequence to generate.\n",
    "    \"\"\"\n",
    "    seed = random.choice(list(chain.keys()))\n",
    "    result = [seed[i] for i in range(len(seed))]\n",
    "    for i in range(m-len(seed)):\n",
    "        lst = chain[seed]\n",
    "        new_seed_tail = random.choice(lst)\n",
    "        result.append(new_seed_tail)\n",
    "        seed = result[-len(seed):]\n",
    "        seed = (tuple(seed))\n",
    "        i += 1\n",
    "    return result"
   ]
  },
  {
   "cell_type": "code",
   "execution_count": 7,
   "metadata": {
    "collapsed": false,
    "deletable": false,
    "nbgrader": {
     "checksum": "faa5f8bc8e07683354c2b6acb23d4f45",
     "grade": true,
     "grade_id": "markovchainf",
     "locked": true,
     "points": 4,
     "solution": false
    },
    "scrolled": true
   },
   "outputs": [],
   "source": [
    "random.seed(0)\n",
    "seq1 = [random.randint(0,10) for i in range(200)]\n",
    "chain2 = build_chain(build_ngrams(seq1, n=3))\n",
    "assert list(generate_sequence(chain2, 10))==[8, 0, 1, 8, 10, 6, 8, 4, 8, 9]\n",
    "chain3 = build_chain(build_ngrams(seq1, n=5))\n",
    "assert list(generate_sequence(chain3, 10))==[4, 1, 8, 5, 8, 3, 9, 8, 9, 4]"
   ]
  },
  {
   "cell_type": "markdown",
   "metadata": {},
   "source": [
    "## Scrape the web to find lyrics"
   ]
  },
  {
   "cell_type": "markdown",
   "metadata": {},
   "source": [
    "For this part of the exercise, you will need to find lyrics from one of your favorite bands, and use the [requests](http://docs.python-requests.org/en/latest/) and [BeautifulSoup](http://www.crummy.com/software/BeautifulSoup/bs4/doc/) packages to scrape the lyrics from a website. Some guidance:\n",
    "\n",
    "1. The more songs the better (many dozens).\n",
    "2. No hand downloading or editing of the files, you must do everything from code.\n",
    "3. Save all of the lyrics in a single text file in this directory.\n",
    "\n",
    "I provide an example here of doing this for all of U2's lyrics. You will have to modify this code significantly for the band of your choice."
   ]
  },
  {
   "cell_type": "code",
   "execution_count": 8,
   "metadata": {
    "collapsed": false
   },
   "outputs": [],
   "source": [
    "import requests\n",
    "from bs4 import BeautifulSoup"
   ]
  },
  {
   "cell_type": "markdown",
   "metadata": {},
   "source": [
    "First get the page that has an index of all the lyrics and create a list of the URLs of those pages:"
   ]
  },
  {
   "cell_type": "code",
   "execution_count": 56,
   "metadata": {
    "collapsed": false
   },
   "outputs": [
    {
     "name": "stdout",
     "output_type": "stream",
     "text": [
      "['/s/sara+bareilles/1000+times_21062308.html', '/s/sara+bareilles/any+way+the+wind+blows_20831006.html', '/s/sara+bareilles/august+moon_20773022.html', '/s/sara+bareilles/bad+idea_21104082.html', '/s/sara+bareilles/basket+case_20886347.html', '/s/sara+bareilles/between+the+lines_20434373.html', '/s/sara+bareilles/bluebird_20886346.html', '/s/sara+bareilles/bottle+it+up_20434333.html', '/s/sara+bareilles/brave_21059749.html', '/s/sara+bareilles/breathe+again_20886345.html', '/s/sara+bareilles/bright+lights+and+cityscapes_21019903.html', '/s/sara+bareilles/carolina_20895510.html', '/s/sara+bareilles/cassiopeia_21062307.html', '/s/sara+bareilles/chasing+the+sun_21062303.html', '/s/sara+bareilles/city_20434393.html', '/s/sara+bareilles/come+round+soon_20434353.html', '/s/sara+bareilles/december_21062312.html', '/s/sara+bareilles/eden_21062310.html', '/s/sara+bareilles/fairytale_20434413.html', '/s/sara+bareilles/free+ride_21066435.html', '/s/sara+bareilles/gonna+get+over+you_20789748.html', '/s/sara+bareilles/gravity_20434423.html', '/s/sara+bareilles/hercules_21062304.html', '/s/sara+bareilles/hold+my+heart_20886344.html', '/s/sara+bareilles/i+choose+you_21062309.html', '/s/sara+bareilles/i+wanna+be+like+me_21062313.html', '/s/sara+bareilles/in+your+eyes_20736957.html', '/s/sara+bareilles/inside+out_20660075.html', '/s/sara+bareilles/islands_21062311.html', '/s/sara+bareilles/kaleidoscope+heart_20886343.html', '/s/sara+bareilles/king+of+anything_20883630.html', '/s/sara+bareilles/king+restless_21029187.html', '/s/sara+bareilles/let+the+rain_20886342.html', '/s/sara+bareilles/lie+to+me_21019901.html', '/s/sara+bareilles/little+black+dress_21062306.html', '/s/sara+bareilles/love+is+christmas_20989448.html', '/s/sara+bareilles/love+on+the+rocks_20434383.html', '/s/sara+bareilles/love+song_20434313.html', '/s/sara+bareilles/machine+gun_20886341.html', '/s/sara+bareilles/manhattan_21062302.html', '/s/sara+bareilles/many+the+miles_20434403.html', '/s/sara+bareilles/morningside_20434363.html', '/s/sara+bareilles/my+love_20660472.html', '/s/sara+bareilles/not+alone_20886340.html', '/s/sara+bareilles/once+upon+another+time_21019900.html', '/s/sara+bareilles/one+sweet+love_20434343.html', '/s/sara+bareilles/parking+lot_21065709.html', '/s/sara+bareilles/red_20656661.html', '/s/sara+bareilles/responsible_20657362.html', '/s/sara+bareilles/root+down_21066253.html', '/s/sara+bareilles/satellite+call_21062305.html', '/s/sara+bareilles/say+youre+sorry_20886339.html', '/s/sara+bareilles/send+me+the+moon_20895511.html', '/s/sara+bareilles/she+used+to+be+mine_21102694.html', '/s/sara+bareilles/sittin+on+the+dock+of+the+bay_21051325.html', '/s/sara+bareilles/song+for+a+soldier_21029186.html', '/s/sara+bareilles/stay_21017463.html', '/s/sara+bareilles/sweet+as+whole_21019902.html', '/s/sara+bareilles/the+light_20886338.html', '/s/sara+bareilles/thread+water_21028715.html', '/s/sara+bareilles/turn+to+me_20738211.html', '/s/sara+bareilles/uncharted_20886337.html', '/s/sara+bareilles/undertow_20657683.html', '/s/sara+bareilles/vegas_20434323.html', '/s/sara+bareilles/winter+song_20764744.html', '/s/sara+bareilles/with+a+little+help+from+my+friends_20756631.html']\n"
     ]
    }
   ],
   "source": [
    "index = requests.get(\"http://www.lyricsfreak.com/s/sara+bareilles/\")\n",
    "\n",
    "soup = BeautifulSoup(index.text, 'html.parser')\n",
    "\n",
    "stuff = [link.get('href') for link in soup.find_all('tbody')[0].find_all('a')]\n",
    "print (stuff)"
   ]
  },
  {
   "cell_type": "code",
   "execution_count": 59,
   "metadata": {
    "collapsed": false
   },
   "outputs": [],
   "source": [
    "def get_lyric_urls():\n",
    "    index = requests.get(\"http://www.lyricsfreak.com/s/sara+bareilles/\")\n",
    "    soup = BeautifulSoup(index.text, 'html.parser')\n",
    "    lyric_paths = [link.get('href') for link in soup.find_all('tbody')[0].find_all('a')]\n",
    "    lyric_urls = ['http://www.lyricsfreak.com/'+path for path in lyric_paths]\n",
    "    return lyric_urls"
   ]
  },
  {
   "cell_type": "code",
   "execution_count": 60,
   "metadata": {
    "collapsed": true
   },
   "outputs": [],
   "source": [
    "lyric_urls = get_lyric_urls()"
   ]
  },
  {
   "cell_type": "markdown",
   "metadata": {},
   "source": [
    "Here is a function that takes the URL of a single lyric page and scrapes the actual lyric as text:"
   ]
  },
  {
   "cell_type": "code",
   "execution_count": 76,
   "metadata": {
    "collapsed": false
   },
   "outputs": [
    {
     "name": "stdout",
     "output_type": "stream",
     "text": [
      "[\"Back of the roomLooking at youCounting the stepsBetween usA hundred and fiveLittle blades in a lineFrom your skin to mineAnd I feel itEyes on the groundBut I can't look up nowDon't wanna give it awayMy secretIn another life,Â\\xa0my teeth and tongueWould speak aloud what until nowÂ\\xa0I've only sung'Cause I would die to make you mineBleed me dry each and every timeI don't mind, no I don't mind itI would come back a thousand timesYou can make me wait foreverPush me away and tell me neverI don't mind, no I don't mind itI would come back a thousand timesKiss me goodnightLike a good friend mightI'll do the sameBut won't mean it'Cause love is a cageThese words on a pageCarry the painThey don't free itIn another lifeÂ\\xa0I wouldn't need toConsole myselfÂ\\xa0as I resign to,Â\\xa0release you'Cause I would die to make you mineBleed me dry each and every timeI don't mind, no I don't mind itI would come back a thousand timesYou can make me wait foreverPush me away and tell me neverI don't mind, no I don't mind itI would come back a thousand timesAgain againÂ\\xa0I let it go, let it goCover my mouthÂ\\xa0don't let a single word slip Out wouldn't wanna tell you, no tell you, noNothing could be worseÂ\\xa0than the risk ofLosing what I don't have nowAnd we could buy the minute, though is it so bad If I wanna cry outThat I would die to make you mineBleed me dry almost every timeBut I don't mind, no I don't mind itI would come back a thousand timesMake me wait foreverPush me away and tell me neverBut I don't mind, no I don't mind itI would come back a thousand timesI would come back a thousand timesÂ\\xa0I would come back a thousand times\"]\n",
      "Back of the roomLooking at youCounting the stepsBetween usA hundred and fiveLittle blades in a lineFrom your skin to mineAnd I feel itEyes on the groundBut I can't look up nowDon't wanna give it awayMy secretIn another life,Â my teeth and tongueWould speak aloud what until nowÂ I've only sung'Cause I would die to make you mineBleed me dry each and every timeI don't mind, no I don't mind itI would come back a thousand timesYou can make me wait foreverPush me away and tell me neverI don't mind, no I don't mind itI would come back a thousand timesKiss me goodnightLike a good friend mightI'll do the sameBut won't mean it'Cause love is a cageThese words on a pageCarry the painThey don't free itIn another lifeÂ I wouldn't need toConsole myselfÂ as I resign to,Â release you'Cause I would die to make you mineBleed me dry each and every timeI don't mind, no I don't mind itI would come back a thousand timesYou can make me wait foreverPush me away and tell me neverI don't mind, no I don't mind itI would come back a thousand timesAgain againÂ I let it go, let it goCover my mouthÂ don't let a single word slip Out wouldn't wanna tell you, no tell you, noNothing could be worseÂ than the risk ofLosing what I don't have nowAnd we could buy the minute, though is it so bad If I wanna cry outThat I would die to make you mineBleed me dry almost every timeBut I don't mind, no I don't mind itI would come back a thousand timesMake me wait foreverPush me away and tell me neverBut I don't mind, no I don't mind itI would come back a thousand timesI would come back a thousand timesÂ I would come back a thousand times\n"
     ]
    }
   ],
   "source": [
    "r = requests.get('http://www.lyricsfreak.com/s/sara+bareilles/1000+times_21062308.html')\n",
    "soup = BeautifulSoup(r.text, 'html.parser')\n",
    "html_lyrics = soup.find_all('div', id='content_h')\n",
    "html_lyrics = [l.getText() for l in html_lyrics]\n",
    "print (html_lyrics)\n",
    "print ('\\n'.join(html_lyrics))"
   ]
  },
  {
   "cell_type": "code",
   "execution_count": 11,
   "metadata": {
    "collapsed": false
   },
   "outputs": [],
   "source": [
    "def get_lyric(url):\n",
    "    r = requests.get(url)\n",
    "    soup = BeautifulSoup(r.text, 'html.parser')\n",
    "    html_lyrics = soup.find_all('div', class_='lyrics')[0].find_all('p')\n",
    "    html_lyrics = [l.getText() for l in html_lyrics]\n",
    "    return '\\n'.join(html_lyrics)"
   ]
  },
  {
   "cell_type": "markdown",
   "metadata": {},
   "source": [
    "This gets all of the lyrics. Note the `time.sleep(1.0)`. When scraping websites, it is often important to throttle your requests so as to not get banned from the website."
   ]
  },
  {
   "cell_type": "code",
   "execution_count": 12,
   "metadata": {
    "collapsed": true
   },
   "outputs": [],
   "source": [
    "import time\n",
    "\n",
    "def get_all_lyrics(lyric_urls):\n",
    "    for url in lyric_urls:\n",
    "        time.sleep(1.0)\n",
    "        yield get_lyric(url)"
   ]
  },
  {
   "cell_type": "code",
   "execution_count": 13,
   "metadata": {
    "collapsed": false
   },
   "outputs": [],
   "source": [
    "lyrics = get_all_lyrics(lyric_urls)"
   ]
  },
  {
   "cell_type": "markdown",
   "metadata": {},
   "source": [
    "Now save all the lyrics to a text file:"
   ]
  },
  {
   "cell_type": "code",
   "execution_count": 14,
   "metadata": {
    "collapsed": false
   },
   "outputs": [
    {
     "ename": "KeyboardInterrupt",
     "evalue": "",
     "output_type": "error",
     "traceback": [
      "\u001b[1;31m---------------------------------------------------------------------------\u001b[0m",
      "\u001b[1;31mKeyboardInterrupt\u001b[0m                         Traceback (most recent call last)",
      "\u001b[1;32m<ipython-input-14-2985d7320aee>\u001b[0m in \u001b[0;36m<module>\u001b[1;34m()\u001b[0m\n\u001b[0;32m      1\u001b[0m \u001b[1;32mwith\u001b[0m \u001b[0mopen\u001b[0m\u001b[1;33m(\u001b[0m\u001b[1;34m'all_u2_lyrics.txt'\u001b[0m\u001b[1;33m,\u001b[0m \u001b[1;34m'w'\u001b[0m\u001b[1;33m)\u001b[0m \u001b[1;32mas\u001b[0m \u001b[0mf\u001b[0m\u001b[1;33m:\u001b[0m\u001b[1;33m\u001b[0m\u001b[0m\n\u001b[1;32m----> 2\u001b[1;33m     \u001b[1;32mfor\u001b[0m \u001b[0mlyric\u001b[0m \u001b[1;32min\u001b[0m \u001b[0mlyrics\u001b[0m\u001b[1;33m:\u001b[0m\u001b[1;33m\u001b[0m\u001b[0m\n\u001b[0m\u001b[0;32m      3\u001b[0m         \u001b[0mf\u001b[0m\u001b[1;33m.\u001b[0m\u001b[0mwrite\u001b[0m\u001b[1;33m(\u001b[0m\u001b[0mlyric\u001b[0m\u001b[1;33m.\u001b[0m\u001b[0mreplace\u001b[0m\u001b[1;33m(\u001b[0m\u001b[1;34m'\\r\\n'\u001b[0m\u001b[1;33m,\u001b[0m \u001b[1;34m'\\n'\u001b[0m\u001b[1;33m)\u001b[0m\u001b[1;33m)\u001b[0m\u001b[1;33m\u001b[0m\u001b[0m\n\u001b[0;32m      4\u001b[0m         \u001b[0mf\u001b[0m\u001b[1;33m.\u001b[0m\u001b[0mwrite\u001b[0m\u001b[1;33m(\u001b[0m\u001b[1;34m'\\n'\u001b[0m\u001b[1;33m)\u001b[0m\u001b[1;33m\u001b[0m\u001b[0m\n",
      "\u001b[1;32m<ipython-input-12-be57632ba0d1>\u001b[0m in \u001b[0;36mget_all_lyrics\u001b[1;34m(lyric_urls)\u001b[0m\n\u001b[0;32m      3\u001b[0m \u001b[1;32mdef\u001b[0m \u001b[0mget_all_lyrics\u001b[0m\u001b[1;33m(\u001b[0m\u001b[0mlyric_urls\u001b[0m\u001b[1;33m)\u001b[0m\u001b[1;33m:\u001b[0m\u001b[1;33m\u001b[0m\u001b[0m\n\u001b[0;32m      4\u001b[0m     \u001b[1;32mfor\u001b[0m \u001b[0murl\u001b[0m \u001b[1;32min\u001b[0m \u001b[0mlyric_urls\u001b[0m\u001b[1;33m:\u001b[0m\u001b[1;33m\u001b[0m\u001b[0m\n\u001b[1;32m----> 5\u001b[1;33m         \u001b[0mtime\u001b[0m\u001b[1;33m.\u001b[0m\u001b[0msleep\u001b[0m\u001b[1;33m(\u001b[0m\u001b[1;36m1.0\u001b[0m\u001b[1;33m)\u001b[0m\u001b[1;33m\u001b[0m\u001b[0m\n\u001b[0m\u001b[0;32m      6\u001b[0m         \u001b[1;32myield\u001b[0m \u001b[0mget_lyric\u001b[0m\u001b[1;33m(\u001b[0m\u001b[0murl\u001b[0m\u001b[1;33m)\u001b[0m\u001b[1;33m\u001b[0m\u001b[0m\n",
      "\u001b[1;31mKeyboardInterrupt\u001b[0m: "
     ]
    }
   ],
   "source": [
    "with open('all_u2_lyrics.txt', 'w') as f:\n",
    "    for lyric in lyrics:\n",
    "        f.write(lyric.replace('\\r\\n', '\\n'))\n",
    "        f.write('\\n')"
   ]
  },
  {
   "cell_type": "markdown",
   "metadata": {},
   "source": [
    "Leave the following cell to grade your code for this section:"
   ]
  },
  {
   "cell_type": "code",
   "execution_count": null,
   "metadata": {
    "collapsed": true,
    "deletable": false,
    "nbgrader": {
     "checksum": "f889417210aa361e68fb66b457e7c256",
     "grade": true,
     "grade_id": "markovchaing",
     "locked": true,
     "points": 4,
     "solution": false
    }
   },
   "outputs": [],
   "source": [
    "assert True"
   ]
  },
  {
   "cell_type": "markdown",
   "metadata": {},
   "source": [
    "## Generate new lyrics with the Markov chain"
   ]
  },
  {
   "cell_type": "markdown",
   "metadata": {},
   "source": [
    "Here is the fun part!"
   ]
  },
  {
   "cell_type": "code",
   "execution_count": null,
   "metadata": {
    "collapsed": true
   },
   "outputs": [],
   "source": [
    "import textwrap"
   ]
  },
  {
   "cell_type": "markdown",
   "metadata": {},
   "source": [
    "Here are some simple function for tokenizing the lyrics:"
   ]
  },
  {
   "cell_type": "code",
   "execution_count": null,
   "metadata": {
    "collapsed": false
   },
   "outputs": [],
   "source": [
    "from quicktoken import tokenize_lines, tokenize_line"
   ]
  },
  {
   "cell_type": "markdown",
   "metadata": {},
   "source": [
    "Read in your lyric file, tokenize the text (no stop words!) and generate new song lyrics. Some things to think about:\n",
    "\n",
    "* This will work best if you generate new lines of text of some finite length (10-30 words).\n",
    "* Use `textwrap.wrap` to format these lines and separate them using newlines.\n",
    "* To get interesting results, you may need to run it multiple times."
   ]
  },
  {
   "cell_type": "code",
   "execution_count": null,
   "metadata": {
    "collapsed": false,
    "deletable": false,
    "nbgrader": {
     "checksum": "dcee0be047fd121f6d9718b809f5538a",
     "grade": true,
     "grade_id": "markovchainh",
     "locked": false,
     "points": 4,
     "solution": true
    }
   },
   "outputs": [],
   "source": [
    "# YOUR CODE HERE\n",
    "raise NotImplementedError()"
   ]
  }
 ],
 "metadata": {
  "kernelspec": {
   "display_name": "Python 3",
   "language": "python",
   "name": "python3"
  },
  "language_info": {
   "codemirror_mode": {
    "name": "ipython",
    "version": 3
   },
   "file_extension": ".py",
   "mimetype": "text/x-python",
   "name": "python",
   "nbconvert_exporter": "python",
   "pygments_lexer": "ipython3",
   "version": "3.4.3"
  }
 },
 "nbformat": 4,
 "nbformat_minor": 0
}
