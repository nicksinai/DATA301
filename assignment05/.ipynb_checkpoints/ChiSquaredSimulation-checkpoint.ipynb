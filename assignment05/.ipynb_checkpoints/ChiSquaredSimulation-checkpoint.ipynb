{
 "cells": [
  {
   "cell_type": "markdown",
   "metadata": {},
   "source": [
    "# Simulating the Chi-Squared Distribution"
   ]
  },
  {
   "cell_type": "markdown",
   "metadata": {},
   "source": [
    "In this notebook, you will simulate the [chi-squared](https://en.wikipedia.org/wiki/Chi-squared_distribution) distribution $\\chi^2_k$, where $k$ is an integer that is called the *degrees of freedom*. For this simulation, **do not** use `numpy.random.chisquare`; you will write you own function that generates $\\chi^2_k$ random variates.\n",
    "\n",
    "This distribution is defined in terms of the standard ($\\mu=0.0$, $\\sigma=1.0$) normal distribution:\n",
    "\n",
    "$$Z \\sim N(0.0,1.0) $$\n",
    "\n",
    "$$ X \\sim \\sum_{i=1}^{k} Z_i^2 $$"
   ]
  },
  {
   "cell_type": "code",
   "execution_count": null,
   "metadata": {
    "collapsed": false
   },
   "outputs": [],
   "source": [
    "k = 7\n",
    "X = 0.0\n",
    "for i in range(k):\n",
    "    X += (np.random.normal(0,1))**2\n",
    "print (X)"
   ]
  },
  {
   "cell_type": "code",
   "execution_count": 23,
   "metadata": {
    "collapsed": false
   },
   "outputs": [
    {
     "data": {
      "text/plain": [
       "4.399340482820614"
      ]
     },
     "execution_count": 23,
     "metadata": {},
     "output_type": "execute_result"
    }
   ],
   "source": [
    "np.random.chisquare(7)"
   ]
  },
  {
   "cell_type": "markdown",
   "metadata": {},
   "source": [
    "## Imports"
   ]
  },
  {
   "cell_type": "code",
   "execution_count": 1,
   "metadata": {
    "collapsed": true
   },
   "outputs": [],
   "source": [
    "import numpy as np\n",
    "%matplotlib inline\n",
    "from matplotlib import pyplot as plt\n",
    "import seaborn as sns"
   ]
  },
  {
   "cell_type": "code",
   "execution_count": 2,
   "metadata": {
    "collapsed": true
   },
   "outputs": [],
   "source": [
    "from ipywidgets import interact, fixed"
   ]
  },
  {
   "cell_type": "markdown",
   "metadata": {},
   "source": [
    "## Simulating chi-squared"
   ]
  },
  {
   "cell_type": "markdown",
   "metadata": {},
   "source": [
    "Write a function, `chi_squared`, that returns random numbers drawn from the $\\chi^2_k$ distribution with degree of freedom $k$. In doing this, first draw random numbers from the standard normal distribution and then use those to generate the chi-squared random variates."
   ]
  },
  {
   "cell_type": "code",
   "execution_count": 34,
   "metadata": {
    "collapsed": false,
    "deletable": false,
    "nbgrader": {
     "checksum": "4e59874e2956dc54a9e745ea26c300af",
     "grade": false,
     "grade_id": "chisquareda",
     "locked": false,
     "solution": true
    }
   },
   "outputs": [],
   "source": [
    "def chi_squared(k, size=1):\n",
    "    \"\"\"Return random numbers drawn from the chi-squared distribution.\n",
    "    \n",
    "    Parameters\n",
    "    ----------\n",
    "    k: int\n",
    "        The degrees of freedom of the distribution.\n",
    "    size: int\n",
    "        The number of random numbers to return as an array.\n",
    "    \"\"\"\n",
    "    k = 7\n",
    "    X = 0.0\n",
    "    result = []\n",
    "    for s in range(size):\n",
    "        for i in range(k):\n",
    "            X += (np.random.normal(0,1))**2\n",
    "        result.append(X)\n",
    "    return result"
   ]
  },
  {
   "cell_type": "markdown",
   "metadata": {},
   "source": [
    "To test your distribution, draw 100 chi-squared random numbers for $k=7$ and print the mean and variance of the data and compare that with the expected mean and variance for $k=7$:"
   ]
  },
  {
   "cell_type": "code",
   "execution_count": 50,
   "metadata": {
    "collapsed": false,
    "deletable": false,
    "nbgrader": {
     "checksum": "f04651e35b55cf9a4e0d276656152690",
     "grade": true,
     "grade_id": "chisquaredb",
     "locked": false,
     "points": 4,
     "solution": true
    }
   },
   "outputs": [
    {
     "name": "stdout",
     "output_type": "stream",
     "text": [
      "MINE 353.502164586\n",
      "EXPC 350.344563041\n",
      "MINE 38079.2849208\n",
      "EXPC 37909.5250318\n"
     ]
    }
   ],
   "source": [
    "X2 = chi_squared(7,100)\n",
    "print (\"MINE\", np.mean(X2))\n",
    "print (\"EXPC\", np.mean(np.random.chisquare(X2)))\n",
    "print (\"MINE\", np.var(X2))\n",
    "print (\"EXPC\", np.var(np.random.chisquare(X2)))"
   ]
  },
  {
   "cell_type": "markdown",
   "metadata": {},
   "source": [
    "To visualize the $\\chi^2_k$ distribution, write a function, `plot_chi_squared`, that makes an appropriately labeled `distplot` using Seaborn."
   ]
  },
  {
   "cell_type": "code",
   "execution_count": 66,
   "metadata": {
    "collapsed": true,
    "deletable": false,
    "nbgrader": {
     "checksum": "f40e2a72dbe95cacd09e13b71396ba18",
     "grade": false,
     "grade_id": "chisquaredc",
     "locked": false,
     "solution": true
    }
   },
   "outputs": [],
   "source": [
    "def plot_chi_squared(k):\n",
    "    \"\"\"Plot the chi-squared distribution as a distplot with 300 points.\"\"\"\n",
    "    sns.distplot(chi_squared(k,300))\n",
    "    plt.xlabel(\"?????????????\")\n",
    "    plt.ylabel(\"?????????????\")"
   ]
  },
  {
   "cell_type": "code",
   "execution_count": 67,
   "metadata": {
    "collapsed": false,
    "deletable": false,
    "nbgrader": {
     "checksum": "becb20d0f8a4ef9b8dcdd6f3fe4376b0",
     "grade": true,
     "grade_id": "chisquaredd",
     "locked": false,
     "points": 2,
     "solution": true
    }
   },
   "outputs": [
    {
     "data": {
      "image/png": "[encoded data removed]",
      "text/plain": [
       "<matplotlib.figure.Figure at 0x7fc867c01fd0>"
      ]
     },
     "metadata": {},
     "output_type": "display_data"
    }
   ],
   "source": [
    "plot_chi_squared(7)"
   ]
  },
  {
   "cell_type": "markdown",
   "metadata": {},
   "source": [
    "Use `interact` to explore the `plot_chi_squared` function interactively with $k=[0,10]$."
   ]
  },
  {
   "cell_type": "code",
   "execution_count": 1,
   "metadata": {
    "collapsed": false,
    "deletable": false,
    "nbgrader": {
     "checksum": "9d9c674b5160f805f002a9a4a7b2f509",
     "grade": true,
     "grade_id": "chisquarede",
     "locked": false,
     "points": 4,
     "solution": true
    }
   },
   "outputs": [
    {
     "ename": "NameError",
     "evalue": "name 'interact' is not defined",
     "output_type": "error",
     "traceback": [
      "\u001b[1;31m---------------------------------------------------------------------------\u001b[0m",
      "\u001b[1;31mNameError\u001b[0m                                 Traceback (most recent call last)",
      "\u001b[1;32m<ipython-input-1-3ba03520cbbe>\u001b[0m in \u001b[0;36m<module>\u001b[1;34m()\u001b[0m\n\u001b[1;32m----> 1\u001b[1;33m \u001b[0minteract\u001b[0m\u001b[1;33m(\u001b[0m\u001b[0mplot_chi_squared\u001b[0m\u001b[1;33m,\u001b[0m \u001b[0mk\u001b[0m\u001b[1;33m=\u001b[0m\u001b[1;33m(\u001b[0m\u001b[1;33m-\u001b[0m\u001b[1;36m1000\u001b[0m\u001b[1;33m,\u001b[0m \u001b[1;36m1000\u001b[0m\u001b[1;33m,\u001b[0m \u001b[1;36m10\u001b[0m\u001b[1;33m)\u001b[0m\u001b[1;33m)\u001b[0m\u001b[1;33m;\u001b[0m\u001b[1;33m\u001b[0m\u001b[0m\n\u001b[0m",
      "\u001b[1;31mNameError\u001b[0m: name 'interact' is not defined"
     ]
    }
   ],
   "source": [
    "interact(plot_chi_squared, k=(-1000, 1000, 10));"
   ]
  },
  {
   "cell_type": "code",
   "execution_count": null,
   "metadata": {
    "collapsed": true
   },
   "outputs": [],
   "source": []
  }
 ],
 "metadata": {
  "kernelspec": {
   "display_name": "Python 3",
   "language": "python",
   "name": "python3"
  },
  "language_info": {
   "codemirror_mode": {
    "name": "ipython",
    "version": 3
   },
   "file_extension": ".py",
   "mimetype": "text/x-python",
   "name": "python",
   "nbconvert_exporter": "python",
   "pygments_lexer": "ipython3",
   "version": "3.4.3"
  }
 },
 "nbformat": 4,
 "nbformat_minor": 0
}
