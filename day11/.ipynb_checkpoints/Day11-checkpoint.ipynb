{
 "cells": [
  {
   "cell_type": "markdown",
   "metadata": {},
   "source": [
    "# Day 10\n",
    "\n",
    "* Introduction to Data Science (Data 301)\n",
    "* Cal Poly, Winter 2016\n",
    "* Brian E. Granger\n",
    "* Office hours: W+F 3-5pm, **26-110L**"
   ]
  },
  {
   "cell_type": "markdown",
   "metadata": {},
   "source": [
    "## Announcements"
   ]
  },
  {
   "cell_type": "markdown",
   "metadata": {},
   "source": [
    "### Jupyter Hiring Event\n",
    "\n",
    "* Jupyter is hiring summer interns.\n",
    "* See job postings on Mustang Jobs or email me your resume.\n",
    "\n",
    "### Homework Solutions\n",
    "\n",
    "https://data301a.calpolydatascience.org/public_html/ellisonbg/\n",
    "\n",
    "### No class next Tuesday (holiday!)\n",
    "\n",
    "### No office hours on Friday (travel)"
   ]
  },
  {
   "cell_type": "markdown",
   "metadata": {},
   "source": [
    "## In class\n",
    "\n",
    "* Grab the materials for the day:\n",
    "  - `nbgrader fetch --course data301a day11`\n",
    "  - `nbgrader fetch --course data301a assignment08`\n",
    "* Submit your last assignment:\n",
    "  - `nbgrader submit --course data301a assignment07`\n",
    "* Midterm grades!!!\n",
    "* New Material\n",
    "  - Pandas"
   ]
  },
  {
   "cell_type": "markdown",
   "metadata": {},
   "source": [
    "## Out of class\n",
    "\n",
    "* Assignment 8 due on Thursday, day 12.\n",
    "* Read Chapter 4, Introduction to Pandas, Python Data Science Handbook (p221-261)\n",
    "* You should have watched following videos:\n",
    "  - [Machine Learning 01: Introduction](https://www.youtube.com/playlist?list=PLnnr1O8OWc6abwwtocnvpRD5mFVUglbZU)\n",
    "  - [Machine Learning 02: Linear Regression](https://www.youtube.com/playlist?list=PLnnr1O8OWc6ajN_fNcSUz9k5gF_E9huF0)"
   ]
  }
 ],
 "metadata": {
  "kernelspec": {
   "display_name": "Python 3",
   "language": "python",
   "name": "python3"
  },
  "language_info": {
   "codemirror_mode": {
    "name": "ipython",
    "version": 3
   },
   "file_extension": ".py",
   "mimetype": "text/x-python",
   "name": "python",
   "nbconvert_exporter": "python",
   "pygments_lexer": "ipython3",
   "version": "3.4.3"
  }
 },
 "nbformat": 4,
 "nbformat_minor": 0
}
