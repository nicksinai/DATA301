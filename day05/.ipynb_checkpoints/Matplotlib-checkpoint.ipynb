{
 "cells": [
  {
   "cell_type": "markdown",
   "metadata": {},
   "source": [
    "# Visualization with Matplotlib"
   ]
  },
  {
   "cell_type": "markdown",
   "metadata": {},
   "source": [
    "**Learning Objectives:** Learn how to make basic plots using Matplotlib's *pylab* API and how to use the Matplotlib documentation.\n",
    "\n",
    "This notebook focuses only on the Matplotlib API, rather that the broader question of how you can use this API to make effective and beautiful visualizations."
   ]
  },
  {
   "cell_type": "markdown",
   "metadata": {},
   "source": [
    "## Imports"
   ]
  },
  {
   "cell_type": "markdown",
   "metadata": {},
   "source": [
    "The following imports should be used in all of your notebooks where Matplotlib in used:"
   ]
  },
  {
   "cell_type": "code",
   "execution_count": null,
   "metadata": {
    "collapsed": false
   },
   "outputs": [],
   "source": [
    "%matplotlib inline\n",
    "import matplotlib.pyplot as plt\n",
    "import numpy as np"
   ]
  },
  {
   "cell_type": "markdown",
   "metadata": {},
   "source": [
    "## Overview"
   ]
  },
  {
   "cell_type": "markdown",
   "metadata": {},
   "source": [
    "The following conceptual organization is simplified and adapted from Benjamin Root's [AnatomyOfMatplotlib](https://github.com/WeatherGod/AnatomyOfMatplotlib) tutorial."
   ]
  },
  {
   "cell_type": "markdown",
   "metadata": {},
   "source": [
    "### Figures and Axes\n",
    "\n",
    "* In Matplotlib a single visualization is a `Figure`.\n",
    "* A `Figure` can have multiple areas, called *subplots*. Each *subplot* is an `Axes`.\n",
    "* If you don't create a `Figure` and `Axes` yourself, Matplotlib will automatically create one for you.\n",
    "* All plotting commands apply to the current `Figure` and `Axes`.\n",
    "\n",
    "The following functions can be used to create and manage `Figure` and `Axes` objects.\n",
    "\n",
    "Function          | Description                                                                                \n",
    ":-----------------|:----------------------------------------------------------\n",
    "`figure`          | Creates a new Figure\n",
    "`gca`             | Get the current Axes instance\n",
    "`savefig`         | Save the current Figure to a file\n",
    "`sca`             | Set the current Axes instance\n",
    "`subplot`         | Create a new subplot Axes for the current Figure\n",
    "`subplots`        | Create a new Figure and a grid of subplots Axes"
   ]
  },
  {
   "cell_type": "markdown",
   "metadata": {},
   "source": [
    "### Plotting Functions\n",
    "\n",
    "Once you have created a `Figure` and one or more `Axes` objects, you can use the following function to put data onto that `Axes`.\n",
    "\n",
    "Function          | Description\n",
    ":-----------------|:--------------------------------------------\n",
    "`bar`             | Make a bar plot\n",
    "`barh`            | Make a horizontal bar plot\n",
    "`boxplot`         | Make a box and whisker plot\n",
    "`contour`         | Plot contours\n",
    "`contourf`        | Plot filled contours\n",
    "`hist`            | Plot a histogram\n",
    "`hist2d`          | Make a 2D histogram plot\n",
    "`imshow`          | Display an image on the axes\n",
    "`matshow`         | Display an array as a matrix\n",
    "`pcolor`          | Create a pseudocolor plot of a 2-D array\n",
    "`pcolormesh`      | Plot a quadrilateral mesh\n",
    "`plot`            | Plot lines and/or markers\n",
    "`plot_date`       | Plot with data with dates\n",
    "`polar`           | Make a polar plot\n",
    "`scatter`         | Make a scatter plot of x vs y"
   ]
  },
  {
   "cell_type": "markdown",
   "metadata": {},
   "source": [
    "### Plot modifiers\n",
    "\n",
    "You can then use the following functions to modify your visualization.\n",
    "\n",
    "Function          | Description\n",
    ":-----------------|:---------------------------------------------------------------------\n",
    "`annotate`        | Create an annotation: a piece of text referring to a data point\n",
    "`box`             | Turn the Axes box on or off\n",
    "`clabel`          | Label a contour plot\n",
    "`colorbar`        | Add a colorbar to a plot\n",
    "`grid`            | Turn the Axes grids on or off\n",
    "`legend`          | Place a legend on the current Axes\n",
    "`loglog`          | Make a plot with log scaling on both the *x* and *y* axis\n",
    "`semilogx`        | Make a plot with log scaling on the *x* axis \n",
    "`semilogy`        | Make a plot with log scaling on the *y* axis\n",
    "`subplots_adjust` | Tune the subplot layout\n",
    "`tick_params`     | Change the appearance of ticks and tick labels\n",
    "`ticklabel_format`| Change the ScalarFormatter used by default for linear axes\n",
    "`tight_layout`    | Automatically adjust subplot parameters to give specified padding\n",
    "`text`            | Add text to the axes\n",
    "`title`           | Set a title of the current axes\n",
    "`xkcd`            | Turns on [XKCD](http://xkcd.com/) sketch-style drawing mode\n",
    "`xlabel`          | Set the *x* axis label of the current axis\n",
    "`xlim`            | Get or set the *x* limits of the current axes\n",
    "`xticks`          | Get or set the *x*-limits of the current tick locations and labels\n",
    "`ylabel`          | Set the *y* axis label of the current axis\n",
    "`ylim`            | Get or set the *y*-limits of the current axes\n",
    "`yticks`          | Get or set the *y*-limits of the current tick locations and labels"
   ]
  },
  {
   "cell_type": "markdown",
   "metadata": {},
   "source": [
    "## Basic plotting"
   ]
  },
  {
   "cell_type": "markdown",
   "metadata": {},
   "source": [
    "For now, we will work with basic line plots (`plt.plot`) to show how the Matplotlib pylab plotting API works. In this case, we don't create a `Figure` so Matplotlib does that automatically."
   ]
  },
  {
   "cell_type": "code",
   "execution_count": null,
   "metadata": {
    "collapsed": false
   },
   "outputs": [],
   "source": [
    "t = np.linspace(0, 10.0, 100)\n",
    "plt.plot(t, np.sin(t))\n",
    "plt.xlabel('Time')\n",
    "plt.ylabel('Signal')\n",
    "plt.title('My Plot'); # supress text output"
   ]
  },
  {
   "cell_type": "markdown",
   "metadata": {},
   "source": [
    "## Basic plot modification"
   ]
  },
  {
   "cell_type": "markdown",
   "metadata": {},
   "source": [
    "With a third argument you can provide the series color and line/marker style. Here we create a `Figure` object and modify its size."
   ]
  },
  {
   "cell_type": "code",
   "execution_count": null,
   "metadata": {
    "collapsed": false
   },
   "outputs": [],
   "source": [
    "f = plt.figure(figsize=(9,6)) # 9\" x 6\", default is 8\" x 5.5\"\n",
    "\n",
    "plt.plot(t, np.sin(t), 'r.');\n",
    "plt.xlabel('x')\n",
    "plt.ylabel('y')"
   ]
  },
  {
   "cell_type": "markdown",
   "metadata": {},
   "source": [
    "Here is a list of the single character color strings:\n",
    "\n",
    "```\n",
    "    b: blue\n",
    "    g: green\n",
    "    r: red\n",
    "    c: cyan\n",
    "    m: magenta\n",
    "    y: yellow\n",
    "    k: black\n",
    "    w: white\n",
    "```"
   ]
  },
  {
   "cell_type": "markdown",
   "metadata": {},
   "source": [
    "The following will show all of the line and marker styles:"
   ]
  },
  {
   "cell_type": "code",
   "execution_count": null,
   "metadata": {
    "collapsed": false
   },
   "outputs": [],
   "source": [
    "from matplotlib import lines\n",
    "lines.lineStyles.keys()"
   ]
  },
  {
   "cell_type": "code",
   "execution_count": null,
   "metadata": {
    "collapsed": false
   },
   "outputs": [],
   "source": [
    "from matplotlib import markers\n",
    "markers.MarkerStyle.markers.keys()"
   ]
  },
  {
   "cell_type": "markdown",
   "metadata": {},
   "source": [
    "To change the plot's limits, use `xlim` and `ylim`:"
   ]
  },
  {
   "cell_type": "code",
   "execution_count": null,
   "metadata": {
    "collapsed": false
   },
   "outputs": [],
   "source": [
    "plt.plot(t, np.sin(t)*np.exp(-0.1*t),'bo')\n",
    "plt.xlim(-1.0, 11.0)\n",
    "plt.ylim(-1.0, 1.0)"
   ]
  },
  {
   "cell_type": "markdown",
   "metadata": {},
   "source": [
    "You can change the ticks along a given axis by using `xticks`, `yticks` and `tick_params`:"
   ]
  },
  {
   "cell_type": "code",
   "execution_count": null,
   "metadata": {
    "collapsed": false
   },
   "outputs": [],
   "source": [
    "plt.plot(t, np.sin(t)*np.exp(-0.1*t),'bo')\n",
    "plt.xlim(0.0, 10.0)\n",
    "plt.ylim(-1.0, 1.0)\n",
    "plt.xticks([0,5,10], ['zero','five','10'])\n",
    "plt.tick_params(axis='y', direction='inout', length=10)"
   ]
  },
  {
   "cell_type": "markdown",
   "metadata": {},
   "source": [
    "## Box and grid"
   ]
  },
  {
   "cell_type": "markdown",
   "metadata": {},
   "source": [
    "You can enable a grid or disable the box. Notice that the ticks and tick labels remain."
   ]
  },
  {
   "cell_type": "code",
   "execution_count": null,
   "metadata": {
    "collapsed": false
   },
   "outputs": [],
   "source": [
    "plt.plot(np.random.rand(100), 'b-')\n",
    "plt.grid(True)\n",
    "plt.box(False)"
   ]
  },
  {
   "cell_type": "markdown",
   "metadata": {},
   "source": [
    "## Multiple series"
   ]
  },
  {
   "cell_type": "markdown",
   "metadata": {},
   "source": [
    "Multiple calls to a plotting function will all target the current `Axes`:"
   ]
  },
  {
   "cell_type": "code",
   "execution_count": null,
   "metadata": {
    "collapsed": false
   },
   "outputs": [],
   "source": [
    "plt.plot(t, np.sin(t), label='sin(t)')\n",
    "plt.plot(t, np.cos(t), label='cos(t)')\n",
    "plt.xlabel('t')\n",
    "plt.ylabel('Signal(t)')\n",
    "plt.ylim(-1.5, 1.5)\n",
    "plt.xlim(right=12.0)\n",
    "plt.legend()"
   ]
  },
  {
   "cell_type": "markdown",
   "metadata": {},
   "source": [
    "## Subplots"
   ]
  },
  {
   "cell_type": "markdown",
   "metadata": {},
   "source": [
    "Subplots allow you to create a grid of plots in a single figure. There will be an `Axes` associated with each subplot and only one `Axes` can be active at a time.\n",
    "\n",
    "\n",
    "The first way you can create subplots is to use the `subplot` function, which creates and activates a new `Axes` for the active `Figure`:"
   ]
  },
  {
   "cell_type": "code",
   "execution_count": null,
   "metadata": {
    "collapsed": false
   },
   "outputs": [],
   "source": [
    "plt.subplot(2,1,1) # 2 rows x 1 col, plot 1\n",
    "plt.plot(t, np.exp(0.1*t))\n",
    "plt.ylabel('Exponential')\n",
    "\n",
    "plt.subplot(2,1,2) # 2 rows x 1 col, plot 2\n",
    "plt.plot(t, t**2)\n",
    "plt.ylabel('Quadratic')\n",
    "plt.xlabel('x')\n",
    "\n",
    "plt.tight_layout()"
   ]
  },
  {
   "cell_type": "markdown",
   "metadata": {},
   "source": [
    "In many cases, it is easier to use the `subplots` function, which creates a new `Figure` along with an array of `Axes` objects that can be indexed in a rational manner:"
   ]
  },
  {
   "cell_type": "code",
   "execution_count": null,
   "metadata": {
    "collapsed": false
   },
   "outputs": [],
   "source": [
    "f, ax = plt.subplots(2, 2)\n",
    "\n",
    "for i in range(2):\n",
    "    for j in range(2):\n",
    "        plt.sca(ax[i,j])\n",
    "        plt.plot(np.random.rand(20))\n",
    "        plt.xlabel('x')\n",
    "        plt.ylabel('y')\n",
    "\n",
    "plt.tight_layout()"
   ]
  },
  {
   "cell_type": "markdown",
   "metadata": {},
   "source": [
    "The `subplots` function also makes it easy to pass arguments to `Figure` and to share axes:"
   ]
  },
  {
   "cell_type": "code",
   "execution_count": null,
   "metadata": {
    "collapsed": false
   },
   "outputs": [],
   "source": [
    "f, ax = plt.subplots(2, 2, sharex=True, sharey=True, figsize=(6,6))\n",
    "\n",
    "for i in range(2):\n",
    "    for j in range(2):\n",
    "        plt.sca(ax[i,j])\n",
    "        plt.plot(np.random.rand(20))\n",
    "        if i==1:\n",
    "            plt.xlabel('x')\n",
    "        if j==0:\n",
    "            plt.ylabel('y')\n",
    "\n",
    "plt.tight_layout()"
   ]
  },
  {
   "cell_type": "markdown",
   "metadata": {},
   "source": [
    "## More marker and line styling"
   ]
  },
  {
   "cell_type": "markdown",
   "metadata": {},
   "source": [
    "All plot commands, including `plot`, accept keyword arguments that can be used to style the lines in more detail. Fro more information see:\n",
    "\n",
    "* [Controlling line properties](http://matplotlib.org/users/pyplot_tutorial.html#controlling-line-properties)\n",
    "* [Specifying colors](http://matplotlib.org/api/colors_api.html#module-matplotlib.colors)"
   ]
  },
  {
   "cell_type": "code",
   "execution_count": null,
   "metadata": {
    "collapsed": false
   },
   "outputs": [],
   "source": [
    "plt.plot(t, np.sin(t), marker='o', color='darkblue',\n",
    "         linestyle='--', alpha=0.3, markersize=10)"
   ]
  },
  {
   "cell_type": "markdown",
   "metadata": {},
   "source": [
    "## Resources\n",
    "\n",
    "* [Matplotlib Documentation](http://matplotlib.org/contents.html), Matplotlib developers.\n",
    "* [Matplotlib Gallery](http://matplotlib.org/gallery.html), Matplotlib developers.\n",
    "* [Matplotlib List of Plotting Commands](http://matplotlib.org/api/pyplot_summary.html), Matplotlib developers.\n",
    "* [AnatomyOfMatplotlib](https://github.com/WeatherGod/AnatomyOfMatplotlib), Benjamin Root.\n",
    "* [Matplotlib Tutorial](http://nbviewer.ipython.org/github/jrjohansson/scientific-python-lectures/blob/master/Lecture-4-Matplotlib.ipynb), J.R. Johansson."
   ]
  }
 ],
 "metadata": {
  "kernelspec": {
   "display_name": "Python 3",
   "language": "python",
   "name": "python3"
  },
  "language_info": {
   "codemirror_mode": {
    "name": "ipython",
    "version": 3
   },
   "file_extension": ".py",
   "mimetype": "text/x-python",
   "name": "python",
   "nbconvert_exporter": "python",
   "pygments_lexer": "ipython3",
   "version": "3.4.3"
  }
 },
 "nbformat": 4,
 "nbformat_minor": 0
}
