{
 "cells": [
  {
   "cell_type": "code",
   "execution_count": 1,
   "metadata": {
    "collapsed": false
   },
   "outputs": [],
   "source": [
    "%matplotlib inline\n",
    "import matplotlib.pyplot as plt\n",
    "import seaborn as sns\n",
    "import nltk\n",
    "\n",
    "import numpy as np\n",
    "import pandas as pd\n",
    "import os"
   ]
  },
  {
   "cell_type": "code",
   "execution_count": null,
   "metadata": {
    "collapsed": true
   },
   "outputs": [],
   "source": [
    "A beautiful story:\n",
    "    choose yelp\n",
    "    learn about format, data set\n",
    "    json\n",
    "    resolved problem reading it in with JV book\n",
    "    lots of memory\n",
    "    looked into dask, seemed pretty complex...so i just thought oh it'll be fine!\n",
    "    sorry guys...\n",
    "    used 100% RAM , 15% memory\n",
    "    \n",
    "    wonder if I could use business and review features to create an unsupervised \n",
    "    model to predict what businesses users would rate highly\n",
    "    \n",
    "    could have used ijson, which will iterate through json\n",
    "    but really\n",
    "    should have converted to csv to save mem\n",
    "    kept usng all the ram and lots of memory\n",
    "    NBs got killed :(\n",
    "    \n",
    "    Sooo, let's do something else!\n",
    "    NLP with my own text message data\n",
    "    sqlite database\n",
    "    you can get it via itunes backup\n",
    "    \n",
    "    couldn't load it into jupyter cause it was over 25MB\n",
    "    didn't know how to upload it to github...\n",
    "    also it's kinda private stuff\n",
    "    \n",
    "    but I still want to figure out how I can manage memory better \n",
    "    and definitly want to review pandas.\n",
    "    \n",
    "    "
   ]
  },
  {
   "cell_type": "code",
   "execution_count": null,
   "metadata": {
    "collapsed": true
   },
   "outputs": [],
   "source": [
    "prefix = '/data/yelp/'"
   ]
  },
  {
   "cell_type": "code",
   "execution_count": null,
   "metadata": {
    "collapsed": true
   },
   "outputs": [],
   "source": [
    "ijson?"
   ]
  },
  {
   "cell_type": "code",
   "execution_count": null,
   "metadata": {
    "collapsed": true
   },
   "outputs": [],
   "source": [
    "# yelp/photo_id_to_business_id.json       \n",
    "# yelp/yelp_academic_dataset_business.json\n",
    "# yelp/yelp_academic_dataset_checkin.json \n",
    "# yelp/yelp_academic_dataset_review.json  \n",
    "# yelp/yelp_academic_dataset_tip.json     \n",
    "# yelp/yelp_academic_dataset_user.json    \n",
    "\n",
    "# Below JSON reading code sourced from Python Data Science Handbook by Jake Vanderplas"
   ]
  },
  {
   "cell_type": "code",
   "execution_count": null,
   "metadata": {
    "collapsed": true
   },
   "outputs": [],
   "source": [
    "# read the entire file into a python array\n",
    "with open(os.path.join(prefix,'yelp_academic_dataset_business.json'), 'r') as f:\n",
    "    # Extract each line\n",
    "    data = (line.strip() for line in f)\n",
    "    # Reformat so each line is the element of a list \n",
    "    data_json = \"[{0}]\".format(','.join(data))\n",
    "# read the result as a JSON\n",
    "business = pd.read_json(data_json)\n",
    "business.shape;"
   ]
  },
  {
   "cell_type": "code",
   "execution_count": null,
   "metadata": {
    "collapsed": false
   },
   "outputs": [],
   "source": [
    "# read the entire file into a python array\n",
    "with open(os.path.join(prefix,'yelp_academic_dataset_review.json'), 'r') as f:\n",
    "    # Extract each line\n",
    "    data = (line.strip() for line in f)\n",
    "    # Reformat so each line is the element of a list \n",
    "    data_json = \"[{0}]\".format(','.join(data))\n",
    "# read the result as a JSON\n",
    "review = pd.read_json(data_json)\n",
    "review.shape()"
   ]
  },
  {
   "cell_type": "code",
   "execution_count": null,
   "metadata": {
    "collapsed": false,
    "scrolled": false
   },
   "outputs": [],
   "source": [
    "business.head() #"
   ]
  },
  {
   "cell_type": "code",
   "execution_count": null,
   "metadata": {
    "collapsed": false,
    "scrolled": false
   },
   "outputs": [],
   "source": [
    "review.head() #"
   ]
  },
  {
   "cell_type": "code",
   "execution_count": null,
   "metadata": {
    "collapsed": false
   },
   "outputs": [],
   "source": [
    "merged = pd.merge(review, business, how='left', on='business_id')"
   ]
  },
  {
   "cell_type": "code",
   "execution_count": null,
   "metadata": {
    "collapsed": false
   },
   "outputs": [],
   "source": [
    "merged.head()"
   ]
  },
  {
   "cell_type": "code",
   "execution_count": null,
   "metadata": {
    "collapsed": false
   },
   "outputs": [],
   "source": [
    "#check to see if too many unique catagory lists\n",
    "\n",
    "u = []\n",
    "for categories in merged.categories:\n",
    "    if categories not in u:\n",
    "        u.append(categories)\n",
    "        "
   ]
  },
  {
   "cell_type": "code",
   "execution_count": null,
   "metadata": {
    "collapsed": false
   },
   "outputs": [],
   "source": [
    "#unique businesses\n",
    "len(merged.business_id.unique())"
   ]
  },
  {
   "cell_type": "code",
   "execution_count": null,
   "metadata": {
    "collapsed": false
   },
   "outputs": [],
   "source": [
    "# unique category lists\n",
    "len(u)"
   ]
  },
  {
   "cell_type": "code",
   "execution_count": null,
   "metadata": {
    "collapsed": false
   },
   "outputs": [],
   "source": [
    "# business to unique category ratio\n",
    "77079/9658"
   ]
  },
  {
   "cell_type": "code",
   "execution_count": null,
   "metadata": {
    "collapsed": true
   },
   "outputs": [],
   "source": [
    "# So about 7 businesses per each category?\n",
    "# my not be enough \n",
    "# let's check how non uniform the count distribution is"
   ]
  },
  {
   "cell_type": "code",
   "execution_count": null,
   "metadata": {
    "collapsed": false
   },
   "outputs": [],
   "source": [
    "merged.categories.value_counts()"
   ]
  },
  {
   "cell_type": "code",
   "execution_count": null,
   "metadata": {
    "collapsed": false
   },
   "outputs": [],
   "source": [
    "# Count trips by date\n",
    "by_date = merged.pivot_table('review_id', aggfunc='count',\n",
    "                            index='date', columns='stars')"
   ]
  },
  {
   "cell_type": "code",
   "execution_count": null,
   "metadata": {
    "collapsed": false
   },
   "outputs": [],
   "source": [
    "by_date.plot()"
   ]
  },
  {
   "cell_type": "code",
   "execution_count": null,
   "metadata": {
    "collapsed": true
   },
   "outputs": [],
   "source": [
    "review = 0"
   ]
  },
  {
   "cell_type": "code",
   "execution_count": null,
   "metadata": {
    "collapsed": true
   },
   "outputs": [],
   "source": [
    "business = 0"
   ]
  },
  {
   "cell_type": "code",
   "execution_count": null,
   "metadata": {
    "collapsed": true
   },
   "outputs": [],
   "source": [
    "# could have used ijson to handle large json files\n"
   ]
  },
  {
   "cell_type": "code",
   "execution_count": null,
   "metadata": {
    "collapsed": true
   },
   "outputs": [],
   "source": []
  }
 ],
 "metadata": {
  "kernelspec": {
   "display_name": "Python 3",
   "language": "python",
   "name": "python3"
  },
  "language_info": {
   "codemirror_mode": {
    "name": "ipython",
    "version": 3
   },
   "file_extension": ".py",
   "mimetype": "text/x-python",
   "name": "python",
   "nbconvert_exporter": "python",
   "pygments_lexer": "ipython3",
   "version": "3.4.3"
  }
 },
 "nbformat": 4,
 "nbformat_minor": 0
}
