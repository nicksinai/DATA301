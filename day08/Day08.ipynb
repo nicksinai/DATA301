{
 "cells": [
  {
   "cell_type": "markdown",
   "metadata": {},
   "source": [
    "# Day 8\n",
    "\n",
    "* Introduction to Data Science (Data 301)\n",
    "* Cal Poly, Winter 2016\n",
    "* Brian E. Granger\n",
    "* Office hours: W+F 3-5pm, **26-110L**"
   ]
  },
  {
   "cell_type": "markdown",
   "metadata": {},
   "source": [
    "## Announcements"
   ]
  },
  {
   "cell_type": "markdown",
   "metadata": {},
   "source": [
    "Data Science Talk:\n",
    "\n",
    "* *Visual Storytelling: How to be an Artist and Data Scientist at the Same Time*\n",
    "* Matt Thunell, Zoic Studios\n",
    "* Thursday, **January 28 = TODAY**, 11-12am\n",
    "* ATL\n",
    "\n",
    "Extra credit if you attend and email me a 2 paragraph summary of the talk.\n",
    "\n",
    "### Homework Solutions\n",
    "\n",
    "https://data301a.calpolydatascience.org/public_html/ellisonbg/"
   ]
  },
  {
   "cell_type": "markdown",
   "metadata": {},
   "source": [
    "## In class\n",
    "\n",
    "* Grab the materials for the day:\n",
    "  - `nbgrader fetch --course data301a day08`\n",
    "  - `nbgrader fetch --course data301a assignment06`\n",
    "* To turn in `assignment04`:\n",
    "  - Restart kernel and run all to make sure your code works\n",
    "  - `nbgrader submit --course data301a assignment05`\n",
    "* Interact\n",
    "* Bootstrapping"
   ]
  },
  {
   "cell_type": "markdown",
   "metadata": {},
   "source": [
    "## Out of class\n",
    "\n",
    "* Assignment 6 is due on Tuesday, day 9\n",
    "* Midterm in class, Tuesday, day 9"
   ]
  }
 ],
 "metadata": {
  "kernelspec": {
   "display_name": "Python 3",
   "language": "python",
   "name": "python3"
  },
  "language_info": {
   "codemirror_mode": {
    "name": "ipython",
    "version": 3
   },
   "file_extension": ".py",
   "mimetype": "text/x-python",
   "name": "python",
   "nbconvert_exporter": "python",
   "pygments_lexer": "ipython3",
   "version": "3.4.3"
  }
 },
 "nbformat": 4,
 "nbformat_minor": 0
}
