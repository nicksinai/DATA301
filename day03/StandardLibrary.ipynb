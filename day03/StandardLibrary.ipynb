{
 "cells": [
  {
   "cell_type": "markdown",
   "metadata": {},
   "source": [
    "# Standard Library"
   ]
  },
  {
   "cell_type": "markdown",
   "metadata": {},
   "source": [
    "The Python *Standard Library* refers to the set of Python models and packages that are included with Python, but not imported by default. The documentation for the Standard Library can be found here:\n",
    "\n",
    "https://docs.python.org/3.4/library/index.html\n",
    "\n",
    "This doesn't include external modules and packages that are developed, distributed and installed separate from Python itself, such as NumPy, SciPy, Pandas, Matplotlib, etc."
   ]
  },
  {
   "cell_type": "markdown",
   "metadata": {},
   "source": [
    "While there are many more packages in the Standard Library, here are the ones you will run into most often when using Python for Data Science:\n",
    "\n",
    "* [re](https://docs.python.org/3.4/library/re.html)\n",
    "* [datetime](https://docs.python.org/3.4/library/datetime.html)\n",
    "* [math](https://docs.python.org/3.4/library/math.html)\n",
    "* [random](https://docs.python.org/3.4/library/random.html)\n",
    "* [itertools](https://docs.python.org/3.4/library/itertools.html)\n",
    "* [functools](https://docs.python.org/3.4/library/functools.html)\n",
    "* [glob](https://docs.python.org/3.4/library/glob.html)\n",
    "* [os.path](https://docs.python.org/3.4/library/os.path.html)\n",
    "* [pickle](https://docs.python.org/3.4/library/pickle.html)\n",
    "* [multiprocessing](https://docs.python.org/3.4/library/multiprocessing.html)\n",
    "* [json](https://docs.python.org/3.4/library/json.html)"
   ]
  }
 ],
 "metadata": {
  "kernelspec": {
   "display_name": "Python 3",
   "language": "python",
   "name": "python3"
  },
  "language_info": {
   "codemirror_mode": {
    "name": "ipython",
    "version": 3
   },
   "file_extension": ".py",
   "mimetype": "text/x-python",
   "name": "python",
   "nbconvert_exporter": "python",
   "pygments_lexer": "ipython3",
   "version": "3.4.3"
  }
 },
 "nbformat": 4,
 "nbformat_minor": 0
}
