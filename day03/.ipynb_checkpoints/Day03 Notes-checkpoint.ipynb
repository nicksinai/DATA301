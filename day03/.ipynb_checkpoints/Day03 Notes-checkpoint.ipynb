{
 "cells": [
  {
   "cell_type": "markdown",
   "metadata": {},
   "source": [
    "## Day 03 Notes"
   ]
  },
  {
   "cell_type": "markdown",
   "metadata": {},
   "source": [
    "Lists:\n",
    "* mutable\n",
    "\n",
    "Tuples:\n",
    "* immutable\n",
    "\n",
    "Dictionaries:\n",
    "* mutable\n",
    "* keys and Values\n",
    "* keys can be strings\n",
    "* values can be any object\n",
    "* iterable\n",
    "* nonordered\n",
    "* allow duplicate values, not keys\n",
    "* keys must be imutable\n",
    "\n",
    "Sets:\n",
    "* No duplicates\n",
    "* Unordered\n",
    "* "
   ]
  },
  {
   "cell_type": "code",
   "execution_count": null,
   "metadata": {
    "collapsed": true
   },
   "outputs": [],
   "source": []
  },
  {
   "cell_type": "code",
   "execution_count": null,
   "metadata": {
    "collapsed": true
   },
   "outputs": [],
   "source": []
  }
 ],
 "metadata": {
  "kernelspec": {
   "display_name": "Python 3",
   "language": "python",
   "name": "python3"
  },
  "language_info": {
   "codemirror_mode": {
    "name": "ipython",
    "version": 3
   },
   "file_extension": ".py",
   "mimetype": "text/x-python",
   "name": "python",
   "nbconvert_exporter": "python",
   "pygments_lexer": "ipython3",
   "version": "3.4.3"
  }
 },
 "nbformat": 4,
 "nbformat_minor": 0
}
