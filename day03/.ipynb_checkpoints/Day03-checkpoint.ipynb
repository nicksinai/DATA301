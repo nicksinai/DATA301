{
 "cells": [
  {
   "cell_type": "markdown",
   "metadata": {},
   "source": [
    "# Day 2\n",
    "\n",
    "* Introduction to Data Science (Data 301)\n",
    "* Cal Poly, Winter 2016\n",
    "* Brian E. Granger"
   ]
  },
  {
   "cell_type": "markdown",
   "metadata": {},
   "source": [
    "## Announcements"
   ]
  },
  {
   "cell_type": "markdown",
   "metadata": {},
   "source": [
    "Data Science Talk:\n",
    "\n",
    "* *Visual Storytelling: How to be an Artist and Data Scientist at the Same Time*\n",
    "* Matt Thunell, Zoic Studios\n",
    "* Thursday, January 28, 11-12am.\n",
    "* ATL\n",
    "\n",
    "Extra credit if you attend and email me a 2 paragraph summary of the talk."
   ]
  },
  {
   "cell_type": "markdown",
   "metadata": {},
   "source": [
    "## In class\n",
    "\n",
    "* Grab the materials for the day:\n",
    "  - `nbgrader fetch --course data301a day03`\n",
    "  - `nbgrader fetch --course data301a assignment02`\n",
    "* To turn in `assignment01`:\n",
    "  - Restart kernel and run all to make sure your code works\n",
    "  - `nbgrader submit --course data301a assignment01`\n",
    "* Iterators\n",
    "* Python Standard Library"
   ]
  },
  {
   "cell_type": "markdown",
   "metadata": {},
   "source": [
    "## Out of class\n",
    "\n",
    "* Assignment 2 is due on Thursday, day 4\n",
    "* Codecademy due with Assignment 2"
   ]
  }
 ],
 "metadata": {
  "kernelspec": {
   "display_name": "Python 3",
   "language": "python",
   "name": "python3"
  },
  "language_info": {
   "codemirror_mode": {
    "name": "ipython",
    "version": 3
   },
   "file_extension": ".py",
   "mimetype": "text/x-python",
   "name": "python",
   "nbconvert_exporter": "python",
   "pygments_lexer": "ipython3",
   "version": "3.4.3"
  }
 },
 "nbformat": 4,
 "nbformat_minor": 0
}
